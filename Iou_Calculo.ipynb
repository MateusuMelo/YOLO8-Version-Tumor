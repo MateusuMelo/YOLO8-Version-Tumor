{
  "cells": [
    {
      "cell_type": "code",
      "source": [
        "%pip install supervision\n",
        "%pip -q install roboflow\n",
        "%pip -q install ultralytics==8.0.28\n"
      ],
      "metadata": {
        "id": "58-cNYNu9MFC"
      },
      "execution_count": null,
      "outputs": []
    },
    {
      "cell_type": "code",
      "source": [
        "from google.colab import drive\n",
        "drive.mount('/content/drive')\n",
        "dataset_location = \"/content/drive/MyDrive/CsiLab-BrainTumor-Detection-2\""
      ],
      "metadata": {
        "colab": {
          "base_uri": "https://localhost:8080/"
        },
        "id": "-33CyHBs9NER",
        "outputId": "ca622646-9b01-4344-d6b5-90333ea64698"
      },
      "execution_count": 2,
      "outputs": [
        {
          "output_type": "stream",
          "name": "stdout",
          "text": [
            "Mounted at /content/drive\n"
          ]
        }
      ]
    },
    {
      "cell_type": "code",
      "source": [
        "import supervision as sv\n",
        "\n"
      ],
      "metadata": {
        "id": "TCPcgEJG-YNh"
      },
      "execution_count": 3,
      "outputs": []
    },
    {
      "cell_type": "code",
      "source": [
        "from ultralytics import YOLO\n",
        "from PIL import Image\n",
        "def predict_img(img_path, model_path):\n",
        "\n",
        "  model = YOLO(model_path)\n",
        "  source = img_path\n",
        "\n",
        "  results = model(source)\n",
        "  for r in results:\n",
        "    try:\n",
        "      return r.boxes.xywhn.cpu().numpy()[0]\n",
        "    except Exception as e:\n",
        "      return [0,0,0,0]"
      ],
      "metadata": {
        "id": "q7E5r9Pe5fLK"
      },
      "execution_count": 4,
      "outputs": []
    },
    {
      "cell_type": "code",
      "source": [
        "def calcula_iou_numpy(predict, label):\n",
        "    # caixa1 e caixa2 devem ser arrays NumPy no formato [x, y, largura, altura]\n",
        "    x1, y1, w1, h1 = predict\n",
        "    id2, x2, y2, w2, h2 = label\n",
        "\n",
        "    # Calcula as coordenadas dos cantos da interseção\n",
        "    x_intersecao = max(x1, x2)\n",
        "    y_intersecao = max(y1, y2)\n",
        "    largura_intersecao = min(x1 + w1, x2 + w2) - x_intersecao\n",
        "    altura_intersecao = min(y1 + h1, y2 + h2) - y_intersecao\n",
        "\n",
        "    # Verifica se há interseção\n",
        "    if largura_intersecao <= 0 or altura_intersecao <= 0:\n",
        "        return 0.0\n",
        "\n",
        "    # Calcula a área da interseção e da união\n",
        "    area_intersecao = largura_intersecao * altura_intersecao\n",
        "    area_uniao = w1 * h1 + w2 * h2 - area_intersecao\n",
        "\n",
        "    # Calcula o IoU\n",
        "    iou = area_intersecao / area_uniao\n",
        "\n",
        "    return iou"
      ],
      "metadata": {
        "id": "Gl1PX1im5EAX"
      },
      "execution_count": 5,
      "outputs": []
    },
    {
      "cell_type": "code",
      "source": [
        "import os\n",
        "import numpy as np\n",
        "source = '/content/drive/MyDrive/CsiLab-BrainTumor-Detection-2/test'\n",
        "yolo_s = []\n",
        "yolo_m = []\n",
        "yolo_n = []\n",
        "yolo_l = []\n",
        "yolo_x = []\n",
        "\n",
        "\n",
        "\n",
        "for filename in os.listdir(f\"{source}/labels\"):\n",
        "    labels = np.loadtxt(os.path.join(f\"{source}/labels\", filename))\n",
        "    images = os.path.join(f\"{source}/images\", filename).split('.txt')[0] + '.jpg'\n",
        "    print(images)\n",
        "\n",
        "\n",
        "    yolo_s.append(calcula_iou_numpy(predict_img(images,'/content/drive/MyDrive/5Modelos_Yolov8_DatasetTumor/trainyolov8s/weights/best.pt'), labels))\n",
        "    yolo_m.append(calcula_iou_numpy(predict_img(images,'/content/drive/MyDrive/5Modelos_Yolov8_DatasetTumor/train2yolov8m/weights/best.pt'), labels))\n",
        "    yolo_n.append(calcula_iou_numpy(predict_img(images,'/content/drive/MyDrive/5Modelos_Yolov8_DatasetTumor/train5yolov8n/weights/best.pt'), labels))\n",
        "    yolo_l.append(calcula_iou_numpy(predict_img(images,'/content/drive/MyDrive/5Modelos_Yolov8_DatasetTumor/train3yolov8L/weights/best.pt'), labels))\n",
        "    yolo_x.append(calcula_iou_numpy(predict_img(images,'/content/drive/MyDrive/5Modelos_Yolov8_DatasetTumor/train4yolov8X/weights/best.pt'), labels))\n",
        ""
      ],
      "metadata": {
        "id": "voFF84vGUqcG"
      },
      "execution_count": null,
      "outputs": []
    },
    {
      "cell_type": "code",
      "source": [
        "from statistics import mean\n",
        "\n",
        "print('Media de iou com yolov8s: ',mean(yolo_s))\n",
        "print('Media de iou com yolov8m: ',mean(yolo_m))\n",
        "print('Media de iou com yolov8n: ',mean(yolo_n))\n",
        "print('Media de iou com yolov8l: ',mean(yolo_l))\n",
        "print('Media de iou com yolov8x: ',mean(yolo_x))"
      ],
      "metadata": {
        "id": "ypHlt0OL-ku6",
        "outputId": "5d59095c-261d-443b-aa80-8cb48c640324",
        "colab": {
          "base_uri": "https://localhost:8080/"
        }
      },
      "execution_count": 7,
      "outputs": [
        {
          "output_type": "stream",
          "name": "stdout",
          "text": [
            "Media de iou com yolov8s:  0.6655151926301139\n",
            "Media de iou com yolov8m:  0.7919575251391155\n",
            "Media de iou com yolov8n:  0.7833387240130778\n",
            "Media de iou com yolov8l:  0.7803399691548843\n",
            "Media de iou com yolov8x:  0.7836144900062253\n"
          ]
        }
      ]
    }
  ],
  "metadata": {
    "language_info": {
      "name": "python"
    },
    "colab": {
      "provenance": [],
      "gpuType": "T4"
    },
    "kernelspec": {
      "name": "python3",
      "display_name": "Python 3"
    },
    "accelerator": "GPU"
  },
  "nbformat": 4,
  "nbformat_minor": 0
}