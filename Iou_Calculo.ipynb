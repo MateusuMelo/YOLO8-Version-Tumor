{
  "cells": [
    {
      "cell_type": "code",
      "source": [
        "%pip install supervision\n",
        "%pip -q install roboflow\n",
        "%pip -q install ultralytics==8.0.28\n"
      ],
      "metadata": {
        "colab": {
          "base_uri": "https://localhost:8080/"
        },
        "id": "58-cNYNu9MFC",
        "outputId": "6093abdd-3f91-4b7f-f742-f30341e7c5f0"
      },
      "execution_count": 1,
      "outputs": [
        {
          "output_type": "stream",
          "name": "stdout",
          "text": [
            "Collecting supervision\n",
            "  Downloading supervision-0.16.0-py3-none-any.whl (72 kB)\n",
            "\u001b[2K     \u001b[90m━━━━━━━━━━━━━━━━━━━━━━━━━━━━━━━━━━━━━━━━\u001b[0m \u001b[32m72.2/72.2 kB\u001b[0m \u001b[31m1.3 MB/s\u001b[0m eta \u001b[36m0:00:00\u001b[0m\n",
            "\u001b[?25hRequirement already satisfied: matplotlib<4.0.0,>=3.7.1 in /usr/local/lib/python3.10/dist-packages (from supervision) (3.7.1)\n",
            "Requirement already satisfied: numpy<2.0.0,>=1.20.0 in /usr/local/lib/python3.10/dist-packages (from supervision) (1.23.5)\n",
            "Requirement already satisfied: opencv-python-headless<5.0.0.0,>=4.8.0.74 in /usr/local/lib/python3.10/dist-packages (from supervision) (4.8.1.78)\n",
            "Requirement already satisfied: pillow<11.0,>=9.4 in /usr/local/lib/python3.10/dist-packages (from supervision) (9.4.0)\n",
            "Requirement already satisfied: pyyaml<7.0,>=6.0 in /usr/local/lib/python3.10/dist-packages (from supervision) (6.0.1)\n",
            "Requirement already satisfied: scipy<2.0.0,>=1.9.0 in /usr/local/lib/python3.10/dist-packages (from supervision) (1.11.3)\n",
            "Requirement already satisfied: contourpy>=1.0.1 in /usr/local/lib/python3.10/dist-packages (from matplotlib<4.0.0,>=3.7.1->supervision) (1.2.0)\n",
            "Requirement already satisfied: cycler>=0.10 in /usr/local/lib/python3.10/dist-packages (from matplotlib<4.0.0,>=3.7.1->supervision) (0.12.1)\n",
            "Requirement already satisfied: fonttools>=4.22.0 in /usr/local/lib/python3.10/dist-packages (from matplotlib<4.0.0,>=3.7.1->supervision) (4.44.3)\n",
            "Requirement already satisfied: kiwisolver>=1.0.1 in /usr/local/lib/python3.10/dist-packages (from matplotlib<4.0.0,>=3.7.1->supervision) (1.4.5)\n",
            "Requirement already satisfied: packaging>=20.0 in /usr/local/lib/python3.10/dist-packages (from matplotlib<4.0.0,>=3.7.1->supervision) (23.2)\n",
            "Requirement already satisfied: pyparsing>=2.3.1 in /usr/local/lib/python3.10/dist-packages (from matplotlib<4.0.0,>=3.7.1->supervision) (3.1.1)\n",
            "Requirement already satisfied: python-dateutil>=2.7 in /usr/local/lib/python3.10/dist-packages (from matplotlib<4.0.0,>=3.7.1->supervision) (2.8.2)\n",
            "Requirement already satisfied: six>=1.5 in /usr/local/lib/python3.10/dist-packages (from python-dateutil>=2.7->matplotlib<4.0.0,>=3.7.1->supervision) (1.16.0)\n",
            "Installing collected packages: supervision\n",
            "Successfully installed supervision-0.16.0\n",
            "\u001b[2K     \u001b[90m━━━━━━━━━━━━━━━━━━━━━━━━━━━━━━━━━━━━━━━━\u001b[0m \u001b[32m63.3/63.3 kB\u001b[0m \u001b[31m2.1 MB/s\u001b[0m eta \u001b[36m0:00:00\u001b[0m\n",
            "\u001b[2K     \u001b[90m━━━━━━━━━━━━━━━━━━━━━━━━━━━━━━━━━━━━━━━━\u001b[0m \u001b[32m178.7/178.7 kB\u001b[0m \u001b[31m7.4 MB/s\u001b[0m eta \u001b[36m0:00:00\u001b[0m\n",
            "\u001b[2K     \u001b[90m━━━━━━━━━━━━━━━━━━━━━━━━━━━━━━━━━━━━━━━━\u001b[0m \u001b[32m58.8/58.8 kB\u001b[0m \u001b[31m6.9 MB/s\u001b[0m eta \u001b[36m0:00:00\u001b[0m\n",
            "\u001b[2K     \u001b[90m━━━━━━━━━━━━━━━━━━━━━━━━━━━━━━━━━━━━━━━━\u001b[0m \u001b[32m49.1/49.1 MB\u001b[0m \u001b[31m11.0 MB/s\u001b[0m eta \u001b[36m0:00:00\u001b[0m\n",
            "\u001b[2K     \u001b[90m━━━━━━━━━━━━━━━━━━━━━━━━━━━━━━━━━━━━━━━━\u001b[0m \u001b[32m67.8/67.8 kB\u001b[0m \u001b[31m7.6 MB/s\u001b[0m eta \u001b[36m0:00:00\u001b[0m\n",
            "\u001b[2K     \u001b[90m━━━━━━━━━━━━━━━━━━━━━━━━━━━━━━━━━━━━━━━━\u001b[0m \u001b[32m54.5/54.5 kB\u001b[0m \u001b[31m6.0 MB/s\u001b[0m eta \u001b[36m0:00:00\u001b[0m\n",
            "\u001b[2K     \u001b[90m━━━━━━━━━━━━━━━━━━━━━━━━━━━━━━━━━━━━━━━━\u001b[0m \u001b[32m272.6/272.6 kB\u001b[0m \u001b[31m6.2 MB/s\u001b[0m eta \u001b[36m0:00:00\u001b[0m\n",
            "\u001b[2K     \u001b[90m━━━━━━━━━━━━━━━━━━━━━━━━━━━━━━━━━━━━━━━━\u001b[0m \u001b[32m249.2/249.2 kB\u001b[0m \u001b[31m11.8 MB/s\u001b[0m eta \u001b[36m0:00:00\u001b[0m\n",
            "\u001b[2K     \u001b[90m━━━━━━━━━━━━━━━━━━━━━━━━━━━━━━━━━━━━━━━━\u001b[0m \u001b[32m1.6/1.6 MB\u001b[0m \u001b[31m15.1 MB/s\u001b[0m eta \u001b[36m0:00:00\u001b[0m\n",
            "\u001b[?25h"
          ]
        }
      ]
    },
    {
      "cell_type": "code",
      "source": [
        "from google.colab import drive\n",
        "drive.mount('/content/drive')\n",
        "dataset_location = \"/content/drive/MyDrive/CsiLab-BrainTumor-Detection-2\""
      ],
      "metadata": {
        "colab": {
          "base_uri": "https://localhost:8080/"
        },
        "id": "-33CyHBs9NER",
        "outputId": "f90e6704-a8e3-4f88-9d39-91425771ea66"
      },
      "execution_count": 2,
      "outputs": [
        {
          "output_type": "stream",
          "name": "stdout",
          "text": [
            "Mounted at /content/drive\n"
          ]
        }
      ]
    },
    {
      "cell_type": "code",
      "source": [
        "import supervision as sv\n",
        "\n"
      ],
      "metadata": {
        "id": "TCPcgEJG-YNh"
      },
      "execution_count": 3,
      "outputs": []
    },
    {
      "cell_type": "code",
      "source": [
        "\n",
        "\n",
        "ds = sv.DetectionDataset.from_yolo(\n",
        "      images_directory_path=f\"{dataset_location}/test/images\",\n",
        "      annotations_directory_path=f\"{dataset_location}/test/labels\",\n",
        "      data_yaml_path=f\"{dataset_location}/data.yaml\",\n",
        "      force_masks=False\n",
        "  )"
      ],
      "metadata": {
        "id": "nlrLPhln9ojI"
      },
      "execution_count": 35,
      "outputs": []
    },
    {
      "cell_type": "code",
      "source": [],
      "metadata": {
        "id": "Zinz5FrXBC5E"
      },
      "execution_count": 10,
      "outputs": []
    },
    {
      "cell_type": "code",
      "execution_count": 36,
      "metadata": {
        "id": "Ybw78r709JH-"
      },
      "outputs": [],
      "source": [
        "import random\n",
        "import supervision as sv\n",
        "\n",
        "random.seed(10)\n",
        "\n",
        "MAX_IMAGE_COUNT = 5\n",
        "\n",
        "n = min(MAX_IMAGE_COUNT, len(ds.images))\n",
        "\n",
        "keys = list(ds.images.keys())\n",
        "keys = random.sample(keys, n)\n",
        "\n",
        "box_annotator = sv.BoxAnnotator()\n",
        "\n",
        "images = []\n",
        "titles = []"
      ]
    },
    {
      "cell_type": "code",
      "execution_count": null,
      "metadata": {
        "id": "GSMLhYRL9JIC"
      },
      "outputs": [],
      "source": [
        "detections_list = []\n",
        "prediction_list = []\n",
        "for key in keys:\n",
        "    # Para anotações\n",
        "    annotation_detections = ds.annotations[key]\n",
        "    for detection in annotation_detections:\n",
        "        detections_list.append(detection[0])\n",
        "\n",
        "    # Para previsões\n",
        "    prediction_detections = predictions[key]\n",
        "    for prediction in prediction_detections:\n",
        "        prediction_list.append(prediction[0])"
      ]
    },
    {
      "cell_type": "code",
      "execution_count": null,
      "metadata": {
        "id": "i74M82Z49JIC"
      },
      "outputs": [],
      "source": [
        "import numpy as np\n",
        "\n",
        "\n",
        "def iou(box1, box2):\n",
        "    # Verifica se as bounding boxes são válidas.\n",
        "    if box1[2] is None or box2[2] is None:\n",
        "        return 0.0\n",
        "\n",
        "    # Calcula as interseções das bounding boxes.\n",
        "    inter_top = np.maximum(box1[0], box2[0])\n",
        "    inter_bottom = np.minimum(box1[2], box2[2])\n",
        "    inter_left = np.maximum(box1[1], box2[1])\n",
        "    inter_right = np.minimum(box1[3], box2[3])\n",
        "    inter_area = (inter_right - inter_left) * (inter_bottom - inter_top)\n",
        "\n",
        "    # Calcula as áreas das bounding boxes.\n",
        "    box1_area = (box1[2] - box1[0]) * (box1[3] - box1[1])\n",
        "    box2_area = (box2[2] - box2[0]) * (box2[3] - box2[1])\n",
        "\n",
        "    # Calcula o IoU.\n",
        "    iou = inter_area / (box1_area + box2_area - inter_area)\n",
        "\n",
        "    return iou\n",
        "\n",
        "for i in range(len(detections_list)):\n",
        "  iou_score = iou(detections_list[i], prediction_list[i])\n",
        "\n",
        "  # Imprime o IoU.\n",
        "  print(iou_score)"
      ]
    },
    {
      "cell_type": "code",
      "source": [
        "!yolo detect val  model=/content/drive/MyDrive/5Modelos_Yolov8_DatasetTumor/train2yolov8m/weights/best.pt data=/content/drive/MyDrive/CsiLab-BrainTumor-Detection-2/data.yaml"
      ],
      "metadata": {
        "colab": {
          "base_uri": "https://localhost:8080/"
        },
        "id": "vXNi2nyqBvaU",
        "outputId": "bb5fcbe4-a500-475f-b8ff-774a62e7efc8"
      },
      "execution_count": 5,
      "outputs": [
        {
          "output_type": "stream",
          "name": "stdout",
          "text": [
            "2023-11-22 17:21:33.544906: E tensorflow/compiler/xla/stream_executor/cuda/cuda_dnn.cc:9342] Unable to register cuDNN factory: Attempting to register factory for plugin cuDNN when one has already been registered\n",
            "2023-11-22 17:21:33.544958: E tensorflow/compiler/xla/stream_executor/cuda/cuda_fft.cc:609] Unable to register cuFFT factory: Attempting to register factory for plugin cuFFT when one has already been registered\n",
            "2023-11-22 17:21:33.544992: E tensorflow/compiler/xla/stream_executor/cuda/cuda_blas.cc:1518] Unable to register cuBLAS factory: Attempting to register factory for plugin cuBLAS when one has already been registered\n",
            "2023-11-22 17:21:34.770437: W tensorflow/compiler/tf2tensorrt/utils/py_utils.cc:38] TF-TRT Warning: Could not find TensorRT\n",
            "Ultralytics YOLOv8.0.28 🚀 Python-3.10.12 torch-2.1.0+cu118 CUDA:0 (Tesla T4, 15102MiB)\n",
            "Model summary (fused): 218 layers, 25840339 parameters, 0 gradients, 78.7 GFLOPs\n",
            "Downloading https://ultralytics.com/assets/Arial.ttf to /root/.config/Ultralytics/Arial.ttf...\n",
            "100% 755k/755k [00:00<00:00, 25.5MB/s]\n",
            "\u001b[34m\u001b[1mval: \u001b[0mScanning /content/drive/MyDrive/CsiLab-BrainTumor-Detection-2/valid/labels... 60 images, 0 backgrounds, 0 corrupt: 100% 60/60 [00:45<00:00,  1.31it/s]\n",
            "\u001b[34m\u001b[1mval: \u001b[0mNew cache created: /content/drive/MyDrive/CsiLab-BrainTumor-Detection-2/valid/labels.cache\n",
            "                 Class     Images  Instances      Box(P          R      mAP50  mAP50-95): 100% 4/4 [00:05<00:00,  1.33s/it]\n",
            "                   all         60         62      0.967      0.935      0.951      0.704\n",
            "Speed: 6.0ms pre-process, 29.5ms inference, 0.0ms loss, 3.1ms post-process per image\n"
          ]
        }
      ]
    },
    {
      "cell_type": "code",
      "source": [
        "import os\n",
        "import numpy as np\n",
        "source = '/content/drive/MyDrive/CsiLab-BrainTumor-Detection-2/test'\n",
        "\n",
        "dados = np.loadtxt('/content/drive/MyDrive/CsiLab-BrainTumor-Detection-2/test/labels/35_jpg.rf.cab669c5610c769bb471aec8910c8175.txt')\n",
        "\n",
        "id,x2, y2, w2, h2 = dados\n",
        "print(id,x2,y2,w2,h2)\n",
        "\n",
        "for filename in os.listdir(f\"{source}/labels\"):\n",
        "    f = os.path.join(f\"{source}/labels\", filename)\n",
        "    # checking if it is a file\n",
        "    if os.path.isfile(f):\n",
        "        print(f)"
      ],
      "metadata": {
        "id": "voFF84vGUqcG",
        "outputId": "c0c96e9a-f04d-4801-9dc6-78e9c0ffe226",
        "colab": {
          "base_uri": "https://localhost:8080/",
          "height": 70
        }
      },
      "execution_count": 74,
      "outputs": [
        {
          "output_type": "stream",
          "name": "stdout",
          "text": [
            "[          0     0.45391     0.41406     0.23672     0.24297]\n",
            "0.0 0.45390625 0.4140625 0.23671875 0.24296875\n"
          ]
        },
        {
          "output_type": "execute_result",
          "data": {
            "text/plain": [
              "'for filename in os.listdir(f\"{source}/labels\"):\\n    f = os.path.join(f\"{source}/labels\", filename)\\n    # checking if it is a file\\n    if os.path.isfile(f):\\n        print(f)'"
            ],
            "application/vnd.google.colaboratory.intrinsic+json": {
              "type": "string"
            }
          },
          "metadata": {},
          "execution_count": 74
        }
      ]
    },
    {
      "cell_type": "code",
      "source": [
        "from ultralytics import YOLO\n",
        "from PIL import Image\n",
        "\n",
        "\n",
        "model = YOLO('/content/drive/MyDrive/5Modelos_Yolov8_DatasetTumor/train2yolov8m/weights/best.pt')\n",
        "source = '/content/drive/MyDrive/CsiLab-BrainTumor-Detection-2/test/images/35_jpg.rf.cab669c5610c769bb471aec8910c8175.jpg'\n",
        "\n",
        "results = model(source)\n",
        "for r in results:\n",
        "  print(r.boxes.xywhn.cpu().numpy()[0])\n",
        ""
      ],
      "metadata": {
        "colab": {
          "base_uri": "https://localhost:8080/"
        },
        "id": "vCmPzafIDlgS",
        "outputId": "36ab8df6-86c6-4092-d058-e0385abfb1ef"
      },
      "execution_count": 69,
      "outputs": [
        {
          "output_type": "stream",
          "name": "stderr",
          "text": [
            "Ultralytics YOLOv8.0.28 🚀 Python-3.10.12 torch-2.1.0+cu118 CUDA:0 (Tesla T4, 15102MiB)\n",
            "Model summary (fused): 218 layers, 25840339 parameters, 0 gradients, 78.7 GFLOPs\n",
            "\n",
            "image 1/1 /content/drive/MyDrive/CsiLab-BrainTumor-Detection-2/test/images/35_jpg.rf.cab669c5610c769bb471aec8910c8175.jpg: 640x640 1 Tumor, 36.3ms\n",
            "Speed: 0.6ms pre-process, 36.3ms inference, 2.0ms postprocess per image at shape (1, 3, 640, 640)\n"
          ]
        },
        {
          "output_type": "stream",
          "name": "stdout",
          "text": [
            "[    0.45703     0.41328     0.22344     0.23281]\n"
          ]
        }
      ]
    },
    {
      "cell_type": "code",
      "source": [
        "detections_list = []\n",
        "for key in keys:\n",
        "    # Para anotações\n",
        "    annotation_detections = ds.annotations[key]\n",
        "    for detection in annotation_detections:\n",
        "        detections_list.append(detection[0])\n",
        "        print(detection[0])\n",
        "        print(type(annotation_detections),type(detection))\n"
      ],
      "metadata": {
        "colab": {
          "base_uri": "https://localhost:8080/"
        },
        "id": "RTB7fI5yJ12S",
        "outputId": "6e84e516-32bd-45e9-9b86-a917bfe33b5a"
      },
      "execution_count": 44,
      "outputs": [
        {
          "output_type": "stream",
          "name": "stdout",
          "text": [
            "[     202.25      115.75      426.75      278.25]\n",
            "<class 'supervision.detection.core.Detections'> <class 'tuple'>\n",
            "[        350      147.75         478      250.25]\n",
            "<class 'supervision.detection.core.Detections'> <class 'tuple'>\n",
            "[        400       56.25         569      195.75]\n",
            "<class 'supervision.detection.core.Detections'> <class 'tuple'>\n",
            "[     194.75       156.5      320.25       280.5]\n",
            "<class 'supervision.detection.core.Detections'> <class 'tuple'>\n",
            "[      304.5       305.5       491.5       517.5]\n",
            "<class 'supervision.detection.core.Detections'> <class 'tuple'>\n"
          ]
        }
      ]
    },
    {
      "cell_type": "code",
      "source": [
        "!yolo detect predict model =/content/drive/MyDrive/5Modelos_Yolov8_DatasetTumor/train2yolov8m/weights/best.pt source=/content/drive/MyDrive/CsiLab-BrainTumor-Detection-2/test/images/35_jpg.rf.cab669c5610c769bb471aec8910c8175.jpg"
      ],
      "metadata": {
        "colab": {
          "base_uri": "https://localhost:8080/"
        },
        "id": "dI73wV6zIFCL",
        "outputId": "142f403b-a1a7-4f52-baa5-17111a658e00"
      },
      "execution_count": 25,
      "outputs": [
        {
          "output_type": "stream",
          "name": "stdout",
          "text": [
            "2023-11-22 17:43:56.055677: E tensorflow/compiler/xla/stream_executor/cuda/cuda_dnn.cc:9342] Unable to register cuDNN factory: Attempting to register factory for plugin cuDNN when one has already been registered\n",
            "2023-11-22 17:43:56.055734: E tensorflow/compiler/xla/stream_executor/cuda/cuda_fft.cc:609] Unable to register cuFFT factory: Attempting to register factory for plugin cuFFT when one has already been registered\n",
            "2023-11-22 17:43:56.055766: E tensorflow/compiler/xla/stream_executor/cuda/cuda_blas.cc:1518] Unable to register cuBLAS factory: Attempting to register factory for plugin cuBLAS when one has already been registered\n",
            "2023-11-22 17:43:57.059102: W tensorflow/compiler/tf2tensorrt/utils/py_utils.cc:38] TF-TRT Warning: Could not find TensorRT\n",
            "Ultralytics YOLOv8.0.28 🚀 Python-3.10.12 torch-2.1.0+cu118 CUDA:0 (Tesla T4, 15102MiB)\n",
            "Model summary (fused): 218 layers, 25840339 parameters, 0 gradients, 78.7 GFLOPs\n",
            "\n",
            "image 1/1 /content/drive/MyDrive/CsiLab-BrainTumor-Detection-2/test/images/35_jpg.rf.cab669c5610c769bb471aec8910c8175.jpg: 640x640 1 Tumor, 36.2ms\n",
            "Speed: 0.7ms pre-process, 36.2ms inference, 77.9ms postprocess per image at shape (1, 3, 640, 640)\n",
            "Results saved to \u001b[1mruns/detect/predict2\u001b[0m\n"
          ]
        }
      ]
    }
  ],
  "metadata": {
    "language_info": {
      "name": "python"
    },
    "colab": {
      "provenance": [],
      "gpuType": "T4"
    },
    "kernelspec": {
      "name": "python3",
      "display_name": "Python 3"
    },
    "accelerator": "GPU"
  },
  "nbformat": 4,
  "nbformat_minor": 0
}