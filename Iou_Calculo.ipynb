{
 "cells": [
  {
   "cell_type": "code",
   "execution_count": null,
   "metadata": {},
   "outputs": [],
   "source": [
    "import random\n",
    "import supervision as sv\n",
    "\n",
    "random.seed(10)\n",
    "\n",
    "MAX_IMAGE_COUNT = 5\n",
    "\n",
    "n = min(MAX_IMAGE_COUNT, len(ds.images))\n",
    "\n",
    "keys = list(ds.images.keys())\n",
    "keys = random.sample(keys, n)\n",
    "\n",
    "box_annotator = sv.BoxAnnotator()\n",
    "\n",
    "images = []\n",
    "titles = []"
   ]
  },
  {
   "cell_type": "code",
   "execution_count": null,
   "metadata": {},
   "outputs": [],
   "source": [
    "detections_list = []\n",
    "prediction_list = []\n",
    "for key in keys:\n",
    "    # Para anotações\n",
    "    annotation_detections = ds.annotations[key]\n",
    "    for detection in annotation_detections:\n",
    "        detections_list.append(detection[0])\n",
    "\n",
    "    # Para previsões\n",
    "    prediction_detections = predictions[key]\n",
    "    for prediction in prediction_detections:\n",
    "        prediction_list.append(prediction[0])"
   ]
  },
  {
   "cell_type": "code",
   "execution_count": null,
   "metadata": {},
   "outputs": [],
   "source": [
    "import numpy as np\n",
    "\n",
    "\n",
    "def iou(box1, box2):\n",
    "    # Verifica se as bounding boxes são válidas.\n",
    "    if box1[2] is None or box2[2] is None:\n",
    "        return 0.0\n",
    "\n",
    "    # Calcula as interseções das bounding boxes.\n",
    "    inter_top = np.maximum(box1[0], box2[0])\n",
    "    inter_bottom = np.minimum(box1[2], box2[2])\n",
    "    inter_left = np.maximum(box1[1], box2[1])\n",
    "    inter_right = np.minimum(box1[3], box2[3])\n",
    "    inter_area = (inter_right - inter_left) * (inter_bottom - inter_top)\n",
    "\n",
    "    # Calcula as áreas das bounding boxes.\n",
    "    box1_area = (box1[2] - box1[0]) * (box1[3] - box1[1])\n",
    "    box2_area = (box2[2] - box2[0]) * (box2[3] - box2[1])\n",
    "\n",
    "    # Calcula o IoU.\n",
    "    iou = inter_area / (box1_area + box2_area - inter_area)\n",
    "\n",
    "    return iou\n",
    "\n",
    "for i in range(len(detections_list)):\n",
    "  iou_score = iou(detections_list[i], prediction_list[i])\n",
    "\n",
    "  # Imprime o IoU.\n",
    "  print(iou_score)"
   ]
  }
 ],
 "metadata": {
  "language_info": {
   "name": "python"
  }
 },
 "nbformat": 4,
 "nbformat_minor": 2
}
