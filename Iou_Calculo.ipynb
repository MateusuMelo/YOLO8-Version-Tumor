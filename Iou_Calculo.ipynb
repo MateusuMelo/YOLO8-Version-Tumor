{
  "cells": [
    {
      "cell_type": "code",
      "source": [
        "%pip install supervision\n",
        "%pip -q install roboflow\n",
        "%pip -q install ultralytics==8.0.28\n"
      ],
      "metadata": {
        "id": "58-cNYNu9MFC",
        "outputId": "437351de-69cc-46b4-a5bb-467b70d777a3",
        "colab": {
          "base_uri": "https://localhost:8080/"
        }
      },
      "execution_count": 1,
      "outputs": [
        {
          "output_type": "stream",
          "name": "stdout",
          "text": [
            "Collecting supervision\n",
            "  Downloading supervision-0.18.0-py3-none-any.whl (86 kB)\n",
            "\u001b[?25l     \u001b[90m━━━━━━━━━━━━━━━━━━━━━━━━━━━━━━━━━━━━━━━━\u001b[0m \u001b[32m0.0/86.7 kB\u001b[0m \u001b[31m?\u001b[0m eta \u001b[36m-:--:--\u001b[0m\r\u001b[2K     \u001b[90m━━━━━━━━━━━━━━━━━━━━━━━━━━━━━━━━━━━━━━━━\u001b[0m \u001b[32m86.7/86.7 kB\u001b[0m \u001b[31m3.2 MB/s\u001b[0m eta \u001b[36m0:00:00\u001b[0m\n",
            "\u001b[?25hRequirement already satisfied: defusedxml<0.8.0,>=0.7.1 in /usr/local/lib/python3.10/dist-packages (from supervision) (0.7.1)\n",
            "Requirement already satisfied: matplotlib>=3.6.0 in /usr/local/lib/python3.10/dist-packages (from supervision) (3.7.1)\n",
            "Requirement already satisfied: numpy>=1.21.2 in /usr/local/lib/python3.10/dist-packages (from supervision) (1.25.2)\n",
            "Requirement already satisfied: opencv-python-headless>=4.5.5.64 in /usr/local/lib/python3.10/dist-packages (from supervision) (4.9.0.80)\n",
            "Requirement already satisfied: pyyaml>=5.3 in /usr/local/lib/python3.10/dist-packages (from supervision) (6.0.1)\n",
            "Requirement already satisfied: scipy<2.0.0,>=1.10.0 in /usr/local/lib/python3.10/dist-packages (from supervision) (1.11.4)\n",
            "Requirement already satisfied: contourpy>=1.0.1 in /usr/local/lib/python3.10/dist-packages (from matplotlib>=3.6.0->supervision) (1.2.0)\n",
            "Requirement already satisfied: cycler>=0.10 in /usr/local/lib/python3.10/dist-packages (from matplotlib>=3.6.0->supervision) (0.12.1)\n",
            "Requirement already satisfied: fonttools>=4.22.0 in /usr/local/lib/python3.10/dist-packages (from matplotlib>=3.6.0->supervision) (4.49.0)\n",
            "Requirement already satisfied: kiwisolver>=1.0.1 in /usr/local/lib/python3.10/dist-packages (from matplotlib>=3.6.0->supervision) (1.4.5)\n",
            "Requirement already satisfied: packaging>=20.0 in /usr/local/lib/python3.10/dist-packages (from matplotlib>=3.6.0->supervision) (23.2)\n",
            "Requirement already satisfied: pillow>=6.2.0 in /usr/local/lib/python3.10/dist-packages (from matplotlib>=3.6.0->supervision) (9.4.0)\n",
            "Requirement already satisfied: pyparsing>=2.3.1 in /usr/local/lib/python3.10/dist-packages (from matplotlib>=3.6.0->supervision) (3.1.1)\n",
            "Requirement already satisfied: python-dateutil>=2.7 in /usr/local/lib/python3.10/dist-packages (from matplotlib>=3.6.0->supervision) (2.8.2)\n",
            "Requirement already satisfied: six>=1.5 in /usr/local/lib/python3.10/dist-packages (from python-dateutil>=2.7->matplotlib>=3.6.0->supervision) (1.16.0)\n",
            "Installing collected packages: supervision\n",
            "Successfully installed supervision-0.18.0\n",
            "\u001b[2K     \u001b[90m━━━━━━━━━━━━━━━━━━━━━━━━━━━━━━━━━━━━━━━━\u001b[0m \u001b[32m70.2/70.2 kB\u001b[0m \u001b[31m2.1 MB/s\u001b[0m eta \u001b[36m0:00:00\u001b[0m\n",
            "\u001b[2K     \u001b[90m━━━━━━━━━━━━━━━━━━━━━━━━━━━━━━━━━━━━━━━━\u001b[0m \u001b[32m158.3/158.3 kB\u001b[0m \u001b[31m7.0 MB/s\u001b[0m eta \u001b[36m0:00:00\u001b[0m\n",
            "\u001b[2K     \u001b[90m━━━━━━━━━━━━━━━━━━━━━━━━━━━━━━━━━━━━━━━━\u001b[0m \u001b[32m178.7/178.7 kB\u001b[0m \u001b[31m8.6 MB/s\u001b[0m eta \u001b[36m0:00:00\u001b[0m\n",
            "\u001b[2K     \u001b[90m━━━━━━━━━━━━━━━━━━━━━━━━━━━━━━━━━━━━━━━━\u001b[0m \u001b[32m58.8/58.8 kB\u001b[0m \u001b[31m7.5 MB/s\u001b[0m eta \u001b[36m0:00:00\u001b[0m\n",
            "\u001b[2K     \u001b[90m━━━━━━━━━━━━━━━━━━━━━━━━━━━━━━━━━━━━━━━━\u001b[0m \u001b[32m49.1/49.1 MB\u001b[0m \u001b[31m9.8 MB/s\u001b[0m eta \u001b[36m0:00:00\u001b[0m\n",
            "\u001b[2K     \u001b[90m━━━━━━━━━━━━━━━━━━━━━━━━━━━━━━━━━━━━━━━━\u001b[0m \u001b[32m54.5/54.5 kB\u001b[0m \u001b[31m6.9 MB/s\u001b[0m eta \u001b[36m0:00:00\u001b[0m\n",
            "\u001b[2K     \u001b[90m━━━━━━━━━━━━━━━━━━━━━━━━━━━━━━━━━━━━━━━━\u001b[0m \u001b[32m272.6/272.6 kB\u001b[0m \u001b[31m6.4 MB/s\u001b[0m eta \u001b[36m0:00:00\u001b[0m\n",
            "\u001b[2K     \u001b[90m━━━━━━━━━━━━━━━━━━━━━━━━━━━━━━━━━━━━━━━━\u001b[0m \u001b[32m258.8/258.8 kB\u001b[0m \u001b[31m12.4 MB/s\u001b[0m eta \u001b[36m0:00:00\u001b[0m\n",
            "\u001b[2K     \u001b[90m━━━━━━━━━━━━━━━━━━━━━━━━━━━━━━━━━━━━━━━━\u001b[0m \u001b[32m1.6/1.6 MB\u001b[0m \u001b[31m18.1 MB/s\u001b[0m eta \u001b[36m0:00:00\u001b[0m\n",
            "\u001b[?25h"
          ]
        }
      ]
    },
    {
      "cell_type": "code",
      "source": [
        "from google.colab import drive\n",
        "drive.mount('/content/drive')\n",
        "dataset_location = \"/content/drive/MyDrive/CsiLab-BrainTumor-Detection-3\""
      ],
      "metadata": {
        "colab": {
          "base_uri": "https://localhost:8080/"
        },
        "id": "-33CyHBs9NER",
        "outputId": "460281c5-9941-45b1-bef0-0b672fdd314a"
      },
      "execution_count": 2,
      "outputs": [
        {
          "output_type": "stream",
          "name": "stdout",
          "text": [
            "Mounted at /content/drive\n"
          ]
        }
      ]
    },
    {
      "cell_type": "code",
      "source": [
        "import supervision as sv\n",
        "\n"
      ],
      "metadata": {
        "id": "TCPcgEJG-YNh"
      },
      "execution_count": null,
      "outputs": []
    },
    {
      "cell_type": "code",
      "source": [
        "from ultralytics import YOLO\n",
        "from PIL import Image\n",
        "def predict_img(img_path, model_path):\n",
        "\n",
        "  model = YOLO(model_path)\n",
        "  source = img_path\n",
        "\n",
        "  results = model(source)\n",
        "  for r in results:\n",
        "    try:\n",
        "      return r.boxes.xywhn.cpu().numpy()[0]\n",
        "    except Exception as e:\n",
        "      return [0,0,0,0]"
      ],
      "metadata": {
        "id": "q7E5r9Pe5fLK"
      },
      "execution_count": null,
      "outputs": []
    },
    {
      "cell_type": "code",
      "source": [
        "def calcula_iou_numpy(predict, label):\n",
        "    # caixa1 e caixa2 devem ser arrays NumPy no formato [x, y, largura, altura]\n",
        "    x1, y1, w1, h1 = predict\n",
        "    try:\n",
        "      id2, x2, y2, w2, h2 = label\n",
        "    except Exception as e:\n",
        "      id2, x2, y2, w2, h2 = label[0]\n",
        "\n",
        "    # Calcula as coordenadas dos cantos da interseção\n",
        "    x_intersecao = max(x1, x2)\n",
        "    y_intersecao = max(y1, y2)\n",
        "    largura_intersecao = min(x1 + w1, x2 + w2) - x_intersecao\n",
        "    altura_intersecao = min(y1 + h1, y2 + h2) - y_intersecao\n",
        "\n",
        "    # Verifica se há interseção\n",
        "    if largura_intersecao <= 0 or altura_intersecao <= 0:\n",
        "        return 0.0\n",
        "\n",
        "    # Calcula a área da interseção e da união\n",
        "    area_intersecao = largura_intersecao * altura_intersecao\n",
        "    area_uniao = w1 * h1 + w2 * h2 - area_intersecao\n",
        "\n",
        "    # Calcula o IoU\n",
        "    iou = area_intersecao / area_uniao\n",
        "\n",
        "    return iou"
      ],
      "metadata": {
        "id": "Gl1PX1im5EAX"
      },
      "execution_count": null,
      "outputs": []
    },
    {
      "cell_type": "code",
      "source": [
        "import os\n",
        "import numpy as np\n",
        "source = ['/content/drive/MyDrive/CsiLab-BrainTumor-Detection-3/test','/content/drive/MyDrive/CsiLab-BrainTumor-Detection-3/train','/content/drive/MyDrive/CsiLab-BrainTumor-Detection-3/valid']\n",
        "yolo_s = []\n",
        "yolo_m = []\n",
        "yolo_n = []\n",
        "yolo_l = []\n",
        "yolo_x = []\n",
        "\n",
        "\n",
        "for filepath in source:\n",
        "  for filename in os.listdir(f\"{filepath}/labels\"):\n",
        "      labels = np.loadtxt(os.path.join(f\"{filepath}/labels\", filename))\n",
        "      images = os.path.join(f\"{filepath}/images\", filename).split('.txt')[0] + '.jpg'\n",
        "      print(images)\n",
        "\n",
        "      predict_s = predict_img(images,'/content/drive/MyDrive/5Modelos_Yolov8_DatasetTumor/trainyolov8s/weights/best.pt')\n",
        "      print(predict_s)\n",
        "      yolo_s.append(calcula_iou_numpy(predict_s, labels))\n",
        "      with open(f\"/content/drive/MyDrive/5Modelos_Yolov8_DatasetTumor/trainyolov8s/inferencias/{filename}\", 'a') as file:\n",
        "       file.write(str(predict_s))\n",
        "\n",
        "      predict_m = predict_img(images,'/content/drive/MyDrive/5Modelos_Yolov8_DatasetTumor/train2yolov8m/weights/best.pt')\n",
        "      yolo_m.append(calcula_iou_numpy(predict_m, labels))\n",
        "      with open(f\"/content/drive/MyDrive/5Modelos_Yolov8_DatasetTumor/train2yolov8m/inferencias/{filename}\", 'a') as file:\n",
        "        file.write(str(predict_m))\n",
        "\n",
        "      predict_n = predict_img(images,'/content/drive/MyDrive/5Modelos_Yolov8_DatasetTumor/train5yolov8n/weights/best.pt')\n",
        "      yolo_n.append(calcula_iou_numpy(predict_n, labels))\n",
        "      with open(f\"/content/drive/MyDrive/5Modelos_Yolov8_DatasetTumor/train5yolov8n/inferencias/{filename}\", 'a') as file:\n",
        "        file.write(str(predict_n))\n",
        "\n",
        "      predict_l = predict_img(images,'/content/drive/MyDrive/5Modelos_Yolov8_DatasetTumor/train3yolov8L/weights/best.pt')\n",
        "      yolo_l.append(calcula_iou_numpy(predict_l, labels))\n",
        "      with open(f\"/content/drive/MyDrive/5Modelos_Yolov8_DatasetTumor/train3yolov8L/inferencias/{filename}\", 'a') as file:\n",
        "        file.write(str(predict_l))\n",
        "\n",
        "      predict_x = predict_img(images,'/content/drive/MyDrive/5Modelos_Yolov8_DatasetTumor/train4yolov8X/weights/best.pt')\n",
        "      yolo_x.append(calcula_iou_numpy(predict_x, labels))\n",
        "      with open(f\"/content/drive/MyDrive/5Modelos_Yolov8_DatasetTumor/train4yolov8X/inferencias/{filename}\", 'a') as file:\n",
        "        file.write(str(predict_x))\n",
        "\n",
        "\n",
        "\n",
        "\n",
        "\n",
        "\n",
        "\n",
        "\n",
        "\n",
        "with open(f\"/content/drive/MyDrive/5Modelos_Yolov8_DatasetTumor/train4yolov8X/iou.txt\", 'w') as file:\n",
        "        file.write(str(yolo_x))\n",
        "\n",
        "with open(f\"/content/drive/MyDrive/5Modelos_Yolov8_DatasetTumor/train2yolov8m/iou.txt\", 'w') as file:\n",
        "        file.write(str(yolo_m))\n",
        "\n",
        "with open(f\"/content/drive/MyDrive/5Modelos_Yolov8_DatasetTumor/train3yolov8L/iou.txt\", 'w') as file:\n",
        "        file.write(str(yolo_l))\n",
        "\n",
        "with open(f\"/content/drive/MyDrive/5Modelos_Yolov8_DatasetTumor/train5yolov8n/iou.txt\", 'w') as file:\n",
        "        file.write(str(yolo_n))\n",
        "\n",
        "with open(f\"/content/drive/MyDrive/5Modelos_Yolov8_DatasetTumor/trainyolov8s/iou.txt\", 'w') as file:\n",
        "        file.write(str(yolo_s))\n"
      ],
      "metadata": {
        "id": "voFF84vGUqcG",
        "outputId": "6afaa8f7-b482-42ba-f807-c82c530c4777",
        "colab": {
          "base_uri": "https://localhost:8080/"
        }
      },
      "execution_count": null,
      "outputs": [
        {
          "output_type": "stream",
          "name": "stdout",
          "text": [
            "[    0.68973     0.34598     0.27232     0.26339]\n"
          ]
        },
        {
          "output_type": "stream",
          "name": "stderr",
          "text": [
            "Model summary (fused): 218 layers, 25840339 parameters, 0 gradients, 78.7 GFLOPs\n",
            "\n",
            "image 1/1 /content/drive/MyDrive/CsiLab-BrainTumor-Detection-3/train/images/73_jpg.rf.1f7308362b30913ff9b93168cdb7e331.jpg: 640x640 1 Tumor, 25.0ms\n",
            "Speed: 0.5ms pre-process, 25.0ms inference, 1.4ms postprocess per image at shape (1, 3, 640, 640)\n",
            "Ultralytics YOLOv8.0.28 🚀 Python-3.10.12 torch-2.1.0+cu121 CUDA:0 (Tesla T4, 15102MiB)\n",
            "Model summary (fused): 168 layers, 3005843 parameters, 0 gradients, 8.1 GFLOPs\n",
            "\n",
            "image 1/1 /content/drive/MyDrive/CsiLab-BrainTumor-Detection-3/train/images/73_jpg.rf.1f7308362b30913ff9b93168cdb7e331.jpg: 640x640 1 Tumor, 16.9ms\n",
            "Speed: 0.6ms pre-process, 16.9ms inference, 1.4ms postprocess per image at shape (1, 3, 640, 640)\n",
            "Ultralytics YOLOv8.0.28 🚀 Python-3.10.12 torch-2.1.0+cu121 CUDA:0 (Tesla T4, 15102MiB)\n",
            "Model summary (fused): 268 layers, 43607379 parameters, 0 gradients, 164.8 GFLOPs\n",
            "\n",
            "image 1/1 /content/drive/MyDrive/CsiLab-BrainTumor-Detection-3/train/images/73_jpg.rf.1f7308362b30913ff9b93168cdb7e331.jpg: 640x640 1 Tumor, 62.9ms\n",
            "Speed: 0.5ms pre-process, 62.9ms inference, 1.5ms postprocess per image at shape (1, 3, 640, 640)\n",
            "Ultralytics YOLOv8.0.28 🚀 Python-3.10.12 torch-2.1.0+cu121 CUDA:0 (Tesla T4, 15102MiB)\n",
            "Model summary (fused): 268 layers, 68124531 parameters, 0 gradients, 257.4 GFLOPs\n",
            "\n",
            "image 1/1 /content/drive/MyDrive/CsiLab-BrainTumor-Detection-3/train/images/73_jpg.rf.1f7308362b30913ff9b93168cdb7e331.jpg: 640x640 1 Tumor, 66.0ms\n",
            "Speed: 0.5ms pre-process, 66.0ms inference, 1.8ms postprocess per image at shape (1, 3, 640, 640)\n",
            "Ultralytics YOLOv8.0.28 🚀 Python-3.10.12 torch-2.1.0+cu121 CUDA:0 (Tesla T4, 15102MiB)\n"
          ]
        },
        {
          "output_type": "stream",
          "name": "stdout",
          "text": [
            "/content/drive/MyDrive/CsiLab-BrainTumor-Detection-3/train/images/Te-me_0115_jpg.rf.7306db07d1940310c3f71354a47c05e6.jpg\n"
          ]
        },
        {
          "output_type": "stream",
          "name": "stderr",
          "text": [
            "Model summary (fused): 168 layers, 11125971 parameters, 0 gradients, 28.4 GFLOPs\n",
            "\n",
            "image 1/1 /content/drive/MyDrive/CsiLab-BrainTumor-Detection-3/train/images/Te-me_0115_jpg.rf.7306db07d1940310c3f71354a47c05e6.jpg: 640x640 16.6ms\n",
            "Speed: 0.5ms pre-process, 16.6ms inference, 0.7ms postprocess per image at shape (1, 3, 640, 640)\n",
            "Ultralytics YOLOv8.0.28 🚀 Python-3.10.12 torch-2.1.0+cu121 CUDA:0 (Tesla T4, 15102MiB)\n"
          ]
        },
        {
          "output_type": "stream",
          "name": "stdout",
          "text": [
            "[0, 0, 0, 0]\n"
          ]
        },
        {
          "output_type": "stream",
          "name": "stderr",
          "text": [
            "Model summary (fused): 218 layers, 25840339 parameters, 0 gradients, 78.7 GFLOPs\n",
            "\n",
            "image 1/1 /content/drive/MyDrive/CsiLab-BrainTumor-Detection-3/train/images/Te-me_0115_jpg.rf.7306db07d1940310c3f71354a47c05e6.jpg: 640x640 1 Tumor, 19.9ms\n",
            "Speed: 0.5ms pre-process, 19.9ms inference, 1.4ms postprocess per image at shape (1, 3, 640, 640)\n",
            "Ultralytics YOLOv8.0.28 🚀 Python-3.10.12 torch-2.1.0+cu121 CUDA:0 (Tesla T4, 15102MiB)\n",
            "Model summary (fused): 168 layers, 3005843 parameters, 0 gradients, 8.1 GFLOPs\n",
            "\n",
            "image 1/1 /content/drive/MyDrive/CsiLab-BrainTumor-Detection-3/train/images/Te-me_0115_jpg.rf.7306db07d1940310c3f71354a47c05e6.jpg: 640x640 1 Tumor, 15.7ms\n",
            "Speed: 0.5ms pre-process, 15.7ms inference, 1.4ms postprocess per image at shape (1, 3, 640, 640)\n",
            "Ultralytics YOLOv8.0.28 🚀 Python-3.10.12 torch-2.1.0+cu121 CUDA:0 (Tesla T4, 15102MiB)\n",
            "Model summary (fused): 268 layers, 43607379 parameters, 0 gradients, 164.8 GFLOPs\n",
            "\n",
            "image 1/1 /content/drive/MyDrive/CsiLab-BrainTumor-Detection-3/train/images/Te-me_0115_jpg.rf.7306db07d1940310c3f71354a47c05e6.jpg: 640x640 1 Tumor, 53.7ms\n",
            "Speed: 0.5ms pre-process, 53.7ms inference, 1.5ms postprocess per image at shape (1, 3, 640, 640)\n",
            "Ultralytics YOLOv8.0.28 🚀 Python-3.10.12 torch-2.1.0+cu121 CUDA:0 (Tesla T4, 15102MiB)\n",
            "Model summary (fused): 268 layers, 68124531 parameters, 0 gradients, 257.4 GFLOPs\n",
            "\n",
            "image 1/1 /content/drive/MyDrive/CsiLab-BrainTumor-Detection-3/train/images/Te-me_0115_jpg.rf.7306db07d1940310c3f71354a47c05e6.jpg: 640x640 1 Tumor, 63.6ms\n",
            "Speed: 0.5ms pre-process, 63.6ms inference, 1.5ms postprocess per image at shape (1, 3, 640, 640)\n",
            "Ultralytics YOLOv8.0.28 🚀 Python-3.10.12 torch-2.1.0+cu121 CUDA:0 (Tesla T4, 15102MiB)\n"
          ]
        },
        {
          "output_type": "stream",
          "name": "stdout",
          "text": [
            "/content/drive/MyDrive/CsiLab-BrainTumor-Detection-3/train/images/92_jpg.rf.16085751f6e31eedfb3554595d3a970e.jpg\n"
          ]
        },
        {
          "output_type": "stream",
          "name": "stderr",
          "text": [
            "Model summary (fused): 168 layers, 11125971 parameters, 0 gradients, 28.4 GFLOPs\n",
            "\n",
            "image 1/1 /content/drive/MyDrive/CsiLab-BrainTumor-Detection-3/train/images/92_jpg.rf.16085751f6e31eedfb3554595d3a970e.jpg: 640x640 24.1ms\n",
            "Speed: 0.5ms pre-process, 24.1ms inference, 1.0ms postprocess per image at shape (1, 3, 640, 640)\n",
            "Ultralytics YOLOv8.0.28 🚀 Python-3.10.12 torch-2.1.0+cu121 CUDA:0 (Tesla T4, 15102MiB)\n"
          ]
        },
        {
          "output_type": "stream",
          "name": "stdout",
          "text": [
            "[0, 0, 0, 0]\n"
          ]
        },
        {
          "output_type": "stream",
          "name": "stderr",
          "text": [
            "Model summary (fused): 218 layers, 25840339 parameters, 0 gradients, 78.7 GFLOPs\n",
            "\n",
            "image 1/1 /content/drive/MyDrive/CsiLab-BrainTumor-Detection-3/train/images/92_jpg.rf.16085751f6e31eedfb3554595d3a970e.jpg: 640x640 1 Tumor, 21.3ms\n",
            "Speed: 0.5ms pre-process, 21.3ms inference, 1.6ms postprocess per image at shape (1, 3, 640, 640)\n",
            "Ultralytics YOLOv8.0.28 🚀 Python-3.10.12 torch-2.1.0+cu121 CUDA:0 (Tesla T4, 15102MiB)\n",
            "Model summary (fused): 168 layers, 3005843 parameters, 0 gradients, 8.1 GFLOPs\n",
            "\n",
            "image 1/1 /content/drive/MyDrive/CsiLab-BrainTumor-Detection-3/train/images/92_jpg.rf.16085751f6e31eedfb3554595d3a970e.jpg: 640x640 1 Tumor, 16.9ms\n",
            "Speed: 0.5ms pre-process, 16.9ms inference, 1.6ms postprocess per image at shape (1, 3, 640, 640)\n",
            "Ultralytics YOLOv8.0.28 🚀 Python-3.10.12 torch-2.1.0+cu121 CUDA:0 (Tesla T4, 15102MiB)\n",
            "Model summary (fused): 268 layers, 43607379 parameters, 0 gradients, 164.8 GFLOPs\n",
            "\n",
            "image 1/1 /content/drive/MyDrive/CsiLab-BrainTumor-Detection-3/train/images/92_jpg.rf.16085751f6e31eedfb3554595d3a970e.jpg: 640x640 1 Tumor, 60.5ms\n",
            "Speed: 0.6ms pre-process, 60.5ms inference, 1.9ms postprocess per image at shape (1, 3, 640, 640)\n",
            "Ultralytics YOLOv8.0.28 🚀 Python-3.10.12 torch-2.1.0+cu121 CUDA:0 (Tesla T4, 15102MiB)\n",
            "Model summary (fused): 268 layers, 68124531 parameters, 0 gradients, 257.4 GFLOPs\n",
            "\n",
            "image 1/1 /content/drive/MyDrive/CsiLab-BrainTumor-Detection-3/train/images/92_jpg.rf.16085751f6e31eedfb3554595d3a970e.jpg: 640x640 1 Tumor, 76.7ms\n",
            "Speed: 0.5ms pre-process, 76.7ms inference, 1.9ms postprocess per image at shape (1, 3, 640, 640)\n"
          ]
        },
        {
          "output_type": "stream",
          "name": "stdout",
          "text": [
            "/content/drive/MyDrive/CsiLab-BrainTumor-Detection-3/train/images/54_jpg.rf.6f0603e7aeab45f4e86c562807dda1d5.jpg\n"
          ]
        },
        {
          "output_type": "stream",
          "name": "stderr",
          "text": [
            "Ultralytics YOLOv8.0.28 🚀 Python-3.10.12 torch-2.1.0+cu121 CUDA:0 (Tesla T4, 15102MiB)\n",
            "Model summary (fused): 168 layers, 11125971 parameters, 0 gradients, 28.4 GFLOPs\n",
            "\n",
            "image 1/1 /content/drive/MyDrive/CsiLab-BrainTumor-Detection-3/train/images/54_jpg.rf.6f0603e7aeab45f4e86c562807dda1d5.jpg: 640x640 1 Tumor, 23.0ms\n",
            "Speed: 0.5ms pre-process, 23.0ms inference, 2.3ms postprocess per image at shape (1, 3, 640, 640)\n"
          ]
        },
        {
          "output_type": "stream",
          "name": "stdout",
          "text": [
            "[    0.57143     0.26116    0.089286     0.09375]\n"
          ]
        },
        {
          "output_type": "stream",
          "name": "stderr",
          "text": [
            "Ultralytics YOLOv8.0.28 🚀 Python-3.10.12 torch-2.1.0+cu121 CUDA:0 (Tesla T4, 15102MiB)\n",
            "Model summary (fused): 218 layers, 25840339 parameters, 0 gradients, 78.7 GFLOPs\n",
            "\n",
            "image 1/1 /content/drive/MyDrive/CsiLab-BrainTumor-Detection-3/train/images/54_jpg.rf.6f0603e7aeab45f4e86c562807dda1d5.jpg: 640x640 1 Tumor, 37.3ms\n",
            "Speed: 0.5ms pre-process, 37.3ms inference, 2.2ms postprocess per image at shape (1, 3, 640, 640)\n",
            "Ultralytics YOLOv8.0.28 🚀 Python-3.10.12 torch-2.1.0+cu121 CUDA:0 (Tesla T4, 15102MiB)\n",
            "Model summary (fused): 168 layers, 3005843 parameters, 0 gradients, 8.1 GFLOPs\n",
            "\n",
            "image 1/1 /content/drive/MyDrive/CsiLab-BrainTumor-Detection-3/train/images/54_jpg.rf.6f0603e7aeab45f4e86c562807dda1d5.jpg: 640x640 1 Tumor, 17.0ms\n",
            "Speed: 0.5ms pre-process, 17.0ms inference, 1.5ms postprocess per image at shape (1, 3, 640, 640)\n",
            "Ultralytics YOLOv8.0.28 🚀 Python-3.10.12 torch-2.1.0+cu121 CUDA:0 (Tesla T4, 15102MiB)\n",
            "Model summary (fused): 268 layers, 43607379 parameters, 0 gradients, 164.8 GFLOPs\n",
            "\n",
            "image 1/1 /content/drive/MyDrive/CsiLab-BrainTumor-Detection-3/train/images/54_jpg.rf.6f0603e7aeab45f4e86c562807dda1d5.jpg: 640x640 1 Tumor, 63.0ms\n",
            "Speed: 0.6ms pre-process, 63.0ms inference, 1.6ms postprocess per image at shape (1, 3, 640, 640)\n",
            "Ultralytics YOLOv8.0.28 🚀 Python-3.10.12 torch-2.1.0+cu121 CUDA:0 (Tesla T4, 15102MiB)\n",
            "Model summary (fused): 268 layers, 68124531 parameters, 0 gradients, 257.4 GFLOPs\n",
            "\n",
            "image 1/1 /content/drive/MyDrive/CsiLab-BrainTumor-Detection-3/train/images/54_jpg.rf.6f0603e7aeab45f4e86c562807dda1d5.jpg: 640x640 1 Tumor, 84.3ms\n",
            "Speed: 0.6ms pre-process, 84.3ms inference, 1.5ms postprocess per image at shape (1, 3, 640, 640)\n",
            "Ultralytics YOLOv8.0.28 🚀 Python-3.10.12 torch-2.1.0+cu121 CUDA:0 (Tesla T4, 15102MiB)\n"
          ]
        },
        {
          "output_type": "stream",
          "name": "stdout",
          "text": [
            "/content/drive/MyDrive/CsiLab-BrainTumor-Detection-3/train/images/76_jpg.rf.5b2c7226871174d34ba29d6459be0d62.jpg\n"
          ]
        },
        {
          "output_type": "stream",
          "name": "stderr",
          "text": [
            "Model summary (fused): 168 layers, 11125971 parameters, 0 gradients, 28.4 GFLOPs\n",
            "\n",
            "image 1/1 /content/drive/MyDrive/CsiLab-BrainTumor-Detection-3/train/images/76_jpg.rf.5b2c7226871174d34ba29d6459be0d62.jpg: 640x640 2 Tumors, 16.3ms\n",
            "Speed: 0.5ms pre-process, 16.3ms inference, 1.4ms postprocess per image at shape (1, 3, 640, 640)\n",
            "Ultralytics YOLOv8.0.28 🚀 Python-3.10.12 torch-2.1.0+cu121 CUDA:0 (Tesla T4, 15102MiB)\n"
          ]
        },
        {
          "output_type": "stream",
          "name": "stdout",
          "text": [
            "[    0.48214     0.35045     0.41964     0.31696]\n"
          ]
        },
        {
          "output_type": "stream",
          "name": "stderr",
          "text": [
            "Model summary (fused): 218 layers, 25840339 parameters, 0 gradients, 78.7 GFLOPs\n",
            "\n",
            "image 1/1 /content/drive/MyDrive/CsiLab-BrainTumor-Detection-3/train/images/76_jpg.rf.5b2c7226871174d34ba29d6459be0d62.jpg: 640x640 1 Tumor, 19.8ms\n",
            "Speed: 0.5ms pre-process, 19.8ms inference, 1.4ms postprocess per image at shape (1, 3, 640, 640)\n",
            "Ultralytics YOLOv8.0.28 🚀 Python-3.10.12 torch-2.1.0+cu121 CUDA:0 (Tesla T4, 15102MiB)\n",
            "Model summary (fused): 168 layers, 3005843 parameters, 0 gradients, 8.1 GFLOPs\n",
            "\n",
            "image 1/1 /content/drive/MyDrive/CsiLab-BrainTumor-Detection-3/train/images/76_jpg.rf.5b2c7226871174d34ba29d6459be0d62.jpg: 640x640 1 Tumor, 17.2ms\n",
            "Speed: 0.5ms pre-process, 17.2ms inference, 1.5ms postprocess per image at shape (1, 3, 640, 640)\n",
            "Ultralytics YOLOv8.0.28 🚀 Python-3.10.12 torch-2.1.0+cu121 CUDA:0 (Tesla T4, 15102MiB)\n",
            "Model summary (fused): 268 layers, 43607379 parameters, 0 gradients, 164.8 GFLOPs\n",
            "\n",
            "image 1/1 /content/drive/MyDrive/CsiLab-BrainTumor-Detection-3/train/images/76_jpg.rf.5b2c7226871174d34ba29d6459be0d62.jpg: 640x640 1 Tumor, 58.3ms\n",
            "Speed: 0.5ms pre-process, 58.3ms inference, 1.7ms postprocess per image at shape (1, 3, 640, 640)\n",
            "Ultralytics YOLOv8.0.28 🚀 Python-3.10.12 torch-2.1.0+cu121 CUDA:0 (Tesla T4, 15102MiB)\n",
            "Model summary (fused): 268 layers, 68124531 parameters, 0 gradients, 257.4 GFLOPs\n",
            "\n",
            "image 1/1 /content/drive/MyDrive/CsiLab-BrainTumor-Detection-3/train/images/76_jpg.rf.5b2c7226871174d34ba29d6459be0d62.jpg: 640x640 1 Tumor, 65.7ms\n",
            "Speed: 0.5ms pre-process, 65.7ms inference, 1.4ms postprocess per image at shape (1, 3, 640, 640)\n",
            "Ultralytics YOLOv8.0.28 🚀 Python-3.10.12 torch-2.1.0+cu121 CUDA:0 (Tesla T4, 15102MiB)\n"
          ]
        },
        {
          "output_type": "stream",
          "name": "stdout",
          "text": [
            "/content/drive/MyDrive/CsiLab-BrainTumor-Detection-3/train/images/Te-me_0107_jpg.rf.1a245930d18e91aa003d966f0bd83d55.jpg\n"
          ]
        },
        {
          "output_type": "stream",
          "name": "stderr",
          "text": [
            "Model summary (fused): 168 layers, 11125971 parameters, 0 gradients, 28.4 GFLOPs\n",
            "\n",
            "image 1/1 /content/drive/MyDrive/CsiLab-BrainTumor-Detection-3/train/images/Te-me_0107_jpg.rf.1a245930d18e91aa003d966f0bd83d55.jpg: 640x608 1 Tumor, 17.2ms\n",
            "Speed: 0.6ms pre-process, 17.2ms inference, 1.5ms postprocess per image at shape (1, 3, 640, 640)\n",
            "Ultralytics YOLOv8.0.28 🚀 Python-3.10.12 torch-2.1.0+cu121 CUDA:0 (Tesla T4, 15102MiB)\n"
          ]
        },
        {
          "output_type": "stream",
          "name": "stdout",
          "text": [
            "[     0.7243     0.74681      0.3271     0.26809]\n"
          ]
        },
        {
          "output_type": "stream",
          "name": "stderr",
          "text": [
            "Model summary (fused): 218 layers, 25840339 parameters, 0 gradients, 78.7 GFLOPs\n",
            "\n",
            "image 1/1 /content/drive/MyDrive/CsiLab-BrainTumor-Detection-3/train/images/Te-me_0107_jpg.rf.1a245930d18e91aa003d966f0bd83d55.jpg: 640x608 1 Tumor, 21.4ms\n",
            "Speed: 0.5ms pre-process, 21.4ms inference, 1.4ms postprocess per image at shape (1, 3, 640, 640)\n",
            "Ultralytics YOLOv8.0.28 🚀 Python-3.10.12 torch-2.1.0+cu121 CUDA:0 (Tesla T4, 15102MiB)\n",
            "Model summary (fused): 168 layers, 3005843 parameters, 0 gradients, 8.1 GFLOPs\n",
            "\n",
            "image 1/1 /content/drive/MyDrive/CsiLab-BrainTumor-Detection-3/train/images/Te-me_0107_jpg.rf.1a245930d18e91aa003d966f0bd83d55.jpg: 640x608 1 Tumor, 24.5ms\n",
            "Speed: 0.5ms pre-process, 24.5ms inference, 2.2ms postprocess per image at shape (1, 3, 640, 640)\n",
            "Ultralytics YOLOv8.0.28 🚀 Python-3.10.12 torch-2.1.0+cu121 CUDA:0 (Tesla T4, 15102MiB)\n",
            "Model summary (fused): 268 layers, 43607379 parameters, 0 gradients, 164.8 GFLOPs\n",
            "\n",
            "image 1/1 /content/drive/MyDrive/CsiLab-BrainTumor-Detection-3/train/images/Te-me_0107_jpg.rf.1a245930d18e91aa003d966f0bd83d55.jpg: 640x608 1 Tumor, 53.4ms\n",
            "Speed: 0.5ms pre-process, 53.4ms inference, 2.1ms postprocess per image at shape (1, 3, 640, 640)\n",
            "Ultralytics YOLOv8.0.28 🚀 Python-3.10.12 torch-2.1.0+cu121 CUDA:0 (Tesla T4, 15102MiB)\n",
            "Model summary (fused): 268 layers, 68124531 parameters, 0 gradients, 257.4 GFLOPs\n",
            "\n",
            "image 1/1 /content/drive/MyDrive/CsiLab-BrainTumor-Detection-3/train/images/Te-me_0107_jpg.rf.1a245930d18e91aa003d966f0bd83d55.jpg: 640x608 1 Tumor, 63.2ms\n",
            "Speed: 0.5ms pre-process, 63.2ms inference, 1.5ms postprocess per image at shape (1, 3, 640, 640)\n",
            "Ultralytics YOLOv8.0.28 🚀 Python-3.10.12 torch-2.1.0+cu121 CUDA:0 (Tesla T4, 15102MiB)\n"
          ]
        },
        {
          "output_type": "stream",
          "name": "stdout",
          "text": [
            "/content/drive/MyDrive/CsiLab-BrainTumor-Detection-3/train/images/Te-me_0112_jpg.rf.49cbad22536f9dfb1dd88f14db623028.jpg\n"
          ]
        },
        {
          "output_type": "stream",
          "name": "stderr",
          "text": [
            "Model summary (fused): 168 layers, 11125971 parameters, 0 gradients, 28.4 GFLOPs\n",
            "\n",
            "image 1/1 /content/drive/MyDrive/CsiLab-BrainTumor-Detection-3/train/images/Te-me_0112_jpg.rf.49cbad22536f9dfb1dd88f14db623028.jpg: 640x608 1 Tumor, 20.1ms\n",
            "Speed: 0.5ms pre-process, 20.1ms inference, 1.7ms postprocess per image at shape (1, 3, 640, 640)\n"
          ]
        },
        {
          "output_type": "stream",
          "name": "stdout",
          "text": [
            "[    0.59155     0.45551     0.20657     0.34322]\n"
          ]
        },
        {
          "output_type": "stream",
          "name": "stderr",
          "text": [
            "Ultralytics YOLOv8.0.28 🚀 Python-3.10.12 torch-2.1.0+cu121 CUDA:0 (Tesla T4, 15102MiB)\n",
            "Model summary (fused): 218 layers, 25840339 parameters, 0 gradients, 78.7 GFLOPs\n",
            "\n",
            "image 1/1 /content/drive/MyDrive/CsiLab-BrainTumor-Detection-3/train/images/Te-me_0112_jpg.rf.49cbad22536f9dfb1dd88f14db623028.jpg: 640x608 1 Tumor, 48.6ms\n",
            "Speed: 0.5ms pre-process, 48.6ms inference, 1.7ms postprocess per image at shape (1, 3, 640, 640)\n",
            "Ultralytics YOLOv8.0.28 🚀 Python-3.10.12 torch-2.1.0+cu121 CUDA:0 (Tesla T4, 15102MiB)\n",
            "Model summary (fused): 168 layers, 3005843 parameters, 0 gradients, 8.1 GFLOPs\n",
            "\n",
            "image 1/1 /content/drive/MyDrive/CsiLab-BrainTumor-Detection-3/train/images/Te-me_0112_jpg.rf.49cbad22536f9dfb1dd88f14db623028.jpg: 640x608 1 Tumor, 17.8ms\n",
            "Speed: 0.5ms pre-process, 17.8ms inference, 1.7ms postprocess per image at shape (1, 3, 640, 640)\n",
            "Ultralytics YOLOv8.0.28 🚀 Python-3.10.12 torch-2.1.0+cu121 CUDA:0 (Tesla T4, 15102MiB)\n",
            "Model summary (fused): 268 layers, 43607379 parameters, 0 gradients, 164.8 GFLOPs\n",
            "\n",
            "image 1/1 /content/drive/MyDrive/CsiLab-BrainTumor-Detection-3/train/images/Te-me_0112_jpg.rf.49cbad22536f9dfb1dd88f14db623028.jpg: 640x608 1 Tumor, 63.4ms\n",
            "Speed: 0.5ms pre-process, 63.4ms inference, 3.9ms postprocess per image at shape (1, 3, 640, 640)\n",
            "Ultralytics YOLOv8.0.28 🚀 Python-3.10.12 torch-2.1.0+cu121 CUDA:0 (Tesla T4, 15102MiB)\n",
            "Model summary (fused): 268 layers, 68124531 parameters, 0 gradients, 257.4 GFLOPs\n",
            "\n",
            "image 1/1 /content/drive/MyDrive/CsiLab-BrainTumor-Detection-3/train/images/Te-me_0112_jpg.rf.49cbad22536f9dfb1dd88f14db623028.jpg: 640x608 1 Tumor, 95.0ms\n",
            "Speed: 0.5ms pre-process, 95.0ms inference, 1.5ms postprocess per image at shape (1, 3, 640, 640)\n",
            "Ultralytics YOLOv8.0.28 🚀 Python-3.10.12 torch-2.1.0+cu121 CUDA:0 (Tesla T4, 15102MiB)\n"
          ]
        },
        {
          "output_type": "stream",
          "name": "stdout",
          "text": [
            "/content/drive/MyDrive/CsiLab-BrainTumor-Detection-3/train/images/Te-me_0135_jpg.rf.7a0f8ade76d461a7089c61172f9f4ebb.jpg\n"
          ]
        },
        {
          "output_type": "stream",
          "name": "stderr",
          "text": [
            "Model summary (fused): 168 layers, 11125971 parameters, 0 gradients, 28.4 GFLOPs\n",
            "\n",
            "image 1/1 /content/drive/MyDrive/CsiLab-BrainTumor-Detection-3/train/images/Te-me_0135_jpg.rf.7a0f8ade76d461a7089c61172f9f4ebb.jpg: 640x640 1 Tumor, 15.7ms\n",
            "Speed: 0.5ms pre-process, 15.7ms inference, 1.4ms postprocess per image at shape (1, 3, 640, 640)\n",
            "Ultralytics YOLOv8.0.28 🚀 Python-3.10.12 torch-2.1.0+cu121 CUDA:0 (Tesla T4, 15102MiB)\n"
          ]
        },
        {
          "output_type": "stream",
          "name": "stdout",
          "text": [
            "[     0.4668     0.65527     0.15234     0.16992]\n"
          ]
        },
        {
          "output_type": "stream",
          "name": "stderr",
          "text": [
            "Model summary (fused): 218 layers, 25840339 parameters, 0 gradients, 78.7 GFLOPs\n",
            "\n",
            "image 1/1 /content/drive/MyDrive/CsiLab-BrainTumor-Detection-3/train/images/Te-me_0135_jpg.rf.7a0f8ade76d461a7089c61172f9f4ebb.jpg: 640x640 1 Tumor, 22.9ms\n",
            "Speed: 0.5ms pre-process, 22.9ms inference, 1.4ms postprocess per image at shape (1, 3, 640, 640)\n",
            "Ultralytics YOLOv8.0.28 🚀 Python-3.10.12 torch-2.1.0+cu121 CUDA:0 (Tesla T4, 15102MiB)\n",
            "Model summary (fused): 168 layers, 3005843 parameters, 0 gradients, 8.1 GFLOPs\n",
            "\n",
            "image 1/1 /content/drive/MyDrive/CsiLab-BrainTumor-Detection-3/train/images/Te-me_0135_jpg.rf.7a0f8ade76d461a7089c61172f9f4ebb.jpg: 640x640 1 Tumor, 15.7ms\n",
            "Speed: 0.5ms pre-process, 15.7ms inference, 1.4ms postprocess per image at shape (1, 3, 640, 640)\n",
            "Ultralytics YOLOv8.0.28 🚀 Python-3.10.12 torch-2.1.0+cu121 CUDA:0 (Tesla T4, 15102MiB)\n",
            "Model summary (fused): 268 layers, 43607379 parameters, 0 gradients, 164.8 GFLOPs\n",
            "\n",
            "image 1/1 /content/drive/MyDrive/CsiLab-BrainTumor-Detection-3/train/images/Te-me_0135_jpg.rf.7a0f8ade76d461a7089c61172f9f4ebb.jpg: 640x640 1 Tumor, 63.0ms\n",
            "Speed: 0.5ms pre-process, 63.0ms inference, 1.5ms postprocess per image at shape (1, 3, 640, 640)\n",
            "Ultralytics YOLOv8.0.28 🚀 Python-3.10.12 torch-2.1.0+cu121 CUDA:0 (Tesla T4, 15102MiB)\n",
            "Model summary (fused): 268 layers, 68124531 parameters, 0 gradients, 257.4 GFLOPs\n",
            "\n",
            "image 1/1 /content/drive/MyDrive/CsiLab-BrainTumor-Detection-3/train/images/Te-me_0135_jpg.rf.7a0f8ade76d461a7089c61172f9f4ebb.jpg: 640x640 1 Tumor, 66.0ms\n",
            "Speed: 0.5ms pre-process, 66.0ms inference, 1.7ms postprocess per image at shape (1, 3, 640, 640)\n",
            "Ultralytics YOLOv8.0.28 🚀 Python-3.10.12 torch-2.1.0+cu121 CUDA:0 (Tesla T4, 15102MiB)\n"
          ]
        },
        {
          "output_type": "stream",
          "name": "stdout",
          "text": [
            "/content/drive/MyDrive/CsiLab-BrainTumor-Detection-3/train/images/Te-me_0134_jpg.rf.d625d4ac064c1072700a526d097eb104.jpg\n"
          ]
        },
        {
          "output_type": "stream",
          "name": "stderr",
          "text": [
            "Model summary (fused): 168 layers, 11125971 parameters, 0 gradients, 28.4 GFLOPs\n",
            "\n",
            "image 1/1 /content/drive/MyDrive/CsiLab-BrainTumor-Detection-3/train/images/Te-me_0134_jpg.rf.d625d4ac064c1072700a526d097eb104.jpg: 640x640 1 Tumor, 17.7ms\n",
            "Speed: 0.5ms pre-process, 17.7ms inference, 1.4ms postprocess per image at shape (1, 3, 640, 640)\n",
            "Ultralytics YOLOv8.0.28 🚀 Python-3.10.12 torch-2.1.0+cu121 CUDA:0 (Tesla T4, 15102MiB)\n"
          ]
        },
        {
          "output_type": "stream",
          "name": "stdout",
          "text": [
            "[    0.42773     0.66113    0.085938    0.091797]\n"
          ]
        },
        {
          "output_type": "stream",
          "name": "stderr",
          "text": [
            "Model summary (fused): 218 layers, 25840339 parameters, 0 gradients, 78.7 GFLOPs\n",
            "\n",
            "image 1/1 /content/drive/MyDrive/CsiLab-BrainTumor-Detection-3/train/images/Te-me_0134_jpg.rf.d625d4ac064c1072700a526d097eb104.jpg: 640x640 1 Tumor, 20.1ms\n",
            "Speed: 0.5ms pre-process, 20.1ms inference, 1.4ms postprocess per image at shape (1, 3, 640, 640)\n",
            "Ultralytics YOLOv8.0.28 🚀 Python-3.10.12 torch-2.1.0+cu121 CUDA:0 (Tesla T4, 15102MiB)\n",
            "Model summary (fused): 168 layers, 3005843 parameters, 0 gradients, 8.1 GFLOPs\n",
            "\n",
            "image 1/1 /content/drive/MyDrive/CsiLab-BrainTumor-Detection-3/train/images/Te-me_0134_jpg.rf.d625d4ac064c1072700a526d097eb104.jpg: 640x640 1 Tumor, 16.8ms\n",
            "Speed: 0.5ms pre-process, 16.8ms inference, 1.4ms postprocess per image at shape (1, 3, 640, 640)\n",
            "Ultralytics YOLOv8.0.28 🚀 Python-3.10.12 torch-2.1.0+cu121 CUDA:0 (Tesla T4, 15102MiB)\n",
            "Model summary (fused): 268 layers, 43607379 parameters, 0 gradients, 164.8 GFLOPs\n",
            "\n",
            "image 1/1 /content/drive/MyDrive/CsiLab-BrainTumor-Detection-3/train/images/Te-me_0134_jpg.rf.d625d4ac064c1072700a526d097eb104.jpg: 640x640 1 Tumor, 53.1ms\n",
            "Speed: 0.5ms pre-process, 53.1ms inference, 1.7ms postprocess per image at shape (1, 3, 640, 640)\n",
            "Ultralytics YOLOv8.0.28 🚀 Python-3.10.12 torch-2.1.0+cu121 CUDA:0 (Tesla T4, 15102MiB)\n",
            "Model summary (fused): 268 layers, 68124531 parameters, 0 gradients, 257.4 GFLOPs\n",
            "\n",
            "image 1/1 /content/drive/MyDrive/CsiLab-BrainTumor-Detection-3/train/images/Te-me_0134_jpg.rf.d625d4ac064c1072700a526d097eb104.jpg: 640x640 1 Tumor, 67.4ms\n",
            "Speed: 0.5ms pre-process, 67.4ms inference, 1.5ms postprocess per image at shape (1, 3, 640, 640)\n",
            "Ultralytics YOLOv8.0.28 🚀 Python-3.10.12 torch-2.1.0+cu121 CUDA:0 (Tesla T4, 15102MiB)\n"
          ]
        },
        {
          "output_type": "stream",
          "name": "stdout",
          "text": [
            "/content/drive/MyDrive/CsiLab-BrainTumor-Detection-3/train/images/Te-me_0170_jpg.rf.5e97d6c97ad928fc8323b1366fefc1a9.jpg\n"
          ]
        },
        {
          "output_type": "stream",
          "name": "stderr",
          "text": [
            "Model summary (fused): 168 layers, 11125971 parameters, 0 gradients, 28.4 GFLOPs\n",
            "\n",
            "image 1/1 /content/drive/MyDrive/CsiLab-BrainTumor-Detection-3/train/images/Te-me_0170_jpg.rf.5e97d6c97ad928fc8323b1366fefc1a9.jpg: 640x640 1 Tumor, 16.2ms\n",
            "Speed: 0.5ms pre-process, 16.2ms inference, 1.4ms postprocess per image at shape (1, 3, 640, 640)\n",
            "Ultralytics YOLOv8.0.28 🚀 Python-3.10.12 torch-2.1.0+cu121 CUDA:0 (Tesla T4, 15102MiB)\n"
          ]
        },
        {
          "output_type": "stream",
          "name": "stdout",
          "text": [
            "[     0.6123     0.37598     0.12695    0.080078]\n"
          ]
        },
        {
          "output_type": "stream",
          "name": "stderr",
          "text": [
            "Model summary (fused): 218 layers, 25840339 parameters, 0 gradients, 78.7 GFLOPs\n",
            "\n",
            "image 1/1 /content/drive/MyDrive/CsiLab-BrainTumor-Detection-3/train/images/Te-me_0170_jpg.rf.5e97d6c97ad928fc8323b1366fefc1a9.jpg: 640x640 1 Tumor, 26.0ms\n",
            "Speed: 0.5ms pre-process, 26.0ms inference, 1.4ms postprocess per image at shape (1, 3, 640, 640)\n",
            "Ultralytics YOLOv8.0.28 🚀 Python-3.10.12 torch-2.1.0+cu121 CUDA:0 (Tesla T4, 15102MiB)\n",
            "Model summary (fused): 168 layers, 3005843 parameters, 0 gradients, 8.1 GFLOPs\n",
            "\n",
            "image 1/1 /content/drive/MyDrive/CsiLab-BrainTumor-Detection-3/train/images/Te-me_0170_jpg.rf.5e97d6c97ad928fc8323b1366fefc1a9.jpg: 640x640 1 Tumor, 15.7ms\n",
            "Speed: 0.5ms pre-process, 15.7ms inference, 1.4ms postprocess per image at shape (1, 3, 640, 640)\n",
            "Ultralytics YOLOv8.0.28 🚀 Python-3.10.12 torch-2.1.0+cu121 CUDA:0 (Tesla T4, 15102MiB)\n",
            "Model summary (fused): 268 layers, 43607379 parameters, 0 gradients, 164.8 GFLOPs\n",
            "\n",
            "image 1/1 /content/drive/MyDrive/CsiLab-BrainTumor-Detection-3/train/images/Te-me_0170_jpg.rf.5e97d6c97ad928fc8323b1366fefc1a9.jpg: 640x640 1 Tumor, 61.7ms\n",
            "Speed: 0.6ms pre-process, 61.7ms inference, 2.0ms postprocess per image at shape (1, 3, 640, 640)\n",
            "Ultralytics YOLOv8.0.28 🚀 Python-3.10.12 torch-2.1.0+cu121 CUDA:0 (Tesla T4, 15102MiB)\n",
            "Model summary (fused): 268 layers, 68124531 parameters, 0 gradients, 257.4 GFLOPs\n",
            "\n",
            "image 1/1 /content/drive/MyDrive/CsiLab-BrainTumor-Detection-3/train/images/Te-me_0170_jpg.rf.5e97d6c97ad928fc8323b1366fefc1a9.jpg: 640x640 1 Tumor, 72.6ms\n",
            "Speed: 0.6ms pre-process, 72.6ms inference, 2.3ms postprocess per image at shape (1, 3, 640, 640)\n",
            "Ultralytics YOLOv8.0.28 🚀 Python-3.10.12 torch-2.1.0+cu121 CUDA:0 (Tesla T4, 15102MiB)\n"
          ]
        },
        {
          "output_type": "stream",
          "name": "stdout",
          "text": [
            "/content/drive/MyDrive/CsiLab-BrainTumor-Detection-3/train/images/Te-meTr_0009_jpg.rf.08b6e36e832e69f7e670a752777fe1d4.jpg\n"
          ]
        },
        {
          "output_type": "stream",
          "name": "stderr",
          "text": [
            "Model summary (fused): 168 layers, 11125971 parameters, 0 gradients, 28.4 GFLOPs\n",
            "\n",
            "image 1/1 /content/drive/MyDrive/CsiLab-BrainTumor-Detection-3/train/images/Te-meTr_0009_jpg.rf.08b6e36e832e69f7e670a752777fe1d4.jpg: 640x640 19.7ms\n",
            "Speed: 0.5ms pre-process, 19.7ms inference, 0.7ms postprocess per image at shape (1, 3, 640, 640)\n"
          ]
        },
        {
          "output_type": "stream",
          "name": "stdout",
          "text": [
            "[0, 0, 0, 0]\n"
          ]
        },
        {
          "output_type": "stream",
          "name": "stderr",
          "text": [
            "Ultralytics YOLOv8.0.28 🚀 Python-3.10.12 torch-2.1.0+cu121 CUDA:0 (Tesla T4, 15102MiB)\n",
            "Model summary (fused): 218 layers, 25840339 parameters, 0 gradients, 78.7 GFLOPs\n",
            "\n",
            "image 1/1 /content/drive/MyDrive/CsiLab-BrainTumor-Detection-3/train/images/Te-meTr_0009_jpg.rf.08b6e36e832e69f7e670a752777fe1d4.jpg: 640x640 1 Tumor, 30.3ms\n",
            "Speed: 0.5ms pre-process, 30.3ms inference, 2.0ms postprocess per image at shape (1, 3, 640, 640)\n",
            "Ultralytics YOLOv8.0.28 🚀 Python-3.10.12 torch-2.1.0+cu121 CUDA:0 (Tesla T4, 15102MiB)\n",
            "Model summary (fused): 168 layers, 3005843 parameters, 0 gradients, 8.1 GFLOPs\n",
            "\n",
            "image 1/1 /content/drive/MyDrive/CsiLab-BrainTumor-Detection-3/train/images/Te-meTr_0009_jpg.rf.08b6e36e832e69f7e670a752777fe1d4.jpg: 640x640 1 Tumor, 22.1ms\n",
            "Speed: 0.5ms pre-process, 22.1ms inference, 1.5ms postprocess per image at shape (1, 3, 640, 640)\n",
            "Ultralytics YOLOv8.0.28 🚀 Python-3.10.12 torch-2.1.0+cu121 CUDA:0 (Tesla T4, 15102MiB)\n",
            "Model summary (fused): 268 layers, 43607379 parameters, 0 gradients, 164.8 GFLOPs\n",
            "\n",
            "image 1/1 /content/drive/MyDrive/CsiLab-BrainTumor-Detection-3/train/images/Te-meTr_0009_jpg.rf.08b6e36e832e69f7e670a752777fe1d4.jpg: 640x640 1 Tumor, 62.9ms\n",
            "Speed: 0.5ms pre-process, 62.9ms inference, 1.6ms postprocess per image at shape (1, 3, 640, 640)\n",
            "Ultralytics YOLOv8.0.28 🚀 Python-3.10.12 torch-2.1.0+cu121 CUDA:0 (Tesla T4, 15102MiB)\n",
            "Model summary (fused): 268 layers, 68124531 parameters, 0 gradients, 257.4 GFLOPs\n",
            "\n",
            "image 1/1 /content/drive/MyDrive/CsiLab-BrainTumor-Detection-3/train/images/Te-meTr_0009_jpg.rf.08b6e36e832e69f7e670a752777fe1d4.jpg: 640x640 1 Tumor, 63.1ms\n",
            "Speed: 0.5ms pre-process, 63.1ms inference, 1.7ms postprocess per image at shape (1, 3, 640, 640)\n",
            "Ultralytics YOLOv8.0.28 🚀 Python-3.10.12 torch-2.1.0+cu121 CUDA:0 (Tesla T4, 15102MiB)\n"
          ]
        },
        {
          "output_type": "stream",
          "name": "stdout",
          "text": [
            "/content/drive/MyDrive/CsiLab-BrainTumor-Detection-3/train/images/Te-me_0203_jpg.rf.184e89ef524860111faf7113b1982d38.jpg\n"
          ]
        },
        {
          "output_type": "stream",
          "name": "stderr",
          "text": [
            "Model summary (fused): 168 layers, 11125971 parameters, 0 gradients, 28.4 GFLOPs\n",
            "\n",
            "image 1/1 /content/drive/MyDrive/CsiLab-BrainTumor-Detection-3/train/images/Te-me_0203_jpg.rf.184e89ef524860111faf7113b1982d38.jpg: 640x640 17.4ms\n",
            "Speed: 0.5ms pre-process, 17.4ms inference, 0.6ms postprocess per image at shape (1, 3, 640, 640)\n",
            "Ultralytics YOLOv8.0.28 🚀 Python-3.10.12 torch-2.1.0+cu121 CUDA:0 (Tesla T4, 15102MiB)\n"
          ]
        },
        {
          "output_type": "stream",
          "name": "stdout",
          "text": [
            "[0, 0, 0, 0]\n"
          ]
        },
        {
          "output_type": "stream",
          "name": "stderr",
          "text": [
            "Model summary (fused): 218 layers, 25840339 parameters, 0 gradients, 78.7 GFLOPs\n",
            "\n",
            "image 1/1 /content/drive/MyDrive/CsiLab-BrainTumor-Detection-3/train/images/Te-me_0203_jpg.rf.184e89ef524860111faf7113b1982d38.jpg: 640x640 20.9ms\n",
            "Speed: 0.5ms pre-process, 20.9ms inference, 0.6ms postprocess per image at shape (1, 3, 640, 640)\n",
            "Ultralytics YOLOv8.0.28 🚀 Python-3.10.12 torch-2.1.0+cu121 CUDA:0 (Tesla T4, 15102MiB)\n",
            "Model summary (fused): 168 layers, 3005843 parameters, 0 gradients, 8.1 GFLOPs\n",
            "\n",
            "image 1/1 /content/drive/MyDrive/CsiLab-BrainTumor-Detection-3/train/images/Te-me_0203_jpg.rf.184e89ef524860111faf7113b1982d38.jpg: 640x640 1 Tumor, 15.8ms\n",
            "Speed: 0.5ms pre-process, 15.8ms inference, 1.4ms postprocess per image at shape (1, 3, 640, 640)\n",
            "Ultralytics YOLOv8.0.28 🚀 Python-3.10.12 torch-2.1.0+cu121 CUDA:0 (Tesla T4, 15102MiB)\n",
            "Model summary (fused): 268 layers, 43607379 parameters, 0 gradients, 164.8 GFLOPs\n",
            "\n",
            "image 1/1 /content/drive/MyDrive/CsiLab-BrainTumor-Detection-3/train/images/Te-me_0203_jpg.rf.184e89ef524860111faf7113b1982d38.jpg: 640x640 61.5ms\n",
            "Speed: 0.5ms pre-process, 61.5ms inference, 0.6ms postprocess per image at shape (1, 3, 640, 640)\n",
            "Ultralytics YOLOv8.0.28 🚀 Python-3.10.12 torch-2.1.0+cu121 CUDA:0 (Tesla T4, 15102MiB)\n",
            "Model summary (fused): 268 layers, 68124531 parameters, 0 gradients, 257.4 GFLOPs\n",
            "\n",
            "image 1/1 /content/drive/MyDrive/CsiLab-BrainTumor-Detection-3/train/images/Te-me_0203_jpg.rf.184e89ef524860111faf7113b1982d38.jpg: 640x640 62.0ms\n",
            "Speed: 0.6ms pre-process, 62.0ms inference, 0.8ms postprocess per image at shape (1, 3, 640, 640)\n",
            "Ultralytics YOLOv8.0.28 🚀 Python-3.10.12 torch-2.1.0+cu121 CUDA:0 (Tesla T4, 15102MiB)\n"
          ]
        },
        {
          "output_type": "stream",
          "name": "stdout",
          "text": [
            "/content/drive/MyDrive/CsiLab-BrainTumor-Detection-3/train/images/28_jpg.rf.44012075bcd74220824a17f3c13aa982.jpg\n"
          ]
        },
        {
          "output_type": "stream",
          "name": "stderr",
          "text": [
            "Model summary (fused): 168 layers, 11125971 parameters, 0 gradients, 28.4 GFLOPs\n",
            "\n",
            "image 1/1 /content/drive/MyDrive/CsiLab-BrainTumor-Detection-3/train/images/28_jpg.rf.44012075bcd74220824a17f3c13aa982.jpg: 640x640 1 Tumor, 22.8ms\n",
            "Speed: 0.5ms pre-process, 22.8ms inference, 1.4ms postprocess per image at shape (1, 3, 640, 640)\n",
            "Ultralytics YOLOv8.0.28 🚀 Python-3.10.12 torch-2.1.0+cu121 CUDA:0 (Tesla T4, 15102MiB)\n"
          ]
        },
        {
          "output_type": "stream",
          "name": "stdout",
          "text": [
            "[    0.71205     0.65402     0.20982     0.22768]\n"
          ]
        },
        {
          "output_type": "stream",
          "name": "stderr",
          "text": [
            "Model summary (fused): 218 layers, 25840339 parameters, 0 gradients, 78.7 GFLOPs\n",
            "\n",
            "image 1/1 /content/drive/MyDrive/CsiLab-BrainTumor-Detection-3/train/images/28_jpg.rf.44012075bcd74220824a17f3c13aa982.jpg: 640x640 1 Tumor, 21.0ms\n",
            "Speed: 0.6ms pre-process, 21.0ms inference, 1.4ms postprocess per image at shape (1, 3, 640, 640)\n",
            "Ultralytics YOLOv8.0.28 🚀 Python-3.10.12 torch-2.1.0+cu121 CUDA:0 (Tesla T4, 15102MiB)\n",
            "Model summary (fused): 168 layers, 3005843 parameters, 0 gradients, 8.1 GFLOPs\n",
            "\n",
            "image 1/1 /content/drive/MyDrive/CsiLab-BrainTumor-Detection-3/train/images/28_jpg.rf.44012075bcd74220824a17f3c13aa982.jpg: 640x640 1 Tumor, 16.2ms\n",
            "Speed: 0.5ms pre-process, 16.2ms inference, 1.6ms postprocess per image at shape (1, 3, 640, 640)\n",
            "Ultralytics YOLOv8.0.28 🚀 Python-3.10.12 torch-2.1.0+cu121 CUDA:0 (Tesla T4, 15102MiB)\n",
            "Model summary (fused): 268 layers, 43607379 parameters, 0 gradients, 164.8 GFLOPs\n",
            "\n",
            "image 1/1 /content/drive/MyDrive/CsiLab-BrainTumor-Detection-3/train/images/28_jpg.rf.44012075bcd74220824a17f3c13aa982.jpg: 640x640 1 Tumor, 55.7ms\n",
            "Speed: 0.5ms pre-process, 55.7ms inference, 1.4ms postprocess per image at shape (1, 3, 640, 640)\n",
            "Ultralytics YOLOv8.0.28 🚀 Python-3.10.12 torch-2.1.0+cu121 CUDA:0 (Tesla T4, 15102MiB)\n",
            "Model summary (fused): 268 layers, 68124531 parameters, 0 gradients, 257.4 GFLOPs\n",
            "\n",
            "image 1/1 /content/drive/MyDrive/CsiLab-BrainTumor-Detection-3/train/images/28_jpg.rf.44012075bcd74220824a17f3c13aa982.jpg: 640x640 1 Tumor, 63.2ms\n",
            "Speed: 0.5ms pre-process, 63.2ms inference, 2.0ms postprocess per image at shape (1, 3, 640, 640)\n",
            "Ultralytics YOLOv8.0.28 🚀 Python-3.10.12 torch-2.1.0+cu121 CUDA:0 (Tesla T4, 15102MiB)\n"
          ]
        },
        {
          "output_type": "stream",
          "name": "stdout",
          "text": [
            "/content/drive/MyDrive/CsiLab-BrainTumor-Detection-3/train/images/Te-me_0200_jpg.rf.52d801a36ef4a30478d707ee875b4100.jpg\n"
          ]
        },
        {
          "output_type": "stream",
          "name": "stderr",
          "text": [
            "Model summary (fused): 168 layers, 11125971 parameters, 0 gradients, 28.4 GFLOPs\n",
            "\n",
            "image 1/1 /content/drive/MyDrive/CsiLab-BrainTumor-Detection-3/train/images/Te-me_0200_jpg.rf.52d801a36ef4a30478d707ee875b4100.jpg: 640x640 1 Tumor, 16.4ms\n",
            "Speed: 0.5ms pre-process, 16.4ms inference, 1.4ms postprocess per image at shape (1, 3, 640, 640)\n",
            "Ultralytics YOLOv8.0.28 🚀 Python-3.10.12 torch-2.1.0+cu121 CUDA:0 (Tesla T4, 15102MiB)\n"
          ]
        },
        {
          "output_type": "stream",
          "name": "stdout",
          "text": [
            "[     0.5293     0.31836     0.21875     0.23438]\n"
          ]
        },
        {
          "output_type": "stream",
          "name": "stderr",
          "text": [
            "Model summary (fused): 218 layers, 25840339 parameters, 0 gradients, 78.7 GFLOPs\n",
            "\n",
            "image 1/1 /content/drive/MyDrive/CsiLab-BrainTumor-Detection-3/train/images/Te-me_0200_jpg.rf.52d801a36ef4a30478d707ee875b4100.jpg: 640x640 1 Tumor, 28.3ms\n",
            "Speed: 0.6ms pre-process, 28.3ms inference, 2.1ms postprocess per image at shape (1, 3, 640, 640)\n",
            "Ultralytics YOLOv8.0.28 🚀 Python-3.10.12 torch-2.1.0+cu121 CUDA:0 (Tesla T4, 15102MiB)\n",
            "Model summary (fused): 168 layers, 3005843 parameters, 0 gradients, 8.1 GFLOPs\n",
            "\n",
            "image 1/1 /content/drive/MyDrive/CsiLab-BrainTumor-Detection-3/train/images/Te-me_0200_jpg.rf.52d801a36ef4a30478d707ee875b4100.jpg: 640x640 1 Tumor, 26.4ms\n",
            "Speed: 0.5ms pre-process, 26.4ms inference, 1.9ms postprocess per image at shape (1, 3, 640, 640)\n",
            "Ultralytics YOLOv8.0.28 🚀 Python-3.10.12 torch-2.1.0+cu121 CUDA:0 (Tesla T4, 15102MiB)\n",
            "Model summary (fused): 268 layers, 43607379 parameters, 0 gradients, 164.8 GFLOPs\n",
            "\n",
            "image 1/1 /content/drive/MyDrive/CsiLab-BrainTumor-Detection-3/train/images/Te-me_0200_jpg.rf.52d801a36ef4a30478d707ee875b4100.jpg: 640x640 1 Tumor, 62.9ms\n",
            "Speed: 0.5ms pre-process, 62.9ms inference, 1.8ms postprocess per image at shape (1, 3, 640, 640)\n",
            "Ultralytics YOLOv8.0.28 🚀 Python-3.10.12 torch-2.1.0+cu121 CUDA:0 (Tesla T4, 15102MiB)\n",
            "Model summary (fused): 268 layers, 68124531 parameters, 0 gradients, 257.4 GFLOPs\n",
            "\n",
            "image 1/1 /content/drive/MyDrive/CsiLab-BrainTumor-Detection-3/train/images/Te-me_0200_jpg.rf.52d801a36ef4a30478d707ee875b4100.jpg: 640x640 1 Tumor, 64.4ms\n",
            "Speed: 0.5ms pre-process, 64.4ms inference, 1.6ms postprocess per image at shape (1, 3, 640, 640)\n"
          ]
        },
        {
          "output_type": "stream",
          "name": "stdout",
          "text": [
            "/content/drive/MyDrive/CsiLab-BrainTumor-Detection-3/train/images/Te-me_0202_jpg.rf.514e7cc946bb91b7a38df5f8117ea0ff.jpg\n"
          ]
        },
        {
          "output_type": "stream",
          "name": "stderr",
          "text": [
            "Ultralytics YOLOv8.0.28 🚀 Python-3.10.12 torch-2.1.0+cu121 CUDA:0 (Tesla T4, 15102MiB)\n",
            "Model summary (fused): 168 layers, 11125971 parameters, 0 gradients, 28.4 GFLOPs\n",
            "\n",
            "image 1/1 /content/drive/MyDrive/CsiLab-BrainTumor-Detection-3/train/images/Te-me_0202_jpg.rf.514e7cc946bb91b7a38df5f8117ea0ff.jpg: 640x640 1 Tumor, 16.3ms\n",
            "Speed: 0.5ms pre-process, 16.3ms inference, 1.4ms postprocess per image at shape (1, 3, 640, 640)\n",
            "Ultralytics YOLOv8.0.28 🚀 Python-3.10.12 torch-2.1.0+cu121 CUDA:0 (Tesla T4, 15102MiB)\n"
          ]
        },
        {
          "output_type": "stream",
          "name": "stdout",
          "text": [
            "[    0.47266      0.4082    0.082031    0.085938]\n"
          ]
        },
        {
          "output_type": "stream",
          "name": "stderr",
          "text": [
            "Model summary (fused): 218 layers, 25840339 parameters, 0 gradients, 78.7 GFLOPs\n",
            "\n",
            "image 1/1 /content/drive/MyDrive/CsiLab-BrainTumor-Detection-3/train/images/Te-me_0202_jpg.rf.514e7cc946bb91b7a38df5f8117ea0ff.jpg: 640x640 1 Tumor, 20.8ms\n",
            "Speed: 0.5ms pre-process, 20.8ms inference, 1.5ms postprocess per image at shape (1, 3, 640, 640)\n",
            "Ultralytics YOLOv8.0.28 🚀 Python-3.10.12 torch-2.1.0+cu121 CUDA:0 (Tesla T4, 15102MiB)\n",
            "Model summary (fused): 168 layers, 3005843 parameters, 0 gradients, 8.1 GFLOPs\n",
            "\n",
            "image 1/1 /content/drive/MyDrive/CsiLab-BrainTumor-Detection-3/train/images/Te-me_0202_jpg.rf.514e7cc946bb91b7a38df5f8117ea0ff.jpg: 640x640 1 Tumor, 16.1ms\n",
            "Speed: 0.5ms pre-process, 16.1ms inference, 1.4ms postprocess per image at shape (1, 3, 640, 640)\n",
            "Ultralytics YOLOv8.0.28 🚀 Python-3.10.12 torch-2.1.0+cu121 CUDA:0 (Tesla T4, 15102MiB)\n",
            "Model summary (fused): 268 layers, 43607379 parameters, 0 gradients, 164.8 GFLOPs\n",
            "\n",
            "image 1/1 /content/drive/MyDrive/CsiLab-BrainTumor-Detection-3/train/images/Te-me_0202_jpg.rf.514e7cc946bb91b7a38df5f8117ea0ff.jpg: 640x640 1 Tumor, 56.8ms\n",
            "Speed: 0.5ms pre-process, 56.8ms inference, 1.4ms postprocess per image at shape (1, 3, 640, 640)\n",
            "Ultralytics YOLOv8.0.28 🚀 Python-3.10.12 torch-2.1.0+cu121 CUDA:0 (Tesla T4, 15102MiB)\n",
            "Model summary (fused): 268 layers, 68124531 parameters, 0 gradients, 257.4 GFLOPs\n",
            "\n",
            "image 1/1 /content/drive/MyDrive/CsiLab-BrainTumor-Detection-3/train/images/Te-me_0202_jpg.rf.514e7cc946bb91b7a38df5f8117ea0ff.jpg: 640x640 1 Tumor, 64.8ms\n",
            "Speed: 0.5ms pre-process, 64.8ms inference, 1.7ms postprocess per image at shape (1, 3, 640, 640)\n",
            "Ultralytics YOLOv8.0.28 🚀 Python-3.10.12 torch-2.1.0+cu121 CUDA:0 (Tesla T4, 15102MiB)\n"
          ]
        },
        {
          "output_type": "stream",
          "name": "stdout",
          "text": [
            "/content/drive/MyDrive/CsiLab-BrainTumor-Detection-3/train/images/Te-me_0022_jpg.rf.f10d3096b027dedc0d90c0b44c2d9f4d.jpg\n"
          ]
        },
        {
          "output_type": "stream",
          "name": "stderr",
          "text": [
            "Model summary (fused): 168 layers, 11125971 parameters, 0 gradients, 28.4 GFLOPs\n",
            "\n",
            "image 1/1 /content/drive/MyDrive/CsiLab-BrainTumor-Detection-3/train/images/Te-me_0022_jpg.rf.f10d3096b027dedc0d90c0b44c2d9f4d.jpg: 640x640 15.9ms\n",
            "Speed: 0.5ms pre-process, 15.9ms inference, 0.5ms postprocess per image at shape (1, 3, 640, 640)\n",
            "Ultralytics YOLOv8.0.28 🚀 Python-3.10.12 torch-2.1.0+cu121 CUDA:0 (Tesla T4, 15102MiB)\n"
          ]
        },
        {
          "output_type": "stream",
          "name": "stdout",
          "text": [
            "[0, 0, 0, 0]\n"
          ]
        },
        {
          "output_type": "stream",
          "name": "stderr",
          "text": [
            "Model summary (fused): 218 layers, 25840339 parameters, 0 gradients, 78.7 GFLOPs\n",
            "\n",
            "image 1/1 /content/drive/MyDrive/CsiLab-BrainTumor-Detection-3/train/images/Te-me_0022_jpg.rf.f10d3096b027dedc0d90c0b44c2d9f4d.jpg: 640x640 1 Tumor, 20.9ms\n",
            "Speed: 0.5ms pre-process, 20.9ms inference, 1.4ms postprocess per image at shape (1, 3, 640, 640)\n",
            "Ultralytics YOLOv8.0.28 🚀 Python-3.10.12 torch-2.1.0+cu121 CUDA:0 (Tesla T4, 15102MiB)\n",
            "Model summary (fused): 168 layers, 3005843 parameters, 0 gradients, 8.1 GFLOPs\n",
            "\n",
            "image 1/1 /content/drive/MyDrive/CsiLab-BrainTumor-Detection-3/train/images/Te-me_0022_jpg.rf.f10d3096b027dedc0d90c0b44c2d9f4d.jpg: 640x640 1 Tumor, 18.8ms\n",
            "Speed: 0.5ms pre-process, 18.8ms inference, 1.4ms postprocess per image at shape (1, 3, 640, 640)\n",
            "Ultralytics YOLOv8.0.28 🚀 Python-3.10.12 torch-2.1.0+cu121 CUDA:0 (Tesla T4, 15102MiB)\n",
            "Model summary (fused): 268 layers, 43607379 parameters, 0 gradients, 164.8 GFLOPs\n",
            "\n",
            "image 1/1 /content/drive/MyDrive/CsiLab-BrainTumor-Detection-3/train/images/Te-me_0022_jpg.rf.f10d3096b027dedc0d90c0b44c2d9f4d.jpg: 640x640 1 Tumor, 55.7ms\n",
            "Speed: 0.5ms pre-process, 55.7ms inference, 1.5ms postprocess per image at shape (1, 3, 640, 640)\n",
            "Ultralytics YOLOv8.0.28 🚀 Python-3.10.12 torch-2.1.0+cu121 CUDA:0 (Tesla T4, 15102MiB)\n",
            "Model summary (fused): 268 layers, 68124531 parameters, 0 gradients, 257.4 GFLOPs\n",
            "\n",
            "image 1/1 /content/drive/MyDrive/CsiLab-BrainTumor-Detection-3/train/images/Te-me_0022_jpg.rf.f10d3096b027dedc0d90c0b44c2d9f4d.jpg: 640x640 1 Tumor, 67.9ms\n",
            "Speed: 0.6ms pre-process, 67.9ms inference, 1.8ms postprocess per image at shape (1, 3, 640, 640)\n",
            "Ultralytics YOLOv8.0.28 🚀 Python-3.10.12 torch-2.1.0+cu121 CUDA:0 (Tesla T4, 15102MiB)\n"
          ]
        },
        {
          "output_type": "stream",
          "name": "stdout",
          "text": [
            "/content/drive/MyDrive/CsiLab-BrainTumor-Detection-3/train/images/Te-me_0099_jpg.rf.2a0983dc7d64451b2d8ec523048584a0.jpg\n"
          ]
        },
        {
          "output_type": "stream",
          "name": "stderr",
          "text": [
            "Model summary (fused): 168 layers, 11125971 parameters, 0 gradients, 28.4 GFLOPs\n",
            "\n",
            "image 1/1 /content/drive/MyDrive/CsiLab-BrainTumor-Detection-3/train/images/Te-me_0099_jpg.rf.2a0983dc7d64451b2d8ec523048584a0.jpg: 640x576 1 Tumor, 16.9ms\n",
            "Speed: 0.5ms pre-process, 16.9ms inference, 1.4ms postprocess per image at shape (1, 3, 640, 640)\n",
            "Ultralytics YOLOv8.0.28 🚀 Python-3.10.12 torch-2.1.0+cu121 CUDA:0 (Tesla T4, 15102MiB)\n"
          ]
        },
        {
          "output_type": "stream",
          "name": "stdout",
          "text": [
            "[    0.29426     0.42739     0.29187     0.30705]\n"
          ]
        },
        {
          "output_type": "stream",
          "name": "stderr",
          "text": [
            "Model summary (fused): 218 layers, 25840339 parameters, 0 gradients, 78.7 GFLOPs\n",
            "\n",
            "image 1/1 /content/drive/MyDrive/CsiLab-BrainTumor-Detection-3/train/images/Te-me_0099_jpg.rf.2a0983dc7d64451b2d8ec523048584a0.jpg: 640x576 1 Tumor, 28.5ms\n",
            "Speed: 0.5ms pre-process, 28.5ms inference, 2.2ms postprocess per image at shape (1, 3, 640, 640)\n",
            "Ultralytics YOLOv8.0.28 🚀 Python-3.10.12 torch-2.1.0+cu121 CUDA:0 (Tesla T4, 15102MiB)\n",
            "Model summary (fused): 168 layers, 3005843 parameters, 0 gradients, 8.1 GFLOPs\n",
            "\n",
            "image 1/1 /content/drive/MyDrive/CsiLab-BrainTumor-Detection-3/train/images/Te-me_0099_jpg.rf.2a0983dc7d64451b2d8ec523048584a0.jpg: 640x576 1 Tumor, 17.3ms\n",
            "Speed: 0.5ms pre-process, 17.3ms inference, 1.4ms postprocess per image at shape (1, 3, 640, 640)\n",
            "Ultralytics YOLOv8.0.28 🚀 Python-3.10.12 torch-2.1.0+cu121 CUDA:0 (Tesla T4, 15102MiB)\n",
            "Model summary (fused): 268 layers, 43607379 parameters, 0 gradients, 164.8 GFLOPs\n",
            "\n",
            "image 1/1 /content/drive/MyDrive/CsiLab-BrainTumor-Detection-3/train/images/Te-me_0099_jpg.rf.2a0983dc7d64451b2d8ec523048584a0.jpg: 640x576 1 Tumor, 54.8ms\n",
            "Speed: 0.6ms pre-process, 54.8ms inference, 1.5ms postprocess per image at shape (1, 3, 640, 640)\n",
            "Ultralytics YOLOv8.0.28 🚀 Python-3.10.12 torch-2.1.0+cu121 CUDA:0 (Tesla T4, 15102MiB)\n",
            "Model summary (fused): 268 layers, 68124531 parameters, 0 gradients, 257.4 GFLOPs\n",
            "\n",
            "image 1/1 /content/drive/MyDrive/CsiLab-BrainTumor-Detection-3/train/images/Te-me_0099_jpg.rf.2a0983dc7d64451b2d8ec523048584a0.jpg: 640x576 1 Tumor, 73.5ms\n",
            "Speed: 0.5ms pre-process, 73.5ms inference, 2.3ms postprocess per image at shape (1, 3, 640, 640)\n",
            "Ultralytics YOLOv8.0.28 🚀 Python-3.10.12 torch-2.1.0+cu121 CUDA:0 (Tesla T4, 15102MiB)\n"
          ]
        },
        {
          "output_type": "stream",
          "name": "stdout",
          "text": [
            "/content/drive/MyDrive/CsiLab-BrainTumor-Detection-3/train/images/29_jpg.rf.63e413f2188a8141f271c3ec9ff55d43.jpg\n"
          ]
        },
        {
          "output_type": "stream",
          "name": "stderr",
          "text": [
            "Model summary (fused): 168 layers, 11125971 parameters, 0 gradients, 28.4 GFLOPs\n",
            "\n",
            "image 1/1 /content/drive/MyDrive/CsiLab-BrainTumor-Detection-3/train/images/29_jpg.rf.63e413f2188a8141f271c3ec9ff55d43.jpg: 640x640 1 Tumor, 19.1ms\n",
            "Speed: 0.5ms pre-process, 19.1ms inference, 1.7ms postprocess per image at shape (1, 3, 640, 640)\n",
            "Ultralytics YOLOv8.0.28 🚀 Python-3.10.12 torch-2.1.0+cu121 CUDA:0 (Tesla T4, 15102MiB)\n"
          ]
        },
        {
          "output_type": "stream",
          "name": "stdout",
          "text": [
            "[    0.20089     0.45759     0.26786     0.20982]\n"
          ]
        },
        {
          "output_type": "stream",
          "name": "stderr",
          "text": [
            "Model summary (fused): 218 layers, 25840339 parameters, 0 gradients, 78.7 GFLOPs\n",
            "\n",
            "image 1/1 /content/drive/MyDrive/CsiLab-BrainTumor-Detection-3/train/images/29_jpg.rf.63e413f2188a8141f271c3ec9ff55d43.jpg: 640x640 1 Tumor, 29.0ms\n",
            "Speed: 0.6ms pre-process, 29.0ms inference, 1.8ms postprocess per image at shape (1, 3, 640, 640)\n",
            "Ultralytics YOLOv8.0.28 🚀 Python-3.10.12 torch-2.1.0+cu121 CUDA:0 (Tesla T4, 15102MiB)\n",
            "Model summary (fused): 168 layers, 3005843 parameters, 0 gradients, 8.1 GFLOPs\n",
            "\n",
            "image 1/1 /content/drive/MyDrive/CsiLab-BrainTumor-Detection-3/train/images/29_jpg.rf.63e413f2188a8141f271c3ec9ff55d43.jpg: 640x640 1 Tumor, 26.4ms\n",
            "Speed: 0.6ms pre-process, 26.4ms inference, 2.9ms postprocess per image at shape (1, 3, 640, 640)\n",
            "Ultralytics YOLOv8.0.28 🚀 Python-3.10.12 torch-2.1.0+cu121 CUDA:0 (Tesla T4, 15102MiB)\n",
            "Model summary (fused): 268 layers, 43607379 parameters, 0 gradients, 164.8 GFLOPs\n",
            "\n",
            "image 1/1 /content/drive/MyDrive/CsiLab-BrainTumor-Detection-3/train/images/29_jpg.rf.63e413f2188a8141f271c3ec9ff55d43.jpg: 640x640 1 Tumor, 55.2ms\n",
            "Speed: 0.5ms pre-process, 55.2ms inference, 1.4ms postprocess per image at shape (1, 3, 640, 640)\n",
            "Ultralytics YOLOv8.0.28 🚀 Python-3.10.12 torch-2.1.0+cu121 CUDA:0 (Tesla T4, 15102MiB)\n",
            "Model summary (fused): 268 layers, 68124531 parameters, 0 gradients, 257.4 GFLOPs\n",
            "\n",
            "image 1/1 /content/drive/MyDrive/CsiLab-BrainTumor-Detection-3/train/images/29_jpg.rf.63e413f2188a8141f271c3ec9ff55d43.jpg: 640x640 1 Tumor, 66.1ms\n",
            "Speed: 0.6ms pre-process, 66.1ms inference, 1.6ms postprocess per image at shape (1, 3, 640, 640)\n",
            "Ultralytics YOLOv8.0.28 🚀 Python-3.10.12 torch-2.1.0+cu121 CUDA:0 (Tesla T4, 15102MiB)\n"
          ]
        },
        {
          "output_type": "stream",
          "name": "stdout",
          "text": [
            "/content/drive/MyDrive/CsiLab-BrainTumor-Detection-3/train/images/Te-me_0116_jpg.rf.3021e4073ef85cf42c27f9e539541abf.jpg\n"
          ]
        },
        {
          "output_type": "stream",
          "name": "stderr",
          "text": [
            "Model summary (fused): 168 layers, 11125971 parameters, 0 gradients, 28.4 GFLOPs\n",
            "\n",
            "image 1/1 /content/drive/MyDrive/CsiLab-BrainTumor-Detection-3/train/images/Te-me_0116_jpg.rf.3021e4073ef85cf42c27f9e539541abf.jpg: 640x640 1 Tumor, 16.3ms\n",
            "Speed: 0.5ms pre-process, 16.3ms inference, 1.4ms postprocess per image at shape (1, 3, 640, 640)\n",
            "Ultralytics YOLOv8.0.28 🚀 Python-3.10.12 torch-2.1.0+cu121 CUDA:0 (Tesla T4, 15102MiB)\n"
          ]
        },
        {
          "output_type": "stream",
          "name": "stdout",
          "text": [
            "[    0.41504     0.35449     0.14258     0.11133]\n"
          ]
        },
        {
          "output_type": "stream",
          "name": "stderr",
          "text": [
            "Model summary (fused): 218 layers, 25840339 parameters, 0 gradients, 78.7 GFLOPs\n",
            "\n",
            "image 1/1 /content/drive/MyDrive/CsiLab-BrainTumor-Detection-3/train/images/Te-me_0116_jpg.rf.3021e4073ef85cf42c27f9e539541abf.jpg: 640x640 1 Tumor, 25.0ms\n",
            "Speed: 0.5ms pre-process, 25.0ms inference, 1.4ms postprocess per image at shape (1, 3, 640, 640)\n",
            "Ultralytics YOLOv8.0.28 🚀 Python-3.10.12 torch-2.1.0+cu121 CUDA:0 (Tesla T4, 15102MiB)\n",
            "Model summary (fused): 168 layers, 3005843 parameters, 0 gradients, 8.1 GFLOPs\n",
            "\n",
            "image 1/1 /content/drive/MyDrive/CsiLab-BrainTumor-Detection-3/train/images/Te-me_0116_jpg.rf.3021e4073ef85cf42c27f9e539541abf.jpg: 640x640 1 Tumor, 16.5ms\n",
            "Speed: 0.5ms pre-process, 16.5ms inference, 1.4ms postprocess per image at shape (1, 3, 640, 640)\n",
            "Ultralytics YOLOv8.0.28 🚀 Python-3.10.12 torch-2.1.0+cu121 CUDA:0 (Tesla T4, 15102MiB)\n",
            "Model summary (fused): 268 layers, 43607379 parameters, 0 gradients, 164.8 GFLOPs\n",
            "\n",
            "image 1/1 /content/drive/MyDrive/CsiLab-BrainTumor-Detection-3/train/images/Te-me_0116_jpg.rf.3021e4073ef85cf42c27f9e539541abf.jpg: 640x640 1 Tumor, 62.9ms\n",
            "Speed: 0.5ms pre-process, 62.9ms inference, 1.5ms postprocess per image at shape (1, 3, 640, 640)\n",
            "Ultralytics YOLOv8.0.28 🚀 Python-3.10.12 torch-2.1.0+cu121 CUDA:0 (Tesla T4, 15102MiB)\n",
            "Model summary (fused): 268 layers, 68124531 parameters, 0 gradients, 257.4 GFLOPs\n",
            "\n",
            "image 1/1 /content/drive/MyDrive/CsiLab-BrainTumor-Detection-3/train/images/Te-me_0116_jpg.rf.3021e4073ef85cf42c27f9e539541abf.jpg: 640x640 1 Tumor, 86.5ms\n",
            "Speed: 0.6ms pre-process, 86.5ms inference, 1.9ms postprocess per image at shape (1, 3, 640, 640)\n",
            "Ultralytics YOLOv8.0.28 🚀 Python-3.10.12 torch-2.1.0+cu121 CUDA:0 (Tesla T4, 15102MiB)\n"
          ]
        },
        {
          "output_type": "stream",
          "name": "stdout",
          "text": [
            "/content/drive/MyDrive/CsiLab-BrainTumor-Detection-3/train/images/Te-me_0196_jpg.rf.f7cbcb4990722a37feff7e2ee401a46a.jpg\n"
          ]
        },
        {
          "output_type": "stream",
          "name": "stderr",
          "text": [
            "Model summary (fused): 168 layers, 11125971 parameters, 0 gradients, 28.4 GFLOPs\n",
            "\n",
            "image 1/1 /content/drive/MyDrive/CsiLab-BrainTumor-Detection-3/train/images/Te-me_0196_jpg.rf.f7cbcb4990722a37feff7e2ee401a46a.jpg: 640x640 1 Tumor, 17.3ms\n",
            "Speed: 0.5ms pre-process, 17.3ms inference, 1.5ms postprocess per image at shape (1, 3, 640, 640)\n",
            "Ultralytics YOLOv8.0.28 🚀 Python-3.10.12 torch-2.1.0+cu121 CUDA:0 (Tesla T4, 15102MiB)\n"
          ]
        },
        {
          "output_type": "stream",
          "name": "stdout",
          "text": [
            "[    0.46094     0.23242    0.082031    0.074219]\n"
          ]
        },
        {
          "output_type": "stream",
          "name": "stderr",
          "text": [
            "Model summary (fused): 218 layers, 25840339 parameters, 0 gradients, 78.7 GFLOPs\n",
            "\n",
            "image 1/1 /content/drive/MyDrive/CsiLab-BrainTumor-Detection-3/train/images/Te-me_0196_jpg.rf.f7cbcb4990722a37feff7e2ee401a46a.jpg: 640x640 1 Tumor, 19.9ms\n",
            "Speed: 0.5ms pre-process, 19.9ms inference, 1.4ms postprocess per image at shape (1, 3, 640, 640)\n",
            "Ultralytics YOLOv8.0.28 🚀 Python-3.10.12 torch-2.1.0+cu121 CUDA:0 (Tesla T4, 15102MiB)\n",
            "Model summary (fused): 168 layers, 3005843 parameters, 0 gradients, 8.1 GFLOPs\n",
            "\n",
            "image 1/1 /content/drive/MyDrive/CsiLab-BrainTumor-Detection-3/train/images/Te-me_0196_jpg.rf.f7cbcb4990722a37feff7e2ee401a46a.jpg: 640x640 1 Tumor, 15.8ms\n",
            "Speed: 0.5ms pre-process, 15.8ms inference, 1.4ms postprocess per image at shape (1, 3, 640, 640)\n",
            "Ultralytics YOLOv8.0.28 🚀 Python-3.10.12 torch-2.1.0+cu121 CUDA:0 (Tesla T4, 15102MiB)\n",
            "Model summary (fused): 268 layers, 43607379 parameters, 0 gradients, 164.8 GFLOPs\n",
            "\n",
            "image 1/1 /content/drive/MyDrive/CsiLab-BrainTumor-Detection-3/train/images/Te-me_0196_jpg.rf.f7cbcb4990722a37feff7e2ee401a46a.jpg: 640x640 1 Tumor, 54.7ms\n",
            "Speed: 0.5ms pre-process, 54.7ms inference, 1.5ms postprocess per image at shape (1, 3, 640, 640)\n",
            "Ultralytics YOLOv8.0.28 🚀 Python-3.10.12 torch-2.1.0+cu121 CUDA:0 (Tesla T4, 15102MiB)\n",
            "Model summary (fused): 268 layers, 68124531 parameters, 0 gradients, 257.4 GFLOPs\n",
            "\n",
            "image 1/1 /content/drive/MyDrive/CsiLab-BrainTumor-Detection-3/train/images/Te-me_0196_jpg.rf.f7cbcb4990722a37feff7e2ee401a46a.jpg: 640x640 1 Tumor, 68.2ms\n",
            "Speed: 0.5ms pre-process, 68.2ms inference, 1.5ms postprocess per image at shape (1, 3, 640, 640)\n",
            "Ultralytics YOLOv8.0.28 🚀 Python-3.10.12 torch-2.1.0+cu121 CUDA:0 (Tesla T4, 15102MiB)\n"
          ]
        },
        {
          "output_type": "stream",
          "name": "stdout",
          "text": [
            "/content/drive/MyDrive/CsiLab-BrainTumor-Detection-3/train/images/Te-me_0106_jpg.rf.115ee8aa17cd19c61702e6ceecd802f5.jpg\n"
          ]
        },
        {
          "output_type": "stream",
          "name": "stderr",
          "text": [
            "Model summary (fused): 168 layers, 11125971 parameters, 0 gradients, 28.4 GFLOPs\n",
            "\n",
            "image 1/1 /content/drive/MyDrive/CsiLab-BrainTumor-Detection-3/train/images/Te-me_0106_jpg.rf.115ee8aa17cd19c61702e6ceecd802f5.jpg: 640x544 1 Tumor, 16.2ms\n",
            "Speed: 0.5ms pre-process, 16.2ms inference, 1.4ms postprocess per image at shape (1, 3, 640, 640)\n",
            "Ultralytics YOLOv8.0.28 🚀 Python-3.10.12 torch-2.1.0+cu121 CUDA:0 (Tesla T4, 15102MiB)\n"
          ]
        },
        {
          "output_type": "stream",
          "name": "stdout",
          "text": [
            "[    0.74378     0.50996     0.11443     0.13546]\n"
          ]
        },
        {
          "output_type": "stream",
          "name": "stderr",
          "text": [
            "Model summary (fused): 218 layers, 25840339 parameters, 0 gradients, 78.7 GFLOPs\n",
            "\n",
            "image 1/1 /content/drive/MyDrive/CsiLab-BrainTumor-Detection-3/train/images/Te-me_0106_jpg.rf.115ee8aa17cd19c61702e6ceecd802f5.jpg: 640x544 1 Tumor, 24.9ms\n",
            "Speed: 0.5ms pre-process, 24.9ms inference, 1.7ms postprocess per image at shape (1, 3, 640, 640)\n",
            "Ultralytics YOLOv8.0.28 🚀 Python-3.10.12 torch-2.1.0+cu121 CUDA:0 (Tesla T4, 15102MiB)\n",
            "Model summary (fused): 168 layers, 3005843 parameters, 0 gradients, 8.1 GFLOPs\n",
            "\n",
            "image 1/1 /content/drive/MyDrive/CsiLab-BrainTumor-Detection-3/train/images/Te-me_0106_jpg.rf.115ee8aa17cd19c61702e6ceecd802f5.jpg: 640x544 1 Tumor, 26.1ms\n",
            "Speed: 0.7ms pre-process, 26.1ms inference, 1.8ms postprocess per image at shape (1, 3, 640, 640)\n",
            "Ultralytics YOLOv8.0.28 🚀 Python-3.10.12 torch-2.1.0+cu121 CUDA:0 (Tesla T4, 15102MiB)\n",
            "Model summary (fused): 268 layers, 43607379 parameters, 0 gradients, 164.8 GFLOPs\n",
            "\n",
            "image 1/1 /content/drive/MyDrive/CsiLab-BrainTumor-Detection-3/train/images/Te-me_0106_jpg.rf.115ee8aa17cd19c61702e6ceecd802f5.jpg: 640x544 1 Tumor, 61.5ms\n",
            "Speed: 0.6ms pre-process, 61.5ms inference, 2.0ms postprocess per image at shape (1, 3, 640, 640)\n",
            "Ultralytics YOLOv8.0.28 🚀 Python-3.10.12 torch-2.1.0+cu121 CUDA:0 (Tesla T4, 15102MiB)\n",
            "Model summary (fused): 268 layers, 68124531 parameters, 0 gradients, 257.4 GFLOPs\n",
            "\n",
            "image 1/1 /content/drive/MyDrive/CsiLab-BrainTumor-Detection-3/train/images/Te-me_0106_jpg.rf.115ee8aa17cd19c61702e6ceecd802f5.jpg: 640x544 1 Tumor, 78.8ms\n",
            "Speed: 3.0ms pre-process, 78.8ms inference, 1.4ms postprocess per image at shape (1, 3, 640, 640)\n",
            "Ultralytics YOLOv8.0.28 🚀 Python-3.10.12 torch-2.1.0+cu121 CUDA:0 (Tesla T4, 15102MiB)\n"
          ]
        },
        {
          "output_type": "stream",
          "name": "stdout",
          "text": [
            "/content/drive/MyDrive/CsiLab-BrainTumor-Detection-3/train/images/Te-me_0085_jpg.rf.caf54bab1189045e5c8629332b200e52.jpg\n"
          ]
        },
        {
          "output_type": "stream",
          "name": "stderr",
          "text": [
            "Model summary (fused): 168 layers, 11125971 parameters, 0 gradients, 28.4 GFLOPs\n",
            "\n",
            "image 1/1 /content/drive/MyDrive/CsiLab-BrainTumor-Detection-3/train/images/Te-me_0085_jpg.rf.caf54bab1189045e5c8629332b200e52.jpg: 576x640 1 Tumor, 17.1ms\n",
            "Speed: 0.6ms pre-process, 17.1ms inference, 1.4ms postprocess per image at shape (1, 3, 640, 640)\n",
            "Ultralytics YOLOv8.0.28 🚀 Python-3.10.12 torch-2.1.0+cu121 CUDA:0 (Tesla T4, 15102MiB)\n"
          ]
        },
        {
          "output_type": "stream",
          "name": "stdout",
          "text": [
            "[    0.39706     0.73821     0.31513     0.28774]\n"
          ]
        },
        {
          "output_type": "stream",
          "name": "stderr",
          "text": [
            "Model summary (fused): 218 layers, 25840339 parameters, 0 gradients, 78.7 GFLOPs\n",
            "\n",
            "image 1/1 /content/drive/MyDrive/CsiLab-BrainTumor-Detection-3/train/images/Te-me_0085_jpg.rf.caf54bab1189045e5c8629332b200e52.jpg: 576x640 1 Tumor, 20.8ms\n",
            "Speed: 0.5ms pre-process, 20.8ms inference, 1.4ms postprocess per image at shape (1, 3, 640, 640)\n",
            "Ultralytics YOLOv8.0.28 🚀 Python-3.10.12 torch-2.1.0+cu121 CUDA:0 (Tesla T4, 15102MiB)\n",
            "Model summary (fused): 168 layers, 3005843 parameters, 0 gradients, 8.1 GFLOPs\n",
            "\n",
            "image 1/1 /content/drive/MyDrive/CsiLab-BrainTumor-Detection-3/train/images/Te-me_0085_jpg.rf.caf54bab1189045e5c8629332b200e52.jpg: 576x640 1 Tumor, 16.5ms\n",
            "Speed: 0.5ms pre-process, 16.5ms inference, 1.4ms postprocess per image at shape (1, 3, 640, 640)\n",
            "Ultralytics YOLOv8.0.28 🚀 Python-3.10.12 torch-2.1.0+cu121 CUDA:0 (Tesla T4, 15102MiB)\n",
            "Model summary (fused): 268 layers, 43607379 parameters, 0 gradients, 164.8 GFLOPs\n",
            "\n",
            "image 1/1 /content/drive/MyDrive/CsiLab-BrainTumor-Detection-3/train/images/Te-me_0085_jpg.rf.caf54bab1189045e5c8629332b200e52.jpg: 576x640 1 Tumor, 61.3ms\n",
            "Speed: 0.5ms pre-process, 61.3ms inference, 1.4ms postprocess per image at shape (1, 3, 640, 640)\n",
            "Ultralytics YOLOv8.0.28 🚀 Python-3.10.12 torch-2.1.0+cu121 CUDA:0 (Tesla T4, 15102MiB)\n",
            "Model summary (fused): 268 layers, 68124531 parameters, 0 gradients, 257.4 GFLOPs\n",
            "\n",
            "image 1/1 /content/drive/MyDrive/CsiLab-BrainTumor-Detection-3/train/images/Te-me_0085_jpg.rf.caf54bab1189045e5c8629332b200e52.jpg: 576x640 1 Tumor, 79.0ms\n",
            "Speed: 0.5ms pre-process, 79.0ms inference, 1.4ms postprocess per image at shape (1, 3, 640, 640)\n",
            "Ultralytics YOLOv8.0.28 🚀 Python-3.10.12 torch-2.1.0+cu121 CUDA:0 (Tesla T4, 15102MiB)\n"
          ]
        },
        {
          "output_type": "stream",
          "name": "stdout",
          "text": [
            "/content/drive/MyDrive/CsiLab-BrainTumor-Detection-3/train/images/20_jpg.rf.ae3a8d838bf81015bc4753c4d302308f.jpg\n"
          ]
        },
        {
          "output_type": "stream",
          "name": "stderr",
          "text": [
            "Model summary (fused): 168 layers, 11125971 parameters, 0 gradients, 28.4 GFLOPs\n",
            "\n",
            "image 1/1 /content/drive/MyDrive/CsiLab-BrainTumor-Detection-3/train/images/20_jpg.rf.ae3a8d838bf81015bc4753c4d302308f.jpg: 640x640 1 Tumor, 16.2ms\n",
            "Speed: 0.5ms pre-process, 16.2ms inference, 1.4ms postprocess per image at shape (1, 3, 640, 640)\n",
            "Ultralytics YOLOv8.0.28 🚀 Python-3.10.12 torch-2.1.0+cu121 CUDA:0 (Tesla T4, 15102MiB)\n"
          ]
        },
        {
          "output_type": "stream",
          "name": "stdout",
          "text": [
            "[    0.34598     0.75223     0.18304     0.19196]\n"
          ]
        },
        {
          "output_type": "stream",
          "name": "stderr",
          "text": [
            "Model summary (fused): 218 layers, 25840339 parameters, 0 gradients, 78.7 GFLOPs\n",
            "\n",
            "image 1/1 /content/drive/MyDrive/CsiLab-BrainTumor-Detection-3/train/images/20_jpg.rf.ae3a8d838bf81015bc4753c4d302308f.jpg: 640x640 1 Tumor, 21.2ms\n",
            "Speed: 0.5ms pre-process, 21.2ms inference, 1.9ms postprocess per image at shape (1, 3, 640, 640)\n",
            "Ultralytics YOLOv8.0.28 🚀 Python-3.10.12 torch-2.1.0+cu121 CUDA:0 (Tesla T4, 15102MiB)\n",
            "Model summary (fused): 168 layers, 3005843 parameters, 0 gradients, 8.1 GFLOPs\n",
            "\n",
            "image 1/1 /content/drive/MyDrive/CsiLab-BrainTumor-Detection-3/train/images/20_jpg.rf.ae3a8d838bf81015bc4753c4d302308f.jpg: 640x640 1 Tumor, 17.6ms\n",
            "Speed: 0.5ms pre-process, 17.6ms inference, 1.4ms postprocess per image at shape (1, 3, 640, 640)\n",
            "Ultralytics YOLOv8.0.28 🚀 Python-3.10.12 torch-2.1.0+cu121 CUDA:0 (Tesla T4, 15102MiB)\n",
            "Model summary (fused): 268 layers, 43607379 parameters, 0 gradients, 164.8 GFLOPs\n",
            "\n",
            "image 1/1 /content/drive/MyDrive/CsiLab-BrainTumor-Detection-3/train/images/20_jpg.rf.ae3a8d838bf81015bc4753c4d302308f.jpg: 640x640 1 Tumor, 62.9ms\n",
            "Speed: 0.6ms pre-process, 62.9ms inference, 1.7ms postprocess per image at shape (1, 3, 640, 640)\n",
            "Ultralytics YOLOv8.0.28 🚀 Python-3.10.12 torch-2.1.0+cu121 CUDA:0 (Tesla T4, 15102MiB)\n",
            "Model summary (fused): 268 layers, 68124531 parameters, 0 gradients, 257.4 GFLOPs\n",
            "\n",
            "image 1/1 /content/drive/MyDrive/CsiLab-BrainTumor-Detection-3/train/images/20_jpg.rf.ae3a8d838bf81015bc4753c4d302308f.jpg: 640x640 1 Tumor, 87.4ms\n",
            "Speed: 0.6ms pre-process, 87.4ms inference, 1.5ms postprocess per image at shape (1, 3, 640, 640)\n",
            "Ultralytics YOLOv8.0.28 🚀 Python-3.10.12 torch-2.1.0+cu121 CUDA:0 (Tesla T4, 15102MiB)\n"
          ]
        },
        {
          "output_type": "stream",
          "name": "stdout",
          "text": [
            "/content/drive/MyDrive/CsiLab-BrainTumor-Detection-3/train/images/18_jpg.rf.4002b0735aeb81fb34feb232a9cacf53.jpg\n"
          ]
        },
        {
          "output_type": "stream",
          "name": "stderr",
          "text": [
            "Model summary (fused): 168 layers, 11125971 parameters, 0 gradients, 28.4 GFLOPs\n",
            "\n",
            "image 1/1 /content/drive/MyDrive/CsiLab-BrainTumor-Detection-3/train/images/18_jpg.rf.4002b0735aeb81fb34feb232a9cacf53.jpg: 640x640 1 Tumor, 16.4ms\n",
            "Speed: 0.5ms pre-process, 16.4ms inference, 1.4ms postprocess per image at shape (1, 3, 640, 640)\n",
            "Ultralytics YOLOv8.0.28 🚀 Python-3.10.12 torch-2.1.0+cu121 CUDA:0 (Tesla T4, 15102MiB)\n"
          ]
        },
        {
          "output_type": "stream",
          "name": "stdout",
          "text": [
            "[    0.66964     0.69866     0.30357     0.37054]\n"
          ]
        },
        {
          "output_type": "stream",
          "name": "stderr",
          "text": [
            "Model summary (fused): 218 layers, 25840339 parameters, 0 gradients, 78.7 GFLOPs\n",
            "\n",
            "image 1/1 /content/drive/MyDrive/CsiLab-BrainTumor-Detection-3/train/images/18_jpg.rf.4002b0735aeb81fb34feb232a9cacf53.jpg: 640x640 1 Tumor, 23.1ms\n",
            "Speed: 0.5ms pre-process, 23.1ms inference, 1.4ms postprocess per image at shape (1, 3, 640, 640)\n",
            "Ultralytics YOLOv8.0.28 🚀 Python-3.10.12 torch-2.1.0+cu121 CUDA:0 (Tesla T4, 15102MiB)\n",
            "Model summary (fused): 168 layers, 3005843 parameters, 0 gradients, 8.1 GFLOPs\n",
            "\n",
            "image 1/1 /content/drive/MyDrive/CsiLab-BrainTumor-Detection-3/train/images/18_jpg.rf.4002b0735aeb81fb34feb232a9cacf53.jpg: 640x640 1 Tumor, 15.9ms\n",
            "Speed: 0.5ms pre-process, 15.9ms inference, 1.4ms postprocess per image at shape (1, 3, 640, 640)\n",
            "Ultralytics YOLOv8.0.28 🚀 Python-3.10.12 torch-2.1.0+cu121 CUDA:0 (Tesla T4, 15102MiB)\n",
            "Model summary (fused): 268 layers, 43607379 parameters, 0 gradients, 164.8 GFLOPs\n",
            "\n",
            "image 1/1 /content/drive/MyDrive/CsiLab-BrainTumor-Detection-3/train/images/18_jpg.rf.4002b0735aeb81fb34feb232a9cacf53.jpg: 640x640 1 Tumor, 55.7ms\n",
            "Speed: 0.7ms pre-process, 55.7ms inference, 1.9ms postprocess per image at shape (1, 3, 640, 640)\n",
            "Ultralytics YOLOv8.0.28 🚀 Python-3.10.12 torch-2.1.0+cu121 CUDA:0 (Tesla T4, 15102MiB)\n",
            "Model summary (fused): 268 layers, 68124531 parameters, 0 gradients, 257.4 GFLOPs\n",
            "\n",
            "image 1/1 /content/drive/MyDrive/CsiLab-BrainTumor-Detection-3/train/images/18_jpg.rf.4002b0735aeb81fb34feb232a9cacf53.jpg: 640x640 1 Tumor, 63.2ms\n",
            "Speed: 0.6ms pre-process, 63.2ms inference, 8.8ms postprocess per image at shape (1, 3, 640, 640)\n",
            "Ultralytics YOLOv8.0.28 🚀 Python-3.10.12 torch-2.1.0+cu121 CUDA:0 (Tesla T4, 15102MiB)\n"
          ]
        },
        {
          "output_type": "stream",
          "name": "stdout",
          "text": [
            "/content/drive/MyDrive/CsiLab-BrainTumor-Detection-3/train/images/53_jpg.rf.7eb12ba45662c08dd79cdb608d4970e7.jpg\n"
          ]
        },
        {
          "output_type": "stream",
          "name": "stderr",
          "text": [
            "Model summary (fused): 168 layers, 11125971 parameters, 0 gradients, 28.4 GFLOPs\n",
            "\n",
            "image 1/1 /content/drive/MyDrive/CsiLab-BrainTumor-Detection-3/train/images/53_jpg.rf.7eb12ba45662c08dd79cdb608d4970e7.jpg: 640x640 2 Tumors, 19.4ms\n",
            "Speed: 0.5ms pre-process, 19.4ms inference, 1.8ms postprocess per image at shape (1, 3, 640, 640)\n",
            "Ultralytics YOLOv8.0.28 🚀 Python-3.10.12 torch-2.1.0+cu121 CUDA:0 (Tesla T4, 15102MiB)\n"
          ]
        },
        {
          "output_type": "stream",
          "name": "stdout",
          "text": [
            "[    0.42188     0.50223     0.11161     0.12946]\n"
          ]
        },
        {
          "output_type": "stream",
          "name": "stderr",
          "text": [
            "Model summary (fused): 218 layers, 25840339 parameters, 0 gradients, 78.7 GFLOPs\n",
            "\n",
            "image 1/1 /content/drive/MyDrive/CsiLab-BrainTumor-Detection-3/train/images/53_jpg.rf.7eb12ba45662c08dd79cdb608d4970e7.jpg: 640x640 1 Tumor, 24.6ms\n",
            "Speed: 0.5ms pre-process, 24.6ms inference, 1.8ms postprocess per image at shape (1, 3, 640, 640)\n",
            "Ultralytics YOLOv8.0.28 🚀 Python-3.10.12 torch-2.1.0+cu121 CUDA:0 (Tesla T4, 15102MiB)\n",
            "Model summary (fused): 168 layers, 3005843 parameters, 0 gradients, 8.1 GFLOPs\n",
            "\n",
            "image 1/1 /content/drive/MyDrive/CsiLab-BrainTumor-Detection-3/train/images/53_jpg.rf.7eb12ba45662c08dd79cdb608d4970e7.jpg: 640x640 1 Tumor, 21.5ms\n",
            "Speed: 0.6ms pre-process, 21.5ms inference, 1.5ms postprocess per image at shape (1, 3, 640, 640)\n",
            "Ultralytics YOLOv8.0.28 🚀 Python-3.10.12 torch-2.1.0+cu121 CUDA:0 (Tesla T4, 15102MiB)\n",
            "Model summary (fused): 268 layers, 43607379 parameters, 0 gradients, 164.8 GFLOPs\n",
            "\n",
            "image 1/1 /content/drive/MyDrive/CsiLab-BrainTumor-Detection-3/train/images/53_jpg.rf.7eb12ba45662c08dd79cdb608d4970e7.jpg: 640x640 1 Tumor, 60.2ms\n",
            "Speed: 0.5ms pre-process, 60.2ms inference, 1.4ms postprocess per image at shape (1, 3, 640, 640)\n",
            "Ultralytics YOLOv8.0.28 🚀 Python-3.10.12 torch-2.1.0+cu121 CUDA:0 (Tesla T4, 15102MiB)\n",
            "Model summary (fused): 268 layers, 68124531 parameters, 0 gradients, 257.4 GFLOPs\n",
            "\n",
            "image 1/1 /content/drive/MyDrive/CsiLab-BrainTumor-Detection-3/train/images/53_jpg.rf.7eb12ba45662c08dd79cdb608d4970e7.jpg: 640x640 1 Tumor, 97.0ms\n",
            "Speed: 0.5ms pre-process, 97.0ms inference, 1.5ms postprocess per image at shape (1, 3, 640, 640)\n",
            "Ultralytics YOLOv8.0.28 🚀 Python-3.10.12 torch-2.1.0+cu121 CUDA:0 (Tesla T4, 15102MiB)\n"
          ]
        },
        {
          "output_type": "stream",
          "name": "stdout",
          "text": [
            "/content/drive/MyDrive/CsiLab-BrainTumor-Detection-3/train/images/39_jpg.rf.4bb2ff3ab6c00759658c74b36ebbf73a.jpg\n"
          ]
        },
        {
          "output_type": "stream",
          "name": "stderr",
          "text": [
            "Model summary (fused): 168 layers, 11125971 parameters, 0 gradients, 28.4 GFLOPs\n",
            "\n",
            "image 1/1 /content/drive/MyDrive/CsiLab-BrainTumor-Detection-3/train/images/39_jpg.rf.4bb2ff3ab6c00759658c74b36ebbf73a.jpg: 640x640 1 Tumor, 16.2ms\n",
            "Speed: 0.5ms pre-process, 16.2ms inference, 1.4ms postprocess per image at shape (1, 3, 640, 640)\n",
            "Ultralytics YOLOv8.0.28 🚀 Python-3.10.12 torch-2.1.0+cu121 CUDA:0 (Tesla T4, 15102MiB)\n"
          ]
        },
        {
          "output_type": "stream",
          "name": "stdout",
          "text": [
            "[    0.66071     0.23214     0.20536     0.24107]\n"
          ]
        },
        {
          "output_type": "stream",
          "name": "stderr",
          "text": [
            "Model summary (fused): 218 layers, 25840339 parameters, 0 gradients, 78.7 GFLOPs\n",
            "\n",
            "image 1/1 /content/drive/MyDrive/CsiLab-BrainTumor-Detection-3/train/images/39_jpg.rf.4bb2ff3ab6c00759658c74b36ebbf73a.jpg: 640x640 1 Tumor, 21.9ms\n",
            "Speed: 0.5ms pre-process, 21.9ms inference, 1.4ms postprocess per image at shape (1, 3, 640, 640)\n",
            "Ultralytics YOLOv8.0.28 🚀 Python-3.10.12 torch-2.1.0+cu121 CUDA:0 (Tesla T4, 15102MiB)\n",
            "Model summary (fused): 168 layers, 3005843 parameters, 0 gradients, 8.1 GFLOPs\n",
            "\n",
            "image 1/1 /content/drive/MyDrive/CsiLab-BrainTumor-Detection-3/train/images/39_jpg.rf.4bb2ff3ab6c00759658c74b36ebbf73a.jpg: 640x640 1 Tumor, 15.6ms\n",
            "Speed: 0.5ms pre-process, 15.6ms inference, 1.4ms postprocess per image at shape (1, 3, 640, 640)\n",
            "Ultralytics YOLOv8.0.28 🚀 Python-3.10.12 torch-2.1.0+cu121 CUDA:0 (Tesla T4, 15102MiB)\n",
            "Model summary (fused): 268 layers, 43607379 parameters, 0 gradients, 164.8 GFLOPs\n",
            "\n",
            "image 1/1 /content/drive/MyDrive/CsiLab-BrainTumor-Detection-3/train/images/39_jpg.rf.4bb2ff3ab6c00759658c74b36ebbf73a.jpg: 640x640 1 Tumor, 63.0ms\n",
            "Speed: 0.5ms pre-process, 63.0ms inference, 1.5ms postprocess per image at shape (1, 3, 640, 640)\n",
            "Ultralytics YOLOv8.0.28 🚀 Python-3.10.12 torch-2.1.0+cu121 CUDA:0 (Tesla T4, 15102MiB)\n",
            "Model summary (fused): 268 layers, 68124531 parameters, 0 gradients, 257.4 GFLOPs\n",
            "\n",
            "image 1/1 /content/drive/MyDrive/CsiLab-BrainTumor-Detection-3/train/images/39_jpg.rf.4bb2ff3ab6c00759658c74b36ebbf73a.jpg: 640x640 1 Tumor, 97.2ms\n",
            "Speed: 0.5ms pre-process, 97.2ms inference, 1.8ms postprocess per image at shape (1, 3, 640, 640)\n",
            "Ultralytics YOLOv8.0.28 🚀 Python-3.10.12 torch-2.1.0+cu121 CUDA:0 (Tesla T4, 15102MiB)\n"
          ]
        },
        {
          "output_type": "stream",
          "name": "stdout",
          "text": [
            "/content/drive/MyDrive/CsiLab-BrainTumor-Detection-3/train/images/62_jpg.rf.b368262f9c75b338d2227c6d8a0aa393.jpg\n"
          ]
        },
        {
          "output_type": "stream",
          "name": "stderr",
          "text": [
            "Model summary (fused): 168 layers, 11125971 parameters, 0 gradients, 28.4 GFLOPs\n",
            "\n",
            "image 1/1 /content/drive/MyDrive/CsiLab-BrainTumor-Detection-3/train/images/62_jpg.rf.b368262f9c75b338d2227c6d8a0aa393.jpg: 640x640 1 Tumor, 17.2ms\n",
            "Speed: 0.5ms pre-process, 17.2ms inference, 1.9ms postprocess per image at shape (1, 3, 640, 640)\n",
            "Ultralytics YOLOv8.0.28 🚀 Python-3.10.12 torch-2.1.0+cu121 CUDA:0 (Tesla T4, 15102MiB)\n"
          ]
        },
        {
          "output_type": "stream",
          "name": "stdout",
          "text": [
            "[    0.51339     0.34598     0.58929     0.42411]\n"
          ]
        },
        {
          "output_type": "stream",
          "name": "stderr",
          "text": [
            "Model summary (fused): 218 layers, 25840339 parameters, 0 gradients, 78.7 GFLOPs\n",
            "\n",
            "image 1/1 /content/drive/MyDrive/CsiLab-BrainTumor-Detection-3/train/images/62_jpg.rf.b368262f9c75b338d2227c6d8a0aa393.jpg: 640x640 1 Tumor, 23.9ms\n",
            "Speed: 0.5ms pre-process, 23.9ms inference, 1.4ms postprocess per image at shape (1, 3, 640, 640)\n",
            "Ultralytics YOLOv8.0.28 🚀 Python-3.10.12 torch-2.1.0+cu121 CUDA:0 (Tesla T4, 15102MiB)\n",
            "Model summary (fused): 168 layers, 3005843 parameters, 0 gradients, 8.1 GFLOPs\n",
            "\n",
            "image 1/1 /content/drive/MyDrive/CsiLab-BrainTumor-Detection-3/train/images/62_jpg.rf.b368262f9c75b338d2227c6d8a0aa393.jpg: 640x640 1 Tumor, 17.4ms\n",
            "Speed: 0.5ms pre-process, 17.4ms inference, 1.4ms postprocess per image at shape (1, 3, 640, 640)\n",
            "Ultralytics YOLOv8.0.28 🚀 Python-3.10.12 torch-2.1.0+cu121 CUDA:0 (Tesla T4, 15102MiB)\n",
            "Model summary (fused): 268 layers, 43607379 parameters, 0 gradients, 164.8 GFLOPs\n",
            "\n",
            "image 1/1 /content/drive/MyDrive/CsiLab-BrainTumor-Detection-3/train/images/62_jpg.rf.b368262f9c75b338d2227c6d8a0aa393.jpg: 640x640 1 Tumor, 62.9ms\n",
            "Speed: 0.5ms pre-process, 62.9ms inference, 1.5ms postprocess per image at shape (1, 3, 640, 640)\n",
            "Ultralytics YOLOv8.0.28 🚀 Python-3.10.12 torch-2.1.0+cu121 CUDA:0 (Tesla T4, 15102MiB)\n",
            "Model summary (fused): 268 layers, 68124531 parameters, 0 gradients, 257.4 GFLOPs\n",
            "\n",
            "image 1/1 /content/drive/MyDrive/CsiLab-BrainTumor-Detection-3/train/images/62_jpg.rf.b368262f9c75b338d2227c6d8a0aa393.jpg: 640x640 1 Tumor, 68.1ms\n",
            "Speed: 0.6ms pre-process, 68.1ms inference, 1.8ms postprocess per image at shape (1, 3, 640, 640)\n",
            "Ultralytics YOLOv8.0.28 🚀 Python-3.10.12 torch-2.1.0+cu121 CUDA:0 (Tesla T4, 15102MiB)\n"
          ]
        },
        {
          "output_type": "stream",
          "name": "stdout",
          "text": [
            "/content/drive/MyDrive/CsiLab-BrainTumor-Detection-3/train/images/Te-me_0189_jpg.rf.a28b23fcc1df8b7b6a211e497a7ae0ad.jpg\n"
          ]
        },
        {
          "output_type": "stream",
          "name": "stderr",
          "text": [
            "Model summary (fused): 168 layers, 11125971 parameters, 0 gradients, 28.4 GFLOPs\n",
            "\n",
            "image 1/1 /content/drive/MyDrive/CsiLab-BrainTumor-Detection-3/train/images/Te-me_0189_jpg.rf.a28b23fcc1df8b7b6a211e497a7ae0ad.jpg: 640x640 16.5ms\n",
            "Speed: 0.5ms pre-process, 16.5ms inference, 0.6ms postprocess per image at shape (1, 3, 640, 640)\n",
            "Ultralytics YOLOv8.0.28 🚀 Python-3.10.12 torch-2.1.0+cu121 CUDA:0 (Tesla T4, 15102MiB)\n"
          ]
        },
        {
          "output_type": "stream",
          "name": "stdout",
          "text": [
            "[0, 0, 0, 0]\n"
          ]
        },
        {
          "output_type": "stream",
          "name": "stderr",
          "text": [
            "Model summary (fused): 218 layers, 25840339 parameters, 0 gradients, 78.7 GFLOPs\n",
            "\n",
            "image 1/1 /content/drive/MyDrive/CsiLab-BrainTumor-Detection-3/train/images/Te-me_0189_jpg.rf.a28b23fcc1df8b7b6a211e497a7ae0ad.jpg: 640x640 33.5ms\n",
            "Speed: 0.5ms pre-process, 33.5ms inference, 0.7ms postprocess per image at shape (1, 3, 640, 640)\n",
            "Ultralytics YOLOv8.0.28 🚀 Python-3.10.12 torch-2.1.0+cu121 CUDA:0 (Tesla T4, 15102MiB)\n",
            "Model summary (fused): 168 layers, 3005843 parameters, 0 gradients, 8.1 GFLOPs\n",
            "\n",
            "image 1/1 /content/drive/MyDrive/CsiLab-BrainTumor-Detection-3/train/images/Te-me_0189_jpg.rf.a28b23fcc1df8b7b6a211e497a7ae0ad.jpg: 640x640 1 Tumor, 21.9ms\n",
            "Speed: 0.5ms pre-process, 21.9ms inference, 2.1ms postprocess per image at shape (1, 3, 640, 640)\n",
            "Ultralytics YOLOv8.0.28 🚀 Python-3.10.12 torch-2.1.0+cu121 CUDA:0 (Tesla T4, 15102MiB)\n",
            "Model summary (fused): 268 layers, 43607379 parameters, 0 gradients, 164.8 GFLOPs\n",
            "\n",
            "image 1/1 /content/drive/MyDrive/CsiLab-BrainTumor-Detection-3/train/images/Te-me_0189_jpg.rf.a28b23fcc1df8b7b6a211e497a7ae0ad.jpg: 640x640 1 Tumor, 63.1ms\n",
            "Speed: 0.5ms pre-process, 63.1ms inference, 1.9ms postprocess per image at shape (1, 3, 640, 640)\n",
            "Ultralytics YOLOv8.0.28 🚀 Python-3.10.12 torch-2.1.0+cu121 CUDA:0 (Tesla T4, 15102MiB)\n",
            "Model summary (fused): 268 layers, 68124531 parameters, 0 gradients, 257.4 GFLOPs\n",
            "\n",
            "image 1/1 /content/drive/MyDrive/CsiLab-BrainTumor-Detection-3/train/images/Te-me_0189_jpg.rf.a28b23fcc1df8b7b6a211e497a7ae0ad.jpg: 640x640 1 Tumor, 92.9ms\n",
            "Speed: 0.5ms pre-process, 92.9ms inference, 1.5ms postprocess per image at shape (1, 3, 640, 640)\n",
            "Ultralytics YOLOv8.0.28 🚀 Python-3.10.12 torch-2.1.0+cu121 CUDA:0 (Tesla T4, 15102MiB)\n"
          ]
        },
        {
          "output_type": "stream",
          "name": "stdout",
          "text": [
            "/content/drive/MyDrive/CsiLab-BrainTumor-Detection-3/train/images/46_jpg.rf.e85267dda55b51fcb4a850cf9cb50660.jpg\n"
          ]
        },
        {
          "output_type": "stream",
          "name": "stderr",
          "text": [
            "Model summary (fused): 168 layers, 11125971 parameters, 0 gradients, 28.4 GFLOPs\n",
            "\n",
            "image 1/1 /content/drive/MyDrive/CsiLab-BrainTumor-Detection-3/train/images/46_jpg.rf.e85267dda55b51fcb4a850cf9cb50660.jpg: 640x640 1 Tumor, 16.2ms\n",
            "Speed: 0.5ms pre-process, 16.2ms inference, 1.4ms postprocess per image at shape (1, 3, 640, 640)\n"
          ]
        },
        {
          "output_type": "stream",
          "name": "stdout",
          "text": [
            "[    0.24554     0.63393     0.14286     0.11607]\n"
          ]
        },
        {
          "output_type": "stream",
          "name": "stderr",
          "text": [
            "Ultralytics YOLOv8.0.28 🚀 Python-3.10.12 torch-2.1.0+cu121 CUDA:0 (Tesla T4, 15102MiB)\n",
            "Model summary (fused): 218 layers, 25840339 parameters, 0 gradients, 78.7 GFLOPs\n",
            "\n",
            "image 1/1 /content/drive/MyDrive/CsiLab-BrainTumor-Detection-3/train/images/46_jpg.rf.e85267dda55b51fcb4a850cf9cb50660.jpg: 640x640 1 Tumor, 20.9ms\n",
            "Speed: 0.5ms pre-process, 20.9ms inference, 1.4ms postprocess per image at shape (1, 3, 640, 640)\n",
            "Ultralytics YOLOv8.0.28 🚀 Python-3.10.12 torch-2.1.0+cu121 CUDA:0 (Tesla T4, 15102MiB)\n",
            "Model summary (fused): 168 layers, 3005843 parameters, 0 gradients, 8.1 GFLOPs\n",
            "\n",
            "image 1/1 /content/drive/MyDrive/CsiLab-BrainTumor-Detection-3/train/images/46_jpg.rf.e85267dda55b51fcb4a850cf9cb50660.jpg: 640x640 1 Tumor, 15.7ms\n",
            "Speed: 0.5ms pre-process, 15.7ms inference, 1.4ms postprocess per image at shape (1, 3, 640, 640)\n",
            "Ultralytics YOLOv8.0.28 🚀 Python-3.10.12 torch-2.1.0+cu121 CUDA:0 (Tesla T4, 15102MiB)\n",
            "Model summary (fused): 268 layers, 43607379 parameters, 0 gradients, 164.8 GFLOPs\n",
            "\n",
            "image 1/1 /content/drive/MyDrive/CsiLab-BrainTumor-Detection-3/train/images/46_jpg.rf.e85267dda55b51fcb4a850cf9cb50660.jpg: 640x640 57.8ms\n",
            "Speed: 0.5ms pre-process, 57.8ms inference, 0.5ms postprocess per image at shape (1, 3, 640, 640)\n",
            "Ultralytics YOLOv8.0.28 🚀 Python-3.10.12 torch-2.1.0+cu121 CUDA:0 (Tesla T4, 15102MiB)\n",
            "Model summary (fused): 268 layers, 68124531 parameters, 0 gradients, 257.4 GFLOPs\n",
            "\n",
            "image 1/1 /content/drive/MyDrive/CsiLab-BrainTumor-Detection-3/train/images/46_jpg.rf.e85267dda55b51fcb4a850cf9cb50660.jpg: 640x640 1 Tumor, 97.0ms\n",
            "Speed: 0.6ms pre-process, 97.0ms inference, 1.6ms postprocess per image at shape (1, 3, 640, 640)\n",
            "Ultralytics YOLOv8.0.28 🚀 Python-3.10.12 torch-2.1.0+cu121 CUDA:0 (Tesla T4, 15102MiB)\n"
          ]
        },
        {
          "output_type": "stream",
          "name": "stdout",
          "text": [
            "/content/drive/MyDrive/CsiLab-BrainTumor-Detection-3/train/images/13_jpg.rf.7e62609dc7a9e55326f8d00001116182.jpg\n"
          ]
        },
        {
          "output_type": "stream",
          "name": "stderr",
          "text": [
            "Model summary (fused): 168 layers, 11125971 parameters, 0 gradients, 28.4 GFLOPs\n",
            "\n",
            "image 1/1 /content/drive/MyDrive/CsiLab-BrainTumor-Detection-3/train/images/13_jpg.rf.7e62609dc7a9e55326f8d00001116182.jpg: 640x640 1 Tumor, 15.5ms\n",
            "Speed: 0.5ms pre-process, 15.5ms inference, 1.4ms postprocess per image at shape (1, 3, 640, 640)\n",
            "Ultralytics YOLOv8.0.28 🚀 Python-3.10.12 torch-2.1.0+cu121 CUDA:0 (Tesla T4, 15102MiB)\n"
          ]
        },
        {
          "output_type": "stream",
          "name": "stdout",
          "text": [
            "[     0.5625     0.14062     0.19643     0.22768]\n"
          ]
        },
        {
          "output_type": "stream",
          "name": "stderr",
          "text": [
            "Model summary (fused): 218 layers, 25840339 parameters, 0 gradients, 78.7 GFLOPs\n",
            "\n",
            "image 1/1 /content/drive/MyDrive/CsiLab-BrainTumor-Detection-3/train/images/13_jpg.rf.7e62609dc7a9e55326f8d00001116182.jpg: 640x640 1 Tumor, 19.8ms\n",
            "Speed: 0.5ms pre-process, 19.8ms inference, 1.4ms postprocess per image at shape (1, 3, 640, 640)\n",
            "Ultralytics YOLOv8.0.28 🚀 Python-3.10.12 torch-2.1.0+cu121 CUDA:0 (Tesla T4, 15102MiB)\n",
            "Model summary (fused): 168 layers, 3005843 parameters, 0 gradients, 8.1 GFLOPs\n",
            "\n",
            "image 1/1 /content/drive/MyDrive/CsiLab-BrainTumor-Detection-3/train/images/13_jpg.rf.7e62609dc7a9e55326f8d00001116182.jpg: 640x640 1 Tumor, 16.4ms\n",
            "Speed: 0.5ms pre-process, 16.4ms inference, 1.5ms postprocess per image at shape (1, 3, 640, 640)\n",
            "Ultralytics YOLOv8.0.28 🚀 Python-3.10.12 torch-2.1.0+cu121 CUDA:0 (Tesla T4, 15102MiB)\n",
            "Model summary (fused): 268 layers, 43607379 parameters, 0 gradients, 164.8 GFLOPs\n",
            "\n",
            "image 1/1 /content/drive/MyDrive/CsiLab-BrainTumor-Detection-3/train/images/13_jpg.rf.7e62609dc7a9e55326f8d00001116182.jpg: 640x640 1 Tumor, 59.1ms\n",
            "Speed: 0.6ms pre-process, 59.1ms inference, 1.5ms postprocess per image at shape (1, 3, 640, 640)\n",
            "Ultralytics YOLOv8.0.28 🚀 Python-3.10.12 torch-2.1.0+cu121 CUDA:0 (Tesla T4, 15102MiB)\n",
            "Model summary (fused): 268 layers, 68124531 parameters, 0 gradients, 257.4 GFLOPs\n",
            "\n",
            "image 1/1 /content/drive/MyDrive/CsiLab-BrainTumor-Detection-3/train/images/13_jpg.rf.7e62609dc7a9e55326f8d00001116182.jpg: 640x640 1 Tumor, 66.1ms\n",
            "Speed: 0.5ms pre-process, 66.1ms inference, 2.1ms postprocess per image at shape (1, 3, 640, 640)\n",
            "Ultralytics YOLOv8.0.28 🚀 Python-3.10.12 torch-2.1.0+cu121 CUDA:0 (Tesla T4, 15102MiB)\n"
          ]
        },
        {
          "output_type": "stream",
          "name": "stdout",
          "text": [
            "/content/drive/MyDrive/CsiLab-BrainTumor-Detection-3/train/images/Te-me_0158_jpg.rf.789e236c7dddcd9a453d876522fb32a9.jpg\n"
          ]
        },
        {
          "output_type": "stream",
          "name": "stderr",
          "text": [
            "Model summary (fused): 168 layers, 11125971 parameters, 0 gradients, 28.4 GFLOPs\n",
            "\n",
            "image 1/1 /content/drive/MyDrive/CsiLab-BrainTumor-Detection-3/train/images/Te-me_0158_jpg.rf.789e236c7dddcd9a453d876522fb32a9.jpg: 640x640 20.0ms\n",
            "Speed: 0.5ms pre-process, 20.0ms inference, 0.7ms postprocess per image at shape (1, 3, 640, 640)\n",
            "Ultralytics YOLOv8.0.28 🚀 Python-3.10.12 torch-2.1.0+cu121 CUDA:0 (Tesla T4, 15102MiB)\n"
          ]
        },
        {
          "output_type": "stream",
          "name": "stdout",
          "text": [
            "[0, 0, 0, 0]\n"
          ]
        },
        {
          "output_type": "stream",
          "name": "stderr",
          "text": [
            "Model summary (fused): 218 layers, 25840339 parameters, 0 gradients, 78.7 GFLOPs\n",
            "\n",
            "image 1/1 /content/drive/MyDrive/CsiLab-BrainTumor-Detection-3/train/images/Te-me_0158_jpg.rf.789e236c7dddcd9a453d876522fb32a9.jpg: 640x640 1 Tumor, 20.6ms\n",
            "Speed: 0.5ms pre-process, 20.6ms inference, 1.5ms postprocess per image at shape (1, 3, 640, 640)\n",
            "Ultralytics YOLOv8.0.28 🚀 Python-3.10.12 torch-2.1.0+cu121 CUDA:0 (Tesla T4, 15102MiB)\n",
            "Model summary (fused): 168 layers, 3005843 parameters, 0 gradients, 8.1 GFLOPs\n",
            "\n",
            "image 1/1 /content/drive/MyDrive/CsiLab-BrainTumor-Detection-3/train/images/Te-me_0158_jpg.rf.789e236c7dddcd9a453d876522fb32a9.jpg: 640x640 1 Tumor, 16.7ms\n",
            "Speed: 0.5ms pre-process, 16.7ms inference, 1.4ms postprocess per image at shape (1, 3, 640, 640)\n",
            "Ultralytics YOLOv8.0.28 🚀 Python-3.10.12 torch-2.1.0+cu121 CUDA:0 (Tesla T4, 15102MiB)\n",
            "Model summary (fused): 268 layers, 43607379 parameters, 0 gradients, 164.8 GFLOPs\n",
            "\n",
            "image 1/1 /content/drive/MyDrive/CsiLab-BrainTumor-Detection-3/train/images/Te-me_0158_jpg.rf.789e236c7dddcd9a453d876522fb32a9.jpg: 640x640 54.6ms\n",
            "Speed: 0.5ms pre-process, 54.6ms inference, 0.6ms postprocess per image at shape (1, 3, 640, 640)\n",
            "Ultralytics YOLOv8.0.28 🚀 Python-3.10.12 torch-2.1.0+cu121 CUDA:0 (Tesla T4, 15102MiB)\n",
            "Model summary (fused): 268 layers, 68124531 parameters, 0 gradients, 257.4 GFLOPs\n",
            "\n",
            "image 1/1 /content/drive/MyDrive/CsiLab-BrainTumor-Detection-3/train/images/Te-me_0158_jpg.rf.789e236c7dddcd9a453d876522fb32a9.jpg: 640x640 71.3ms\n",
            "Speed: 0.5ms pre-process, 71.3ms inference, 0.9ms postprocess per image at shape (1, 3, 640, 640)\n",
            "Ultralytics YOLOv8.0.28 🚀 Python-3.10.12 torch-2.1.0+cu121 CUDA:0 (Tesla T4, 15102MiB)\n"
          ]
        },
        {
          "output_type": "stream",
          "name": "stdout",
          "text": [
            "/content/drive/MyDrive/CsiLab-BrainTumor-Detection-3/train/images/Te-me_0193_jpg.rf.05934fef0591743016cd50440ff6df2d.jpg\n"
          ]
        },
        {
          "output_type": "stream",
          "name": "stderr",
          "text": [
            "Model summary (fused): 168 layers, 11125971 parameters, 0 gradients, 28.4 GFLOPs\n",
            "\n",
            "image 1/1 /content/drive/MyDrive/CsiLab-BrainTumor-Detection-3/train/images/Te-me_0193_jpg.rf.05934fef0591743016cd50440ff6df2d.jpg: 640x640 19.5ms\n",
            "Speed: 0.5ms pre-process, 19.5ms inference, 0.7ms postprocess per image at shape (1, 3, 640, 640)\n"
          ]
        },
        {
          "output_type": "stream",
          "name": "stdout",
          "text": [
            "[0, 0, 0, 0]\n"
          ]
        },
        {
          "output_type": "stream",
          "name": "stderr",
          "text": [
            "Ultralytics YOLOv8.0.28 🚀 Python-3.10.12 torch-2.1.0+cu121 CUDA:0 (Tesla T4, 15102MiB)\n",
            "Model summary (fused): 218 layers, 25840339 parameters, 0 gradients, 78.7 GFLOPs\n",
            "\n",
            "image 1/1 /content/drive/MyDrive/CsiLab-BrainTumor-Detection-3/train/images/Te-me_0193_jpg.rf.05934fef0591743016cd50440ff6df2d.jpg: 640x640 1 Tumor, 26.0ms\n",
            "Speed: 0.5ms pre-process, 26.0ms inference, 2.0ms postprocess per image at shape (1, 3, 640, 640)\n",
            "Ultralytics YOLOv8.0.28 🚀 Python-3.10.12 torch-2.1.0+cu121 CUDA:0 (Tesla T4, 15102MiB)\n",
            "Model summary (fused): 168 layers, 3005843 parameters, 0 gradients, 8.1 GFLOPs\n",
            "\n",
            "image 1/1 /content/drive/MyDrive/CsiLab-BrainTumor-Detection-3/train/images/Te-me_0193_jpg.rf.05934fef0591743016cd50440ff6df2d.jpg: 640x640 1 Tumor, 15.8ms\n",
            "Speed: 0.5ms pre-process, 15.8ms inference, 1.4ms postprocess per image at shape (1, 3, 640, 640)\n",
            "Ultralytics YOLOv8.0.28 🚀 Python-3.10.12 torch-2.1.0+cu121 CUDA:0 (Tesla T4, 15102MiB)\n",
            "Model summary (fused): 268 layers, 43607379 parameters, 0 gradients, 164.8 GFLOPs\n",
            "\n",
            "image 1/1 /content/drive/MyDrive/CsiLab-BrainTumor-Detection-3/train/images/Te-me_0193_jpg.rf.05934fef0591743016cd50440ff6df2d.jpg: 640x640 62.9ms\n",
            "Speed: 0.5ms pre-process, 62.9ms inference, 0.8ms postprocess per image at shape (1, 3, 640, 640)\n",
            "Ultralytics YOLOv8.0.28 🚀 Python-3.10.12 torch-2.1.0+cu121 CUDA:0 (Tesla T4, 15102MiB)\n",
            "Model summary (fused): 268 layers, 68124531 parameters, 0 gradients, 257.4 GFLOPs\n",
            "\n",
            "image 1/1 /content/drive/MyDrive/CsiLab-BrainTumor-Detection-3/train/images/Te-me_0193_jpg.rf.05934fef0591743016cd50440ff6df2d.jpg: 640x640 1 Tumor, 63.3ms\n",
            "Speed: 0.5ms pre-process, 63.3ms inference, 1.5ms postprocess per image at shape (1, 3, 640, 640)\n",
            "Ultralytics YOLOv8.0.28 🚀 Python-3.10.12 torch-2.1.0+cu121 CUDA:0 (Tesla T4, 15102MiB)\n"
          ]
        },
        {
          "output_type": "stream",
          "name": "stdout",
          "text": [
            "/content/drive/MyDrive/CsiLab-BrainTumor-Detection-3/train/images/60_jpg.rf.85bb3c03016ecf0645daa2b9c0515bcd.jpg\n"
          ]
        },
        {
          "output_type": "stream",
          "name": "stderr",
          "text": [
            "Model summary (fused): 168 layers, 11125971 parameters, 0 gradients, 28.4 GFLOPs\n",
            "\n",
            "image 1/1 /content/drive/MyDrive/CsiLab-BrainTumor-Detection-3/train/images/60_jpg.rf.85bb3c03016ecf0645daa2b9c0515bcd.jpg: 640x640 1 Tumor, 15.6ms\n",
            "Speed: 0.5ms pre-process, 15.6ms inference, 1.4ms postprocess per image at shape (1, 3, 640, 640)\n",
            "Ultralytics YOLOv8.0.28 🚀 Python-3.10.12 torch-2.1.0+cu121 CUDA:0 (Tesla T4, 15102MiB)\n"
          ]
        },
        {
          "output_type": "stream",
          "name": "stdout",
          "text": [
            "[    0.68527     0.21205     0.12946     0.12946]\n"
          ]
        },
        {
          "output_type": "stream",
          "name": "stderr",
          "text": [
            "Model summary (fused): 218 layers, 25840339 parameters, 0 gradients, 78.7 GFLOPs\n",
            "\n",
            "image 1/1 /content/drive/MyDrive/CsiLab-BrainTumor-Detection-3/train/images/60_jpg.rf.85bb3c03016ecf0645daa2b9c0515bcd.jpg: 640x640 1 Tumor, 20.3ms\n",
            "Speed: 0.5ms pre-process, 20.3ms inference, 1.4ms postprocess per image at shape (1, 3, 640, 640)\n",
            "Ultralytics YOLOv8.0.28 🚀 Python-3.10.12 torch-2.1.0+cu121 CUDA:0 (Tesla T4, 15102MiB)\n",
            "Model summary (fused): 168 layers, 3005843 parameters, 0 gradients, 8.1 GFLOPs\n",
            "\n",
            "image 1/1 /content/drive/MyDrive/CsiLab-BrainTumor-Detection-3/train/images/60_jpg.rf.85bb3c03016ecf0645daa2b9c0515bcd.jpg: 640x640 1 Tumor, 16.5ms\n",
            "Speed: 0.5ms pre-process, 16.5ms inference, 1.5ms postprocess per image at shape (1, 3, 640, 640)\n",
            "Ultralytics YOLOv8.0.28 🚀 Python-3.10.12 torch-2.1.0+cu121 CUDA:0 (Tesla T4, 15102MiB)\n",
            "Model summary (fused): 268 layers, 43607379 parameters, 0 gradients, 164.8 GFLOPs\n",
            "\n",
            "image 1/1 /content/drive/MyDrive/CsiLab-BrainTumor-Detection-3/train/images/60_jpg.rf.85bb3c03016ecf0645daa2b9c0515bcd.jpg: 640x640 1 Tumor, 62.9ms\n",
            "Speed: 0.5ms pre-process, 62.9ms inference, 1.5ms postprocess per image at shape (1, 3, 640, 640)\n",
            "Ultralytics YOLOv8.0.28 🚀 Python-3.10.12 torch-2.1.0+cu121 CUDA:0 (Tesla T4, 15102MiB)\n",
            "Model summary (fused): 268 layers, 68124531 parameters, 0 gradients, 257.4 GFLOPs\n",
            "\n",
            "image 1/1 /content/drive/MyDrive/CsiLab-BrainTumor-Detection-3/train/images/60_jpg.rf.85bb3c03016ecf0645daa2b9c0515bcd.jpg: 640x640 1 Tumor, 62.5ms\n",
            "Speed: 0.5ms pre-process, 62.5ms inference, 1.5ms postprocess per image at shape (1, 3, 640, 640)\n",
            "Ultralytics YOLOv8.0.28 🚀 Python-3.10.12 torch-2.1.0+cu121 CUDA:0 (Tesla T4, 15102MiB)\n"
          ]
        },
        {
          "output_type": "stream",
          "name": "stdout",
          "text": [
            "/content/drive/MyDrive/CsiLab-BrainTumor-Detection-3/train/images/96_jpg.rf.2309156fcee79cf9df5df1d40491ffcf.jpg\n"
          ]
        },
        {
          "output_type": "stream",
          "name": "stderr",
          "text": [
            "Model summary (fused): 168 layers, 11125971 parameters, 0 gradients, 28.4 GFLOPs\n",
            "\n",
            "image 1/1 /content/drive/MyDrive/CsiLab-BrainTumor-Detection-3/train/images/96_jpg.rf.2309156fcee79cf9df5df1d40491ffcf.jpg: 640x640 1 Tumor, 15.8ms\n",
            "Speed: 0.5ms pre-process, 15.8ms inference, 1.4ms postprocess per image at shape (1, 3, 640, 640)\n",
            "Ultralytics YOLOv8.0.28 🚀 Python-3.10.12 torch-2.1.0+cu121 CUDA:0 (Tesla T4, 15102MiB)\n"
          ]
        },
        {
          "output_type": "stream",
          "name": "stdout",
          "text": [
            "[    0.77679     0.50223     0.32143     0.24554]\n"
          ]
        },
        {
          "output_type": "stream",
          "name": "stderr",
          "text": [
            "Model summary (fused): 218 layers, 25840339 parameters, 0 gradients, 78.7 GFLOPs\n",
            "\n",
            "image 1/1 /content/drive/MyDrive/CsiLab-BrainTumor-Detection-3/train/images/96_jpg.rf.2309156fcee79cf9df5df1d40491ffcf.jpg: 640x640 1 Tumor, 22.0ms\n",
            "Speed: 0.7ms pre-process, 22.0ms inference, 1.5ms postprocess per image at shape (1, 3, 640, 640)\n",
            "Ultralytics YOLOv8.0.28 🚀 Python-3.10.12 torch-2.1.0+cu121 CUDA:0 (Tesla T4, 15102MiB)\n",
            "Model summary (fused): 168 layers, 3005843 parameters, 0 gradients, 8.1 GFLOPs\n",
            "\n",
            "image 1/1 /content/drive/MyDrive/CsiLab-BrainTumor-Detection-3/train/images/96_jpg.rf.2309156fcee79cf9df5df1d40491ffcf.jpg: 640x640 1 Tumor, 16.4ms\n",
            "Speed: 0.5ms pre-process, 16.4ms inference, 1.5ms postprocess per image at shape (1, 3, 640, 640)\n",
            "Ultralytics YOLOv8.0.28 🚀 Python-3.10.12 torch-2.1.0+cu121 CUDA:0 (Tesla T4, 15102MiB)\n",
            "Model summary (fused): 268 layers, 43607379 parameters, 0 gradients, 164.8 GFLOPs\n",
            "\n",
            "image 1/1 /content/drive/MyDrive/CsiLab-BrainTumor-Detection-3/train/images/96_jpg.rf.2309156fcee79cf9df5df1d40491ffcf.jpg: 640x640 1 Tumor, 63.0ms\n",
            "Speed: 0.5ms pre-process, 63.0ms inference, 1.5ms postprocess per image at shape (1, 3, 640, 640)\n",
            "Ultralytics YOLOv8.0.28 🚀 Python-3.10.12 torch-2.1.0+cu121 CUDA:0 (Tesla T4, 15102MiB)\n",
            "Model summary (fused): 268 layers, 68124531 parameters, 0 gradients, 257.4 GFLOPs\n",
            "\n",
            "image 1/1 /content/drive/MyDrive/CsiLab-BrainTumor-Detection-3/train/images/96_jpg.rf.2309156fcee79cf9df5df1d40491ffcf.jpg: 640x640 1 Tumor, 70.5ms\n",
            "Speed: 0.6ms pre-process, 70.5ms inference, 2.0ms postprocess per image at shape (1, 3, 640, 640)\n",
            "Ultralytics YOLOv8.0.28 🚀 Python-3.10.12 torch-2.1.0+cu121 CUDA:0 (Tesla T4, 15102MiB)\n"
          ]
        },
        {
          "output_type": "stream",
          "name": "stdout",
          "text": [
            "/content/drive/MyDrive/CsiLab-BrainTumor-Detection-3/train/images/8_jpg.rf.9d85ed60b5b1fb90c981d60ac7c40718.jpg\n"
          ]
        },
        {
          "output_type": "stream",
          "name": "stderr",
          "text": [
            "Model summary (fused): 168 layers, 11125971 parameters, 0 gradients, 28.4 GFLOPs\n",
            "\n",
            "image 1/1 /content/drive/MyDrive/CsiLab-BrainTumor-Detection-3/train/images/8_jpg.rf.9d85ed60b5b1fb90c981d60ac7c40718.jpg: 640x640 1 Tumor, 18.9ms\n",
            "Speed: 0.6ms pre-process, 18.9ms inference, 1.6ms postprocess per image at shape (1, 3, 640, 640)\n",
            "Ultralytics YOLOv8.0.28 🚀 Python-3.10.12 torch-2.1.0+cu121 CUDA:0 (Tesla T4, 15102MiB)\n"
          ]
        },
        {
          "output_type": "stream",
          "name": "stdout",
          "text": [
            "[    0.29911     0.49107     0.36607     0.30357]\n"
          ]
        },
        {
          "output_type": "stream",
          "name": "stderr",
          "text": [
            "Model summary (fused): 218 layers, 25840339 parameters, 0 gradients, 78.7 GFLOPs\n",
            "\n",
            "image 1/1 /content/drive/MyDrive/CsiLab-BrainTumor-Detection-3/train/images/8_jpg.rf.9d85ed60b5b1fb90c981d60ac7c40718.jpg: 640x640 1 Tumor, 28.5ms\n",
            "Speed: 0.5ms pre-process, 28.5ms inference, 2.1ms postprocess per image at shape (1, 3, 640, 640)\n",
            "Ultralytics YOLOv8.0.28 🚀 Python-3.10.12 torch-2.1.0+cu121 CUDA:0 (Tesla T4, 15102MiB)\n",
            "Model summary (fused): 168 layers, 3005843 parameters, 0 gradients, 8.1 GFLOPs\n",
            "\n",
            "image 1/1 /content/drive/MyDrive/CsiLab-BrainTumor-Detection-3/train/images/8_jpg.rf.9d85ed60b5b1fb90c981d60ac7c40718.jpg: 640x640 1 Tumor, 17.2ms\n",
            "Speed: 0.5ms pre-process, 17.2ms inference, 1.7ms postprocess per image at shape (1, 3, 640, 640)\n",
            "Ultralytics YOLOv8.0.28 🚀 Python-3.10.12 torch-2.1.0+cu121 CUDA:0 (Tesla T4, 15102MiB)\n",
            "Model summary (fused): 268 layers, 43607379 parameters, 0 gradients, 164.8 GFLOPs\n",
            "\n",
            "image 1/1 /content/drive/MyDrive/CsiLab-BrainTumor-Detection-3/train/images/8_jpg.rf.9d85ed60b5b1fb90c981d60ac7c40718.jpg: 640x640 1 Tumor, 61.8ms\n",
            "Speed: 0.6ms pre-process, 61.8ms inference, 2.0ms postprocess per image at shape (1, 3, 640, 640)\n",
            "Ultralytics YOLOv8.0.28 🚀 Python-3.10.12 torch-2.1.0+cu121 CUDA:0 (Tesla T4, 15102MiB)\n",
            "Model summary (fused): 268 layers, 68124531 parameters, 0 gradients, 257.4 GFLOPs\n",
            "\n",
            "image 1/1 /content/drive/MyDrive/CsiLab-BrainTumor-Detection-3/train/images/8_jpg.rf.9d85ed60b5b1fb90c981d60ac7c40718.jpg: 640x640 1 Tumor, 87.3ms\n",
            "Speed: 0.6ms pre-process, 87.3ms inference, 1.6ms postprocess per image at shape (1, 3, 640, 640)\n",
            "Ultralytics YOLOv8.0.28 🚀 Python-3.10.12 torch-2.1.0+cu121 CUDA:0 (Tesla T4, 15102MiB)\n"
          ]
        },
        {
          "output_type": "stream",
          "name": "stdout",
          "text": [
            "/content/drive/MyDrive/CsiLab-BrainTumor-Detection-3/train/images/82_jpg.rf.93362fd6a2587a124e79ad0592127fc2.jpg\n"
          ]
        },
        {
          "output_type": "stream",
          "name": "stderr",
          "text": [
            "Model summary (fused): 168 layers, 11125971 parameters, 0 gradients, 28.4 GFLOPs\n",
            "\n",
            "image 1/1 /content/drive/MyDrive/CsiLab-BrainTumor-Detection-3/train/images/82_jpg.rf.93362fd6a2587a124e79ad0592127fc2.jpg: 640x640 1 Tumor, 15.6ms\n",
            "Speed: 0.5ms pre-process, 15.6ms inference, 1.4ms postprocess per image at shape (1, 3, 640, 640)\n",
            "Ultralytics YOLOv8.0.28 🚀 Python-3.10.12 torch-2.1.0+cu121 CUDA:0 (Tesla T4, 15102MiB)\n"
          ]
        },
        {
          "output_type": "stream",
          "name": "stdout",
          "text": [
            "[    0.58929     0.29688     0.38393     0.37946]\n"
          ]
        },
        {
          "output_type": "stream",
          "name": "stderr",
          "text": [
            "Model summary (fused): 218 layers, 25840339 parameters, 0 gradients, 78.7 GFLOPs\n",
            "\n",
            "image 1/1 /content/drive/MyDrive/CsiLab-BrainTumor-Detection-3/train/images/82_jpg.rf.93362fd6a2587a124e79ad0592127fc2.jpg: 640x640 1 Tumor, 21.9ms\n",
            "Speed: 0.6ms pre-process, 21.9ms inference, 1.4ms postprocess per image at shape (1, 3, 640, 640)\n",
            "Ultralytics YOLOv8.0.28 🚀 Python-3.10.12 torch-2.1.0+cu121 CUDA:0 (Tesla T4, 15102MiB)\n",
            "Model summary (fused): 168 layers, 3005843 parameters, 0 gradients, 8.1 GFLOPs\n",
            "\n",
            "image 1/1 /content/drive/MyDrive/CsiLab-BrainTumor-Detection-3/train/images/82_jpg.rf.93362fd6a2587a124e79ad0592127fc2.jpg: 640x640 1 Tumor, 25.5ms\n",
            "Speed: 0.6ms pre-process, 25.5ms inference, 1.9ms postprocess per image at shape (1, 3, 640, 640)\n",
            "Ultralytics YOLOv8.0.28 🚀 Python-3.10.12 torch-2.1.0+cu121 CUDA:0 (Tesla T4, 15102MiB)\n",
            "Model summary (fused): 268 layers, 43607379 parameters, 0 gradients, 164.8 GFLOPs\n",
            "\n",
            "image 1/1 /content/drive/MyDrive/CsiLab-BrainTumor-Detection-3/train/images/82_jpg.rf.93362fd6a2587a124e79ad0592127fc2.jpg: 640x640 1 Tumor, 57.1ms\n",
            "Speed: 0.5ms pre-process, 57.1ms inference, 1.5ms postprocess per image at shape (1, 3, 640, 640)\n",
            "Ultralytics YOLOv8.0.28 🚀 Python-3.10.12 torch-2.1.0+cu121 CUDA:0 (Tesla T4, 15102MiB)\n",
            "Model summary (fused): 268 layers, 68124531 parameters, 0 gradients, 257.4 GFLOPs\n",
            "\n",
            "image 1/1 /content/drive/MyDrive/CsiLab-BrainTumor-Detection-3/train/images/82_jpg.rf.93362fd6a2587a124e79ad0592127fc2.jpg: 640x640 1 Tumor, 62.9ms\n",
            "Speed: 0.5ms pre-process, 62.9ms inference, 1.5ms postprocess per image at shape (1, 3, 640, 640)\n",
            "Ultralytics YOLOv8.0.28 🚀 Python-3.10.12 torch-2.1.0+cu121 CUDA:0 (Tesla T4, 15102MiB)\n"
          ]
        },
        {
          "output_type": "stream",
          "name": "stdout",
          "text": [
            "/content/drive/MyDrive/CsiLab-BrainTumor-Detection-3/train/images/Te-me_0218_jpg.rf.4cd2387f44bfd864bbbf2daddec44423.jpg\n"
          ]
        },
        {
          "output_type": "stream",
          "name": "stderr",
          "text": [
            "Model summary (fused): 168 layers, 11125971 parameters, 0 gradients, 28.4 GFLOPs\n",
            "\n",
            "image 1/1 /content/drive/MyDrive/CsiLab-BrainTumor-Detection-3/train/images/Te-me_0218_jpg.rf.4cd2387f44bfd864bbbf2daddec44423.jpg: 640x640 1 Tumor, 16.1ms\n",
            "Speed: 0.5ms pre-process, 16.1ms inference, 2.4ms postprocess per image at shape (1, 3, 640, 640)\n",
            "Ultralytics YOLOv8.0.28 🚀 Python-3.10.12 torch-2.1.0+cu121 CUDA:0 (Tesla T4, 15102MiB)\n"
          ]
        },
        {
          "output_type": "stream",
          "name": "stdout",
          "text": [
            "[    0.66797     0.39258     0.14062     0.19141]\n"
          ]
        },
        {
          "output_type": "stream",
          "name": "stderr",
          "text": [
            "Model summary (fused): 218 layers, 25840339 parameters, 0 gradients, 78.7 GFLOPs\n",
            "\n",
            "image 1/1 /content/drive/MyDrive/CsiLab-BrainTumor-Detection-3/train/images/Te-me_0218_jpg.rf.4cd2387f44bfd864bbbf2daddec44423.jpg: 640x640 1 Tumor, 43.4ms\n",
            "Speed: 0.5ms pre-process, 43.4ms inference, 2.0ms postprocess per image at shape (1, 3, 640, 640)\n",
            "Ultralytics YOLOv8.0.28 🚀 Python-3.10.12 torch-2.1.0+cu121 CUDA:0 (Tesla T4, 15102MiB)\n",
            "Model summary (fused): 168 layers, 3005843 parameters, 0 gradients, 8.1 GFLOPs\n",
            "\n",
            "image 1/1 /content/drive/MyDrive/CsiLab-BrainTumor-Detection-3/train/images/Te-me_0218_jpg.rf.4cd2387f44bfd864bbbf2daddec44423.jpg: 640x640 1 Tumor, 15.8ms\n",
            "Speed: 0.5ms pre-process, 15.8ms inference, 1.4ms postprocess per image at shape (1, 3, 640, 640)\n",
            "Ultralytics YOLOv8.0.28 🚀 Python-3.10.12 torch-2.1.0+cu121 CUDA:0 (Tesla T4, 15102MiB)\n",
            "Model summary (fused): 268 layers, 43607379 parameters, 0 gradients, 164.8 GFLOPs\n",
            "\n",
            "image 1/1 /content/drive/MyDrive/CsiLab-BrainTumor-Detection-3/train/images/Te-me_0218_jpg.rf.4cd2387f44bfd864bbbf2daddec44423.jpg: 640x640 1 Tumor, 58.5ms\n",
            "Speed: 0.5ms pre-process, 58.5ms inference, 1.5ms postprocess per image at shape (1, 3, 640, 640)\n",
            "Ultralytics YOLOv8.0.28 🚀 Python-3.10.12 torch-2.1.0+cu121 CUDA:0 (Tesla T4, 15102MiB)\n",
            "Model summary (fused): 268 layers, 68124531 parameters, 0 gradients, 257.4 GFLOPs\n",
            "\n",
            "image 1/1 /content/drive/MyDrive/CsiLab-BrainTumor-Detection-3/train/images/Te-me_0218_jpg.rf.4cd2387f44bfd864bbbf2daddec44423.jpg: 640x640 1 Tumor, 67.7ms\n",
            "Speed: 0.5ms pre-process, 67.7ms inference, 1.6ms postprocess per image at shape (1, 3, 640, 640)\n",
            "Ultralytics YOLOv8.0.28 🚀 Python-3.10.12 torch-2.1.0+cu121 CUDA:0 (Tesla T4, 15102MiB)\n"
          ]
        },
        {
          "output_type": "stream",
          "name": "stdout",
          "text": [
            "/content/drive/MyDrive/CsiLab-BrainTumor-Detection-3/train/images/Te-me_0011_jpg.rf.02df4a83269bf223e0bebe255879fd15.jpg\n"
          ]
        },
        {
          "output_type": "stream",
          "name": "stderr",
          "text": [
            "Model summary (fused): 168 layers, 11125971 parameters, 0 gradients, 28.4 GFLOPs\n",
            "\n",
            "image 1/1 /content/drive/MyDrive/CsiLab-BrainTumor-Detection-3/train/images/Te-me_0011_jpg.rf.02df4a83269bf223e0bebe255879fd15.jpg: 640x576 1 Tumor, 23.1ms\n",
            "Speed: 0.5ms pre-process, 23.1ms inference, 2.0ms postprocess per image at shape (1, 3, 640, 640)\n",
            "Ultralytics YOLOv8.0.28 🚀 Python-3.10.12 torch-2.1.0+cu121 CUDA:0 (Tesla T4, 15102MiB)\n"
          ]
        },
        {
          "output_type": "stream",
          "name": "stdout",
          "text": [
            "[       0.69     0.39462         0.2     0.16143]\n"
          ]
        },
        {
          "output_type": "stream",
          "name": "stderr",
          "text": [
            "Model summary (fused): 218 layers, 25840339 parameters, 0 gradients, 78.7 GFLOPs\n",
            "\n",
            "image 1/1 /content/drive/MyDrive/CsiLab-BrainTumor-Detection-3/train/images/Te-me_0011_jpg.rf.02df4a83269bf223e0bebe255879fd15.jpg: 640x576 29.0ms\n",
            "Speed: 0.5ms pre-process, 29.0ms inference, 0.5ms postprocess per image at shape (1, 3, 640, 640)\n",
            "Ultralytics YOLOv8.0.28 🚀 Python-3.10.12 torch-2.1.0+cu121 CUDA:0 (Tesla T4, 15102MiB)\n",
            "Model summary (fused): 168 layers, 3005843 parameters, 0 gradients, 8.1 GFLOPs\n",
            "\n",
            "image 1/1 /content/drive/MyDrive/CsiLab-BrainTumor-Detection-3/train/images/Te-me_0011_jpg.rf.02df4a83269bf223e0bebe255879fd15.jpg: 640x576 16.8ms\n",
            "Speed: 0.5ms pre-process, 16.8ms inference, 0.5ms postprocess per image at shape (1, 3, 640, 640)\n",
            "Ultralytics YOLOv8.0.28 🚀 Python-3.10.12 torch-2.1.0+cu121 CUDA:0 (Tesla T4, 15102MiB)\n",
            "Model summary (fused): 268 layers, 43607379 parameters, 0 gradients, 164.8 GFLOPs\n",
            "\n",
            "image 1/1 /content/drive/MyDrive/CsiLab-BrainTumor-Detection-3/train/images/Te-me_0011_jpg.rf.02df4a83269bf223e0bebe255879fd15.jpg: 640x576 1 Tumor, 55.6ms\n",
            "Speed: 0.6ms pre-process, 55.6ms inference, 1.8ms postprocess per image at shape (1, 3, 640, 640)\n",
            "Ultralytics YOLOv8.0.28 🚀 Python-3.10.12 torch-2.1.0+cu121 CUDA:0 (Tesla T4, 15102MiB)\n",
            "Model summary (fused): 268 layers, 68124531 parameters, 0 gradients, 257.4 GFLOPs\n",
            "\n",
            "image 1/1 /content/drive/MyDrive/CsiLab-BrainTumor-Detection-3/train/images/Te-me_0011_jpg.rf.02df4a83269bf223e0bebe255879fd15.jpg: 640x576 1 Tumor, 72.8ms\n",
            "Speed: 0.6ms pre-process, 72.8ms inference, 2.1ms postprocess per image at shape (1, 3, 640, 640)\n",
            "Ultralytics YOLOv8.0.28 🚀 Python-3.10.12 torch-2.1.0+cu121 CUDA:0 (Tesla T4, 15102MiB)\n"
          ]
        },
        {
          "output_type": "stream",
          "name": "stdout",
          "text": [
            "/content/drive/MyDrive/CsiLab-BrainTumor-Detection-3/train/images/25_jpg.rf.ee501f15cc5313eb9659302dfd9c286d.jpg\n"
          ]
        },
        {
          "output_type": "stream",
          "name": "stderr",
          "text": [
            "Model summary (fused): 168 layers, 11125971 parameters, 0 gradients, 28.4 GFLOPs\n",
            "\n",
            "image 1/1 /content/drive/MyDrive/CsiLab-BrainTumor-Detection-3/train/images/25_jpg.rf.ee501f15cc5313eb9659302dfd9c286d.jpg: 640x640 1 Tumor, 18.6ms\n",
            "Speed: 0.5ms pre-process, 18.6ms inference, 1.8ms postprocess per image at shape (1, 3, 640, 640)\n",
            "Ultralytics YOLOv8.0.28 🚀 Python-3.10.12 torch-2.1.0+cu121 CUDA:0 (Tesla T4, 15102MiB)\n"
          ]
        },
        {
          "output_type": "stream",
          "name": "stdout",
          "text": [
            "[    0.67188     0.60938     0.13839     0.17411]\n"
          ]
        },
        {
          "output_type": "stream",
          "name": "stderr",
          "text": [
            "Model summary (fused): 218 layers, 25840339 parameters, 0 gradients, 78.7 GFLOPs\n",
            "\n",
            "image 1/1 /content/drive/MyDrive/CsiLab-BrainTumor-Detection-3/train/images/25_jpg.rf.ee501f15cc5313eb9659302dfd9c286d.jpg: 640x640 1 Tumor, 26.1ms\n",
            "Speed: 0.5ms pre-process, 26.1ms inference, 1.8ms postprocess per image at shape (1, 3, 640, 640)\n",
            "Ultralytics YOLOv8.0.28 🚀 Python-3.10.12 torch-2.1.0+cu121 CUDA:0 (Tesla T4, 15102MiB)\n",
            "Model summary (fused): 168 layers, 3005843 parameters, 0 gradients, 8.1 GFLOPs\n",
            "\n",
            "image 1/1 /content/drive/MyDrive/CsiLab-BrainTumor-Detection-3/train/images/25_jpg.rf.ee501f15cc5313eb9659302dfd9c286d.jpg: 640x640 1 Tumor, 21.9ms\n",
            "Speed: 0.5ms pre-process, 21.9ms inference, 1.5ms postprocess per image at shape (1, 3, 640, 640)\n",
            "Ultralytics YOLOv8.0.28 🚀 Python-3.10.12 torch-2.1.0+cu121 CUDA:0 (Tesla T4, 15102MiB)\n",
            "Model summary (fused): 268 layers, 43607379 parameters, 0 gradients, 164.8 GFLOPs\n",
            "\n",
            "image 1/1 /content/drive/MyDrive/CsiLab-BrainTumor-Detection-3/train/images/25_jpg.rf.ee501f15cc5313eb9659302dfd9c286d.jpg: 640x640 1 Tumor, 63.1ms\n",
            "Speed: 0.5ms pre-process, 63.1ms inference, 1.5ms postprocess per image at shape (1, 3, 640, 640)\n",
            "Ultralytics YOLOv8.0.28 🚀 Python-3.10.12 torch-2.1.0+cu121 CUDA:0 (Tesla T4, 15102MiB)\n",
            "Model summary (fused): 268 layers, 68124531 parameters, 0 gradients, 257.4 GFLOPs\n",
            "\n",
            "image 1/1 /content/drive/MyDrive/CsiLab-BrainTumor-Detection-3/train/images/25_jpg.rf.ee501f15cc5313eb9659302dfd9c286d.jpg: 640x640 1 Tumor, 62.6ms\n",
            "Speed: 0.6ms pre-process, 62.6ms inference, 1.8ms postprocess per image at shape (1, 3, 640, 640)\n",
            "Ultralytics YOLOv8.0.28 🚀 Python-3.10.12 torch-2.1.0+cu121 CUDA:0 (Tesla T4, 15102MiB)\n"
          ]
        },
        {
          "output_type": "stream",
          "name": "stdout",
          "text": [
            "/content/drive/MyDrive/CsiLab-BrainTumor-Detection-3/train/images/Te-me_0082_jpg.rf.5eba5cb16ca22e1d857fbec010349019.jpg\n"
          ]
        },
        {
          "output_type": "stream",
          "name": "stderr",
          "text": [
            "Model summary (fused): 168 layers, 11125971 parameters, 0 gradients, 28.4 GFLOPs\n",
            "\n",
            "image 1/1 /content/drive/MyDrive/CsiLab-BrainTumor-Detection-3/train/images/Te-me_0082_jpg.rf.5eba5cb16ca22e1d857fbec010349019.jpg: 640x512 1 Tumor, 17.8ms\n",
            "Speed: 0.5ms pre-process, 17.8ms inference, 1.4ms postprocess per image at shape (1, 3, 640, 640)\n",
            "Ultralytics YOLOv8.0.28 🚀 Python-3.10.12 torch-2.1.0+cu121 CUDA:0 (Tesla T4, 15102MiB)\n"
          ]
        },
        {
          "output_type": "stream",
          "name": "stdout",
          "text": [
            "[     0.6775     0.44444       0.255     0.26984]\n"
          ]
        },
        {
          "output_type": "stream",
          "name": "stderr",
          "text": [
            "Model summary (fused): 218 layers, 25840339 parameters, 0 gradients, 78.7 GFLOPs\n",
            "\n",
            "image 1/1 /content/drive/MyDrive/CsiLab-BrainTumor-Detection-3/train/images/Te-me_0082_jpg.rf.5eba5cb16ca22e1d857fbec010349019.jpg: 640x512 1 Tumor, 26.6ms\n",
            "Speed: 0.4ms pre-process, 26.6ms inference, 1.4ms postprocess per image at shape (1, 3, 640, 640)\n",
            "Ultralytics YOLOv8.0.28 🚀 Python-3.10.12 torch-2.1.0+cu121 CUDA:0 (Tesla T4, 15102MiB)\n",
            "Model summary (fused): 168 layers, 3005843 parameters, 0 gradients, 8.1 GFLOPs\n",
            "\n",
            "image 1/1 /content/drive/MyDrive/CsiLab-BrainTumor-Detection-3/train/images/Te-me_0082_jpg.rf.5eba5cb16ca22e1d857fbec010349019.jpg: 640x512 1 Tumor, 16.8ms\n",
            "Speed: 0.5ms pre-process, 16.8ms inference, 1.4ms postprocess per image at shape (1, 3, 640, 640)\n",
            "Ultralytics YOLOv8.0.28 🚀 Python-3.10.12 torch-2.1.0+cu121 CUDA:0 (Tesla T4, 15102MiB)\n",
            "Model summary (fused): 268 layers, 43607379 parameters, 0 gradients, 164.8 GFLOPs\n",
            "\n",
            "image 1/1 /content/drive/MyDrive/CsiLab-BrainTumor-Detection-3/train/images/Te-me_0082_jpg.rf.5eba5cb16ca22e1d857fbec010349019.jpg: 640x512 1 Tumor, 45.2ms\n",
            "Speed: 0.5ms pre-process, 45.2ms inference, 1.4ms postprocess per image at shape (1, 3, 640, 640)\n",
            "Ultralytics YOLOv8.0.28 🚀 Python-3.10.12 torch-2.1.0+cu121 CUDA:0 (Tesla T4, 15102MiB)\n",
            "Model summary (fused): 268 layers, 68124531 parameters, 0 gradients, 257.4 GFLOPs\n",
            "\n",
            "image 1/1 /content/drive/MyDrive/CsiLab-BrainTumor-Detection-3/train/images/Te-me_0082_jpg.rf.5eba5cb16ca22e1d857fbec010349019.jpg: 640x512 1 Tumor, 56.2ms\n",
            "Speed: 0.5ms pre-process, 56.2ms inference, 1.4ms postprocess per image at shape (1, 3, 640, 640)\n",
            "Ultralytics YOLOv8.0.28 🚀 Python-3.10.12 torch-2.1.0+cu121 CUDA:0 (Tesla T4, 15102MiB)\n"
          ]
        },
        {
          "output_type": "stream",
          "name": "stdout",
          "text": [
            "/content/drive/MyDrive/CsiLab-BrainTumor-Detection-3/train/images/59_jpg.rf.14ed99c451b858854ae18c27bd11ef12.jpg\n"
          ]
        },
        {
          "output_type": "stream",
          "name": "stderr",
          "text": [
            "Model summary (fused): 168 layers, 11125971 parameters, 0 gradients, 28.4 GFLOPs\n",
            "\n",
            "image 1/1 /content/drive/MyDrive/CsiLab-BrainTumor-Detection-3/train/images/59_jpg.rf.14ed99c451b858854ae18c27bd11ef12.jpg: 640x640 1 Tumor, 15.7ms\n",
            "Speed: 0.5ms pre-process, 15.7ms inference, 1.4ms postprocess per image at shape (1, 3, 640, 640)\n",
            "Ultralytics YOLOv8.0.28 🚀 Python-3.10.12 torch-2.1.0+cu121 CUDA:0 (Tesla T4, 15102MiB)\n"
          ]
        },
        {
          "output_type": "stream",
          "name": "stdout",
          "text": [
            "[     0.7567     0.50446     0.14732     0.22321]\n"
          ]
        },
        {
          "output_type": "stream",
          "name": "stderr",
          "text": [
            "Model summary (fused): 218 layers, 25840339 parameters, 0 gradients, 78.7 GFLOPs\n",
            "\n",
            "image 1/1 /content/drive/MyDrive/CsiLab-BrainTumor-Detection-3/train/images/59_jpg.rf.14ed99c451b858854ae18c27bd11ef12.jpg: 640x640 1 Tumor, 20.1ms\n",
            "Speed: 0.5ms pre-process, 20.1ms inference, 1.4ms postprocess per image at shape (1, 3, 640, 640)\n",
            "Ultralytics YOLOv8.0.28 🚀 Python-3.10.12 torch-2.1.0+cu121 CUDA:0 (Tesla T4, 15102MiB)\n",
            "Model summary (fused): 168 layers, 3005843 parameters, 0 gradients, 8.1 GFLOPs\n",
            "\n",
            "image 1/1 /content/drive/MyDrive/CsiLab-BrainTumor-Detection-3/train/images/59_jpg.rf.14ed99c451b858854ae18c27bd11ef12.jpg: 640x640 1 Tumor, 16.2ms\n",
            "Speed: 0.5ms pre-process, 16.2ms inference, 1.4ms postprocess per image at shape (1, 3, 640, 640)\n",
            "Ultralytics YOLOv8.0.28 🚀 Python-3.10.12 torch-2.1.0+cu121 CUDA:0 (Tesla T4, 15102MiB)\n",
            "Model summary (fused): 268 layers, 43607379 parameters, 0 gradients, 164.8 GFLOPs\n",
            "\n",
            "image 1/1 /content/drive/MyDrive/CsiLab-BrainTumor-Detection-3/train/images/59_jpg.rf.14ed99c451b858854ae18c27bd11ef12.jpg: 640x640 1 Tumor, 59.2ms\n",
            "Speed: 0.6ms pre-process, 59.2ms inference, 1.5ms postprocess per image at shape (1, 3, 640, 640)\n",
            "Ultralytics YOLOv8.0.28 🚀 Python-3.10.12 torch-2.1.0+cu121 CUDA:0 (Tesla T4, 15102MiB)\n",
            "Model summary (fused): 268 layers, 68124531 parameters, 0 gradients, 257.4 GFLOPs\n",
            "\n",
            "image 1/1 /content/drive/MyDrive/CsiLab-BrainTumor-Detection-3/train/images/59_jpg.rf.14ed99c451b858854ae18c27bd11ef12.jpg: 640x640 1 Tumor, 65.8ms\n",
            "Speed: 0.5ms pre-process, 65.8ms inference, 1.7ms postprocess per image at shape (1, 3, 640, 640)\n",
            "Ultralytics YOLOv8.0.28 🚀 Python-3.10.12 torch-2.1.0+cu121 CUDA:0 (Tesla T4, 15102MiB)\n"
          ]
        },
        {
          "output_type": "stream",
          "name": "stdout",
          "text": [
            "/content/drive/MyDrive/CsiLab-BrainTumor-Detection-3/train/images/86_jpg.rf.66026f2e2eb9e6fd84073e0eabb927df.jpg\n"
          ]
        },
        {
          "output_type": "stream",
          "name": "stderr",
          "text": [
            "Model summary (fused): 168 layers, 11125971 parameters, 0 gradients, 28.4 GFLOPs\n",
            "\n",
            "image 1/1 /content/drive/MyDrive/CsiLab-BrainTumor-Detection-3/train/images/86_jpg.rf.66026f2e2eb9e6fd84073e0eabb927df.jpg: 640x640 1 Tumor, 17.7ms\n",
            "Speed: 0.5ms pre-process, 17.7ms inference, 1.4ms postprocess per image at shape (1, 3, 640, 640)\n",
            "Ultralytics YOLOv8.0.28 🚀 Python-3.10.12 torch-2.1.0+cu121 CUDA:0 (Tesla T4, 15102MiB)\n"
          ]
        },
        {
          "output_type": "stream",
          "name": "stdout",
          "text": [
            "[    0.69196     0.32143     0.35714     0.36607]\n"
          ]
        },
        {
          "output_type": "stream",
          "name": "stderr",
          "text": [
            "Model summary (fused): 218 layers, 25840339 parameters, 0 gradients, 78.7 GFLOPs\n",
            "\n",
            "image 1/1 /content/drive/MyDrive/CsiLab-BrainTumor-Detection-3/train/images/86_jpg.rf.66026f2e2eb9e6fd84073e0eabb927df.jpg: 640x640 2 Tumors, 34.4ms\n",
            "Speed: 0.5ms pre-process, 34.4ms inference, 1.8ms postprocess per image at shape (1, 3, 640, 640)\n",
            "Ultralytics YOLOv8.0.28 🚀 Python-3.10.12 torch-2.1.0+cu121 CUDA:0 (Tesla T4, 15102MiB)\n",
            "Model summary (fused): 168 layers, 3005843 parameters, 0 gradients, 8.1 GFLOPs\n",
            "\n",
            "image 1/1 /content/drive/MyDrive/CsiLab-BrainTumor-Detection-3/train/images/86_jpg.rf.66026f2e2eb9e6fd84073e0eabb927df.jpg: 640x640 1 Tumor, 20.9ms\n",
            "Speed: 0.5ms pre-process, 20.9ms inference, 1.8ms postprocess per image at shape (1, 3, 640, 640)\n",
            "Ultralytics YOLOv8.0.28 🚀 Python-3.10.12 torch-2.1.0+cu121 CUDA:0 (Tesla T4, 15102MiB)\n",
            "Model summary (fused): 268 layers, 43607379 parameters, 0 gradients, 164.8 GFLOPs\n",
            "\n",
            "image 1/1 /content/drive/MyDrive/CsiLab-BrainTumor-Detection-3/train/images/86_jpg.rf.66026f2e2eb9e6fd84073e0eabb927df.jpg: 640x640 1 Tumor, 59.6ms\n",
            "Speed: 0.6ms pre-process, 59.6ms inference, 2.1ms postprocess per image at shape (1, 3, 640, 640)\n",
            "Ultralytics YOLOv8.0.28 🚀 Python-3.10.12 torch-2.1.0+cu121 CUDA:0 (Tesla T4, 15102MiB)\n",
            "Model summary (fused): 268 layers, 68124531 parameters, 0 gradients, 257.4 GFLOPs\n",
            "\n",
            "image 1/1 /content/drive/MyDrive/CsiLab-BrainTumor-Detection-3/train/images/86_jpg.rf.66026f2e2eb9e6fd84073e0eabb927df.jpg: 640x640 2 Tumors, 75.9ms\n",
            "Speed: 0.6ms pre-process, 75.9ms inference, 1.6ms postprocess per image at shape (1, 3, 640, 640)\n",
            "Ultralytics YOLOv8.0.28 🚀 Python-3.10.12 torch-2.1.0+cu121 CUDA:0 (Tesla T4, 15102MiB)\n"
          ]
        },
        {
          "output_type": "stream",
          "name": "stdout",
          "text": [
            "/content/drive/MyDrive/CsiLab-BrainTumor-Detection-3/train/images/5_jpg.rf.e9ca89ae1a7bfa88d37c11fb191ab198.jpg\n"
          ]
        },
        {
          "output_type": "stream",
          "name": "stderr",
          "text": [
            "Model summary (fused): 168 layers, 11125971 parameters, 0 gradients, 28.4 GFLOPs\n",
            "\n",
            "image 1/1 /content/drive/MyDrive/CsiLab-BrainTumor-Detection-3/train/images/5_jpg.rf.e9ca89ae1a7bfa88d37c11fb191ab198.jpg: 640x640 1 Tumor, 17.3ms\n",
            "Speed: 0.5ms pre-process, 17.3ms inference, 1.6ms postprocess per image at shape (1, 3, 640, 640)\n",
            "Ultralytics YOLOv8.0.28 🚀 Python-3.10.12 torch-2.1.0+cu121 CUDA:0 (Tesla T4, 15102MiB)\n"
          ]
        },
        {
          "output_type": "stream",
          "name": "stdout",
          "text": [
            "[    0.42857      0.4375     0.21429     0.25893]\n"
          ]
        },
        {
          "output_type": "stream",
          "name": "stderr",
          "text": [
            "Model summary (fused): 218 layers, 25840339 parameters, 0 gradients, 78.7 GFLOPs\n",
            "\n",
            "image 1/1 /content/drive/MyDrive/CsiLab-BrainTumor-Detection-3/train/images/5_jpg.rf.e9ca89ae1a7bfa88d37c11fb191ab198.jpg: 640x640 1 Tumor, 24.1ms\n",
            "Speed: 0.5ms pre-process, 24.1ms inference, 1.6ms postprocess per image at shape (1, 3, 640, 640)\n",
            "Ultralytics YOLOv8.0.28 🚀 Python-3.10.12 torch-2.1.0+cu121 CUDA:0 (Tesla T4, 15102MiB)\n",
            "Model summary (fused): 168 layers, 3005843 parameters, 0 gradients, 8.1 GFLOPs\n",
            "\n",
            "image 1/1 /content/drive/MyDrive/CsiLab-BrainTumor-Detection-3/train/images/5_jpg.rf.e9ca89ae1a7bfa88d37c11fb191ab198.jpg: 640x640 1 Tumor, 27.2ms\n",
            "Speed: 1.2ms pre-process, 27.2ms inference, 2.1ms postprocess per image at shape (1, 3, 640, 640)\n",
            "Ultralytics YOLOv8.0.28 🚀 Python-3.10.12 torch-2.1.0+cu121 CUDA:0 (Tesla T4, 15102MiB)\n",
            "Model summary (fused): 268 layers, 43607379 parameters, 0 gradients, 164.8 GFLOPs\n",
            "\n",
            "image 1/1 /content/drive/MyDrive/CsiLab-BrainTumor-Detection-3/train/images/5_jpg.rf.e9ca89ae1a7bfa88d37c11fb191ab198.jpg: 640x640 1 Tumor, 60.4ms\n",
            "Speed: 0.5ms pre-process, 60.4ms inference, 2.2ms postprocess per image at shape (1, 3, 640, 640)\n",
            "Ultralytics YOLOv8.0.28 🚀 Python-3.10.12 torch-2.1.0+cu121 CUDA:0 (Tesla T4, 15102MiB)\n",
            "Model summary (fused): 268 layers, 68124531 parameters, 0 gradients, 257.4 GFLOPs\n",
            "\n",
            "image 1/1 /content/drive/MyDrive/CsiLab-BrainTumor-Detection-3/train/images/5_jpg.rf.e9ca89ae1a7bfa88d37c11fb191ab198.jpg: 640x640 1 Tumor, 92.8ms\n",
            "Speed: 0.5ms pre-process, 92.8ms inference, 1.5ms postprocess per image at shape (1, 3, 640, 640)\n",
            "Ultralytics YOLOv8.0.28 🚀 Python-3.10.12 torch-2.1.0+cu121 CUDA:0 (Tesla T4, 15102MiB)\n"
          ]
        },
        {
          "output_type": "stream",
          "name": "stdout",
          "text": [
            "/content/drive/MyDrive/CsiLab-BrainTumor-Detection-3/train/images/Te-me_0146_jpg.rf.e2bdfae39a6ede75edb0da1598099297.jpg\n"
          ]
        },
        {
          "output_type": "stream",
          "name": "stderr",
          "text": [
            "Model summary (fused): 168 layers, 11125971 parameters, 0 gradients, 28.4 GFLOPs\n",
            "\n",
            "image 1/1 /content/drive/MyDrive/CsiLab-BrainTumor-Detection-3/train/images/Te-me_0146_jpg.rf.e2bdfae39a6ede75edb0da1598099297.jpg: 640x640 15.7ms\n",
            "Speed: 0.5ms pre-process, 15.7ms inference, 0.5ms postprocess per image at shape (1, 3, 640, 640)\n",
            "Ultralytics YOLOv8.0.28 🚀 Python-3.10.12 torch-2.1.0+cu121 CUDA:0 (Tesla T4, 15102MiB)\n"
          ]
        },
        {
          "output_type": "stream",
          "name": "stdout",
          "text": [
            "[0, 0, 0, 0]\n"
          ]
        },
        {
          "output_type": "stream",
          "name": "stderr",
          "text": [
            "Model summary (fused): 218 layers, 25840339 parameters, 0 gradients, 78.7 GFLOPs\n",
            "\n",
            "image 1/1 /content/drive/MyDrive/CsiLab-BrainTumor-Detection-3/train/images/Te-me_0146_jpg.rf.e2bdfae39a6ede75edb0da1598099297.jpg: 640x640 1 Tumor, 45.8ms\n",
            "Speed: 1.3ms pre-process, 45.8ms inference, 2.1ms postprocess per image at shape (1, 3, 640, 640)\n",
            "Ultralytics YOLOv8.0.28 🚀 Python-3.10.12 torch-2.1.0+cu121 CUDA:0 (Tesla T4, 15102MiB)\n",
            "Model summary (fused): 168 layers, 3005843 parameters, 0 gradients, 8.1 GFLOPs\n",
            "\n",
            "image 1/1 /content/drive/MyDrive/CsiLab-BrainTumor-Detection-3/train/images/Te-me_0146_jpg.rf.e2bdfae39a6ede75edb0da1598099297.jpg: 640x640 1 Tumor, 15.8ms\n",
            "Speed: 0.5ms pre-process, 15.8ms inference, 1.4ms postprocess per image at shape (1, 3, 640, 640)\n",
            "Ultralytics YOLOv8.0.28 🚀 Python-3.10.12 torch-2.1.0+cu121 CUDA:0 (Tesla T4, 15102MiB)\n",
            "Model summary (fused): 268 layers, 43607379 parameters, 0 gradients, 164.8 GFLOPs\n",
            "\n",
            "image 1/1 /content/drive/MyDrive/CsiLab-BrainTumor-Detection-3/train/images/Te-me_0146_jpg.rf.e2bdfae39a6ede75edb0da1598099297.jpg: 640x640 1 Tumor, 56.4ms\n",
            "Speed: 0.5ms pre-process, 56.4ms inference, 1.5ms postprocess per image at shape (1, 3, 640, 640)\n",
            "Ultralytics YOLOv8.0.28 🚀 Python-3.10.12 torch-2.1.0+cu121 CUDA:0 (Tesla T4, 15102MiB)\n",
            "Model summary (fused): 268 layers, 68124531 parameters, 0 gradients, 257.4 GFLOPs\n",
            "\n",
            "image 1/1 /content/drive/MyDrive/CsiLab-BrainTumor-Detection-3/train/images/Te-me_0146_jpg.rf.e2bdfae39a6ede75edb0da1598099297.jpg: 640x640 1 Tumor, 64.4ms\n",
            "Speed: 0.5ms pre-process, 64.4ms inference, 1.5ms postprocess per image at shape (1, 3, 640, 640)\n",
            "Ultralytics YOLOv8.0.28 🚀 Python-3.10.12 torch-2.1.0+cu121 CUDA:0 (Tesla T4, 15102MiB)\n"
          ]
        },
        {
          "output_type": "stream",
          "name": "stdout",
          "text": [
            "/content/drive/MyDrive/CsiLab-BrainTumor-Detection-3/train/images/44_jpg.rf.0b6f99ddc8db9bfe89a739b184b55a50.jpg\n"
          ]
        },
        {
          "output_type": "stream",
          "name": "stderr",
          "text": [
            "Model summary (fused): 168 layers, 11125971 parameters, 0 gradients, 28.4 GFLOPs\n",
            "\n",
            "image 1/1 /content/drive/MyDrive/CsiLab-BrainTumor-Detection-3/train/images/44_jpg.rf.0b6f99ddc8db9bfe89a739b184b55a50.jpg: 640x640 1 Tumor, 17.9ms\n",
            "Speed: 0.6ms pre-process, 17.9ms inference, 1.6ms postprocess per image at shape (1, 3, 640, 640)\n",
            "Ultralytics YOLOv8.0.28 🚀 Python-3.10.12 torch-2.1.0+cu121 CUDA:0 (Tesla T4, 15102MiB)\n"
          ]
        },
        {
          "output_type": "stream",
          "name": "stdout",
          "text": [
            "[    0.28571     0.69866     0.17857     0.18304]\n"
          ]
        },
        {
          "output_type": "stream",
          "name": "stderr",
          "text": [
            "Model summary (fused): 218 layers, 25840339 parameters, 0 gradients, 78.7 GFLOPs\n",
            "\n",
            "image 1/1 /content/drive/MyDrive/CsiLab-BrainTumor-Detection-3/train/images/44_jpg.rf.0b6f99ddc8db9bfe89a739b184b55a50.jpg: 640x640 1 Tumor, 29.0ms\n",
            "Speed: 0.5ms pre-process, 29.0ms inference, 1.9ms postprocess per image at shape (1, 3, 640, 640)\n",
            "Ultralytics YOLOv8.0.28 🚀 Python-3.10.12 torch-2.1.0+cu121 CUDA:0 (Tesla T4, 15102MiB)\n",
            "Model summary (fused): 168 layers, 3005843 parameters, 0 gradients, 8.1 GFLOPs\n",
            "\n",
            "image 1/1 /content/drive/MyDrive/CsiLab-BrainTumor-Detection-3/train/images/44_jpg.rf.0b6f99ddc8db9bfe89a739b184b55a50.jpg: 640x640 1 Tumor, 17.9ms\n",
            "Speed: 0.5ms pre-process, 17.9ms inference, 1.4ms postprocess per image at shape (1, 3, 640, 640)\n",
            "Ultralytics YOLOv8.0.28 🚀 Python-3.10.12 torch-2.1.0+cu121 CUDA:0 (Tesla T4, 15102MiB)\n",
            "Model summary (fused): 268 layers, 43607379 parameters, 0 gradients, 164.8 GFLOPs\n",
            "\n",
            "image 1/1 /content/drive/MyDrive/CsiLab-BrainTumor-Detection-3/train/images/44_jpg.rf.0b6f99ddc8db9bfe89a739b184b55a50.jpg: 640x640 1 Tumor, 57.0ms\n",
            "Speed: 0.5ms pre-process, 57.0ms inference, 2.1ms postprocess per image at shape (1, 3, 640, 640)\n",
            "Ultralytics YOLOv8.0.28 🚀 Python-3.10.12 torch-2.1.0+cu121 CUDA:0 (Tesla T4, 15102MiB)\n",
            "Model summary (fused): 268 layers, 68124531 parameters, 0 gradients, 257.4 GFLOPs\n",
            "\n",
            "image 1/1 /content/drive/MyDrive/CsiLab-BrainTumor-Detection-3/train/images/44_jpg.rf.0b6f99ddc8db9bfe89a739b184b55a50.jpg: 640x640 1 Tumor, 70.2ms\n",
            "Speed: 0.6ms pre-process, 70.2ms inference, 2.0ms postprocess per image at shape (1, 3, 640, 640)\n",
            "Ultralytics YOLOv8.0.28 🚀 Python-3.10.12 torch-2.1.0+cu121 CUDA:0 (Tesla T4, 15102MiB)\n"
          ]
        },
        {
          "output_type": "stream",
          "name": "stdout",
          "text": [
            "/content/drive/MyDrive/CsiLab-BrainTumor-Detection-3/train/images/Te-me_0191_jpg.rf.8b947af8e998ed37507faaa71f6926be.jpg\n"
          ]
        },
        {
          "output_type": "stream",
          "name": "stderr",
          "text": [
            "Model summary (fused): 168 layers, 11125971 parameters, 0 gradients, 28.4 GFLOPs\n",
            "\n",
            "image 1/1 /content/drive/MyDrive/CsiLab-BrainTumor-Detection-3/train/images/Te-me_0191_jpg.rf.8b947af8e998ed37507faaa71f6926be.jpg: 640x640 1 Tumor, 17.3ms\n",
            "Speed: 0.5ms pre-process, 17.3ms inference, 1.7ms postprocess per image at shape (1, 3, 640, 640)\n",
            "Ultralytics YOLOv8.0.28 🚀 Python-3.10.12 torch-2.1.0+cu121 CUDA:0 (Tesla T4, 15102MiB)\n"
          ]
        },
        {
          "output_type": "stream",
          "name": "stdout",
          "text": [
            "[    0.28906     0.37695     0.10547     0.10938]\n"
          ]
        },
        {
          "output_type": "stream",
          "name": "stderr",
          "text": [
            "Model summary (fused): 218 layers, 25840339 parameters, 0 gradients, 78.7 GFLOPs\n",
            "\n",
            "image 1/1 /content/drive/MyDrive/CsiLab-BrainTumor-Detection-3/train/images/Te-me_0191_jpg.rf.8b947af8e998ed37507faaa71f6926be.jpg: 640x640 1 Tumor, 27.6ms\n",
            "Speed: 0.5ms pre-process, 27.6ms inference, 3.9ms postprocess per image at shape (1, 3, 640, 640)\n",
            "Ultralytics YOLOv8.0.28 🚀 Python-3.10.12 torch-2.1.0+cu121 CUDA:0 (Tesla T4, 15102MiB)\n",
            "Model summary (fused): 168 layers, 3005843 parameters, 0 gradients, 8.1 GFLOPs\n",
            "\n",
            "image 1/1 /content/drive/MyDrive/CsiLab-BrainTumor-Detection-3/train/images/Te-me_0191_jpg.rf.8b947af8e998ed37507faaa71f6926be.jpg: 640x640 1 Tumor, 16.2ms\n",
            "Speed: 0.5ms pre-process, 16.2ms inference, 1.4ms postprocess per image at shape (1, 3, 640, 640)\n",
            "Ultralytics YOLOv8.0.28 🚀 Python-3.10.12 torch-2.1.0+cu121 CUDA:0 (Tesla T4, 15102MiB)\n",
            "Model summary (fused): 268 layers, 43607379 parameters, 0 gradients, 164.8 GFLOPs\n",
            "\n",
            "image 1/1 /content/drive/MyDrive/CsiLab-BrainTumor-Detection-3/train/images/Te-me_0191_jpg.rf.8b947af8e998ed37507faaa71f6926be.jpg: 640x640 1 Tumor, 62.9ms\n",
            "Speed: 0.5ms pre-process, 62.9ms inference, 1.5ms postprocess per image at shape (1, 3, 640, 640)\n",
            "Ultralytics YOLOv8.0.28 🚀 Python-3.10.12 torch-2.1.0+cu121 CUDA:0 (Tesla T4, 15102MiB)\n",
            "Model summary (fused): 268 layers, 68124531 parameters, 0 gradients, 257.4 GFLOPs\n",
            "\n",
            "image 1/1 /content/drive/MyDrive/CsiLab-BrainTumor-Detection-3/train/images/Te-me_0191_jpg.rf.8b947af8e998ed37507faaa71f6926be.jpg: 640x640 1 Tumor, 87.4ms\n",
            "Speed: 0.6ms pre-process, 87.4ms inference, 1.5ms postprocess per image at shape (1, 3, 640, 640)\n",
            "Ultralytics YOLOv8.0.28 🚀 Python-3.10.12 torch-2.1.0+cu121 CUDA:0 (Tesla T4, 15102MiB)\n"
          ]
        },
        {
          "output_type": "stream",
          "name": "stdout",
          "text": [
            "/content/drive/MyDrive/CsiLab-BrainTumor-Detection-3/train/images/Te-meTr_0003_jpg.rf.bd4ef8808a87c26273c5dc3492d00979.jpg\n"
          ]
        },
        {
          "output_type": "stream",
          "name": "stderr",
          "text": [
            "Model summary (fused): 168 layers, 11125971 parameters, 0 gradients, 28.4 GFLOPs\n",
            "\n",
            "image 1/1 /content/drive/MyDrive/CsiLab-BrainTumor-Detection-3/train/images/Te-meTr_0003_jpg.rf.bd4ef8808a87c26273c5dc3492d00979.jpg: 640x576 16.5ms\n",
            "Speed: 0.5ms pre-process, 16.5ms inference, 0.5ms postprocess per image at shape (1, 3, 640, 640)\n",
            "Ultralytics YOLOv8.0.28 🚀 Python-3.10.12 torch-2.1.0+cu121 CUDA:0 (Tesla T4, 15102MiB)\n"
          ]
        },
        {
          "output_type": "stream",
          "name": "stdout",
          "text": [
            "[0, 0, 0, 0]\n"
          ]
        },
        {
          "output_type": "stream",
          "name": "stderr",
          "text": [
            "Model summary (fused): 218 layers, 25840339 parameters, 0 gradients, 78.7 GFLOPs\n",
            "\n",
            "image 1/1 /content/drive/MyDrive/CsiLab-BrainTumor-Detection-3/train/images/Te-meTr_0003_jpg.rf.bd4ef8808a87c26273c5dc3492d00979.jpg: 640x576 1 Tumor, 21.5ms\n",
            "Speed: 0.5ms pre-process, 21.5ms inference, 1.5ms postprocess per image at shape (1, 3, 640, 640)\n",
            "Ultralytics YOLOv8.0.28 🚀 Python-3.10.12 torch-2.1.0+cu121 CUDA:0 (Tesla T4, 15102MiB)\n",
            "Model summary (fused): 168 layers, 3005843 parameters, 0 gradients, 8.1 GFLOPs\n",
            "\n",
            "image 1/1 /content/drive/MyDrive/CsiLab-BrainTumor-Detection-3/train/images/Te-meTr_0003_jpg.rf.bd4ef8808a87c26273c5dc3492d00979.jpg: 640x576 1 Tumor, 20.4ms\n",
            "Speed: 0.5ms pre-process, 20.4ms inference, 1.4ms postprocess per image at shape (1, 3, 640, 640)\n",
            "Ultralytics YOLOv8.0.28 🚀 Python-3.10.12 torch-2.1.0+cu121 CUDA:0 (Tesla T4, 15102MiB)\n",
            "Model summary (fused): 268 layers, 43607379 parameters, 0 gradients, 164.8 GFLOPs\n",
            "\n",
            "image 1/1 /content/drive/MyDrive/CsiLab-BrainTumor-Detection-3/train/images/Te-meTr_0003_jpg.rf.bd4ef8808a87c26273c5dc3492d00979.jpg: 640x576 1 Tumor, 55.8ms\n",
            "Speed: 0.5ms pre-process, 55.8ms inference, 1.4ms postprocess per image at shape (1, 3, 640, 640)\n",
            "Ultralytics YOLOv8.0.28 🚀 Python-3.10.12 torch-2.1.0+cu121 CUDA:0 (Tesla T4, 15102MiB)\n",
            "Model summary (fused): 268 layers, 68124531 parameters, 0 gradients, 257.4 GFLOPs\n",
            "\n",
            "image 1/1 /content/drive/MyDrive/CsiLab-BrainTumor-Detection-3/train/images/Te-meTr_0003_jpg.rf.bd4ef8808a87c26273c5dc3492d00979.jpg: 640x576 1 Tumor, 60.4ms\n",
            "Speed: 0.5ms pre-process, 60.4ms inference, 1.9ms postprocess per image at shape (1, 3, 640, 640)\n",
            "Ultralytics YOLOv8.0.28 🚀 Python-3.10.12 torch-2.1.0+cu121 CUDA:0 (Tesla T4, 15102MiB)\n"
          ]
        },
        {
          "output_type": "stream",
          "name": "stdout",
          "text": [
            "/content/drive/MyDrive/CsiLab-BrainTumor-Detection-3/train/images/Te-me_0050_jpg.rf.115617660a6b74a0cb90c8c3dadc5082.jpg\n"
          ]
        },
        {
          "output_type": "stream",
          "name": "stderr",
          "text": [
            "Model summary (fused): 168 layers, 11125971 parameters, 0 gradients, 28.4 GFLOPs\n",
            "\n",
            "image 1/1 /content/drive/MyDrive/CsiLab-BrainTumor-Detection-3/train/images/Te-me_0050_jpg.rf.115617660a6b74a0cb90c8c3dadc5082.jpg: 640x640 1 Tumor, 16.6ms\n",
            "Speed: 0.6ms pre-process, 16.6ms inference, 2.2ms postprocess per image at shape (1, 3, 640, 640)\n"
          ]
        },
        {
          "output_type": "stream",
          "name": "stdout",
          "text": [
            "[    0.45588     0.17195     0.16063     0.12217]\n"
          ]
        },
        {
          "output_type": "stream",
          "name": "stderr",
          "text": [
            "Ultralytics YOLOv8.0.28 🚀 Python-3.10.12 torch-2.1.0+cu121 CUDA:0 (Tesla T4, 15102MiB)\n",
            "Model summary (fused): 218 layers, 25840339 parameters, 0 gradients, 78.7 GFLOPs\n",
            "\n",
            "image 1/1 /content/drive/MyDrive/CsiLab-BrainTumor-Detection-3/train/images/Te-me_0050_jpg.rf.115617660a6b74a0cb90c8c3dadc5082.jpg: 640x640 1 Tumor, 21.1ms\n",
            "Speed: 0.5ms pre-process, 21.1ms inference, 1.4ms postprocess per image at shape (1, 3, 640, 640)\n",
            "Ultralytics YOLOv8.0.28 🚀 Python-3.10.12 torch-2.1.0+cu121 CUDA:0 (Tesla T4, 15102MiB)\n",
            "Model summary (fused): 168 layers, 3005843 parameters, 0 gradients, 8.1 GFLOPs\n",
            "\n",
            "image 1/1 /content/drive/MyDrive/CsiLab-BrainTumor-Detection-3/train/images/Te-me_0050_jpg.rf.115617660a6b74a0cb90c8c3dadc5082.jpg: 640x640 1 Tumor, 18.5ms\n",
            "Speed: 0.5ms pre-process, 18.5ms inference, 1.5ms postprocess per image at shape (1, 3, 640, 640)\n",
            "Ultralytics YOLOv8.0.28 🚀 Python-3.10.12 torch-2.1.0+cu121 CUDA:0 (Tesla T4, 15102MiB)\n",
            "Model summary (fused): 268 layers, 43607379 parameters, 0 gradients, 164.8 GFLOPs\n",
            "\n",
            "image 1/1 /content/drive/MyDrive/CsiLab-BrainTumor-Detection-3/train/images/Te-me_0050_jpg.rf.115617660a6b74a0cb90c8c3dadc5082.jpg: 640x640 1 Tumor, 55.7ms\n",
            "Speed: 0.5ms pre-process, 55.7ms inference, 1.4ms postprocess per image at shape (1, 3, 640, 640)\n",
            "Ultralytics YOLOv8.0.28 🚀 Python-3.10.12 torch-2.1.0+cu121 CUDA:0 (Tesla T4, 15102MiB)\n",
            "Model summary (fused): 268 layers, 68124531 parameters, 0 gradients, 257.4 GFLOPs\n",
            "\n",
            "image 1/1 /content/drive/MyDrive/CsiLab-BrainTumor-Detection-3/train/images/Te-me_0050_jpg.rf.115617660a6b74a0cb90c8c3dadc5082.jpg: 640x640 1 Tumor, 97.0ms\n",
            "Speed: 0.5ms pre-process, 97.0ms inference, 1.5ms postprocess per image at shape (1, 3, 640, 640)\n",
            "Ultralytics YOLOv8.0.28 🚀 Python-3.10.12 torch-2.1.0+cu121 CUDA:0 (Tesla T4, 15102MiB)\n"
          ]
        },
        {
          "output_type": "stream",
          "name": "stdout",
          "text": [
            "/content/drive/MyDrive/CsiLab-BrainTumor-Detection-3/train/images/Te-me_0035_jpg.rf.c9b96871df456f83e87c4551566fbe1b.jpg\n"
          ]
        },
        {
          "output_type": "stream",
          "name": "stderr",
          "text": [
            "Model summary (fused): 168 layers, 11125971 parameters, 0 gradients, 28.4 GFLOPs\n",
            "\n",
            "image 1/1 /content/drive/MyDrive/CsiLab-BrainTumor-Detection-3/train/images/Te-me_0035_jpg.rf.c9b96871df456f83e87c4551566fbe1b.jpg: 640x480 1 Tumor, 16.9ms\n",
            "Speed: 0.5ms pre-process, 16.9ms inference, 1.5ms postprocess per image at shape (1, 3, 640, 640)\n"
          ]
        },
        {
          "output_type": "stream",
          "name": "stdout",
          "text": [
            "[    0.69167      0.4551        0.35     0.29369]\n"
          ]
        },
        {
          "output_type": "stream",
          "name": "stderr",
          "text": [
            "Ultralytics YOLOv8.0.28 🚀 Python-3.10.12 torch-2.1.0+cu121 CUDA:0 (Tesla T4, 15102MiB)\n",
            "Model summary (fused): 218 layers, 25840339 parameters, 0 gradients, 78.7 GFLOPs\n",
            "\n",
            "image 1/1 /content/drive/MyDrive/CsiLab-BrainTumor-Detection-3/train/images/Te-me_0035_jpg.rf.c9b96871df456f83e87c4551566fbe1b.jpg: 640x480 1 Tumor, 23.1ms\n",
            "Speed: 0.5ms pre-process, 23.1ms inference, 1.7ms postprocess per image at shape (1, 3, 640, 640)\n",
            "Ultralytics YOLOv8.0.28 🚀 Python-3.10.12 torch-2.1.0+cu121 CUDA:0 (Tesla T4, 15102MiB)\n",
            "Model summary (fused): 168 layers, 3005843 parameters, 0 gradients, 8.1 GFLOPs\n",
            "\n",
            "image 1/1 /content/drive/MyDrive/CsiLab-BrainTumor-Detection-3/train/images/Te-me_0035_jpg.rf.c9b96871df456f83e87c4551566fbe1b.jpg: 640x480 1 Tumor, 22.2ms\n",
            "Speed: 0.5ms pre-process, 22.2ms inference, 1.7ms postprocess per image at shape (1, 3, 640, 640)\n",
            "Ultralytics YOLOv8.0.28 🚀 Python-3.10.12 torch-2.1.0+cu121 CUDA:0 (Tesla T4, 15102MiB)\n",
            "Model summary (fused): 268 layers, 43607379 parameters, 0 gradients, 164.8 GFLOPs\n",
            "\n",
            "image 1/1 /content/drive/MyDrive/CsiLab-BrainTumor-Detection-3/train/images/Te-me_0035_jpg.rf.c9b96871df456f83e87c4551566fbe1b.jpg: 640x480 1 Tumor, 56.2ms\n",
            "Speed: 0.5ms pre-process, 56.2ms inference, 1.8ms postprocess per image at shape (1, 3, 640, 640)\n",
            "Ultralytics YOLOv8.0.28 🚀 Python-3.10.12 torch-2.1.0+cu121 CUDA:0 (Tesla T4, 15102MiB)\n",
            "Model summary (fused): 268 layers, 68124531 parameters, 0 gradients, 257.4 GFLOPs\n",
            "\n",
            "image 1/1 /content/drive/MyDrive/CsiLab-BrainTumor-Detection-3/train/images/Te-me_0035_jpg.rf.c9b96871df456f83e87c4551566fbe1b.jpg: 640x480 1 Tumor, 56.7ms\n",
            "Speed: 0.5ms pre-process, 56.7ms inference, 1.4ms postprocess per image at shape (1, 3, 640, 640)\n",
            "Ultralytics YOLOv8.0.28 🚀 Python-3.10.12 torch-2.1.0+cu121 CUDA:0 (Tesla T4, 15102MiB)\n"
          ]
        },
        {
          "output_type": "stream",
          "name": "stdout",
          "text": [
            "/content/drive/MyDrive/CsiLab-BrainTumor-Detection-3/train/images/41_jpg.rf.17defa9338dc3ff01c177229676ec733.jpg\n"
          ]
        },
        {
          "output_type": "stream",
          "name": "stderr",
          "text": [
            "Model summary (fused): 168 layers, 11125971 parameters, 0 gradients, 28.4 GFLOPs\n",
            "\n",
            "image 1/1 /content/drive/MyDrive/CsiLab-BrainTumor-Detection-3/train/images/41_jpg.rf.17defa9338dc3ff01c177229676ec733.jpg: 640x640 1 Tumor, 16.3ms\n",
            "Speed: 0.5ms pre-process, 16.3ms inference, 1.5ms postprocess per image at shape (1, 3, 640, 640)\n",
            "Ultralytics YOLOv8.0.28 🚀 Python-3.10.12 torch-2.1.0+cu121 CUDA:0 (Tesla T4, 15102MiB)\n"
          ]
        },
        {
          "output_type": "stream",
          "name": "stdout",
          "text": [
            "[    0.33036     0.43304        0.25     0.24107]\n"
          ]
        },
        {
          "output_type": "stream",
          "name": "stderr",
          "text": [
            "Model summary (fused): 218 layers, 25840339 parameters, 0 gradients, 78.7 GFLOPs\n",
            "\n",
            "image 1/1 /content/drive/MyDrive/CsiLab-BrainTumor-Detection-3/train/images/41_jpg.rf.17defa9338dc3ff01c177229676ec733.jpg: 640x640 1 Tumor, 21.4ms\n",
            "Speed: 0.5ms pre-process, 21.4ms inference, 1.5ms postprocess per image at shape (1, 3, 640, 640)\n",
            "Ultralytics YOLOv8.0.28 🚀 Python-3.10.12 torch-2.1.0+cu121 CUDA:0 (Tesla T4, 15102MiB)\n",
            "Model summary (fused): 168 layers, 3005843 parameters, 0 gradients, 8.1 GFLOPs\n",
            "\n",
            "image 1/1 /content/drive/MyDrive/CsiLab-BrainTumor-Detection-3/train/images/41_jpg.rf.17defa9338dc3ff01c177229676ec733.jpg: 640x640 1 Tumor, 18.0ms\n",
            "Speed: 0.6ms pre-process, 18.0ms inference, 1.5ms postprocess per image at shape (1, 3, 640, 640)\n",
            "Ultralytics YOLOv8.0.28 🚀 Python-3.10.12 torch-2.1.0+cu121 CUDA:0 (Tesla T4, 15102MiB)\n",
            "Model summary (fused): 268 layers, 43607379 parameters, 0 gradients, 164.8 GFLOPs\n",
            "\n",
            "image 1/1 /content/drive/MyDrive/CsiLab-BrainTumor-Detection-3/train/images/41_jpg.rf.17defa9338dc3ff01c177229676ec733.jpg: 640x640 1 Tumor, 62.0ms\n",
            "Speed: 0.6ms pre-process, 62.0ms inference, 1.8ms postprocess per image at shape (1, 3, 640, 640)\n",
            "Ultralytics YOLOv8.0.28 🚀 Python-3.10.12 torch-2.1.0+cu121 CUDA:0 (Tesla T4, 15102MiB)\n",
            "Model summary (fused): 268 layers, 68124531 parameters, 0 gradients, 257.4 GFLOPs\n",
            "\n",
            "image 1/1 /content/drive/MyDrive/CsiLab-BrainTumor-Detection-3/train/images/41_jpg.rf.17defa9338dc3ff01c177229676ec733.jpg: 640x640 1 Tumor, 65.2ms\n",
            "Speed: 0.6ms pre-process, 65.2ms inference, 1.5ms postprocess per image at shape (1, 3, 640, 640)\n",
            "Ultralytics YOLOv8.0.28 🚀 Python-3.10.12 torch-2.1.0+cu121 CUDA:0 (Tesla T4, 15102MiB)\n"
          ]
        },
        {
          "output_type": "stream",
          "name": "stdout",
          "text": [
            "/content/drive/MyDrive/CsiLab-BrainTumor-Detection-3/train/images/Te-me_0096_jpg.rf.f7c692c1441f3ab58ecc6ba9aea8230c.jpg\n"
          ]
        },
        {
          "output_type": "stream",
          "name": "stderr",
          "text": [
            "Model summary (fused): 168 layers, 11125971 parameters, 0 gradients, 28.4 GFLOPs\n",
            "\n",
            "image 1/1 /content/drive/MyDrive/CsiLab-BrainTumor-Detection-3/train/images/Te-me_0096_jpg.rf.f7c692c1441f3ab58ecc6ba9aea8230c.jpg: 640x640 1 Tumor, 16.3ms\n",
            "Speed: 0.5ms pre-process, 16.3ms inference, 1.5ms postprocess per image at shape (1, 3, 640, 640)\n",
            "Ultralytics YOLOv8.0.28 🚀 Python-3.10.12 torch-2.1.0+cu121 CUDA:0 (Tesla T4, 15102MiB)\n"
          ]
        },
        {
          "output_type": "stream",
          "name": "stdout",
          "text": [
            "[    0.32812     0.67123     0.28125     0.30137]\n"
          ]
        },
        {
          "output_type": "stream",
          "name": "stderr",
          "text": [
            "Model summary (fused): 218 layers, 25840339 parameters, 0 gradients, 78.7 GFLOPs\n",
            "\n",
            "image 1/1 /content/drive/MyDrive/CsiLab-BrainTumor-Detection-3/train/images/Te-me_0096_jpg.rf.f7c692c1441f3ab58ecc6ba9aea8230c.jpg: 640x640 1 Tumor, 24.1ms\n",
            "Speed: 0.5ms pre-process, 24.1ms inference, 1.6ms postprocess per image at shape (1, 3, 640, 640)\n",
            "Ultralytics YOLOv8.0.28 🚀 Python-3.10.12 torch-2.1.0+cu121 CUDA:0 (Tesla T4, 15102MiB)\n",
            "Model summary (fused): 168 layers, 3005843 parameters, 0 gradients, 8.1 GFLOPs\n",
            "\n",
            "image 1/1 /content/drive/MyDrive/CsiLab-BrainTumor-Detection-3/train/images/Te-me_0096_jpg.rf.f7c692c1441f3ab58ecc6ba9aea8230c.jpg: 640x640 1 Tumor, 23.9ms\n",
            "Speed: 0.8ms pre-process, 23.9ms inference, 1.9ms postprocess per image at shape (1, 3, 640, 640)\n",
            "Ultralytics YOLOv8.0.28 🚀 Python-3.10.12 torch-2.1.0+cu121 CUDA:0 (Tesla T4, 15102MiB)\n",
            "Model summary (fused): 268 layers, 43607379 parameters, 0 gradients, 164.8 GFLOPs\n",
            "\n",
            "image 1/1 /content/drive/MyDrive/CsiLab-BrainTumor-Detection-3/train/images/Te-me_0096_jpg.rf.f7c692c1441f3ab58ecc6ba9aea8230c.jpg: 640x640 1 Tumor, 56.1ms\n",
            "Speed: 0.5ms pre-process, 56.1ms inference, 1.5ms postprocess per image at shape (1, 3, 640, 640)\n",
            "Ultralytics YOLOv8.0.28 🚀 Python-3.10.12 torch-2.1.0+cu121 CUDA:0 (Tesla T4, 15102MiB)\n",
            "Model summary (fused): 268 layers, 68124531 parameters, 0 gradients, 257.4 GFLOPs\n",
            "\n",
            "image 1/1 /content/drive/MyDrive/CsiLab-BrainTumor-Detection-3/train/images/Te-me_0096_jpg.rf.f7c692c1441f3ab58ecc6ba9aea8230c.jpg: 640x640 1 Tumor, 72.5ms\n",
            "Speed: 0.5ms pre-process, 72.5ms inference, 2.5ms postprocess per image at shape (1, 3, 640, 640)\n",
            "Ultralytics YOLOv8.0.28 🚀 Python-3.10.12 torch-2.1.0+cu121 CUDA:0 (Tesla T4, 15102MiB)\n"
          ]
        },
        {
          "output_type": "stream",
          "name": "stdout",
          "text": [
            "/content/drive/MyDrive/CsiLab-BrainTumor-Detection-3/train/images/Te-me_0232_jpg.rf.9800a267f80746b6af2182320a400ea4.jpg\n"
          ]
        },
        {
          "output_type": "stream",
          "name": "stderr",
          "text": [
            "Model summary (fused): 168 layers, 11125971 parameters, 0 gradients, 28.4 GFLOPs\n",
            "\n",
            "image 1/1 /content/drive/MyDrive/CsiLab-BrainTumor-Detection-3/train/images/Te-me_0232_jpg.rf.9800a267f80746b6af2182320a400ea4.jpg: 640x640 1 Tumor, 32.6ms\n",
            "Speed: 0.6ms pre-process, 32.6ms inference, 2.4ms postprocess per image at shape (1, 3, 640, 640)\n",
            "Ultralytics YOLOv8.0.28 🚀 Python-3.10.12 torch-2.1.0+cu121 CUDA:0 (Tesla T4, 15102MiB)\n"
          ]
        },
        {
          "output_type": "stream",
          "name": "stdout",
          "text": [
            "[    0.31348      0.6123     0.13867     0.18555]\n"
          ]
        },
        {
          "output_type": "stream",
          "name": "stderr",
          "text": [
            "Model summary (fused): 218 layers, 25840339 parameters, 0 gradients, 78.7 GFLOPs\n",
            "\n",
            "image 1/1 /content/drive/MyDrive/CsiLab-BrainTumor-Detection-3/train/images/Te-me_0232_jpg.rf.9800a267f80746b6af2182320a400ea4.jpg: 640x640 1 Tumor, 29.7ms\n",
            "Speed: 0.6ms pre-process, 29.7ms inference, 1.8ms postprocess per image at shape (1, 3, 640, 640)\n",
            "Ultralytics YOLOv8.0.28 🚀 Python-3.10.12 torch-2.1.0+cu121 CUDA:0 (Tesla T4, 15102MiB)\n",
            "Model summary (fused): 168 layers, 3005843 parameters, 0 gradients, 8.1 GFLOPs\n",
            "\n",
            "image 1/1 /content/drive/MyDrive/CsiLab-BrainTumor-Detection-3/train/images/Te-me_0232_jpg.rf.9800a267f80746b6af2182320a400ea4.jpg: 640x640 1 Tumor, 23.9ms\n",
            "Speed: 0.6ms pre-process, 23.9ms inference, 2.2ms postprocess per image at shape (1, 3, 640, 640)\n",
            "Ultralytics YOLOv8.0.28 🚀 Python-3.10.12 torch-2.1.0+cu121 CUDA:0 (Tesla T4, 15102MiB)\n",
            "Model summary (fused): 268 layers, 43607379 parameters, 0 gradients, 164.8 GFLOPs\n",
            "\n",
            "image 1/1 /content/drive/MyDrive/CsiLab-BrainTumor-Detection-3/train/images/Te-me_0232_jpg.rf.9800a267f80746b6af2182320a400ea4.jpg: 640x640 1 Tumor, 57.5ms\n",
            "Speed: 0.5ms pre-process, 57.5ms inference, 1.9ms postprocess per image at shape (1, 3, 640, 640)\n",
            "Ultralytics YOLOv8.0.28 🚀 Python-3.10.12 torch-2.1.0+cu121 CUDA:0 (Tesla T4, 15102MiB)\n",
            "Model summary (fused): 268 layers, 68124531 parameters, 0 gradients, 257.4 GFLOPs\n",
            "\n",
            "image 1/1 /content/drive/MyDrive/CsiLab-BrainTumor-Detection-3/train/images/Te-me_0232_jpg.rf.9800a267f80746b6af2182320a400ea4.jpg: 640x640 1 Tumor, 97.0ms\n",
            "Speed: 0.6ms pre-process, 97.0ms inference, 2.1ms postprocess per image at shape (1, 3, 640, 640)\n",
            "Ultralytics YOLOv8.0.28 🚀 Python-3.10.12 torch-2.1.0+cu121 CUDA:0 (Tesla T4, 15102MiB)\n"
          ]
        },
        {
          "output_type": "stream",
          "name": "stdout",
          "text": [
            "/content/drive/MyDrive/CsiLab-BrainTumor-Detection-3/train/images/Te-me_0077_jpg.rf.f7226b7b3e14c5822852d31de2a3b443.jpg\n"
          ]
        },
        {
          "output_type": "stream",
          "name": "stderr",
          "text": [
            "Model summary (fused): 168 layers, 11125971 parameters, 0 gradients, 28.4 GFLOPs\n",
            "\n",
            "image 1/1 /content/drive/MyDrive/CsiLab-BrainTumor-Detection-3/train/images/Te-me_0077_jpg.rf.f7226b7b3e14c5822852d31de2a3b443.jpg: 640x608 1 Tumor, 27.4ms\n",
            "Speed: 0.6ms pre-process, 27.4ms inference, 2.1ms postprocess per image at shape (1, 3, 640, 640)\n",
            "Ultralytics YOLOv8.0.28 🚀 Python-3.10.12 torch-2.1.0+cu121 CUDA:0 (Tesla T4, 15102MiB)\n"
          ]
        },
        {
          "output_type": "stream",
          "name": "stdout",
          "text": [
            "[     0.5377     0.19436     0.28852     0.24629]\n"
          ]
        },
        {
          "output_type": "stream",
          "name": "stderr",
          "text": [
            "Model summary (fused): 218 layers, 25840339 parameters, 0 gradients, 78.7 GFLOPs\n",
            "\n",
            "image 1/1 /content/drive/MyDrive/CsiLab-BrainTumor-Detection-3/train/images/Te-me_0077_jpg.rf.f7226b7b3e14c5822852d31de2a3b443.jpg: 640x608 1 Tumor, 28.7ms\n",
            "Speed: 0.6ms pre-process, 28.7ms inference, 1.8ms postprocess per image at shape (1, 3, 640, 640)\n",
            "Ultralytics YOLOv8.0.28 🚀 Python-3.10.12 torch-2.1.0+cu121 CUDA:0 (Tesla T4, 15102MiB)\n",
            "Model summary (fused): 168 layers, 3005843 parameters, 0 gradients, 8.1 GFLOPs\n",
            "\n",
            "image 1/1 /content/drive/MyDrive/CsiLab-BrainTumor-Detection-3/train/images/Te-me_0077_jpg.rf.f7226b7b3e14c5822852d31de2a3b443.jpg: 640x608 1 Tumor, 15.9ms\n",
            "Speed: 0.5ms pre-process, 15.9ms inference, 1.4ms postprocess per image at shape (1, 3, 640, 640)\n",
            "Ultralytics YOLOv8.0.28 🚀 Python-3.10.12 torch-2.1.0+cu121 CUDA:0 (Tesla T4, 15102MiB)\n",
            "Model summary (fused): 268 layers, 43607379 parameters, 0 gradients, 164.8 GFLOPs\n",
            "\n",
            "image 1/1 /content/drive/MyDrive/CsiLab-BrainTumor-Detection-3/train/images/Te-me_0077_jpg.rf.f7226b7b3e14c5822852d31de2a3b443.jpg: 640x608 1 Tumor, 57.1ms\n",
            "Speed: 0.5ms pre-process, 57.1ms inference, 1.4ms postprocess per image at shape (1, 3, 640, 640)\n",
            "Ultralytics YOLOv8.0.28 🚀 Python-3.10.12 torch-2.1.0+cu121 CUDA:0 (Tesla T4, 15102MiB)\n",
            "Model summary (fused): 268 layers, 68124531 parameters, 0 gradients, 257.4 GFLOPs\n",
            "\n",
            "image 1/1 /content/drive/MyDrive/CsiLab-BrainTumor-Detection-3/train/images/Te-me_0077_jpg.rf.f7226b7b3e14c5822852d31de2a3b443.jpg: 640x608 1 Tumor, 67.8ms\n",
            "Speed: 0.6ms pre-process, 67.8ms inference, 1.4ms postprocess per image at shape (1, 3, 640, 640)\n",
            "Ultralytics YOLOv8.0.28 🚀 Python-3.10.12 torch-2.1.0+cu121 CUDA:0 (Tesla T4, 15102MiB)\n"
          ]
        },
        {
          "output_type": "stream",
          "name": "stdout",
          "text": [
            "/content/drive/MyDrive/CsiLab-BrainTumor-Detection-3/train/images/Te-me_0040_jpg.rf.16561a0502529b1baf739be13cf61e14.jpg\n"
          ]
        },
        {
          "output_type": "stream",
          "name": "stderr",
          "text": [
            "Model summary (fused): 168 layers, 11125971 parameters, 0 gradients, 28.4 GFLOPs\n",
            "\n",
            "image 1/1 /content/drive/MyDrive/CsiLab-BrainTumor-Detection-3/train/images/Te-me_0040_jpg.rf.16561a0502529b1baf739be13cf61e14.jpg: 640x608 1 Tumor, 25.6ms\n",
            "Speed: 0.6ms pre-process, 25.6ms inference, 1.5ms postprocess per image at shape (1, 3, 640, 640)\n",
            "Ultralytics YOLOv8.0.28 🚀 Python-3.10.12 torch-2.1.0+cu121 CUDA:0 (Tesla T4, 15102MiB)\n"
          ]
        },
        {
          "output_type": "stream",
          "name": "stdout",
          "text": [
            "[    0.70743     0.44737     0.20124     0.25146]\n"
          ]
        },
        {
          "output_type": "stream",
          "name": "stderr",
          "text": [
            "Model summary (fused): 218 layers, 25840339 parameters, 0 gradients, 78.7 GFLOPs\n",
            "\n",
            "image 1/1 /content/drive/MyDrive/CsiLab-BrainTumor-Detection-3/train/images/Te-me_0040_jpg.rf.16561a0502529b1baf739be13cf61e14.jpg: 640x608 1 Tumor, 21.0ms\n",
            "Speed: 0.5ms pre-process, 21.0ms inference, 1.4ms postprocess per image at shape (1, 3, 640, 640)\n",
            "Ultralytics YOLOv8.0.28 🚀 Python-3.10.12 torch-2.1.0+cu121 CUDA:0 (Tesla T4, 15102MiB)\n",
            "Model summary (fused): 168 layers, 3005843 parameters, 0 gradients, 8.1 GFLOPs\n",
            "\n",
            "image 1/1 /content/drive/MyDrive/CsiLab-BrainTumor-Detection-3/train/images/Te-me_0040_jpg.rf.16561a0502529b1baf739be13cf61e14.jpg: 640x608 1 Tumor, 16.9ms\n",
            "Speed: 0.5ms pre-process, 16.9ms inference, 1.5ms postprocess per image at shape (1, 3, 640, 640)\n",
            "Ultralytics YOLOv8.0.28 🚀 Python-3.10.12 torch-2.1.0+cu121 CUDA:0 (Tesla T4, 15102MiB)\n",
            "Model summary (fused): 268 layers, 43607379 parameters, 0 gradients, 164.8 GFLOPs\n",
            "\n",
            "image 1/1 /content/drive/MyDrive/CsiLab-BrainTumor-Detection-3/train/images/Te-me_0040_jpg.rf.16561a0502529b1baf739be13cf61e14.jpg: 640x608 1 Tumor, 55.0ms\n",
            "Speed: 0.5ms pre-process, 55.0ms inference, 1.4ms postprocess per image at shape (1, 3, 640, 640)\n",
            "Ultralytics YOLOv8.0.28 🚀 Python-3.10.12 torch-2.1.0+cu121 CUDA:0 (Tesla T4, 15102MiB)\n",
            "Model summary (fused): 268 layers, 68124531 parameters, 0 gradients, 257.4 GFLOPs\n",
            "\n",
            "image 1/1 /content/drive/MyDrive/CsiLab-BrainTumor-Detection-3/train/images/Te-me_0040_jpg.rf.16561a0502529b1baf739be13cf61e14.jpg: 640x608 1 Tumor, 63.0ms\n",
            "Speed: 0.6ms pre-process, 63.0ms inference, 1.4ms postprocess per image at shape (1, 3, 640, 640)\n",
            "Ultralytics YOLOv8.0.28 🚀 Python-3.10.12 torch-2.1.0+cu121 CUDA:0 (Tesla T4, 15102MiB)\n"
          ]
        },
        {
          "output_type": "stream",
          "name": "stdout",
          "text": [
            "/content/drive/MyDrive/CsiLab-BrainTumor-Detection-3/train/images/Te-me_0301_jpg.rf.94e58926fec706ff1becd7c3fec4b600.jpg\n"
          ]
        },
        {
          "output_type": "stream",
          "name": "stderr",
          "text": [
            "Model summary (fused): 168 layers, 11125971 parameters, 0 gradients, 28.4 GFLOPs\n",
            "\n",
            "image 1/1 /content/drive/MyDrive/CsiLab-BrainTumor-Detection-3/train/images/Te-me_0301_jpg.rf.94e58926fec706ff1becd7c3fec4b600.jpg: 640x640 1 Tumor, 17.1ms\n",
            "Speed: 0.6ms pre-process, 17.1ms inference, 1.4ms postprocess per image at shape (1, 3, 640, 640)\n",
            "Ultralytics YOLOv8.0.28 🚀 Python-3.10.12 torch-2.1.0+cu121 CUDA:0 (Tesla T4, 15102MiB)\n"
          ]
        },
        {
          "output_type": "stream",
          "name": "stdout",
          "text": [
            "[    0.35938     0.40527     0.19531     0.19336]\n"
          ]
        },
        {
          "output_type": "stream",
          "name": "stderr",
          "text": [
            "Model summary (fused): 218 layers, 25840339 parameters, 0 gradients, 78.7 GFLOPs\n",
            "\n",
            "image 1/1 /content/drive/MyDrive/CsiLab-BrainTumor-Detection-3/train/images/Te-me_0301_jpg.rf.94e58926fec706ff1becd7c3fec4b600.jpg: 640x640 1 Tumor, 20.5ms\n",
            "Speed: 0.5ms pre-process, 20.5ms inference, 1.4ms postprocess per image at shape (1, 3, 640, 640)\n",
            "Ultralytics YOLOv8.0.28 🚀 Python-3.10.12 torch-2.1.0+cu121 CUDA:0 (Tesla T4, 15102MiB)\n",
            "Model summary (fused): 168 layers, 3005843 parameters, 0 gradients, 8.1 GFLOPs\n",
            "\n",
            "image 1/1 /content/drive/MyDrive/CsiLab-BrainTumor-Detection-3/train/images/Te-me_0301_jpg.rf.94e58926fec706ff1becd7c3fec4b600.jpg: 640x640 1 Tumor, 16.1ms\n",
            "Speed: 0.5ms pre-process, 16.1ms inference, 1.7ms postprocess per image at shape (1, 3, 640, 640)\n",
            "Ultralytics YOLOv8.0.28 🚀 Python-3.10.12 torch-2.1.0+cu121 CUDA:0 (Tesla T4, 15102MiB)\n",
            "Model summary (fused): 268 layers, 43607379 parameters, 0 gradients, 164.8 GFLOPs\n",
            "\n",
            "image 1/1 /content/drive/MyDrive/CsiLab-BrainTumor-Detection-3/train/images/Te-me_0301_jpg.rf.94e58926fec706ff1becd7c3fec4b600.jpg: 640x640 1 Tumor, 54.6ms\n",
            "Speed: 0.5ms pre-process, 54.6ms inference, 1.5ms postprocess per image at shape (1, 3, 640, 640)\n",
            "Ultralytics YOLOv8.0.28 🚀 Python-3.10.12 torch-2.1.0+cu121 CUDA:0 (Tesla T4, 15102MiB)\n",
            "Model summary (fused): 268 layers, 68124531 parameters, 0 gradients, 257.4 GFLOPs\n",
            "\n",
            "image 1/1 /content/drive/MyDrive/CsiLab-BrainTumor-Detection-3/train/images/Te-me_0301_jpg.rf.94e58926fec706ff1becd7c3fec4b600.jpg: 640x640 1 Tumor, 63.7ms\n",
            "Speed: 0.6ms pre-process, 63.7ms inference, 1.8ms postprocess per image at shape (1, 3, 640, 640)\n",
            "Ultralytics YOLOv8.0.28 🚀 Python-3.10.12 torch-2.1.0+cu121 CUDA:0 (Tesla T4, 15102MiB)\n"
          ]
        },
        {
          "output_type": "stream",
          "name": "stdout",
          "text": [
            "/content/drive/MyDrive/CsiLab-BrainTumor-Detection-3/train/images/Te-meTr_0001_jpg.rf.4686dacc99f003ae25606b30d9eb5349.jpg\n"
          ]
        },
        {
          "output_type": "stream",
          "name": "stderr",
          "text": [
            "Model summary (fused): 168 layers, 11125971 parameters, 0 gradients, 28.4 GFLOPs\n",
            "\n",
            "image 1/1 /content/drive/MyDrive/CsiLab-BrainTumor-Detection-3/train/images/Te-meTr_0001_jpg.rf.4686dacc99f003ae25606b30d9eb5349.jpg: 640x544 3 Tumors, 16.7ms\n",
            "Speed: 0.5ms pre-process, 16.7ms inference, 1.4ms postprocess per image at shape (1, 3, 640, 640)\n",
            "Ultralytics YOLOv8.0.28 🚀 Python-3.10.12 torch-2.1.0+cu121 CUDA:0 (Tesla T4, 15102MiB)\n"
          ]
        },
        {
          "output_type": "stream",
          "name": "stdout",
          "text": [
            "[    0.73152     0.61238     0.23346     0.29967]\n"
          ]
        },
        {
          "output_type": "stream",
          "name": "stderr",
          "text": [
            "Model summary (fused): 218 layers, 25840339 parameters, 0 gradients, 78.7 GFLOPs\n",
            "\n",
            "image 1/1 /content/drive/MyDrive/CsiLab-BrainTumor-Detection-3/train/images/Te-meTr_0001_jpg.rf.4686dacc99f003ae25606b30d9eb5349.jpg: 640x544 1 Tumor, 25.1ms\n",
            "Speed: 0.5ms pre-process, 25.1ms inference, 1.7ms postprocess per image at shape (1, 3, 640, 640)\n",
            "Ultralytics YOLOv8.0.28 🚀 Python-3.10.12 torch-2.1.0+cu121 CUDA:0 (Tesla T4, 15102MiB)\n",
            "Model summary (fused): 168 layers, 3005843 parameters, 0 gradients, 8.1 GFLOPs\n",
            "\n",
            "image 1/1 /content/drive/MyDrive/CsiLab-BrainTumor-Detection-3/train/images/Te-meTr_0001_jpg.rf.4686dacc99f003ae25606b30d9eb5349.jpg: 640x544 1 Tumor, 19.0ms\n",
            "Speed: 0.5ms pre-process, 19.0ms inference, 1.7ms postprocess per image at shape (1, 3, 640, 640)\n",
            "Ultralytics YOLOv8.0.28 🚀 Python-3.10.12 torch-2.1.0+cu121 CUDA:0 (Tesla T4, 15102MiB)\n",
            "Model summary (fused): 268 layers, 43607379 parameters, 0 gradients, 164.8 GFLOPs\n",
            "\n",
            "image 1/1 /content/drive/MyDrive/CsiLab-BrainTumor-Detection-3/train/images/Te-meTr_0001_jpg.rf.4686dacc99f003ae25606b30d9eb5349.jpg: 640x544 1 Tumor, 61.7ms\n",
            "Speed: 0.5ms pre-process, 61.7ms inference, 2.1ms postprocess per image at shape (1, 3, 640, 640)\n",
            "Ultralytics YOLOv8.0.28 🚀 Python-3.10.12 torch-2.1.0+cu121 CUDA:0 (Tesla T4, 15102MiB)\n",
            "Model summary (fused): 268 layers, 68124531 parameters, 0 gradients, 257.4 GFLOPs\n",
            "\n",
            "image 1/1 /content/drive/MyDrive/CsiLab-BrainTumor-Detection-3/train/images/Te-meTr_0001_jpg.rf.4686dacc99f003ae25606b30d9eb5349.jpg: 640x544 1 Tumor, 93.5ms\n",
            "Speed: 0.6ms pre-process, 93.5ms inference, 1.9ms postprocess per image at shape (1, 3, 640, 640)\n",
            "Ultralytics YOLOv8.0.28 🚀 Python-3.10.12 torch-2.1.0+cu121 CUDA:0 (Tesla T4, 15102MiB)\n"
          ]
        },
        {
          "output_type": "stream",
          "name": "stdout",
          "text": [
            "/content/drive/MyDrive/CsiLab-BrainTumor-Detection-3/train/images/Te-me_0029_jpg.rf.ebf54f773686911df9c7b198bad8573d.jpg\n"
          ]
        },
        {
          "output_type": "stream",
          "name": "stderr",
          "text": [
            "Model summary (fused): 168 layers, 11125971 parameters, 0 gradients, 28.4 GFLOPs\n",
            "\n",
            "image 1/1 /content/drive/MyDrive/CsiLab-BrainTumor-Detection-3/train/images/Te-me_0029_jpg.rf.ebf54f773686911df9c7b198bad8573d.jpg: 640x608 1 Tumor, 16.8ms\n",
            "Speed: 0.5ms pre-process, 16.8ms inference, 1.4ms postprocess per image at shape (1, 3, 640, 640)\n",
            "Ultralytics YOLOv8.0.28 🚀 Python-3.10.12 torch-2.1.0+cu121 CUDA:0 (Tesla T4, 15102MiB)\n"
          ]
        },
        {
          "output_type": "stream",
          "name": "stdout",
          "text": [
            "[    0.46043     0.71078     0.27338     0.22549]\n"
          ]
        },
        {
          "output_type": "stream",
          "name": "stderr",
          "text": [
            "Model summary (fused): 218 layers, 25840339 parameters, 0 gradients, 78.7 GFLOPs\n",
            "\n",
            "image 1/1 /content/drive/MyDrive/CsiLab-BrainTumor-Detection-3/train/images/Te-me_0029_jpg.rf.ebf54f773686911df9c7b198bad8573d.jpg: 640x608 1 Tumor, 21.0ms\n",
            "Speed: 0.5ms pre-process, 21.0ms inference, 1.4ms postprocess per image at shape (1, 3, 640, 640)\n",
            "Ultralytics YOLOv8.0.28 🚀 Python-3.10.12 torch-2.1.0+cu121 CUDA:0 (Tesla T4, 15102MiB)\n",
            "Model summary (fused): 168 layers, 3005843 parameters, 0 gradients, 8.1 GFLOPs\n",
            "\n",
            "image 1/1 /content/drive/MyDrive/CsiLab-BrainTumor-Detection-3/train/images/Te-me_0029_jpg.rf.ebf54f773686911df9c7b198bad8573d.jpg: 640x608 1 Tumor, 16.1ms\n",
            "Speed: 0.5ms pre-process, 16.1ms inference, 1.4ms postprocess per image at shape (1, 3, 640, 640)\n",
            "Ultralytics YOLOv8.0.28 🚀 Python-3.10.12 torch-2.1.0+cu121 CUDA:0 (Tesla T4, 15102MiB)\n",
            "Model summary (fused): 268 layers, 43607379 parameters, 0 gradients, 164.8 GFLOPs\n",
            "\n",
            "image 1/1 /content/drive/MyDrive/CsiLab-BrainTumor-Detection-3/train/images/Te-me_0029_jpg.rf.ebf54f773686911df9c7b198bad8573d.jpg: 640x608 1 Tumor, 60.2ms\n",
            "Speed: 0.5ms pre-process, 60.2ms inference, 1.4ms postprocess per image at shape (1, 3, 640, 640)\n",
            "Ultralytics YOLOv8.0.28 🚀 Python-3.10.12 torch-2.1.0+cu121 CUDA:0 (Tesla T4, 15102MiB)\n",
            "Model summary (fused): 268 layers, 68124531 parameters, 0 gradients, 257.4 GFLOPs\n",
            "\n",
            "image 1/1 /content/drive/MyDrive/CsiLab-BrainTumor-Detection-3/train/images/Te-me_0029_jpg.rf.ebf54f773686911df9c7b198bad8573d.jpg: 640x608 1 Tumor, 62.6ms\n",
            "Speed: 0.6ms pre-process, 62.6ms inference, 1.4ms postprocess per image at shape (1, 3, 640, 640)\n",
            "Ultralytics YOLOv8.0.28 🚀 Python-3.10.12 torch-2.1.0+cu121 CUDA:0 (Tesla T4, 15102MiB)\n"
          ]
        },
        {
          "output_type": "stream",
          "name": "stdout",
          "text": [
            "/content/drive/MyDrive/CsiLab-BrainTumor-Detection-3/train/images/Te-me_0062_jpg.rf.18c44b1316ea847c5a97abbe781781d3.jpg\n"
          ]
        },
        {
          "output_type": "stream",
          "name": "stderr",
          "text": [
            "Model summary (fused): 168 layers, 11125971 parameters, 0 gradients, 28.4 GFLOPs\n",
            "\n",
            "image 1/1 /content/drive/MyDrive/CsiLab-BrainTumor-Detection-3/train/images/Te-me_0062_jpg.rf.18c44b1316ea847c5a97abbe781781d3.jpg: 640x640 1 Tumor, 16.2ms\n",
            "Speed: 0.5ms pre-process, 16.2ms inference, 1.6ms postprocess per image at shape (1, 3, 640, 640)\n",
            "Ultralytics YOLOv8.0.28 🚀 Python-3.10.12 torch-2.1.0+cu121 CUDA:0 (Tesla T4, 15102MiB)\n"
          ]
        },
        {
          "output_type": "stream",
          "name": "stdout",
          "text": [
            "[    0.23148     0.57639     0.14815     0.20833]\n"
          ]
        },
        {
          "output_type": "stream",
          "name": "stderr",
          "text": [
            "Model summary (fused): 218 layers, 25840339 parameters, 0 gradients, 78.7 GFLOPs\n",
            "\n",
            "image 1/1 /content/drive/MyDrive/CsiLab-BrainTumor-Detection-3/train/images/Te-me_0062_jpg.rf.18c44b1316ea847c5a97abbe781781d3.jpg: 640x640 1 Tumor, 20.2ms\n",
            "Speed: 0.5ms pre-process, 20.2ms inference, 1.4ms postprocess per image at shape (1, 3, 640, 640)\n",
            "Ultralytics YOLOv8.0.28 🚀 Python-3.10.12 torch-2.1.0+cu121 CUDA:0 (Tesla T4, 15102MiB)\n",
            "Model summary (fused): 168 layers, 3005843 parameters, 0 gradients, 8.1 GFLOPs\n",
            "\n",
            "image 1/1 /content/drive/MyDrive/CsiLab-BrainTumor-Detection-3/train/images/Te-me_0062_jpg.rf.18c44b1316ea847c5a97abbe781781d3.jpg: 640x640 1 Tumor, 24.7ms\n",
            "Speed: 0.5ms pre-process, 24.7ms inference, 1.5ms postprocess per image at shape (1, 3, 640, 640)\n",
            "Ultralytics YOLOv8.0.28 🚀 Python-3.10.12 torch-2.1.0+cu121 CUDA:0 (Tesla T4, 15102MiB)\n",
            "Model summary (fused): 268 layers, 43607379 parameters, 0 gradients, 164.8 GFLOPs\n",
            "\n",
            "image 1/1 /content/drive/MyDrive/CsiLab-BrainTumor-Detection-3/train/images/Te-me_0062_jpg.rf.18c44b1316ea847c5a97abbe781781d3.jpg: 640x640 1 Tumor, 54.5ms\n",
            "Speed: 0.5ms pre-process, 54.5ms inference, 1.5ms postprocess per image at shape (1, 3, 640, 640)\n",
            "Ultralytics YOLOv8.0.28 🚀 Python-3.10.12 torch-2.1.0+cu121 CUDA:0 (Tesla T4, 15102MiB)\n",
            "Model summary (fused): 268 layers, 68124531 parameters, 0 gradients, 257.4 GFLOPs\n",
            "\n",
            "image 1/1 /content/drive/MyDrive/CsiLab-BrainTumor-Detection-3/train/images/Te-me_0062_jpg.rf.18c44b1316ea847c5a97abbe781781d3.jpg: 640x640 1 Tumor, 63.2ms\n",
            "Speed: 0.5ms pre-process, 63.2ms inference, 1.6ms postprocess per image at shape (1, 3, 640, 640)\n",
            "Ultralytics YOLOv8.0.28 🚀 Python-3.10.12 torch-2.1.0+cu121 CUDA:0 (Tesla T4, 15102MiB)\n"
          ]
        },
        {
          "output_type": "stream",
          "name": "stdout",
          "text": [
            "/content/drive/MyDrive/CsiLab-BrainTumor-Detection-3/train/images/Te-me_0186_jpg.rf.7a8040c8b793b66a28f34d4bfaa9b0e3.jpg\n"
          ]
        },
        {
          "output_type": "stream",
          "name": "stderr",
          "text": [
            "Model summary (fused): 168 layers, 11125971 parameters, 0 gradients, 28.4 GFLOPs\n",
            "\n",
            "image 1/1 /content/drive/MyDrive/CsiLab-BrainTumor-Detection-3/train/images/Te-me_0186_jpg.rf.7a8040c8b793b66a28f34d4bfaa9b0e3.jpg: 640x640 1 Tumor, 16.1ms\n",
            "Speed: 0.5ms pre-process, 16.1ms inference, 1.4ms postprocess per image at shape (1, 3, 640, 640)\n",
            "Ultralytics YOLOv8.0.28 🚀 Python-3.10.12 torch-2.1.0+cu121 CUDA:0 (Tesla T4, 15102MiB)\n"
          ]
        },
        {
          "output_type": "stream",
          "name": "stdout",
          "text": [
            "[    0.45801     0.30176    0.091797    0.076172]\n"
          ]
        },
        {
          "output_type": "stream",
          "name": "stderr",
          "text": [
            "Model summary (fused): 218 layers, 25840339 parameters, 0 gradients, 78.7 GFLOPs\n",
            "\n",
            "image 1/1 /content/drive/MyDrive/CsiLab-BrainTumor-Detection-3/train/images/Te-me_0186_jpg.rf.7a8040c8b793b66a28f34d4bfaa9b0e3.jpg: 640x640 1 Tumor, 22.9ms\n",
            "Speed: 0.5ms pre-process, 22.9ms inference, 1.6ms postprocess per image at shape (1, 3, 640, 640)\n",
            "Ultralytics YOLOv8.0.28 🚀 Python-3.10.12 torch-2.1.0+cu121 CUDA:0 (Tesla T4, 15102MiB)\n",
            "Model summary (fused): 168 layers, 3005843 parameters, 0 gradients, 8.1 GFLOPs\n",
            "\n",
            "image 1/1 /content/drive/MyDrive/CsiLab-BrainTumor-Detection-3/train/images/Te-me_0186_jpg.rf.7a8040c8b793b66a28f34d4bfaa9b0e3.jpg: 640x640 1 Tumor, 15.9ms\n",
            "Speed: 0.5ms pre-process, 15.9ms inference, 1.4ms postprocess per image at shape (1, 3, 640, 640)\n",
            "Ultralytics YOLOv8.0.28 🚀 Python-3.10.12 torch-2.1.0+cu121 CUDA:0 (Tesla T4, 15102MiB)\n",
            "Model summary (fused): 268 layers, 43607379 parameters, 0 gradients, 164.8 GFLOPs\n",
            "\n",
            "image 1/1 /content/drive/MyDrive/CsiLab-BrainTumor-Detection-3/train/images/Te-me_0186_jpg.rf.7a8040c8b793b66a28f34d4bfaa9b0e3.jpg: 640x640 1 Tumor, 59.4ms\n",
            "Speed: 0.5ms pre-process, 59.4ms inference, 2.4ms postprocess per image at shape (1, 3, 640, 640)\n",
            "Ultralytics YOLOv8.0.28 🚀 Python-3.10.12 torch-2.1.0+cu121 CUDA:0 (Tesla T4, 15102MiB)\n",
            "Model summary (fused): 268 layers, 68124531 parameters, 0 gradients, 257.4 GFLOPs\n",
            "\n",
            "image 1/1 /content/drive/MyDrive/CsiLab-BrainTumor-Detection-3/train/images/Te-me_0186_jpg.rf.7a8040c8b793b66a28f34d4bfaa9b0e3.jpg: 640x640 1 Tumor, 84.5ms\n",
            "Speed: 0.6ms pre-process, 84.5ms inference, 2.3ms postprocess per image at shape (1, 3, 640, 640)\n",
            "Ultralytics YOLOv8.0.28 🚀 Python-3.10.12 torch-2.1.0+cu121 CUDA:0 (Tesla T4, 15102MiB)\n"
          ]
        },
        {
          "output_type": "stream",
          "name": "stdout",
          "text": [
            "/content/drive/MyDrive/CsiLab-BrainTumor-Detection-3/train/images/Te-me_0208_jpg.rf.6625c6b0aafa77c4a00a872f9292b939.jpg\n"
          ]
        },
        {
          "output_type": "stream",
          "name": "stderr",
          "text": [
            "Model summary (fused): 168 layers, 11125971 parameters, 0 gradients, 28.4 GFLOPs\n",
            "\n",
            "image 1/1 /content/drive/MyDrive/CsiLab-BrainTumor-Detection-3/train/images/Te-me_0208_jpg.rf.6625c6b0aafa77c4a00a872f9292b939.jpg: 640x640 1 Tumor, 22.8ms\n",
            "Speed: 0.5ms pre-process, 22.8ms inference, 1.8ms postprocess per image at shape (1, 3, 640, 640)\n",
            "Ultralytics YOLOv8.0.28 🚀 Python-3.10.12 torch-2.1.0+cu121 CUDA:0 (Tesla T4, 15102MiB)\n"
          ]
        },
        {
          "output_type": "stream",
          "name": "stdout",
          "text": [
            "[    0.55664     0.23926     0.10156    0.087891]\n"
          ]
        },
        {
          "output_type": "stream",
          "name": "stderr",
          "text": [
            "Model summary (fused): 218 layers, 25840339 parameters, 0 gradients, 78.7 GFLOPs\n",
            "\n",
            "image 1/1 /content/drive/MyDrive/CsiLab-BrainTumor-Detection-3/train/images/Te-me_0208_jpg.rf.6625c6b0aafa77c4a00a872f9292b939.jpg: 640x640 1 Tumor, 30.7ms\n",
            "Speed: 0.6ms pre-process, 30.7ms inference, 2.0ms postprocess per image at shape (1, 3, 640, 640)\n",
            "Ultralytics YOLOv8.0.28 🚀 Python-3.10.12 torch-2.1.0+cu121 CUDA:0 (Tesla T4, 15102MiB)\n",
            "Model summary (fused): 168 layers, 3005843 parameters, 0 gradients, 8.1 GFLOPs\n",
            "\n",
            "image 1/1 /content/drive/MyDrive/CsiLab-BrainTumor-Detection-3/train/images/Te-me_0208_jpg.rf.6625c6b0aafa77c4a00a872f9292b939.jpg: 640x640 1 Tumor, 30.1ms\n",
            "Speed: 0.6ms pre-process, 30.1ms inference, 2.1ms postprocess per image at shape (1, 3, 640, 640)\n",
            "Ultralytics YOLOv8.0.28 🚀 Python-3.10.12 torch-2.1.0+cu121 CUDA:0 (Tesla T4, 15102MiB)\n",
            "Model summary (fused): 268 layers, 43607379 parameters, 0 gradients, 164.8 GFLOPs\n",
            "\n",
            "image 1/1 /content/drive/MyDrive/CsiLab-BrainTumor-Detection-3/train/images/Te-me_0208_jpg.rf.6625c6b0aafa77c4a00a872f9292b939.jpg: 640x640 1 Tumor, 63.4ms\n",
            "Speed: 0.6ms pre-process, 63.4ms inference, 1.8ms postprocess per image at shape (1, 3, 640, 640)\n",
            "Ultralytics YOLOv8.0.28 🚀 Python-3.10.12 torch-2.1.0+cu121 CUDA:0 (Tesla T4, 15102MiB)\n",
            "Model summary (fused): 268 layers, 68124531 parameters, 0 gradients, 257.4 GFLOPs\n",
            "\n",
            "image 1/1 /content/drive/MyDrive/CsiLab-BrainTumor-Detection-3/train/images/Te-me_0208_jpg.rf.6625c6b0aafa77c4a00a872f9292b939.jpg: 640x640 1 Tumor, 97.0ms\n",
            "Speed: 0.5ms pre-process, 97.0ms inference, 1.7ms postprocess per image at shape (1, 3, 640, 640)\n",
            "Ultralytics YOLOv8.0.28 🚀 Python-3.10.12 torch-2.1.0+cu121 CUDA:0 (Tesla T4, 15102MiB)\n"
          ]
        },
        {
          "output_type": "stream",
          "name": "stdout",
          "text": [
            "/content/drive/MyDrive/CsiLab-BrainTumor-Detection-3/train/images/Te-me_0086_jpg.rf.27311bf7e446b7a9de4420f885514f04.jpg\n"
          ]
        },
        {
          "output_type": "stream",
          "name": "stderr",
          "text": [
            "Model summary (fused): 168 layers, 11125971 parameters, 0 gradients, 28.4 GFLOPs\n",
            "\n",
            "image 1/1 /content/drive/MyDrive/CsiLab-BrainTumor-Detection-3/train/images/Te-me_0086_jpg.rf.27311bf7e446b7a9de4420f885514f04.jpg: 640x640 2 Tumors, 16.5ms\n",
            "Speed: 0.5ms pre-process, 16.5ms inference, 1.4ms postprocess per image at shape (1, 3, 640, 640)\n",
            "Ultralytics YOLOv8.0.28 🚀 Python-3.10.12 torch-2.1.0+cu121 CUDA:0 (Tesla T4, 15102MiB)\n"
          ]
        },
        {
          "output_type": "stream",
          "name": "stdout",
          "text": [
            "[    0.66667     0.57111     0.25778     0.22667]\n"
          ]
        },
        {
          "output_type": "stream",
          "name": "stderr",
          "text": [
            "Model summary (fused): 218 layers, 25840339 parameters, 0 gradients, 78.7 GFLOPs\n",
            "\n",
            "image 1/1 /content/drive/MyDrive/CsiLab-BrainTumor-Detection-3/train/images/Te-me_0086_jpg.rf.27311bf7e446b7a9de4420f885514f04.jpg: 640x640 1 Tumor, 20.2ms\n",
            "Speed: 0.5ms pre-process, 20.2ms inference, 1.4ms postprocess per image at shape (1, 3, 640, 640)\n",
            "Ultralytics YOLOv8.0.28 🚀 Python-3.10.12 torch-2.1.0+cu121 CUDA:0 (Tesla T4, 15102MiB)\n",
            "Model summary (fused): 168 layers, 3005843 parameters, 0 gradients, 8.1 GFLOPs\n",
            "\n",
            "image 1/1 /content/drive/MyDrive/CsiLab-BrainTumor-Detection-3/train/images/Te-me_0086_jpg.rf.27311bf7e446b7a9de4420f885514f04.jpg: 640x640 1 Tumor, 16.4ms\n",
            "Speed: 0.5ms pre-process, 16.4ms inference, 1.4ms postprocess per image at shape (1, 3, 640, 640)\n",
            "Ultralytics YOLOv8.0.28 🚀 Python-3.10.12 torch-2.1.0+cu121 CUDA:0 (Tesla T4, 15102MiB)\n",
            "Model summary (fused): 268 layers, 43607379 parameters, 0 gradients, 164.8 GFLOPs\n",
            "\n",
            "image 1/1 /content/drive/MyDrive/CsiLab-BrainTumor-Detection-3/train/images/Te-me_0086_jpg.rf.27311bf7e446b7a9de4420f885514f04.jpg: 640x640 1 Tumor, 59.1ms\n",
            "Speed: 0.5ms pre-process, 59.1ms inference, 1.4ms postprocess per image at shape (1, 3, 640, 640)\n",
            "Ultralytics YOLOv8.0.28 🚀 Python-3.10.12 torch-2.1.0+cu121 CUDA:0 (Tesla T4, 15102MiB)\n",
            "Model summary (fused): 268 layers, 68124531 parameters, 0 gradients, 257.4 GFLOPs\n",
            "\n",
            "image 1/1 /content/drive/MyDrive/CsiLab-BrainTumor-Detection-3/train/images/Te-me_0086_jpg.rf.27311bf7e446b7a9de4420f885514f04.jpg: 640x640 1 Tumor, 63.2ms\n",
            "Speed: 0.5ms pre-process, 63.2ms inference, 1.9ms postprocess per image at shape (1, 3, 640, 640)\n",
            "Ultralytics YOLOv8.0.28 🚀 Python-3.10.12 torch-2.1.0+cu121 CUDA:0 (Tesla T4, 15102MiB)\n"
          ]
        },
        {
          "output_type": "stream",
          "name": "stdout",
          "text": [
            "/content/drive/MyDrive/CsiLab-BrainTumor-Detection-3/train/images/Te-me_0169_jpg.rf.a808b2cd45678470b455145125acec55.jpg\n"
          ]
        },
        {
          "output_type": "stream",
          "name": "stderr",
          "text": [
            "Model summary (fused): 168 layers, 11125971 parameters, 0 gradients, 28.4 GFLOPs\n",
            "\n",
            "image 1/1 /content/drive/MyDrive/CsiLab-BrainTumor-Detection-3/train/images/Te-me_0169_jpg.rf.a808b2cd45678470b455145125acec55.jpg: 640x640 1 Tumor, 16.6ms\n",
            "Speed: 0.5ms pre-process, 16.6ms inference, 1.4ms postprocess per image at shape (1, 3, 640, 640)\n",
            "Ultralytics YOLOv8.0.28 🚀 Python-3.10.12 torch-2.1.0+cu121 CUDA:0 (Tesla T4, 15102MiB)\n"
          ]
        },
        {
          "output_type": "stream",
          "name": "stdout",
          "text": [
            "[    0.29199     0.40332     0.13867     0.20117]\n"
          ]
        },
        {
          "output_type": "stream",
          "name": "stderr",
          "text": [
            "Model summary (fused): 218 layers, 25840339 parameters, 0 gradients, 78.7 GFLOPs\n",
            "\n",
            "image 1/1 /content/drive/MyDrive/CsiLab-BrainTumor-Detection-3/train/images/Te-me_0169_jpg.rf.a808b2cd45678470b455145125acec55.jpg: 640x640 1 Tumor, 19.9ms\n",
            "Speed: 0.5ms pre-process, 19.9ms inference, 1.4ms postprocess per image at shape (1, 3, 640, 640)\n",
            "Ultralytics YOLOv8.0.28 🚀 Python-3.10.12 torch-2.1.0+cu121 CUDA:0 (Tesla T4, 15102MiB)\n",
            "Model summary (fused): 168 layers, 3005843 parameters, 0 gradients, 8.1 GFLOPs\n",
            "\n",
            "image 1/1 /content/drive/MyDrive/CsiLab-BrainTumor-Detection-3/train/images/Te-me_0169_jpg.rf.a808b2cd45678470b455145125acec55.jpg: 640x640 1 Tumor, 24.6ms\n",
            "Speed: 0.5ms pre-process, 24.6ms inference, 1.9ms postprocess per image at shape (1, 3, 640, 640)\n",
            "Ultralytics YOLOv8.0.28 🚀 Python-3.10.12 torch-2.1.0+cu121 CUDA:0 (Tesla T4, 15102MiB)\n",
            "Model summary (fused): 268 layers, 43607379 parameters, 0 gradients, 164.8 GFLOPs\n",
            "\n",
            "image 1/1 /content/drive/MyDrive/CsiLab-BrainTumor-Detection-3/train/images/Te-me_0169_jpg.rf.a808b2cd45678470b455145125acec55.jpg: 640x640 1 Tumor, 56.9ms\n",
            "Speed: 0.6ms pre-process, 56.9ms inference, 2.2ms postprocess per image at shape (1, 3, 640, 640)\n",
            "Ultralytics YOLOv8.0.28 🚀 Python-3.10.12 torch-2.1.0+cu121 CUDA:0 (Tesla T4, 15102MiB)\n",
            "Model summary (fused): 268 layers, 68124531 parameters, 0 gradients, 257.4 GFLOPs\n",
            "\n",
            "image 1/1 /content/drive/MyDrive/CsiLab-BrainTumor-Detection-3/train/images/Te-me_0169_jpg.rf.a808b2cd45678470b455145125acec55.jpg: 640x640 1 Tumor, 64.4ms\n",
            "Speed: 0.5ms pre-process, 64.4ms inference, 1.5ms postprocess per image at shape (1, 3, 640, 640)\n",
            "Ultralytics YOLOv8.0.28 🚀 Python-3.10.12 torch-2.1.0+cu121 CUDA:0 (Tesla T4, 15102MiB)\n"
          ]
        },
        {
          "output_type": "stream",
          "name": "stdout",
          "text": [
            "/content/drive/MyDrive/CsiLab-BrainTumor-Detection-3/train/images/26_jpg.rf.6dcd395d6fcaece08100a68e908de896.jpg\n"
          ]
        },
        {
          "output_type": "stream",
          "name": "stderr",
          "text": [
            "Model summary (fused): 168 layers, 11125971 parameters, 0 gradients, 28.4 GFLOPs\n",
            "\n",
            "image 1/1 /content/drive/MyDrive/CsiLab-BrainTumor-Detection-3/train/images/26_jpg.rf.6dcd395d6fcaece08100a68e908de896.jpg: 640x640 1 Tumor, 16.5ms\n",
            "Speed: 0.5ms pre-process, 16.5ms inference, 2.4ms postprocess per image at shape (1, 3, 640, 640)\n"
          ]
        },
        {
          "output_type": "stream",
          "name": "stdout",
          "text": [
            "[    0.40402     0.39732     0.16518     0.20536]\n"
          ]
        },
        {
          "output_type": "stream",
          "name": "stderr",
          "text": [
            "Ultralytics YOLOv8.0.28 🚀 Python-3.10.12 torch-2.1.0+cu121 CUDA:0 (Tesla T4, 15102MiB)\n",
            "Model summary (fused): 218 layers, 25840339 parameters, 0 gradients, 78.7 GFLOPs\n",
            "\n",
            "image 1/1 /content/drive/MyDrive/CsiLab-BrainTumor-Detection-3/train/images/26_jpg.rf.6dcd395d6fcaece08100a68e908de896.jpg: 640x640 1 Tumor, 31.1ms\n",
            "Speed: 0.5ms pre-process, 31.1ms inference, 1.7ms postprocess per image at shape (1, 3, 640, 640)\n",
            "Ultralytics YOLOv8.0.28 🚀 Python-3.10.12 torch-2.1.0+cu121 CUDA:0 (Tesla T4, 15102MiB)\n",
            "Model summary (fused): 168 layers, 3005843 parameters, 0 gradients, 8.1 GFLOPs\n",
            "\n",
            "image 1/1 /content/drive/MyDrive/CsiLab-BrainTumor-Detection-3/train/images/26_jpg.rf.6dcd395d6fcaece08100a68e908de896.jpg: 640x640 1 Tumor, 19.3ms\n",
            "Speed: 0.5ms pre-process, 19.3ms inference, 1.8ms postprocess per image at shape (1, 3, 640, 640)\n",
            "Ultralytics YOLOv8.0.28 🚀 Python-3.10.12 torch-2.1.0+cu121 CUDA:0 (Tesla T4, 15102MiB)\n",
            "Model summary (fused): 268 layers, 43607379 parameters, 0 gradients, 164.8 GFLOPs\n",
            "\n",
            "image 1/1 /content/drive/MyDrive/CsiLab-BrainTumor-Detection-3/train/images/26_jpg.rf.6dcd395d6fcaece08100a68e908de896.jpg: 640x640 1 Tumor, 63.4ms\n",
            "Speed: 0.6ms pre-process, 63.4ms inference, 1.8ms postprocess per image at shape (1, 3, 640, 640)\n",
            "Ultralytics YOLOv8.0.28 🚀 Python-3.10.12 torch-2.1.0+cu121 CUDA:0 (Tesla T4, 15102MiB)\n",
            "Model summary (fused): 268 layers, 68124531 parameters, 0 gradients, 257.4 GFLOPs\n",
            "\n",
            "image 1/1 /content/drive/MyDrive/CsiLab-BrainTumor-Detection-3/train/images/26_jpg.rf.6dcd395d6fcaece08100a68e908de896.jpg: 640x640 1 Tumor, 84.0ms\n",
            "Speed: 0.5ms pre-process, 84.0ms inference, 1.6ms postprocess per image at shape (1, 3, 640, 640)\n",
            "Ultralytics YOLOv8.0.28 🚀 Python-3.10.12 torch-2.1.0+cu121 CUDA:0 (Tesla T4, 15102MiB)\n"
          ]
        },
        {
          "output_type": "stream",
          "name": "stdout",
          "text": [
            "/content/drive/MyDrive/CsiLab-BrainTumor-Detection-3/train/images/Te-me_0059_jpg.rf.451ee56007f1baaa44fb456a8d6bd648.jpg\n"
          ]
        },
        {
          "output_type": "stream",
          "name": "stderr",
          "text": [
            "Model summary (fused): 168 layers, 11125971 parameters, 0 gradients, 28.4 GFLOPs\n",
            "\n",
            "image 1/1 /content/drive/MyDrive/CsiLab-BrainTumor-Detection-3/train/images/Te-me_0059_jpg.rf.451ee56007f1baaa44fb456a8d6bd648.jpg: 416x640 1 Tumor, 16.2ms\n",
            "Speed: 0.4ms pre-process, 16.2ms inference, 1.3ms postprocess per image at shape (1, 3, 640, 640)\n",
            "Ultralytics YOLOv8.0.28 🚀 Python-3.10.12 torch-2.1.0+cu121 CUDA:0 (Tesla T4, 15102MiB)\n"
          ]
        },
        {
          "output_type": "stream",
          "name": "stdout",
          "text": [
            "[    0.66401     0.43846     0.23248     0.34359]\n"
          ]
        },
        {
          "output_type": "stream",
          "name": "stderr",
          "text": [
            "Model summary (fused): 218 layers, 25840339 parameters, 0 gradients, 78.7 GFLOPs\n",
            "\n",
            "image 1/1 /content/drive/MyDrive/CsiLab-BrainTumor-Detection-3/train/images/Te-me_0059_jpg.rf.451ee56007f1baaa44fb456a8d6bd648.jpg: 416x640 1 Tumor, 20.8ms\n",
            "Speed: 0.4ms pre-process, 20.8ms inference, 1.4ms postprocess per image at shape (1, 3, 640, 640)\n",
            "Ultralytics YOLOv8.0.28 🚀 Python-3.10.12 torch-2.1.0+cu121 CUDA:0 (Tesla T4, 15102MiB)\n",
            "Model summary (fused): 168 layers, 3005843 parameters, 0 gradients, 8.1 GFLOPs\n",
            "\n",
            "image 1/1 /content/drive/MyDrive/CsiLab-BrainTumor-Detection-3/train/images/Te-me_0059_jpg.rf.451ee56007f1baaa44fb456a8d6bd648.jpg: 416x640 1 Tumor, 24.0ms\n",
            "Speed: 0.5ms pre-process, 24.0ms inference, 1.9ms postprocess per image at shape (1, 3, 640, 640)\n",
            "Ultralytics YOLOv8.0.28 🚀 Python-3.10.12 torch-2.1.0+cu121 CUDA:0 (Tesla T4, 15102MiB)\n",
            "Model summary (fused): 268 layers, 43607379 parameters, 0 gradients, 164.8 GFLOPs\n",
            "\n",
            "image 1/1 /content/drive/MyDrive/CsiLab-BrainTumor-Detection-3/train/images/Te-me_0059_jpg.rf.451ee56007f1baaa44fb456a8d6bd648.jpg: 416x640 1 Tumor, 50.2ms\n",
            "Speed: 0.5ms pre-process, 50.2ms inference, 1.4ms postprocess per image at shape (1, 3, 640, 640)\n",
            "Ultralytics YOLOv8.0.28 🚀 Python-3.10.12 torch-2.1.0+cu121 CUDA:0 (Tesla T4, 15102MiB)\n",
            "Model summary (fused): 268 layers, 68124531 parameters, 0 gradients, 257.4 GFLOPs\n",
            "\n",
            "image 1/1 /content/drive/MyDrive/CsiLab-BrainTumor-Detection-3/train/images/Te-me_0059_jpg.rf.451ee56007f1baaa44fb456a8d6bd648.jpg: 416x640 1 Tumor, 70.7ms\n",
            "Speed: 0.4ms pre-process, 70.7ms inference, 1.5ms postprocess per image at shape (1, 3, 640, 640)\n",
            "Ultralytics YOLOv8.0.28 🚀 Python-3.10.12 torch-2.1.0+cu121 CUDA:0 (Tesla T4, 15102MiB)\n"
          ]
        },
        {
          "output_type": "stream",
          "name": "stdout",
          "text": [
            "/content/drive/MyDrive/CsiLab-BrainTumor-Detection-3/train/images/36_jpg.rf.f41592a43d7fabc6075f68c7c6337ed7.jpg\n"
          ]
        },
        {
          "output_type": "stream",
          "name": "stderr",
          "text": [
            "Model summary (fused): 168 layers, 11125971 parameters, 0 gradients, 28.4 GFLOPs\n",
            "\n",
            "image 1/1 /content/drive/MyDrive/CsiLab-BrainTumor-Detection-3/train/images/36_jpg.rf.f41592a43d7fabc6075f68c7c6337ed7.jpg: 640x640 1 Tumor, 15.8ms\n",
            "Speed: 0.5ms pre-process, 15.8ms inference, 1.4ms postprocess per image at shape (1, 3, 640, 640)\n",
            "Ultralytics YOLOv8.0.28 🚀 Python-3.10.12 torch-2.1.0+cu121 CUDA:0 (Tesla T4, 15102MiB)\n"
          ]
        },
        {
          "output_type": "stream",
          "name": "stdout",
          "text": [
            "[    0.31696     0.75446     0.19643        0.25]\n"
          ]
        },
        {
          "output_type": "stream",
          "name": "stderr",
          "text": [
            "Model summary (fused): 218 layers, 25840339 parameters, 0 gradients, 78.7 GFLOPs\n",
            "\n",
            "image 1/1 /content/drive/MyDrive/CsiLab-BrainTumor-Detection-3/train/images/36_jpg.rf.f41592a43d7fabc6075f68c7c6337ed7.jpg: 640x640 1 Tumor, 29.4ms\n",
            "Speed: 0.5ms pre-process, 29.4ms inference, 2.0ms postprocess per image at shape (1, 3, 640, 640)\n",
            "Ultralytics YOLOv8.0.28 🚀 Python-3.10.12 torch-2.1.0+cu121 CUDA:0 (Tesla T4, 15102MiB)\n",
            "Model summary (fused): 168 layers, 3005843 parameters, 0 gradients, 8.1 GFLOPs\n",
            "\n",
            "image 1/1 /content/drive/MyDrive/CsiLab-BrainTumor-Detection-3/train/images/36_jpg.rf.f41592a43d7fabc6075f68c7c6337ed7.jpg: 640x640 1 Tumor, 16.0ms\n",
            "Speed: 0.5ms pre-process, 16.0ms inference, 1.4ms postprocess per image at shape (1, 3, 640, 640)\n",
            "Ultralytics YOLOv8.0.28 🚀 Python-3.10.12 torch-2.1.0+cu121 CUDA:0 (Tesla T4, 15102MiB)\n",
            "Model summary (fused): 268 layers, 43607379 parameters, 0 gradients, 164.8 GFLOPs\n",
            "\n",
            "image 1/1 /content/drive/MyDrive/CsiLab-BrainTumor-Detection-3/train/images/36_jpg.rf.f41592a43d7fabc6075f68c7c6337ed7.jpg: 640x640 1 Tumor, 63.0ms\n",
            "Speed: 0.5ms pre-process, 63.0ms inference, 1.4ms postprocess per image at shape (1, 3, 640, 640)\n",
            "Ultralytics YOLOv8.0.28 🚀 Python-3.10.12 torch-2.1.0+cu121 CUDA:0 (Tesla T4, 15102MiB)\n",
            "Model summary (fused): 268 layers, 68124531 parameters, 0 gradients, 257.4 GFLOPs\n",
            "\n",
            "image 1/1 /content/drive/MyDrive/CsiLab-BrainTumor-Detection-3/train/images/36_jpg.rf.f41592a43d7fabc6075f68c7c6337ed7.jpg: 640x640 1 Tumor, 63.7ms\n",
            "Speed: 0.6ms pre-process, 63.7ms inference, 1.6ms postprocess per image at shape (1, 3, 640, 640)\n",
            "Ultralytics YOLOv8.0.28 🚀 Python-3.10.12 torch-2.1.0+cu121 CUDA:0 (Tesla T4, 15102MiB)\n"
          ]
        },
        {
          "output_type": "stream",
          "name": "stdout",
          "text": [
            "/content/drive/MyDrive/CsiLab-BrainTumor-Detection-3/train/images/Te-me_0016_jpg.rf.076c2cf985525adbd80abb5da8f5cb84.jpg\n"
          ]
        },
        {
          "output_type": "stream",
          "name": "stderr",
          "text": [
            "Model summary (fused): 168 layers, 11125971 parameters, 0 gradients, 28.4 GFLOPs\n",
            "\n",
            "image 1/1 /content/drive/MyDrive/CsiLab-BrainTumor-Detection-3/train/images/Te-me_0016_jpg.rf.076c2cf985525adbd80abb5da8f5cb84.jpg: 640x576 1 Tumor, 19.4ms\n",
            "Speed: 0.6ms pre-process, 19.4ms inference, 1.5ms postprocess per image at shape (1, 3, 640, 640)\n",
            "Ultralytics YOLOv8.0.28 🚀 Python-3.10.12 torch-2.1.0+cu121 CUDA:0 (Tesla T4, 15102MiB)\n"
          ]
        },
        {
          "output_type": "stream",
          "name": "stdout",
          "text": [
            "[    0.76724     0.43953     0.19655     0.28319]\n"
          ]
        },
        {
          "output_type": "stream",
          "name": "stderr",
          "text": [
            "Model summary (fused): 218 layers, 25840339 parameters, 0 gradients, 78.7 GFLOPs\n",
            "\n",
            "image 1/1 /content/drive/MyDrive/CsiLab-BrainTumor-Detection-3/train/images/Te-me_0016_jpg.rf.076c2cf985525adbd80abb5da8f5cb84.jpg: 640x576 1 Tumor, 30.2ms\n",
            "Speed: 0.5ms pre-process, 30.2ms inference, 1.9ms postprocess per image at shape (1, 3, 640, 640)\n",
            "Ultralytics YOLOv8.0.28 🚀 Python-3.10.12 torch-2.1.0+cu121 CUDA:0 (Tesla T4, 15102MiB)\n",
            "Model summary (fused): 168 layers, 3005843 parameters, 0 gradients, 8.1 GFLOPs\n",
            "\n",
            "image 1/1 /content/drive/MyDrive/CsiLab-BrainTumor-Detection-3/train/images/Te-me_0016_jpg.rf.076c2cf985525adbd80abb5da8f5cb84.jpg: 640x576 1 Tumor, 16.9ms\n",
            "Speed: 0.5ms pre-process, 16.9ms inference, 1.4ms postprocess per image at shape (1, 3, 640, 640)\n",
            "Ultralytics YOLOv8.0.28 🚀 Python-3.10.12 torch-2.1.0+cu121 CUDA:0 (Tesla T4, 15102MiB)\n",
            "Model summary (fused): 268 layers, 43607379 parameters, 0 gradients, 164.8 GFLOPs\n",
            "\n",
            "image 1/1 /content/drive/MyDrive/CsiLab-BrainTumor-Detection-3/train/images/Te-me_0016_jpg.rf.076c2cf985525adbd80abb5da8f5cb84.jpg: 640x576 1 Tumor, 62.2ms\n",
            "Speed: 0.5ms pre-process, 62.2ms inference, 1.6ms postprocess per image at shape (1, 3, 640, 640)\n",
            "Ultralytics YOLOv8.0.28 🚀 Python-3.10.12 torch-2.1.0+cu121 CUDA:0 (Tesla T4, 15102MiB)\n",
            "Model summary (fused): 268 layers, 68124531 parameters, 0 gradients, 257.4 GFLOPs\n",
            "\n",
            "image 1/1 /content/drive/MyDrive/CsiLab-BrainTumor-Detection-3/train/images/Te-me_0016_jpg.rf.076c2cf985525adbd80abb5da8f5cb84.jpg: 640x576 1 Tumor, 67.2ms\n",
            "Speed: 0.5ms pre-process, 67.2ms inference, 1.9ms postprocess per image at shape (1, 3, 640, 640)\n",
            "Ultralytics YOLOv8.0.28 🚀 Python-3.10.12 torch-2.1.0+cu121 CUDA:0 (Tesla T4, 15102MiB)\n"
          ]
        },
        {
          "output_type": "stream",
          "name": "stdout",
          "text": [
            "/content/drive/MyDrive/CsiLab-BrainTumor-Detection-3/train/images/Te-me_0036_jpg.rf.4bbac80683a6ee20e7614254e96bafcb.jpg\n"
          ]
        },
        {
          "output_type": "stream",
          "name": "stderr",
          "text": [
            "Model summary (fused): 168 layers, 11125971 parameters, 0 gradients, 28.4 GFLOPs\n",
            "\n",
            "image 1/1 /content/drive/MyDrive/CsiLab-BrainTumor-Detection-3/train/images/Te-me_0036_jpg.rf.4bbac80683a6ee20e7614254e96bafcb.jpg: 640x544 1 Tumor, 70.6ms\n",
            "Speed: 0.5ms pre-process, 70.6ms inference, 2.2ms postprocess per image at shape (1, 3, 640, 640)\n"
          ]
        },
        {
          "output_type": "stream",
          "name": "stdout",
          "text": [
            "[    0.34146     0.36853     0.44878     0.52988]\n"
          ]
        },
        {
          "output_type": "stream",
          "name": "stderr",
          "text": [
            "Ultralytics YOLOv8.0.28 🚀 Python-3.10.12 torch-2.1.0+cu121 CUDA:0 (Tesla T4, 15102MiB)\n",
            "Model summary (fused): 218 layers, 25840339 parameters, 0 gradients, 78.7 GFLOPs\n",
            "\n",
            "image 1/1 /content/drive/MyDrive/CsiLab-BrainTumor-Detection-3/train/images/Te-me_0036_jpg.rf.4bbac80683a6ee20e7614254e96bafcb.jpg: 640x544 1 Tumor, 27.1ms\n",
            "Speed: 0.6ms pre-process, 27.1ms inference, 2.1ms postprocess per image at shape (1, 3, 640, 640)\n",
            "Ultralytics YOLOv8.0.28 🚀 Python-3.10.12 torch-2.1.0+cu121 CUDA:0 (Tesla T4, 15102MiB)\n",
            "Model summary (fused): 168 layers, 3005843 parameters, 0 gradients, 8.1 GFLOPs\n",
            "\n",
            "image 1/1 /content/drive/MyDrive/CsiLab-BrainTumor-Detection-3/train/images/Te-me_0036_jpg.rf.4bbac80683a6ee20e7614254e96bafcb.jpg: 640x544 1 Tumor, 19.9ms\n",
            "Speed: 0.6ms pre-process, 19.9ms inference, 1.9ms postprocess per image at shape (1, 3, 640, 640)\n",
            "Ultralytics YOLOv8.0.28 🚀 Python-3.10.12 torch-2.1.0+cu121 CUDA:0 (Tesla T4, 15102MiB)\n",
            "Model summary (fused): 268 layers, 43607379 parameters, 0 gradients, 164.8 GFLOPs\n",
            "\n",
            "image 1/1 /content/drive/MyDrive/CsiLab-BrainTumor-Detection-3/train/images/Te-me_0036_jpg.rf.4bbac80683a6ee20e7614254e96bafcb.jpg: 640x544 1 Tumor, 55.1ms\n",
            "Speed: 0.5ms pre-process, 55.1ms inference, 1.5ms postprocess per image at shape (1, 3, 640, 640)\n",
            "Ultralytics YOLOv8.0.28 🚀 Python-3.10.12 torch-2.1.0+cu121 CUDA:0 (Tesla T4, 15102MiB)\n",
            "Model summary (fused): 268 layers, 68124531 parameters, 0 gradients, 257.4 GFLOPs\n",
            "\n",
            "image 1/1 /content/drive/MyDrive/CsiLab-BrainTumor-Detection-3/train/images/Te-me_0036_jpg.rf.4bbac80683a6ee20e7614254e96bafcb.jpg: 640x544 1 Tumor, 65.2ms\n",
            "Speed: 0.6ms pre-process, 65.2ms inference, 1.5ms postprocess per image at shape (1, 3, 640, 640)\n",
            "Ultralytics YOLOv8.0.28 🚀 Python-3.10.12 torch-2.1.0+cu121 CUDA:0 (Tesla T4, 15102MiB)\n"
          ]
        },
        {
          "output_type": "stream",
          "name": "stdout",
          "text": [
            "/content/drive/MyDrive/CsiLab-BrainTumor-Detection-3/train/images/42_jpg.rf.5cb629c683cc6e93575fda8eefd6e750.jpg\n"
          ]
        },
        {
          "output_type": "stream",
          "name": "stderr",
          "text": [
            "Model summary (fused): 168 layers, 11125971 parameters, 0 gradients, 28.4 GFLOPs\n",
            "\n",
            "image 1/1 /content/drive/MyDrive/CsiLab-BrainTumor-Detection-3/train/images/42_jpg.rf.5cb629c683cc6e93575fda8eefd6e750.jpg: 640x640 2 Tumors, 16.6ms\n",
            "Speed: 0.6ms pre-process, 16.6ms inference, 1.5ms postprocess per image at shape (1, 3, 640, 640)\n",
            "Ultralytics YOLOv8.0.28 🚀 Python-3.10.12 torch-2.1.0+cu121 CUDA:0 (Tesla T4, 15102MiB)\n"
          ]
        },
        {
          "output_type": "stream",
          "name": "stdout",
          "text": [
            "[    0.67411     0.27902     0.22321     0.20982]\n"
          ]
        },
        {
          "output_type": "stream",
          "name": "stderr",
          "text": [
            "Model summary (fused): 218 layers, 25840339 parameters, 0 gradients, 78.7 GFLOPs\n",
            "\n",
            "image 1/1 /content/drive/MyDrive/CsiLab-BrainTumor-Detection-3/train/images/42_jpg.rf.5cb629c683cc6e93575fda8eefd6e750.jpg: 640x640 2 Tumors, 27.3ms\n",
            "Speed: 0.5ms pre-process, 27.3ms inference, 1.4ms postprocess per image at shape (1, 3, 640, 640)\n",
            "Ultralytics YOLOv8.0.28 🚀 Python-3.10.12 torch-2.1.0+cu121 CUDA:0 (Tesla T4, 15102MiB)\n",
            "Model summary (fused): 168 layers, 3005843 parameters, 0 gradients, 8.1 GFLOPs\n",
            "\n",
            "image 1/1 /content/drive/MyDrive/CsiLab-BrainTumor-Detection-3/train/images/42_jpg.rf.5cb629c683cc6e93575fda8eefd6e750.jpg: 640x640 1 Tumor, 15.6ms\n",
            "Speed: 0.5ms pre-process, 15.6ms inference, 1.4ms postprocess per image at shape (1, 3, 640, 640)\n",
            "Ultralytics YOLOv8.0.28 🚀 Python-3.10.12 torch-2.1.0+cu121 CUDA:0 (Tesla T4, 15102MiB)\n",
            "Model summary (fused): 268 layers, 43607379 parameters, 0 gradients, 164.8 GFLOPs\n",
            "\n",
            "image 1/1 /content/drive/MyDrive/CsiLab-BrainTumor-Detection-3/train/images/42_jpg.rf.5cb629c683cc6e93575fda8eefd6e750.jpg: 640x640 2 Tumors, 56.1ms\n",
            "Speed: 0.5ms pre-process, 56.1ms inference, 1.7ms postprocess per image at shape (1, 3, 640, 640)\n",
            "Ultralytics YOLOv8.0.28 🚀 Python-3.10.12 torch-2.1.0+cu121 CUDA:0 (Tesla T4, 15102MiB)\n",
            "Model summary (fused): 268 layers, 68124531 parameters, 0 gradients, 257.4 GFLOPs\n",
            "\n",
            "image 1/1 /content/drive/MyDrive/CsiLab-BrainTumor-Detection-3/train/images/42_jpg.rf.5cb629c683cc6e93575fda8eefd6e750.jpg: 640x640 1 Tumor, 81.0ms\n",
            "Speed: 0.6ms pre-process, 81.0ms inference, 1.6ms postprocess per image at shape (1, 3, 640, 640)\n",
            "Ultralytics YOLOv8.0.28 🚀 Python-3.10.12 torch-2.1.0+cu121 CUDA:0 (Tesla T4, 15102MiB)\n"
          ]
        },
        {
          "output_type": "stream",
          "name": "stdout",
          "text": [
            "/content/drive/MyDrive/CsiLab-BrainTumor-Detection-3/train/images/Te-me_0177_jpg.rf.4e0c5d6ace81673738941119a7be2745.jpg\n"
          ]
        },
        {
          "output_type": "stream",
          "name": "stderr",
          "text": [
            "Model summary (fused): 168 layers, 11125971 parameters, 0 gradients, 28.4 GFLOPs\n",
            "\n",
            "image 1/1 /content/drive/MyDrive/CsiLab-BrainTumor-Detection-3/train/images/Te-me_0177_jpg.rf.4e0c5d6ace81673738941119a7be2745.jpg: 640x640 1 Tumor, 15.8ms\n",
            "Speed: 0.5ms pre-process, 15.8ms inference, 1.4ms postprocess per image at shape (1, 3, 640, 640)\n",
            "Ultralytics YOLOv8.0.28 🚀 Python-3.10.12 torch-2.1.0+cu121 CUDA:0 (Tesla T4, 15102MiB)\n"
          ]
        },
        {
          "output_type": "stream",
          "name": "stdout",
          "text": [
            "[    0.31738     0.37793     0.16211     0.16992]\n"
          ]
        },
        {
          "output_type": "stream",
          "name": "stderr",
          "text": [
            "Model summary (fused): 218 layers, 25840339 parameters, 0 gradients, 78.7 GFLOPs\n",
            "\n",
            "image 1/1 /content/drive/MyDrive/CsiLab-BrainTumor-Detection-3/train/images/Te-me_0177_jpg.rf.4e0c5d6ace81673738941119a7be2745.jpg: 640x640 1 Tumor, 24.8ms\n",
            "Speed: 0.5ms pre-process, 24.8ms inference, 1.5ms postprocess per image at shape (1, 3, 640, 640)\n",
            "Ultralytics YOLOv8.0.28 🚀 Python-3.10.12 torch-2.1.0+cu121 CUDA:0 (Tesla T4, 15102MiB)\n",
            "Model summary (fused): 168 layers, 3005843 parameters, 0 gradients, 8.1 GFLOPs\n",
            "\n",
            "image 1/1 /content/drive/MyDrive/CsiLab-BrainTumor-Detection-3/train/images/Te-me_0177_jpg.rf.4e0c5d6ace81673738941119a7be2745.jpg: 640x640 2 Tumors, 16.2ms\n",
            "Speed: 0.5ms pre-process, 16.2ms inference, 1.4ms postprocess per image at shape (1, 3, 640, 640)\n",
            "Ultralytics YOLOv8.0.28 🚀 Python-3.10.12 torch-2.1.0+cu121 CUDA:0 (Tesla T4, 15102MiB)\n",
            "Model summary (fused): 268 layers, 43607379 parameters, 0 gradients, 164.8 GFLOPs\n",
            "\n",
            "image 1/1 /content/drive/MyDrive/CsiLab-BrainTumor-Detection-3/train/images/Te-me_0177_jpg.rf.4e0c5d6ace81673738941119a7be2745.jpg: 640x640 1 Tumor, 62.9ms\n",
            "Speed: 0.5ms pre-process, 62.9ms inference, 1.4ms postprocess per image at shape (1, 3, 640, 640)\n",
            "Ultralytics YOLOv8.0.28 🚀 Python-3.10.12 torch-2.1.0+cu121 CUDA:0 (Tesla T4, 15102MiB)\n",
            "Model summary (fused): 268 layers, 68124531 parameters, 0 gradients, 257.4 GFLOPs\n",
            "\n",
            "image 1/1 /content/drive/MyDrive/CsiLab-BrainTumor-Detection-3/train/images/Te-me_0177_jpg.rf.4e0c5d6ace81673738941119a7be2745.jpg: 640x640 1 Tumor, 90.9ms\n",
            "Speed: 0.5ms pre-process, 90.9ms inference, 1.5ms postprocess per image at shape (1, 3, 640, 640)\n",
            "Ultralytics YOLOv8.0.28 🚀 Python-3.10.12 torch-2.1.0+cu121 CUDA:0 (Tesla T4, 15102MiB)\n"
          ]
        },
        {
          "output_type": "stream",
          "name": "stdout",
          "text": [
            "/content/drive/MyDrive/CsiLab-BrainTumor-Detection-3/train/images/Te-me_0025_jpg.rf.645b98588959c5b9d35c0c8cebb9b68d.jpg\n"
          ]
        },
        {
          "output_type": "stream",
          "name": "stderr",
          "text": [
            "Model summary (fused): 168 layers, 11125971 parameters, 0 gradients, 28.4 GFLOPs\n",
            "\n",
            "image 1/1 /content/drive/MyDrive/CsiLab-BrainTumor-Detection-3/train/images/Te-me_0025_jpg.rf.645b98588959c5b9d35c0c8cebb9b68d.jpg: 640x576 1 Tumor, 18.7ms\n",
            "Speed: 0.5ms pre-process, 18.7ms inference, 1.4ms postprocess per image at shape (1, 3, 640, 640)\n"
          ]
        },
        {
          "output_type": "stream",
          "name": "stdout",
          "text": [
            "[    0.25943     0.38842     0.37421     0.34746]\n"
          ]
        },
        {
          "output_type": "stream",
          "name": "stderr",
          "text": [
            "Ultralytics YOLOv8.0.28 🚀 Python-3.10.12 torch-2.1.0+cu121 CUDA:0 (Tesla T4, 15102MiB)\n",
            "Model summary (fused): 218 layers, 25840339 parameters, 0 gradients, 78.7 GFLOPs\n",
            "\n",
            "image 1/1 /content/drive/MyDrive/CsiLab-BrainTumor-Detection-3/train/images/Te-me_0025_jpg.rf.645b98588959c5b9d35c0c8cebb9b68d.jpg: 640x576 1 Tumor, 29.4ms\n",
            "Speed: 0.5ms pre-process, 29.4ms inference, 1.8ms postprocess per image at shape (1, 3, 640, 640)\n",
            "Ultralytics YOLOv8.0.28 🚀 Python-3.10.12 torch-2.1.0+cu121 CUDA:0 (Tesla T4, 15102MiB)\n",
            "Model summary (fused): 168 layers, 3005843 parameters, 0 gradients, 8.1 GFLOPs\n",
            "\n",
            "image 1/1 /content/drive/MyDrive/CsiLab-BrainTumor-Detection-3/train/images/Te-me_0025_jpg.rf.645b98588959c5b9d35c0c8cebb9b68d.jpg: 640x576 1 Tumor, 20.5ms\n",
            "Speed: 0.5ms pre-process, 20.5ms inference, 1.7ms postprocess per image at shape (1, 3, 640, 640)\n",
            "Ultralytics YOLOv8.0.28 🚀 Python-3.10.12 torch-2.1.0+cu121 CUDA:0 (Tesla T4, 15102MiB)\n",
            "Model summary (fused): 268 layers, 43607379 parameters, 0 gradients, 164.8 GFLOPs\n",
            "\n",
            "image 1/1 /content/drive/MyDrive/CsiLab-BrainTumor-Detection-3/train/images/Te-me_0025_jpg.rf.645b98588959c5b9d35c0c8cebb9b68d.jpg: 640x576 1 Tumor, 69.1ms\n",
            "Speed: 0.5ms pre-process, 69.1ms inference, 1.7ms postprocess per image at shape (1, 3, 640, 640)\n",
            "Ultralytics YOLOv8.0.28 🚀 Python-3.10.12 torch-2.1.0+cu121 CUDA:0 (Tesla T4, 15102MiB)\n",
            "Model summary (fused): 268 layers, 68124531 parameters, 0 gradients, 257.4 GFLOPs\n",
            "\n",
            "image 1/1 /content/drive/MyDrive/CsiLab-BrainTumor-Detection-3/train/images/Te-me_0025_jpg.rf.645b98588959c5b9d35c0c8cebb9b68d.jpg: 640x576 1 Tumor, 62.3ms\n",
            "Speed: 0.5ms pre-process, 62.3ms inference, 1.4ms postprocess per image at shape (1, 3, 640, 640)\n",
            "Ultralytics YOLOv8.0.28 🚀 Python-3.10.12 torch-2.1.0+cu121 CUDA:0 (Tesla T4, 15102MiB)\n"
          ]
        },
        {
          "output_type": "stream",
          "name": "stdout",
          "text": [
            "/content/drive/MyDrive/CsiLab-BrainTumor-Detection-3/train/images/Te-me_0074_jpg.rf.74e274aa2d16debeb4a8891ed7245d6c.jpg\n"
          ]
        },
        {
          "output_type": "stream",
          "name": "stderr",
          "text": [
            "Model summary (fused): 168 layers, 11125971 parameters, 0 gradients, 28.4 GFLOPs\n",
            "\n",
            "image 1/1 /content/drive/MyDrive/CsiLab-BrainTumor-Detection-3/train/images/Te-me_0074_jpg.rf.74e274aa2d16debeb4a8891ed7245d6c.jpg: 640x544 2 Tumors, 19.5ms\n",
            "Speed: 0.5ms pre-process, 19.5ms inference, 1.4ms postprocess per image at shape (1, 3, 640, 640)\n",
            "Ultralytics YOLOv8.0.28 🚀 Python-3.10.12 torch-2.1.0+cu121 CUDA:0 (Tesla T4, 15102MiB)\n"
          ]
        },
        {
          "output_type": "stream",
          "name": "stdout",
          "text": [
            "[    0.34066     0.68865     0.29304     0.32209]\n"
          ]
        },
        {
          "output_type": "stream",
          "name": "stderr",
          "text": [
            "Model summary (fused): 218 layers, 25840339 parameters, 0 gradients, 78.7 GFLOPs\n",
            "\n",
            "image 1/1 /content/drive/MyDrive/CsiLab-BrainTumor-Detection-3/train/images/Te-me_0074_jpg.rf.74e274aa2d16debeb4a8891ed7245d6c.jpg: 640x544 2 Tumors, 22.3ms\n",
            "Speed: 0.5ms pre-process, 22.3ms inference, 2.3ms postprocess per image at shape (1, 3, 640, 640)\n",
            "Ultralytics YOLOv8.0.28 🚀 Python-3.10.12 torch-2.1.0+cu121 CUDA:0 (Tesla T4, 15102MiB)\n",
            "Model summary (fused): 168 layers, 3005843 parameters, 0 gradients, 8.1 GFLOPs\n",
            "\n",
            "image 1/1 /content/drive/MyDrive/CsiLab-BrainTumor-Detection-3/train/images/Te-me_0074_jpg.rf.74e274aa2d16debeb4a8891ed7245d6c.jpg: 640x544 2 Tumors, 16.7ms\n",
            "Speed: 0.5ms pre-process, 16.7ms inference, 1.4ms postprocess per image at shape (1, 3, 640, 640)\n",
            "Ultralytics YOLOv8.0.28 🚀 Python-3.10.12 torch-2.1.0+cu121 CUDA:0 (Tesla T4, 15102MiB)\n",
            "Model summary (fused): 268 layers, 43607379 parameters, 0 gradients, 164.8 GFLOPs\n",
            "\n",
            "image 1/1 /content/drive/MyDrive/CsiLab-BrainTumor-Detection-3/train/images/Te-me_0074_jpg.rf.74e274aa2d16debeb4a8891ed7245d6c.jpg: 640x544 2 Tumors, 55.8ms\n",
            "Speed: 0.5ms pre-process, 55.8ms inference, 1.5ms postprocess per image at shape (1, 3, 640, 640)\n",
            "Ultralytics YOLOv8.0.28 🚀 Python-3.10.12 torch-2.1.0+cu121 CUDA:0 (Tesla T4, 15102MiB)\n",
            "Model summary (fused): 268 layers, 68124531 parameters, 0 gradients, 257.4 GFLOPs\n",
            "\n",
            "image 1/1 /content/drive/MyDrive/CsiLab-BrainTumor-Detection-3/train/images/Te-me_0074_jpg.rf.74e274aa2d16debeb4a8891ed7245d6c.jpg: 640x544 2 Tumors, 61.5ms\n",
            "Speed: 0.6ms pre-process, 61.5ms inference, 1.6ms postprocess per image at shape (1, 3, 640, 640)\n",
            "Ultralytics YOLOv8.0.28 🚀 Python-3.10.12 torch-2.1.0+cu121 CUDA:0 (Tesla T4, 15102MiB)\n"
          ]
        },
        {
          "output_type": "stream",
          "name": "stdout",
          "text": [
            "/content/drive/MyDrive/CsiLab-BrainTumor-Detection-3/train/images/Te-me_0149_jpg.rf.5e6d50a1374a2be550ec99f70055f424.jpg\n"
          ]
        },
        {
          "output_type": "stream",
          "name": "stderr",
          "text": [
            "Model summary (fused): 168 layers, 11125971 parameters, 0 gradients, 28.4 GFLOPs\n",
            "\n",
            "image 1/1 /content/drive/MyDrive/CsiLab-BrainTumor-Detection-3/train/images/Te-me_0149_jpg.rf.5e6d50a1374a2be550ec99f70055f424.jpg: 640x640 1 Tumor, 16.1ms\n",
            "Speed: 0.5ms pre-process, 16.1ms inference, 1.4ms postprocess per image at shape (1, 3, 640, 640)\n",
            "Ultralytics YOLOv8.0.28 🚀 Python-3.10.12 torch-2.1.0+cu121 CUDA:0 (Tesla T4, 15102MiB)\n"
          ]
        },
        {
          "output_type": "stream",
          "name": "stdout",
          "text": [
            "[    0.44922     0.40332     0.11719     0.13477]\n"
          ]
        },
        {
          "output_type": "stream",
          "name": "stderr",
          "text": [
            "Model summary (fused): 218 layers, 25840339 parameters, 0 gradients, 78.7 GFLOPs\n",
            "\n",
            "image 1/1 /content/drive/MyDrive/CsiLab-BrainTumor-Detection-3/train/images/Te-me_0149_jpg.rf.5e6d50a1374a2be550ec99f70055f424.jpg: 640x640 1 Tumor, 22.0ms\n",
            "Speed: 0.5ms pre-process, 22.0ms inference, 1.4ms postprocess per image at shape (1, 3, 640, 640)\n",
            "Ultralytics YOLOv8.0.28 🚀 Python-3.10.12 torch-2.1.0+cu121 CUDA:0 (Tesla T4, 15102MiB)\n",
            "Model summary (fused): 168 layers, 3005843 parameters, 0 gradients, 8.1 GFLOPs\n",
            "\n",
            "image 1/1 /content/drive/MyDrive/CsiLab-BrainTumor-Detection-3/train/images/Te-me_0149_jpg.rf.5e6d50a1374a2be550ec99f70055f424.jpg: 640x640 1 Tumor, 17.9ms\n",
            "Speed: 0.5ms pre-process, 17.9ms inference, 1.4ms postprocess per image at shape (1, 3, 640, 640)\n",
            "Ultralytics YOLOv8.0.28 🚀 Python-3.10.12 torch-2.1.0+cu121 CUDA:0 (Tesla T4, 15102MiB)\n",
            "Model summary (fused): 268 layers, 43607379 parameters, 0 gradients, 164.8 GFLOPs\n",
            "\n",
            "image 1/1 /content/drive/MyDrive/CsiLab-BrainTumor-Detection-3/train/images/Te-me_0149_jpg.rf.5e6d50a1374a2be550ec99f70055f424.jpg: 640x640 1 Tumor, 56.6ms\n",
            "Speed: 0.5ms pre-process, 56.6ms inference, 1.7ms postprocess per image at shape (1, 3, 640, 640)\n",
            "Ultralytics YOLOv8.0.28 🚀 Python-3.10.12 torch-2.1.0+cu121 CUDA:0 (Tesla T4, 15102MiB)\n",
            "Model summary (fused): 268 layers, 68124531 parameters, 0 gradients, 257.4 GFLOPs\n",
            "\n",
            "image 1/1 /content/drive/MyDrive/CsiLab-BrainTumor-Detection-3/train/images/Te-me_0149_jpg.rf.5e6d50a1374a2be550ec99f70055f424.jpg: 640x640 1 Tumor, 74.2ms\n",
            "Speed: 0.5ms pre-process, 74.2ms inference, 1.4ms postprocess per image at shape (1, 3, 640, 640)\n",
            "Ultralytics YOLOv8.0.28 🚀 Python-3.10.12 torch-2.1.0+cu121 CUDA:0 (Tesla T4, 15102MiB)\n"
          ]
        },
        {
          "output_type": "stream",
          "name": "stdout",
          "text": [
            "/content/drive/MyDrive/CsiLab-BrainTumor-Detection-3/train/images/14_jpg.rf.4596d080e4ac660fadd81a59c11b147b.jpg\n"
          ]
        },
        {
          "output_type": "stream",
          "name": "stderr",
          "text": [
            "Model summary (fused): 168 layers, 11125971 parameters, 0 gradients, 28.4 GFLOPs\n",
            "\n",
            "image 1/1 /content/drive/MyDrive/CsiLab-BrainTumor-Detection-3/train/images/14_jpg.rf.4596d080e4ac660fadd81a59c11b147b.jpg: 640x640 1 Tumor, 16.3ms\n",
            "Speed: 0.5ms pre-process, 16.3ms inference, 1.5ms postprocess per image at shape (1, 3, 640, 640)\n",
            "Ultralytics YOLOv8.0.28 🚀 Python-3.10.12 torch-2.1.0+cu121 CUDA:0 (Tesla T4, 15102MiB)\n"
          ]
        },
        {
          "output_type": "stream",
          "name": "stdout",
          "text": [
            "[    0.30357     0.63393     0.39286         0.5]\n"
          ]
        },
        {
          "output_type": "stream",
          "name": "stderr",
          "text": [
            "Model summary (fused): 218 layers, 25840339 parameters, 0 gradients, 78.7 GFLOPs\n",
            "\n",
            "image 1/1 /content/drive/MyDrive/CsiLab-BrainTumor-Detection-3/train/images/14_jpg.rf.4596d080e4ac660fadd81a59c11b147b.jpg: 640x640 1 Tumor, 20.5ms\n",
            "Speed: 0.5ms pre-process, 20.5ms inference, 1.4ms postprocess per image at shape (1, 3, 640, 640)\n",
            "Ultralytics YOLOv8.0.28 🚀 Python-3.10.12 torch-2.1.0+cu121 CUDA:0 (Tesla T4, 15102MiB)\n",
            "Model summary (fused): 168 layers, 3005843 parameters, 0 gradients, 8.1 GFLOPs\n",
            "\n",
            "image 1/1 /content/drive/MyDrive/CsiLab-BrainTumor-Detection-3/train/images/14_jpg.rf.4596d080e4ac660fadd81a59c11b147b.jpg: 640x640 1 Tumor, 15.8ms\n",
            "Speed: 0.5ms pre-process, 15.8ms inference, 1.4ms postprocess per image at shape (1, 3, 640, 640)\n",
            "Ultralytics YOLOv8.0.28 🚀 Python-3.10.12 torch-2.1.0+cu121 CUDA:0 (Tesla T4, 15102MiB)\n",
            "Model summary (fused): 268 layers, 43607379 parameters, 0 gradients, 164.8 GFLOPs\n",
            "\n",
            "image 1/1 /content/drive/MyDrive/CsiLab-BrainTumor-Detection-3/train/images/14_jpg.rf.4596d080e4ac660fadd81a59c11b147b.jpg: 640x640 1 Tumor, 66.1ms\n",
            "Speed: 0.6ms pre-process, 66.1ms inference, 2.1ms postprocess per image at shape (1, 3, 640, 640)\n",
            "Ultralytics YOLOv8.0.28 🚀 Python-3.10.12 torch-2.1.0+cu121 CUDA:0 (Tesla T4, 15102MiB)\n",
            "Model summary (fused): 268 layers, 68124531 parameters, 0 gradients, 257.4 GFLOPs\n",
            "\n",
            "image 1/1 /content/drive/MyDrive/CsiLab-BrainTumor-Detection-3/train/images/14_jpg.rf.4596d080e4ac660fadd81a59c11b147b.jpg: 640x640 1 Tumor, 97.1ms\n",
            "Speed: 0.5ms pre-process, 97.1ms inference, 2.2ms postprocess per image at shape (1, 3, 640, 640)\n",
            "Ultralytics YOLOv8.0.28 🚀 Python-3.10.12 torch-2.1.0+cu121 CUDA:0 (Tesla T4, 15102MiB)\n"
          ]
        },
        {
          "output_type": "stream",
          "name": "stdout",
          "text": [
            "/content/drive/MyDrive/CsiLab-BrainTumor-Detection-3/train/images/75_jpg.rf.3aa69dbf432af785d44ee05a19054f34.jpg\n"
          ]
        },
        {
          "output_type": "stream",
          "name": "stderr",
          "text": [
            "Model summary (fused): 168 layers, 11125971 parameters, 0 gradients, 28.4 GFLOPs\n",
            "\n",
            "image 1/1 /content/drive/MyDrive/CsiLab-BrainTumor-Detection-3/train/images/75_jpg.rf.3aa69dbf432af785d44ee05a19054f34.jpg: 640x640 1 Tumor, 18.4ms\n",
            "Speed: 0.5ms pre-process, 18.4ms inference, 1.8ms postprocess per image at shape (1, 3, 640, 640)\n"
          ]
        },
        {
          "output_type": "stream",
          "name": "stdout",
          "text": [
            "[    0.52232     0.59152     0.10714     0.11161]\n"
          ]
        },
        {
          "output_type": "stream",
          "name": "stderr",
          "text": [
            "Ultralytics YOLOv8.0.28 🚀 Python-3.10.12 torch-2.1.0+cu121 CUDA:0 (Tesla T4, 15102MiB)\n",
            "Model summary (fused): 218 layers, 25840339 parameters, 0 gradients, 78.7 GFLOPs\n",
            "\n",
            "image 1/1 /content/drive/MyDrive/CsiLab-BrainTumor-Detection-3/train/images/75_jpg.rf.3aa69dbf432af785d44ee05a19054f34.jpg: 640x640 2 Tumors, 64.8ms\n",
            "Speed: 0.5ms pre-process, 64.8ms inference, 2.0ms postprocess per image at shape (1, 3, 640, 640)\n",
            "Ultralytics YOLOv8.0.28 🚀 Python-3.10.12 torch-2.1.0+cu121 CUDA:0 (Tesla T4, 15102MiB)\n",
            "Model summary (fused): 168 layers, 3005843 parameters, 0 gradients, 8.1 GFLOPs\n",
            "\n",
            "image 1/1 /content/drive/MyDrive/CsiLab-BrainTumor-Detection-3/train/images/75_jpg.rf.3aa69dbf432af785d44ee05a19054f34.jpg: 640x640 2 Tumors, 19.6ms\n",
            "Speed: 0.6ms pre-process, 19.6ms inference, 1.4ms postprocess per image at shape (1, 3, 640, 640)\n",
            "Ultralytics YOLOv8.0.28 🚀 Python-3.10.12 torch-2.1.0+cu121 CUDA:0 (Tesla T4, 15102MiB)\n",
            "Model summary (fused): 268 layers, 43607379 parameters, 0 gradients, 164.8 GFLOPs\n",
            "\n",
            "image 1/1 /content/drive/MyDrive/CsiLab-BrainTumor-Detection-3/train/images/75_jpg.rf.3aa69dbf432af785d44ee05a19054f34.jpg: 640x640 2 Tumors, 63.2ms\n",
            "Speed: 0.5ms pre-process, 63.2ms inference, 1.5ms postprocess per image at shape (1, 3, 640, 640)\n",
            "Ultralytics YOLOv8.0.28 🚀 Python-3.10.12 torch-2.1.0+cu121 CUDA:0 (Tesla T4, 15102MiB)\n",
            "Model summary (fused): 268 layers, 68124531 parameters, 0 gradients, 257.4 GFLOPs\n",
            "\n",
            "image 1/1 /content/drive/MyDrive/CsiLab-BrainTumor-Detection-3/train/images/75_jpg.rf.3aa69dbf432af785d44ee05a19054f34.jpg: 640x640 2 Tumors, 64.8ms\n",
            "Speed: 0.6ms pre-process, 64.8ms inference, 2.0ms postprocess per image at shape (1, 3, 640, 640)\n",
            "Ultralytics YOLOv8.0.28 🚀 Python-3.10.12 torch-2.1.0+cu121 CUDA:0 (Tesla T4, 15102MiB)\n"
          ]
        },
        {
          "output_type": "stream",
          "name": "stdout",
          "text": [
            "/content/drive/MyDrive/CsiLab-BrainTumor-Detection-3/train/images/32_jpg.rf.203c0436d70c05e10050a14b74e52f86.jpg\n"
          ]
        },
        {
          "output_type": "stream",
          "name": "stderr",
          "text": [
            "Model summary (fused): 168 layers, 11125971 parameters, 0 gradients, 28.4 GFLOPs\n",
            "\n",
            "image 1/1 /content/drive/MyDrive/CsiLab-BrainTumor-Detection-3/train/images/32_jpg.rf.203c0436d70c05e10050a14b74e52f86.jpg: 640x640 1 Tumor, 22.8ms\n",
            "Speed: 0.5ms pre-process, 22.8ms inference, 1.9ms postprocess per image at shape (1, 3, 640, 640)\n",
            "Ultralytics YOLOv8.0.28 🚀 Python-3.10.12 torch-2.1.0+cu121 CUDA:0 (Tesla T4, 15102MiB)\n"
          ]
        },
        {
          "output_type": "stream",
          "name": "stdout",
          "text": [
            "[    0.73214     0.53348     0.14286     0.09375]\n"
          ]
        },
        {
          "output_type": "stream",
          "name": "stderr",
          "text": [
            "Model summary (fused): 218 layers, 25840339 parameters, 0 gradients, 78.7 GFLOPs\n",
            "\n",
            "image 1/1 /content/drive/MyDrive/CsiLab-BrainTumor-Detection-3/train/images/32_jpg.rf.203c0436d70c05e10050a14b74e52f86.jpg: 640x640 1 Tumor, 22.6ms\n",
            "Speed: 0.5ms pre-process, 22.6ms inference, 1.5ms postprocess per image at shape (1, 3, 640, 640)\n",
            "Ultralytics YOLOv8.0.28 🚀 Python-3.10.12 torch-2.1.0+cu121 CUDA:0 (Tesla T4, 15102MiB)\n",
            "Model summary (fused): 168 layers, 3005843 parameters, 0 gradients, 8.1 GFLOPs\n",
            "\n",
            "image 1/1 /content/drive/MyDrive/CsiLab-BrainTumor-Detection-3/train/images/32_jpg.rf.203c0436d70c05e10050a14b74e52f86.jpg: 640x640 1 Tumor, 16.3ms\n",
            "Speed: 0.5ms pre-process, 16.3ms inference, 1.6ms postprocess per image at shape (1, 3, 640, 640)\n",
            "Ultralytics YOLOv8.0.28 🚀 Python-3.10.12 torch-2.1.0+cu121 CUDA:0 (Tesla T4, 15102MiB)\n",
            "Model summary (fused): 268 layers, 43607379 parameters, 0 gradients, 164.8 GFLOPs\n",
            "\n",
            "image 1/1 /content/drive/MyDrive/CsiLab-BrainTumor-Detection-3/train/images/32_jpg.rf.203c0436d70c05e10050a14b74e52f86.jpg: 640x640 2 Tumors, 62.9ms\n",
            "Speed: 0.5ms pre-process, 62.9ms inference, 1.6ms postprocess per image at shape (1, 3, 640, 640)\n",
            "Ultralytics YOLOv8.0.28 🚀 Python-3.10.12 torch-2.1.0+cu121 CUDA:0 (Tesla T4, 15102MiB)\n",
            "Model summary (fused): 268 layers, 68124531 parameters, 0 gradients, 257.4 GFLOPs\n",
            "\n",
            "image 1/1 /content/drive/MyDrive/CsiLab-BrainTumor-Detection-3/train/images/32_jpg.rf.203c0436d70c05e10050a14b74e52f86.jpg: 640x640 1 Tumor, 64.0ms\n",
            "Speed: 0.6ms pre-process, 64.0ms inference, 1.5ms postprocess per image at shape (1, 3, 640, 640)\n",
            "Ultralytics YOLOv8.0.28 🚀 Python-3.10.12 torch-2.1.0+cu121 CUDA:0 (Tesla T4, 15102MiB)\n"
          ]
        },
        {
          "output_type": "stream",
          "name": "stdout",
          "text": [
            "/content/drive/MyDrive/CsiLab-BrainTumor-Detection-3/valid/images/69_jpg.rf.23bb87992feebdcf0d372df4ab2451d4.jpg\n"
          ]
        },
        {
          "output_type": "stream",
          "name": "stderr",
          "text": [
            "Model summary (fused): 168 layers, 11125971 parameters, 0 gradients, 28.4 GFLOPs\n",
            "\n",
            "image 1/1 /content/drive/MyDrive/CsiLab-BrainTumor-Detection-3/valid/images/69_jpg.rf.23bb87992feebdcf0d372df4ab2451d4.jpg: 640x640 15.9ms\n",
            "Speed: 0.5ms pre-process, 15.9ms inference, 0.6ms postprocess per image at shape (1, 3, 640, 640)\n",
            "Ultralytics YOLOv8.0.28 🚀 Python-3.10.12 torch-2.1.0+cu121 CUDA:0 (Tesla T4, 15102MiB)\n"
          ]
        },
        {
          "output_type": "stream",
          "name": "stdout",
          "text": [
            "[0, 0, 0, 0]\n"
          ]
        },
        {
          "output_type": "stream",
          "name": "stderr",
          "text": [
            "Model summary (fused): 218 layers, 25840339 parameters, 0 gradients, 78.7 GFLOPs\n",
            "\n",
            "image 1/1 /content/drive/MyDrive/CsiLab-BrainTumor-Detection-3/valid/images/69_jpg.rf.23bb87992feebdcf0d372df4ab2451d4.jpg: 640x640 1 Tumor, 31.8ms\n",
            "Speed: 0.6ms pre-process, 31.8ms inference, 1.7ms postprocess per image at shape (1, 3, 640, 640)\n",
            "Ultralytics YOLOv8.0.28 🚀 Python-3.10.12 torch-2.1.0+cu121 CUDA:0 (Tesla T4, 15102MiB)\n",
            "Model summary (fused): 168 layers, 3005843 parameters, 0 gradients, 8.1 GFLOPs\n",
            "\n",
            "image 1/1 /content/drive/MyDrive/CsiLab-BrainTumor-Detection-3/valid/images/69_jpg.rf.23bb87992feebdcf0d372df4ab2451d4.jpg: 640x640 1 Tumor, 16.5ms\n",
            "Speed: 0.5ms pre-process, 16.5ms inference, 1.5ms postprocess per image at shape (1, 3, 640, 640)\n",
            "Ultralytics YOLOv8.0.28 🚀 Python-3.10.12 torch-2.1.0+cu121 CUDA:0 (Tesla T4, 15102MiB)\n",
            "Model summary (fused): 268 layers, 43607379 parameters, 0 gradients, 164.8 GFLOPs\n",
            "\n",
            "image 1/1 /content/drive/MyDrive/CsiLab-BrainTumor-Detection-3/valid/images/69_jpg.rf.23bb87992feebdcf0d372df4ab2451d4.jpg: 640x640 1 Tumor, 62.9ms\n",
            "Speed: 0.5ms pre-process, 62.9ms inference, 1.5ms postprocess per image at shape (1, 3, 640, 640)\n",
            "Ultralytics YOLOv8.0.28 🚀 Python-3.10.12 torch-2.1.0+cu121 CUDA:0 (Tesla T4, 15102MiB)\n",
            "Model summary (fused): 268 layers, 68124531 parameters, 0 gradients, 257.4 GFLOPs\n",
            "\n",
            "image 1/1 /content/drive/MyDrive/CsiLab-BrainTumor-Detection-3/valid/images/69_jpg.rf.23bb87992feebdcf0d372df4ab2451d4.jpg: 640x640 1 Tumor, 85.8ms\n",
            "Speed: 0.6ms pre-process, 85.8ms inference, 1.5ms postprocess per image at shape (1, 3, 640, 640)\n",
            "Ultralytics YOLOv8.0.28 🚀 Python-3.10.12 torch-2.1.0+cu121 CUDA:0 (Tesla T4, 15102MiB)\n"
          ]
        },
        {
          "output_type": "stream",
          "name": "stdout",
          "text": [
            "/content/drive/MyDrive/CsiLab-BrainTumor-Detection-3/valid/images/38_jpg.rf.aecd1268ceeed36858839a8b6eaabe2f.jpg\n"
          ]
        },
        {
          "output_type": "stream",
          "name": "stderr",
          "text": [
            "Model summary (fused): 168 layers, 11125971 parameters, 0 gradients, 28.4 GFLOPs\n",
            "\n",
            "image 1/1 /content/drive/MyDrive/CsiLab-BrainTumor-Detection-3/valid/images/38_jpg.rf.aecd1268ceeed36858839a8b6eaabe2f.jpg: 640x640 1 Tumor, 16.8ms\n",
            "Speed: 0.6ms pre-process, 16.8ms inference, 1.4ms postprocess per image at shape (1, 3, 640, 640)\n"
          ]
        },
        {
          "output_type": "stream",
          "name": "stdout",
          "text": [
            "[    0.33705     0.37277     0.45089     0.52232]\n"
          ]
        },
        {
          "output_type": "stream",
          "name": "stderr",
          "text": [
            "Ultralytics YOLOv8.0.28 🚀 Python-3.10.12 torch-2.1.0+cu121 CUDA:0 (Tesla T4, 15102MiB)\n",
            "Model summary (fused): 218 layers, 25840339 parameters, 0 gradients, 78.7 GFLOPs\n",
            "\n",
            "image 1/1 /content/drive/MyDrive/CsiLab-BrainTumor-Detection-3/valid/images/38_jpg.rf.aecd1268ceeed36858839a8b6eaabe2f.jpg: 640x640 1 Tumor, 22.5ms\n",
            "Speed: 0.5ms pre-process, 22.5ms inference, 1.7ms postprocess per image at shape (1, 3, 640, 640)\n",
            "Ultralytics YOLOv8.0.28 🚀 Python-3.10.12 torch-2.1.0+cu121 CUDA:0 (Tesla T4, 15102MiB)\n",
            "Model summary (fused): 168 layers, 3005843 parameters, 0 gradients, 8.1 GFLOPs\n",
            "\n",
            "image 1/1 /content/drive/MyDrive/CsiLab-BrainTumor-Detection-3/valid/images/38_jpg.rf.aecd1268ceeed36858839a8b6eaabe2f.jpg: 640x640 1 Tumor, 21.6ms\n",
            "Speed: 0.5ms pre-process, 21.6ms inference, 3.6ms postprocess per image at shape (1, 3, 640, 640)\n",
            "Ultralytics YOLOv8.0.28 🚀 Python-3.10.12 torch-2.1.0+cu121 CUDA:0 (Tesla T4, 15102MiB)\n",
            "Model summary (fused): 268 layers, 43607379 parameters, 0 gradients, 164.8 GFLOPs\n",
            "\n",
            "image 1/1 /content/drive/MyDrive/CsiLab-BrainTumor-Detection-3/valid/images/38_jpg.rf.aecd1268ceeed36858839a8b6eaabe2f.jpg: 640x640 1 Tumor, 64.4ms\n",
            "Speed: 0.6ms pre-process, 64.4ms inference, 1.8ms postprocess per image at shape (1, 3, 640, 640)\n",
            "Ultralytics YOLOv8.0.28 🚀 Python-3.10.12 torch-2.1.0+cu121 CUDA:0 (Tesla T4, 15102MiB)\n",
            "Model summary (fused): 268 layers, 68124531 parameters, 0 gradients, 257.4 GFLOPs\n",
            "\n",
            "image 1/1 /content/drive/MyDrive/CsiLab-BrainTumor-Detection-3/valid/images/38_jpg.rf.aecd1268ceeed36858839a8b6eaabe2f.jpg: 640x640 1 Tumor, 65.7ms\n",
            "Speed: 0.5ms pre-process, 65.7ms inference, 1.5ms postprocess per image at shape (1, 3, 640, 640)\n",
            "Ultralytics YOLOv8.0.28 🚀 Python-3.10.12 torch-2.1.0+cu121 CUDA:0 (Tesla T4, 15102MiB)\n"
          ]
        },
        {
          "output_type": "stream",
          "name": "stdout",
          "text": [
            "/content/drive/MyDrive/CsiLab-BrainTumor-Detection-3/valid/images/Te-me_0013_jpg.rf.c46e50d2f180ef768aae880f771b2770.jpg\n"
          ]
        },
        {
          "output_type": "stream",
          "name": "stderr",
          "text": [
            "Model summary (fused): 168 layers, 11125971 parameters, 0 gradients, 28.4 GFLOPs\n",
            "\n",
            "image 1/1 /content/drive/MyDrive/CsiLab-BrainTumor-Detection-3/valid/images/Te-me_0013_jpg.rf.c46e50d2f180ef768aae880f771b2770.jpg: 640x640 1 Tumor, 15.8ms\n",
            "Speed: 0.5ms pre-process, 15.8ms inference, 1.5ms postprocess per image at shape (1, 3, 640, 640)\n",
            "Ultralytics YOLOv8.0.28 🚀 Python-3.10.12 torch-2.1.0+cu121 CUDA:0 (Tesla T4, 15102MiB)\n"
          ]
        },
        {
          "output_type": "stream",
          "name": "stdout",
          "text": [
            "[    0.32766     0.67799     0.28345     0.30211]\n"
          ]
        },
        {
          "output_type": "stream",
          "name": "stderr",
          "text": [
            "Model summary (fused): 218 layers, 25840339 parameters, 0 gradients, 78.7 GFLOPs\n",
            "\n",
            "image 1/1 /content/drive/MyDrive/CsiLab-BrainTumor-Detection-3/valid/images/Te-me_0013_jpg.rf.c46e50d2f180ef768aae880f771b2770.jpg: 640x640 1 Tumor, 21.2ms\n",
            "Speed: 0.5ms pre-process, 21.2ms inference, 1.6ms postprocess per image at shape (1, 3, 640, 640)\n",
            "Ultralytics YOLOv8.0.28 🚀 Python-3.10.12 torch-2.1.0+cu121 CUDA:0 (Tesla T4, 15102MiB)\n",
            "Model summary (fused): 168 layers, 3005843 parameters, 0 gradients, 8.1 GFLOPs\n",
            "\n",
            "image 1/1 /content/drive/MyDrive/CsiLab-BrainTumor-Detection-3/valid/images/Te-me_0013_jpg.rf.c46e50d2f180ef768aae880f771b2770.jpg: 640x640 1 Tumor, 22.8ms\n",
            "Speed: 0.5ms pre-process, 22.8ms inference, 2.0ms postprocess per image at shape (1, 3, 640, 640)\n",
            "Ultralytics YOLOv8.0.28 🚀 Python-3.10.12 torch-2.1.0+cu121 CUDA:0 (Tesla T4, 15102MiB)\n",
            "Model summary (fused): 268 layers, 43607379 parameters, 0 gradients, 164.8 GFLOPs\n",
            "\n",
            "image 1/1 /content/drive/MyDrive/CsiLab-BrainTumor-Detection-3/valid/images/Te-me_0013_jpg.rf.c46e50d2f180ef768aae880f771b2770.jpg: 640x640 1 Tumor, 63.1ms\n",
            "Speed: 0.5ms pre-process, 63.1ms inference, 1.7ms postprocess per image at shape (1, 3, 640, 640)\n",
            "Ultralytics YOLOv8.0.28 🚀 Python-3.10.12 torch-2.1.0+cu121 CUDA:0 (Tesla T4, 15102MiB)\n",
            "Model summary (fused): 268 layers, 68124531 parameters, 0 gradients, 257.4 GFLOPs\n",
            "\n",
            "image 1/1 /content/drive/MyDrive/CsiLab-BrainTumor-Detection-3/valid/images/Te-me_0013_jpg.rf.c46e50d2f180ef768aae880f771b2770.jpg: 640x640 1 Tumor, 69.3ms\n",
            "Speed: 0.5ms pre-process, 69.3ms inference, 1.4ms postprocess per image at shape (1, 3, 640, 640)\n",
            "Ultralytics YOLOv8.0.28 🚀 Python-3.10.12 torch-2.1.0+cu121 CUDA:0 (Tesla T4, 15102MiB)\n"
          ]
        },
        {
          "output_type": "stream",
          "name": "stdout",
          "text": [
            "/content/drive/MyDrive/CsiLab-BrainTumor-Detection-3/valid/images/Te-me_0179_jpg.rf.e4ebec632382234e04e3e4cb7d357122.jpg\n"
          ]
        },
        {
          "output_type": "stream",
          "name": "stderr",
          "text": [
            "Model summary (fused): 168 layers, 11125971 parameters, 0 gradients, 28.4 GFLOPs\n",
            "\n",
            "image 1/1 /content/drive/MyDrive/CsiLab-BrainTumor-Detection-3/valid/images/Te-me_0179_jpg.rf.e4ebec632382234e04e3e4cb7d357122.jpg: 640x640 17.9ms\n",
            "Speed: 0.5ms pre-process, 17.9ms inference, 0.6ms postprocess per image at shape (1, 3, 640, 640)\n",
            "Ultralytics YOLOv8.0.28 🚀 Python-3.10.12 torch-2.1.0+cu121 CUDA:0 (Tesla T4, 15102MiB)\n"
          ]
        },
        {
          "output_type": "stream",
          "name": "stdout",
          "text": [
            "[0, 0, 0, 0]\n"
          ]
        },
        {
          "output_type": "stream",
          "name": "stderr",
          "text": [
            "Model summary (fused): 218 layers, 25840339 parameters, 0 gradients, 78.7 GFLOPs\n",
            "\n",
            "image 1/1 /content/drive/MyDrive/CsiLab-BrainTumor-Detection-3/valid/images/Te-me_0179_jpg.rf.e4ebec632382234e04e3e4cb7d357122.jpg: 640x640 1 Tumor, 32.9ms\n",
            "Speed: 0.6ms pre-process, 32.9ms inference, 2.2ms postprocess per image at shape (1, 3, 640, 640)\n",
            "Ultralytics YOLOv8.0.28 🚀 Python-3.10.12 torch-2.1.0+cu121 CUDA:0 (Tesla T4, 15102MiB)\n",
            "Model summary (fused): 168 layers, 3005843 parameters, 0 gradients, 8.1 GFLOPs\n",
            "\n",
            "image 1/1 /content/drive/MyDrive/CsiLab-BrainTumor-Detection-3/valid/images/Te-me_0179_jpg.rf.e4ebec632382234e04e3e4cb7d357122.jpg: 640x640 1 Tumor, 15.6ms\n",
            "Speed: 0.5ms pre-process, 15.6ms inference, 1.4ms postprocess per image at shape (1, 3, 640, 640)\n",
            "Ultralytics YOLOv8.0.28 🚀 Python-3.10.12 torch-2.1.0+cu121 CUDA:0 (Tesla T4, 15102MiB)\n",
            "Model summary (fused): 268 layers, 43607379 parameters, 0 gradients, 164.8 GFLOPs\n",
            "\n",
            "image 1/1 /content/drive/MyDrive/CsiLab-BrainTumor-Detection-3/valid/images/Te-me_0179_jpg.rf.e4ebec632382234e04e3e4cb7d357122.jpg: 640x640 1 Tumor, 57.1ms\n",
            "Speed: 0.5ms pre-process, 57.1ms inference, 1.4ms postprocess per image at shape (1, 3, 640, 640)\n",
            "Ultralytics YOLOv8.0.28 🚀 Python-3.10.12 torch-2.1.0+cu121 CUDA:0 (Tesla T4, 15102MiB)\n",
            "Model summary (fused): 268 layers, 68124531 parameters, 0 gradients, 257.4 GFLOPs\n",
            "\n",
            "image 1/1 /content/drive/MyDrive/CsiLab-BrainTumor-Detection-3/valid/images/Te-me_0179_jpg.rf.e4ebec632382234e04e3e4cb7d357122.jpg: 640x640 1 Tumor, 87.4ms\n",
            "Speed: 0.5ms pre-process, 87.4ms inference, 1.7ms postprocess per image at shape (1, 3, 640, 640)\n",
            "Ultralytics YOLOv8.0.28 🚀 Python-3.10.12 torch-2.1.0+cu121 CUDA:0 (Tesla T4, 15102MiB)\n"
          ]
        },
        {
          "output_type": "stream",
          "name": "stdout",
          "text": [
            "/content/drive/MyDrive/CsiLab-BrainTumor-Detection-3/valid/images/Te-me_0055_jpg.rf.ddbe30daa69e06ba065f533f3f57ba1e.jpg\n"
          ]
        },
        {
          "output_type": "stream",
          "name": "stderr",
          "text": [
            "Model summary (fused): 168 layers, 11125971 parameters, 0 gradients, 28.4 GFLOPs\n",
            "\n",
            "image 1/1 /content/drive/MyDrive/CsiLab-BrainTumor-Detection-3/valid/images/Te-me_0055_jpg.rf.ddbe30daa69e06ba065f533f3f57ba1e.jpg: 640x640 1 Tumor, 22.2ms\n",
            "Speed: 0.6ms pre-process, 22.2ms inference, 1.9ms postprocess per image at shape (1, 3, 640, 640)\n",
            "Ultralytics YOLOv8.0.28 🚀 Python-3.10.12 torch-2.1.0+cu121 CUDA:0 (Tesla T4, 15102MiB)\n"
          ]
        },
        {
          "output_type": "stream",
          "name": "stdout",
          "text": [
            "[    0.51703     0.18939      0.2944     0.16162]\n"
          ]
        },
        {
          "output_type": "stream",
          "name": "stderr",
          "text": [
            "Model summary (fused): 218 layers, 25840339 parameters, 0 gradients, 78.7 GFLOPs\n",
            "\n",
            "image 1/1 /content/drive/MyDrive/CsiLab-BrainTumor-Detection-3/valid/images/Te-me_0055_jpg.rf.ddbe30daa69e06ba065f533f3f57ba1e.jpg: 640x640 1 Tumor, 20.4ms\n",
            "Speed: 0.5ms pre-process, 20.4ms inference, 1.4ms postprocess per image at shape (1, 3, 640, 640)\n",
            "Ultralytics YOLOv8.0.28 🚀 Python-3.10.12 torch-2.1.0+cu121 CUDA:0 (Tesla T4, 15102MiB)\n",
            "Model summary (fused): 168 layers, 3005843 parameters, 0 gradients, 8.1 GFLOPs\n",
            "\n",
            "image 1/1 /content/drive/MyDrive/CsiLab-BrainTumor-Detection-3/valid/images/Te-me_0055_jpg.rf.ddbe30daa69e06ba065f533f3f57ba1e.jpg: 640x640 1 Tumor, 19.0ms\n",
            "Speed: 0.5ms pre-process, 19.0ms inference, 1.4ms postprocess per image at shape (1, 3, 640, 640)\n",
            "Ultralytics YOLOv8.0.28 🚀 Python-3.10.12 torch-2.1.0+cu121 CUDA:0 (Tesla T4, 15102MiB)\n",
            "Model summary (fused): 268 layers, 43607379 parameters, 0 gradients, 164.8 GFLOPs\n",
            "\n",
            "image 1/1 /content/drive/MyDrive/CsiLab-BrainTumor-Detection-3/valid/images/Te-me_0055_jpg.rf.ddbe30daa69e06ba065f533f3f57ba1e.jpg: 640x640 1 Tumor, 63.0ms\n",
            "Speed: 0.5ms pre-process, 63.0ms inference, 3.6ms postprocess per image at shape (1, 3, 640, 640)\n",
            "Ultralytics YOLOv8.0.28 🚀 Python-3.10.12 torch-2.1.0+cu121 CUDA:0 (Tesla T4, 15102MiB)\n",
            "Model summary (fused): 268 layers, 68124531 parameters, 0 gradients, 257.4 GFLOPs\n",
            "\n",
            "image 1/1 /content/drive/MyDrive/CsiLab-BrainTumor-Detection-3/valid/images/Te-me_0055_jpg.rf.ddbe30daa69e06ba065f533f3f57ba1e.jpg: 640x640 1 Tumor, 78.7ms\n",
            "Speed: 0.5ms pre-process, 78.7ms inference, 1.8ms postprocess per image at shape (1, 3, 640, 640)\n",
            "Ultralytics YOLOv8.0.28 🚀 Python-3.10.12 torch-2.1.0+cu121 CUDA:0 (Tesla T4, 15102MiB)\n"
          ]
        },
        {
          "output_type": "stream",
          "name": "stdout",
          "text": [
            "/content/drive/MyDrive/CsiLab-BrainTumor-Detection-3/valid/images/Te-me_0017_jpg.rf.ae2d528bbcb32865f757c7a578a4ff02.jpg\n"
          ]
        },
        {
          "output_type": "stream",
          "name": "stderr",
          "text": [
            "Model summary (fused): 168 layers, 11125971 parameters, 0 gradients, 28.4 GFLOPs\n",
            "\n",
            "image 1/1 /content/drive/MyDrive/CsiLab-BrainTumor-Detection-3/valid/images/Te-me_0017_jpg.rf.ae2d528bbcb32865f757c7a578a4ff02.jpg: 640x608 1 Tumor, 21.7ms\n",
            "Speed: 0.5ms pre-process, 21.7ms inference, 1.9ms postprocess per image at shape (1, 3, 640, 640)\n"
          ]
        },
        {
          "output_type": "stream",
          "name": "stdout",
          "text": [
            "[    0.72335     0.74308     0.32657     0.26154]\n"
          ]
        },
        {
          "output_type": "stream",
          "name": "stderr",
          "text": [
            "Ultralytics YOLOv8.0.28 🚀 Python-3.10.12 torch-2.1.0+cu121 CUDA:0 (Tesla T4, 15102MiB)\n",
            "Model summary (fused): 218 layers, 25840339 parameters, 0 gradients, 78.7 GFLOPs\n",
            "\n",
            "image 1/1 /content/drive/MyDrive/CsiLab-BrainTumor-Detection-3/valid/images/Te-me_0017_jpg.rf.ae2d528bbcb32865f757c7a578a4ff02.jpg: 640x608 1 Tumor, 29.6ms\n",
            "Speed: 0.5ms pre-process, 29.6ms inference, 1.4ms postprocess per image at shape (1, 3, 640, 640)\n",
            "Ultralytics YOLOv8.0.28 🚀 Python-3.10.12 torch-2.1.0+cu121 CUDA:0 (Tesla T4, 15102MiB)\n",
            "Model summary (fused): 168 layers, 3005843 parameters, 0 gradients, 8.1 GFLOPs\n",
            "\n",
            "image 1/1 /content/drive/MyDrive/CsiLab-BrainTumor-Detection-3/valid/images/Te-me_0017_jpg.rf.ae2d528bbcb32865f757c7a578a4ff02.jpg: 640x608 1 Tumor, 17.1ms\n",
            "Speed: 0.5ms pre-process, 17.1ms inference, 1.6ms postprocess per image at shape (1, 3, 640, 640)\n",
            "Ultralytics YOLOv8.0.28 🚀 Python-3.10.12 torch-2.1.0+cu121 CUDA:0 (Tesla T4, 15102MiB)\n",
            "Model summary (fused): 268 layers, 43607379 parameters, 0 gradients, 164.8 GFLOPs\n",
            "\n",
            "image 1/1 /content/drive/MyDrive/CsiLab-BrainTumor-Detection-3/valid/images/Te-me_0017_jpg.rf.ae2d528bbcb32865f757c7a578a4ff02.jpg: 640x608 1 Tumor, 63.6ms\n",
            "Speed: 0.5ms pre-process, 63.6ms inference, 1.4ms postprocess per image at shape (1, 3, 640, 640)\n",
            "Ultralytics YOLOv8.0.28 🚀 Python-3.10.12 torch-2.1.0+cu121 CUDA:0 (Tesla T4, 15102MiB)\n",
            "Model summary (fused): 268 layers, 68124531 parameters, 0 gradients, 257.4 GFLOPs\n",
            "\n",
            "image 1/1 /content/drive/MyDrive/CsiLab-BrainTumor-Detection-3/valid/images/Te-me_0017_jpg.rf.ae2d528bbcb32865f757c7a578a4ff02.jpg: 640x608 1 Tumor, 75.6ms\n",
            "Speed: 0.5ms pre-process, 75.6ms inference, 2.1ms postprocess per image at shape (1, 3, 640, 640)\n",
            "Ultralytics YOLOv8.0.28 🚀 Python-3.10.12 torch-2.1.0+cu121 CUDA:0 (Tesla T4, 15102MiB)\n"
          ]
        },
        {
          "output_type": "stream",
          "name": "stdout",
          "text": [
            "/content/drive/MyDrive/CsiLab-BrainTumor-Detection-3/valid/images/Te-me_0117_jpg.rf.f91bfb46ba1438cb94ee38b8c5e8c283.jpg\n"
          ]
        },
        {
          "output_type": "stream",
          "name": "stderr",
          "text": [
            "Model summary (fused): 168 layers, 11125971 parameters, 0 gradients, 28.4 GFLOPs\n",
            "\n",
            "image 1/1 /content/drive/MyDrive/CsiLab-BrainTumor-Detection-3/valid/images/Te-me_0117_jpg.rf.f91bfb46ba1438cb94ee38b8c5e8c283.jpg: 640x640 1 Tumor, 16.1ms\n",
            "Speed: 0.5ms pre-process, 16.1ms inference, 1.4ms postprocess per image at shape (1, 3, 640, 640)\n",
            "Ultralytics YOLOv8.0.28 🚀 Python-3.10.12 torch-2.1.0+cu121 CUDA:0 (Tesla T4, 15102MiB)\n"
          ]
        },
        {
          "output_type": "stream",
          "name": "stdout",
          "text": [
            "[    0.33008     0.62891     0.16797     0.21484]\n"
          ]
        },
        {
          "output_type": "stream",
          "name": "stderr",
          "text": [
            "Model summary (fused): 218 layers, 25840339 parameters, 0 gradients, 78.7 GFLOPs\n",
            "\n",
            "image 1/1 /content/drive/MyDrive/CsiLab-BrainTumor-Detection-3/valid/images/Te-me_0117_jpg.rf.f91bfb46ba1438cb94ee38b8c5e8c283.jpg: 640x640 1 Tumor, 21.9ms\n",
            "Speed: 0.5ms pre-process, 21.9ms inference, 1.5ms postprocess per image at shape (1, 3, 640, 640)\n",
            "Ultralytics YOLOv8.0.28 🚀 Python-3.10.12 torch-2.1.0+cu121 CUDA:0 (Tesla T4, 15102MiB)\n",
            "Model summary (fused): 168 layers, 3005843 parameters, 0 gradients, 8.1 GFLOPs\n",
            "\n",
            "image 1/1 /content/drive/MyDrive/CsiLab-BrainTumor-Detection-3/valid/images/Te-me_0117_jpg.rf.f91bfb46ba1438cb94ee38b8c5e8c283.jpg: 640x640 1 Tumor, 15.6ms\n",
            "Speed: 0.5ms pre-process, 15.6ms inference, 1.4ms postprocess per image at shape (1, 3, 640, 640)\n",
            "Ultralytics YOLOv8.0.28 🚀 Python-3.10.12 torch-2.1.0+cu121 CUDA:0 (Tesla T4, 15102MiB)\n",
            "Model summary (fused): 268 layers, 43607379 parameters, 0 gradients, 164.8 GFLOPs\n",
            "\n",
            "image 1/1 /content/drive/MyDrive/CsiLab-BrainTumor-Detection-3/valid/images/Te-me_0117_jpg.rf.f91bfb46ba1438cb94ee38b8c5e8c283.jpg: 640x640 1 Tumor, 62.9ms\n",
            "Speed: 0.6ms pre-process, 62.9ms inference, 1.4ms postprocess per image at shape (1, 3, 640, 640)\n",
            "Ultralytics YOLOv8.0.28 🚀 Python-3.10.12 torch-2.1.0+cu121 CUDA:0 (Tesla T4, 15102MiB)\n",
            "Model summary (fused): 268 layers, 68124531 parameters, 0 gradients, 257.4 GFLOPs\n",
            "\n",
            "image 1/1 /content/drive/MyDrive/CsiLab-BrainTumor-Detection-3/valid/images/Te-me_0117_jpg.rf.f91bfb46ba1438cb94ee38b8c5e8c283.jpg: 640x640 1 Tumor, 96.9ms\n",
            "Speed: 0.5ms pre-process, 96.9ms inference, 1.8ms postprocess per image at shape (1, 3, 640, 640)\n",
            "Ultralytics YOLOv8.0.28 🚀 Python-3.10.12 torch-2.1.0+cu121 CUDA:0 (Tesla T4, 15102MiB)\n"
          ]
        },
        {
          "output_type": "stream",
          "name": "stdout",
          "text": [
            "/content/drive/MyDrive/CsiLab-BrainTumor-Detection-3/valid/images/Te-me_0063_jpg.rf.1ac789a45fc5c402579e8326192b9406.jpg\n"
          ]
        },
        {
          "output_type": "stream",
          "name": "stderr",
          "text": [
            "Model summary (fused): 168 layers, 11125971 parameters, 0 gradients, 28.4 GFLOPs\n",
            "\n",
            "image 1/1 /content/drive/MyDrive/CsiLab-BrainTumor-Detection-3/valid/images/Te-me_0063_jpg.rf.1ac789a45fc5c402579e8326192b9406.jpg: 640x640 1 Tumor, 15.4ms\n",
            "Speed: 0.5ms pre-process, 15.4ms inference, 1.4ms postprocess per image at shape (1, 3, 640, 640)\n",
            "Ultralytics YOLOv8.0.28 🚀 Python-3.10.12 torch-2.1.0+cu121 CUDA:0 (Tesla T4, 15102MiB)\n"
          ]
        },
        {
          "output_type": "stream",
          "name": "stdout",
          "text": [
            "[    0.45525     0.32056     0.40467     0.34274]\n"
          ]
        },
        {
          "output_type": "stream",
          "name": "stderr",
          "text": [
            "Model summary (fused): 218 layers, 25840339 parameters, 0 gradients, 78.7 GFLOPs\n",
            "\n",
            "image 1/1 /content/drive/MyDrive/CsiLab-BrainTumor-Detection-3/valid/images/Te-me_0063_jpg.rf.1ac789a45fc5c402579e8326192b9406.jpg: 640x640 1 Tumor, 21.6ms\n",
            "Speed: 0.5ms pre-process, 21.6ms inference, 1.4ms postprocess per image at shape (1, 3, 640, 640)\n",
            "Ultralytics YOLOv8.0.28 🚀 Python-3.10.12 torch-2.1.0+cu121 CUDA:0 (Tesla T4, 15102MiB)\n",
            "Model summary (fused): 168 layers, 3005843 parameters, 0 gradients, 8.1 GFLOPs\n",
            "\n",
            "image 1/1 /content/drive/MyDrive/CsiLab-BrainTumor-Detection-3/valid/images/Te-me_0063_jpg.rf.1ac789a45fc5c402579e8326192b9406.jpg: 640x640 1 Tumor, 16.4ms\n",
            "Speed: 0.5ms pre-process, 16.4ms inference, 1.4ms postprocess per image at shape (1, 3, 640, 640)\n",
            "Ultralytics YOLOv8.0.28 🚀 Python-3.10.12 torch-2.1.0+cu121 CUDA:0 (Tesla T4, 15102MiB)\n",
            "Model summary (fused): 268 layers, 43607379 parameters, 0 gradients, 164.8 GFLOPs\n",
            "\n",
            "image 1/1 /content/drive/MyDrive/CsiLab-BrainTumor-Detection-3/valid/images/Te-me_0063_jpg.rf.1ac789a45fc5c402579e8326192b9406.jpg: 640x640 1 Tumor, 64.6ms\n",
            "Speed: 0.6ms pre-process, 64.6ms inference, 1.8ms postprocess per image at shape (1, 3, 640, 640)\n",
            "Ultralytics YOLOv8.0.28 🚀 Python-3.10.12 torch-2.1.0+cu121 CUDA:0 (Tesla T4, 15102MiB)\n",
            "Model summary (fused): 268 layers, 68124531 parameters, 0 gradients, 257.4 GFLOPs\n",
            "\n",
            "image 1/1 /content/drive/MyDrive/CsiLab-BrainTumor-Detection-3/valid/images/Te-me_0063_jpg.rf.1ac789a45fc5c402579e8326192b9406.jpg: 640x640 1 Tumor, 65.8ms\n",
            "Speed: 0.6ms pre-process, 65.8ms inference, 1.9ms postprocess per image at shape (1, 3, 640, 640)\n",
            "Ultralytics YOLOv8.0.28 🚀 Python-3.10.12 torch-2.1.0+cu121 CUDA:0 (Tesla T4, 15102MiB)\n"
          ]
        },
        {
          "output_type": "stream",
          "name": "stdout",
          "text": [
            "/content/drive/MyDrive/CsiLab-BrainTumor-Detection-3/valid/images/Te-me_0100_jpg.rf.5330c0f78610278031005bb8557f40ab.jpg\n"
          ]
        },
        {
          "output_type": "stream",
          "name": "stderr",
          "text": [
            "Model summary (fused): 168 layers, 11125971 parameters, 0 gradients, 28.4 GFLOPs\n",
            "\n",
            "image 1/1 /content/drive/MyDrive/CsiLab-BrainTumor-Detection-3/valid/images/Te-me_0100_jpg.rf.5330c0f78610278031005bb8557f40ab.jpg: 640x576 1 Tumor, 19.0ms\n",
            "Speed: 0.5ms pre-process, 19.0ms inference, 1.8ms postprocess per image at shape (1, 3, 640, 640)\n",
            "Ultralytics YOLOv8.0.28 🚀 Python-3.10.12 torch-2.1.0+cu121 CUDA:0 (Tesla T4, 15102MiB)\n"
          ]
        },
        {
          "output_type": "stream",
          "name": "stdout",
          "text": [
            "[    0.68483     0.78661     0.13744     0.11715]\n"
          ]
        },
        {
          "output_type": "stream",
          "name": "stderr",
          "text": [
            "Model summary (fused): 218 layers, 25840339 parameters, 0 gradients, 78.7 GFLOPs\n",
            "\n",
            "image 1/1 /content/drive/MyDrive/CsiLab-BrainTumor-Detection-3/valid/images/Te-me_0100_jpg.rf.5330c0f78610278031005bb8557f40ab.jpg: 640x576 1 Tumor, 69.7ms\n",
            "Speed: 0.5ms pre-process, 69.7ms inference, 2.2ms postprocess per image at shape (1, 3, 640, 640)\n",
            "Ultralytics YOLOv8.0.28 🚀 Python-3.10.12 torch-2.1.0+cu121 CUDA:0 (Tesla T4, 15102MiB)\n",
            "Model summary (fused): 168 layers, 3005843 parameters, 0 gradients, 8.1 GFLOPs\n",
            "\n",
            "image 1/1 /content/drive/MyDrive/CsiLab-BrainTumor-Detection-3/valid/images/Te-me_0100_jpg.rf.5330c0f78610278031005bb8557f40ab.jpg: 640x576 1 Tumor, 24.2ms\n",
            "Speed: 0.5ms pre-process, 24.2ms inference, 1.8ms postprocess per image at shape (1, 3, 640, 640)\n",
            "Ultralytics YOLOv8.0.28 🚀 Python-3.10.12 torch-2.1.0+cu121 CUDA:0 (Tesla T4, 15102MiB)\n",
            "Model summary (fused): 268 layers, 43607379 parameters, 0 gradients, 164.8 GFLOPs\n",
            "\n",
            "image 1/1 /content/drive/MyDrive/CsiLab-BrainTumor-Detection-3/valid/images/Te-me_0100_jpg.rf.5330c0f78610278031005bb8557f40ab.jpg: 640x576 1 Tumor, 62.1ms\n",
            "Speed: 0.5ms pre-process, 62.1ms inference, 1.9ms postprocess per image at shape (1, 3, 640, 640)\n",
            "Ultralytics YOLOv8.0.28 🚀 Python-3.10.12 torch-2.1.0+cu121 CUDA:0 (Tesla T4, 15102MiB)\n",
            "Model summary (fused): 268 layers, 68124531 parameters, 0 gradients, 257.4 GFLOPs\n",
            "\n",
            "image 1/1 /content/drive/MyDrive/CsiLab-BrainTumor-Detection-3/valid/images/Te-me_0100_jpg.rf.5330c0f78610278031005bb8557f40ab.jpg: 640x576 1 Tumor, 69.5ms\n",
            "Speed: 0.5ms pre-process, 69.5ms inference, 2.1ms postprocess per image at shape (1, 3, 640, 640)\n",
            "Ultralytics YOLOv8.0.28 🚀 Python-3.10.12 torch-2.1.0+cu121 CUDA:0 (Tesla T4, 15102MiB)\n"
          ]
        },
        {
          "output_type": "stream",
          "name": "stdout",
          "text": [
            "/content/drive/MyDrive/CsiLab-BrainTumor-Detection-3/valid/images/47_jpg.rf.63698d8e512e71d7997d95e63743ec34.jpg\n"
          ]
        },
        {
          "output_type": "stream",
          "name": "stderr",
          "text": [
            "Model summary (fused): 168 layers, 11125971 parameters, 0 gradients, 28.4 GFLOPs\n",
            "\n",
            "image 1/1 /content/drive/MyDrive/CsiLab-BrainTumor-Detection-3/valid/images/47_jpg.rf.63698d8e512e71d7997d95e63743ec34.jpg: 640x640 1 Tumor, 15.9ms\n",
            "Speed: 0.5ms pre-process, 15.9ms inference, 1.4ms postprocess per image at shape (1, 3, 640, 640)\n",
            "Ultralytics YOLOv8.0.28 🚀 Python-3.10.12 torch-2.1.0+cu121 CUDA:0 (Tesla T4, 15102MiB)\n"
          ]
        },
        {
          "output_type": "stream",
          "name": "stdout",
          "text": [
            "[    0.64955     0.62946     0.45089     0.41071]\n"
          ]
        },
        {
          "output_type": "stream",
          "name": "stderr",
          "text": [
            "Model summary (fused): 218 layers, 25840339 parameters, 0 gradients, 78.7 GFLOPs\n",
            "\n",
            "image 1/1 /content/drive/MyDrive/CsiLab-BrainTumor-Detection-3/valid/images/47_jpg.rf.63698d8e512e71d7997d95e63743ec34.jpg: 640x640 1 Tumor, 26.4ms\n",
            "Speed: 0.5ms pre-process, 26.4ms inference, 1.4ms postprocess per image at shape (1, 3, 640, 640)\n",
            "Ultralytics YOLOv8.0.28 🚀 Python-3.10.12 torch-2.1.0+cu121 CUDA:0 (Tesla T4, 15102MiB)\n",
            "Model summary (fused): 168 layers, 3005843 parameters, 0 gradients, 8.1 GFLOPs\n",
            "\n",
            "image 1/1 /content/drive/MyDrive/CsiLab-BrainTumor-Detection-3/valid/images/47_jpg.rf.63698d8e512e71d7997d95e63743ec34.jpg: 640x640 1 Tumor, 15.7ms\n",
            "Speed: 0.5ms pre-process, 15.7ms inference, 1.4ms postprocess per image at shape (1, 3, 640, 640)\n",
            "Ultralytics YOLOv8.0.28 🚀 Python-3.10.12 torch-2.1.0+cu121 CUDA:0 (Tesla T4, 15102MiB)\n",
            "Model summary (fused): 268 layers, 43607379 parameters, 0 gradients, 164.8 GFLOPs\n",
            "\n",
            "image 1/1 /content/drive/MyDrive/CsiLab-BrainTumor-Detection-3/valid/images/47_jpg.rf.63698d8e512e71d7997d95e63743ec34.jpg: 640x640 1 Tumor, 62.9ms\n",
            "Speed: 0.5ms pre-process, 62.9ms inference, 3.4ms postprocess per image at shape (1, 3, 640, 640)\n",
            "Ultralytics YOLOv8.0.28 🚀 Python-3.10.12 torch-2.1.0+cu121 CUDA:0 (Tesla T4, 15102MiB)\n",
            "Model summary (fused): 268 layers, 68124531 parameters, 0 gradients, 257.4 GFLOPs\n",
            "\n",
            "image 1/1 /content/drive/MyDrive/CsiLab-BrainTumor-Detection-3/valid/images/47_jpg.rf.63698d8e512e71d7997d95e63743ec34.jpg: 640x640 1 Tumor, 97.0ms\n",
            "Speed: 0.5ms pre-process, 97.0ms inference, 1.5ms postprocess per image at shape (1, 3, 640, 640)\n",
            "Ultralytics YOLOv8.0.28 🚀 Python-3.10.12 torch-2.1.0+cu121 CUDA:0 (Tesla T4, 15102MiB)\n"
          ]
        },
        {
          "output_type": "stream",
          "name": "stdout",
          "text": [
            "/content/drive/MyDrive/CsiLab-BrainTumor-Detection-3/valid/images/Te-me_0229_jpg.rf.3889aeab3a7f3154097385582a5c33f0.jpg\n"
          ]
        },
        {
          "output_type": "stream",
          "name": "stderr",
          "text": [
            "Model summary (fused): 168 layers, 11125971 parameters, 0 gradients, 28.4 GFLOPs\n",
            "\n",
            "image 1/1 /content/drive/MyDrive/CsiLab-BrainTumor-Detection-3/valid/images/Te-me_0229_jpg.rf.3889aeab3a7f3154097385582a5c33f0.jpg: 640x640 1 Tumor, 16.4ms\n",
            "Speed: 0.5ms pre-process, 16.4ms inference, 1.5ms postprocess per image at shape (1, 3, 640, 640)\n",
            "Ultralytics YOLOv8.0.28 🚀 Python-3.10.12 torch-2.1.0+cu121 CUDA:0 (Tesla T4, 15102MiB)\n"
          ]
        },
        {
          "output_type": "stream",
          "name": "stdout",
          "text": [
            "[    0.30664     0.57324     0.09375    0.091797]\n"
          ]
        },
        {
          "output_type": "stream",
          "name": "stderr",
          "text": [
            "Model summary (fused): 218 layers, 25840339 parameters, 0 gradients, 78.7 GFLOPs\n",
            "\n",
            "image 1/1 /content/drive/MyDrive/CsiLab-BrainTumor-Detection-3/valid/images/Te-me_0229_jpg.rf.3889aeab3a7f3154097385582a5c33f0.jpg: 640x640 1 Tumor, 19.9ms\n",
            "Speed: 0.5ms pre-process, 19.9ms inference, 1.5ms postprocess per image at shape (1, 3, 640, 640)\n",
            "Ultralytics YOLOv8.0.28 🚀 Python-3.10.12 torch-2.1.0+cu121 CUDA:0 (Tesla T4, 15102MiB)\n",
            "Model summary (fused): 168 layers, 3005843 parameters, 0 gradients, 8.1 GFLOPs\n",
            "\n",
            "image 1/1 /content/drive/MyDrive/CsiLab-BrainTumor-Detection-3/valid/images/Te-me_0229_jpg.rf.3889aeab3a7f3154097385582a5c33f0.jpg: 640x640 1 Tumor, 16.3ms\n",
            "Speed: 0.5ms pre-process, 16.3ms inference, 1.4ms postprocess per image at shape (1, 3, 640, 640)\n",
            "Ultralytics YOLOv8.0.28 🚀 Python-3.10.12 torch-2.1.0+cu121 CUDA:0 (Tesla T4, 15102MiB)\n",
            "Model summary (fused): 268 layers, 43607379 parameters, 0 gradients, 164.8 GFLOPs\n",
            "\n",
            "image 1/1 /content/drive/MyDrive/CsiLab-BrainTumor-Detection-3/valid/images/Te-me_0229_jpg.rf.3889aeab3a7f3154097385582a5c33f0.jpg: 640x640 1 Tumor, 62.9ms\n",
            "Speed: 0.5ms pre-process, 62.9ms inference, 1.5ms postprocess per image at shape (1, 3, 640, 640)\n",
            "Ultralytics YOLOv8.0.28 🚀 Python-3.10.12 torch-2.1.0+cu121 CUDA:0 (Tesla T4, 15102MiB)\n",
            "Model summary (fused): 268 layers, 68124531 parameters, 0 gradients, 257.4 GFLOPs\n",
            "\n",
            "image 1/1 /content/drive/MyDrive/CsiLab-BrainTumor-Detection-3/valid/images/Te-me_0229_jpg.rf.3889aeab3a7f3154097385582a5c33f0.jpg: 640x640 1 Tumor, 97.0ms\n",
            "Speed: 0.6ms pre-process, 97.0ms inference, 1.8ms postprocess per image at shape (1, 3, 640, 640)\n",
            "Ultralytics YOLOv8.0.28 🚀 Python-3.10.12 torch-2.1.0+cu121 CUDA:0 (Tesla T4, 15102MiB)\n"
          ]
        },
        {
          "output_type": "stream",
          "name": "stdout",
          "text": [
            "/content/drive/MyDrive/CsiLab-BrainTumor-Detection-3/valid/images/Te-me_0095_jpg.rf.06c6223998aeaeb39750efb0783e94e0.jpg\n"
          ]
        },
        {
          "output_type": "stream",
          "name": "stderr",
          "text": [
            "Model summary (fused): 168 layers, 11125971 parameters, 0 gradients, 28.4 GFLOPs\n",
            "\n",
            "image 1/1 /content/drive/MyDrive/CsiLab-BrainTumor-Detection-3/valid/images/Te-me_0095_jpg.rf.06c6223998aeaeb39750efb0783e94e0.jpg: 640x640 1 Tumor, 16.4ms\n",
            "Speed: 0.5ms pre-process, 16.4ms inference, 1.4ms postprocess per image at shape (1, 3, 640, 640)\n",
            "Ultralytics YOLOv8.0.28 🚀 Python-3.10.12 torch-2.1.0+cu121 CUDA:0 (Tesla T4, 15102MiB)\n"
          ]
        },
        {
          "output_type": "stream",
          "name": "stdout",
          "text": [
            "[    0.53333     0.32444     0.38222     0.36444]\n"
          ]
        },
        {
          "output_type": "stream",
          "name": "stderr",
          "text": [
            "Model summary (fused): 218 layers, 25840339 parameters, 0 gradients, 78.7 GFLOPs\n",
            "\n",
            "image 1/1 /content/drive/MyDrive/CsiLab-BrainTumor-Detection-3/valid/images/Te-me_0095_jpg.rf.06c6223998aeaeb39750efb0783e94e0.jpg: 640x640 1 Tumor, 20.1ms\n",
            "Speed: 0.5ms pre-process, 20.1ms inference, 1.4ms postprocess per image at shape (1, 3, 640, 640)\n",
            "Ultralytics YOLOv8.0.28 🚀 Python-3.10.12 torch-2.1.0+cu121 CUDA:0 (Tesla T4, 15102MiB)\n",
            "Model summary (fused): 168 layers, 3005843 parameters, 0 gradients, 8.1 GFLOPs\n",
            "\n",
            "image 1/1 /content/drive/MyDrive/CsiLab-BrainTumor-Detection-3/valid/images/Te-me_0095_jpg.rf.06c6223998aeaeb39750efb0783e94e0.jpg: 640x640 1 Tumor, 16.9ms\n",
            "Speed: 0.5ms pre-process, 16.9ms inference, 1.5ms postprocess per image at shape (1, 3, 640, 640)\n",
            "Ultralytics YOLOv8.0.28 🚀 Python-3.10.12 torch-2.1.0+cu121 CUDA:0 (Tesla T4, 15102MiB)\n",
            "Model summary (fused): 268 layers, 43607379 parameters, 0 gradients, 164.8 GFLOPs\n",
            "\n",
            "image 1/1 /content/drive/MyDrive/CsiLab-BrainTumor-Detection-3/valid/images/Te-me_0095_jpg.rf.06c6223998aeaeb39750efb0783e94e0.jpg: 640x640 1 Tumor, 62.9ms\n",
            "Speed: 0.5ms pre-process, 62.9ms inference, 1.8ms postprocess per image at shape (1, 3, 640, 640)\n",
            "Ultralytics YOLOv8.0.28 🚀 Python-3.10.12 torch-2.1.0+cu121 CUDA:0 (Tesla T4, 15102MiB)\n",
            "Model summary (fused): 268 layers, 68124531 parameters, 0 gradients, 257.4 GFLOPs\n",
            "\n",
            "image 1/1 /content/drive/MyDrive/CsiLab-BrainTumor-Detection-3/valid/images/Te-me_0095_jpg.rf.06c6223998aeaeb39750efb0783e94e0.jpg: 640x640 1 Tumor, 63.2ms\n",
            "Speed: 0.6ms pre-process, 63.2ms inference, 1.9ms postprocess per image at shape (1, 3, 640, 640)\n",
            "Ultralytics YOLOv8.0.28 🚀 Python-3.10.12 torch-2.1.0+cu121 CUDA:0 (Tesla T4, 15102MiB)\n"
          ]
        },
        {
          "output_type": "stream",
          "name": "stdout",
          "text": [
            "/content/drive/MyDrive/CsiLab-BrainTumor-Detection-3/valid/images/Te-me_0192_jpg.rf.4b32ed351ebda4ae216b6e2ae709563f.jpg\n"
          ]
        },
        {
          "output_type": "stream",
          "name": "stderr",
          "text": [
            "Model summary (fused): 168 layers, 11125971 parameters, 0 gradients, 28.4 GFLOPs\n",
            "\n",
            "image 1/1 /content/drive/MyDrive/CsiLab-BrainTumor-Detection-3/valid/images/Te-me_0192_jpg.rf.4b32ed351ebda4ae216b6e2ae709563f.jpg: 640x640 1 Tumor, 24.0ms\n",
            "Speed: 0.5ms pre-process, 24.0ms inference, 2.1ms postprocess per image at shape (1, 3, 640, 640)\n"
          ]
        },
        {
          "output_type": "stream",
          "name": "stdout",
          "text": [
            "[    0.35156     0.48828     0.16406     0.13281]\n"
          ]
        },
        {
          "output_type": "stream",
          "name": "stderr",
          "text": [
            "Ultralytics YOLOv8.0.28 🚀 Python-3.10.12 torch-2.1.0+cu121 CUDA:0 (Tesla T4, 15102MiB)\n",
            "Model summary (fused): 218 layers, 25840339 parameters, 0 gradients, 78.7 GFLOPs\n",
            "\n",
            "image 1/1 /content/drive/MyDrive/CsiLab-BrainTumor-Detection-3/valid/images/Te-me_0192_jpg.rf.4b32ed351ebda4ae216b6e2ae709563f.jpg: 640x640 1 Tumor, 19.9ms\n",
            "Speed: 0.5ms pre-process, 19.9ms inference, 1.4ms postprocess per image at shape (1, 3, 640, 640)\n",
            "Ultralytics YOLOv8.0.28 🚀 Python-3.10.12 torch-2.1.0+cu121 CUDA:0 (Tesla T4, 15102MiB)\n",
            "Model summary (fused): 168 layers, 3005843 parameters, 0 gradients, 8.1 GFLOPs\n",
            "\n",
            "image 1/1 /content/drive/MyDrive/CsiLab-BrainTumor-Detection-3/valid/images/Te-me_0192_jpg.rf.4b32ed351ebda4ae216b6e2ae709563f.jpg: 640x640 1 Tumor, 16.0ms\n",
            "Speed: 0.5ms pre-process, 16.0ms inference, 1.4ms postprocess per image at shape (1, 3, 640, 640)\n",
            "Ultralytics YOLOv8.0.28 🚀 Python-3.10.12 torch-2.1.0+cu121 CUDA:0 (Tesla T4, 15102MiB)\n",
            "Model summary (fused): 268 layers, 43607379 parameters, 0 gradients, 164.8 GFLOPs\n",
            "\n",
            "image 1/1 /content/drive/MyDrive/CsiLab-BrainTumor-Detection-3/valid/images/Te-me_0192_jpg.rf.4b32ed351ebda4ae216b6e2ae709563f.jpg: 640x640 1 Tumor, 56.8ms\n",
            "Speed: 0.5ms pre-process, 56.8ms inference, 1.4ms postprocess per image at shape (1, 3, 640, 640)\n",
            "Ultralytics YOLOv8.0.28 🚀 Python-3.10.12 torch-2.1.0+cu121 CUDA:0 (Tesla T4, 15102MiB)\n",
            "Model summary (fused): 268 layers, 68124531 parameters, 0 gradients, 257.4 GFLOPs\n",
            "\n",
            "image 1/1 /content/drive/MyDrive/CsiLab-BrainTumor-Detection-3/valid/images/Te-me_0192_jpg.rf.4b32ed351ebda4ae216b6e2ae709563f.jpg: 640x640 1 Tumor, 68.6ms\n",
            "Speed: 0.6ms pre-process, 68.6ms inference, 1.8ms postprocess per image at shape (1, 3, 640, 640)\n",
            "Ultralytics YOLOv8.0.28 🚀 Python-3.10.12 torch-2.1.0+cu121 CUDA:0 (Tesla T4, 15102MiB)\n"
          ]
        },
        {
          "output_type": "stream",
          "name": "stdout",
          "text": [
            "/content/drive/MyDrive/CsiLab-BrainTumor-Detection-3/valid/images/Te-me_0041_jpg.rf.d42dfeaf0d0dc7cab7c717aa1f3b96a8.jpg\n"
          ]
        },
        {
          "output_type": "stream",
          "name": "stderr",
          "text": [
            "Model summary (fused): 168 layers, 11125971 parameters, 0 gradients, 28.4 GFLOPs\n",
            "\n",
            "image 1/1 /content/drive/MyDrive/CsiLab-BrainTumor-Detection-3/valid/images/Te-me_0041_jpg.rf.d42dfeaf0d0dc7cab7c717aa1f3b96a8.jpg: 640x544 1 Tumor, 20.8ms\n",
            "Speed: 0.5ms pre-process, 20.8ms inference, 1.7ms postprocess per image at shape (1, 3, 640, 640)\n",
            "Ultralytics YOLOv8.0.28 🚀 Python-3.10.12 torch-2.1.0+cu121 CUDA:0 (Tesla T4, 15102MiB)\n"
          ]
        },
        {
          "output_type": "stream",
          "name": "stdout",
          "text": [
            "[    0.76552     0.43567      0.1931      0.2807]\n"
          ]
        },
        {
          "output_type": "stream",
          "name": "stderr",
          "text": [
            "Model summary (fused): 218 layers, 25840339 parameters, 0 gradients, 78.7 GFLOPs\n",
            "\n",
            "image 1/1 /content/drive/MyDrive/CsiLab-BrainTumor-Detection-3/valid/images/Te-me_0041_jpg.rf.d42dfeaf0d0dc7cab7c717aa1f3b96a8.jpg: 640x544 1 Tumor, 20.4ms\n",
            "Speed: 0.5ms pre-process, 20.4ms inference, 1.4ms postprocess per image at shape (1, 3, 640, 640)\n",
            "Ultralytics YOLOv8.0.28 🚀 Python-3.10.12 torch-2.1.0+cu121 CUDA:0 (Tesla T4, 15102MiB)\n",
            "Model summary (fused): 168 layers, 3005843 parameters, 0 gradients, 8.1 GFLOPs\n",
            "\n",
            "image 1/1 /content/drive/MyDrive/CsiLab-BrainTumor-Detection-3/valid/images/Te-me_0041_jpg.rf.d42dfeaf0d0dc7cab7c717aa1f3b96a8.jpg: 640x544 1 Tumor, 16.5ms\n",
            "Speed: 0.5ms pre-process, 16.5ms inference, 1.4ms postprocess per image at shape (1, 3, 640, 640)\n",
            "Ultralytics YOLOv8.0.28 🚀 Python-3.10.12 torch-2.1.0+cu121 CUDA:0 (Tesla T4, 15102MiB)\n",
            "Model summary (fused): 268 layers, 43607379 parameters, 0 gradients, 164.8 GFLOPs\n",
            "\n",
            "image 1/1 /content/drive/MyDrive/CsiLab-BrainTumor-Detection-3/valid/images/Te-me_0041_jpg.rf.d42dfeaf0d0dc7cab7c717aa1f3b96a8.jpg: 640x544 1 Tumor, 61.3ms\n",
            "Speed: 0.5ms pre-process, 61.3ms inference, 1.4ms postprocess per image at shape (1, 3, 640, 640)\n",
            "Ultralytics YOLOv8.0.28 🚀 Python-3.10.12 torch-2.1.0+cu121 CUDA:0 (Tesla T4, 15102MiB)\n",
            "Model summary (fused): 268 layers, 68124531 parameters, 0 gradients, 257.4 GFLOPs\n",
            "\n",
            "image 1/1 /content/drive/MyDrive/CsiLab-BrainTumor-Detection-3/valid/images/Te-me_0041_jpg.rf.d42dfeaf0d0dc7cab7c717aa1f3b96a8.jpg: 640x544 1 Tumor, 67.7ms\n",
            "Speed: 0.6ms pre-process, 67.7ms inference, 1.5ms postprocess per image at shape (1, 3, 640, 640)\n",
            "Ultralytics YOLOv8.0.28 🚀 Python-3.10.12 torch-2.1.0+cu121 CUDA:0 (Tesla T4, 15102MiB)\n"
          ]
        },
        {
          "output_type": "stream",
          "name": "stdout",
          "text": [
            "/content/drive/MyDrive/CsiLab-BrainTumor-Detection-3/valid/images/Te-me_0138_jpg.rf.a2dc2424003332776b2a6428ad7ff6c0.jpg\n"
          ]
        },
        {
          "output_type": "stream",
          "name": "stderr",
          "text": [
            "Model summary (fused): 168 layers, 11125971 parameters, 0 gradients, 28.4 GFLOPs\n",
            "\n",
            "image 1/1 /content/drive/MyDrive/CsiLab-BrainTumor-Detection-3/valid/images/Te-me_0138_jpg.rf.a2dc2424003332776b2a6428ad7ff6c0.jpg: 640x640 1 Tumor, 15.9ms\n",
            "Speed: 0.5ms pre-process, 15.9ms inference, 1.4ms postprocess per image at shape (1, 3, 640, 640)\n",
            "Ultralytics YOLOv8.0.28 🚀 Python-3.10.12 torch-2.1.0+cu121 CUDA:0 (Tesla T4, 15102MiB)\n"
          ]
        },
        {
          "output_type": "stream",
          "name": "stdout",
          "text": [
            "[    0.36816     0.59375     0.19336     0.23047]\n"
          ]
        },
        {
          "output_type": "stream",
          "name": "stderr",
          "text": [
            "Model summary (fused): 218 layers, 25840339 parameters, 0 gradients, 78.7 GFLOPs\n",
            "\n",
            "image 1/1 /content/drive/MyDrive/CsiLab-BrainTumor-Detection-3/valid/images/Te-me_0138_jpg.rf.a2dc2424003332776b2a6428ad7ff6c0.jpg: 640x640 1 Tumor, 20.4ms\n",
            "Speed: 0.5ms pre-process, 20.4ms inference, 1.4ms postprocess per image at shape (1, 3, 640, 640)\n",
            "Ultralytics YOLOv8.0.28 🚀 Python-3.10.12 torch-2.1.0+cu121 CUDA:0 (Tesla T4, 15102MiB)\n",
            "Model summary (fused): 168 layers, 3005843 parameters, 0 gradients, 8.1 GFLOPs\n",
            "\n",
            "image 1/1 /content/drive/MyDrive/CsiLab-BrainTumor-Detection-3/valid/images/Te-me_0138_jpg.rf.a2dc2424003332776b2a6428ad7ff6c0.jpg: 640x640 1 Tumor, 15.9ms\n",
            "Speed: 0.5ms pre-process, 15.9ms inference, 1.4ms postprocess per image at shape (1, 3, 640, 640)\n",
            "Ultralytics YOLOv8.0.28 🚀 Python-3.10.12 torch-2.1.0+cu121 CUDA:0 (Tesla T4, 15102MiB)\n",
            "Model summary (fused): 268 layers, 43607379 parameters, 0 gradients, 164.8 GFLOPs\n",
            "\n",
            "image 1/1 /content/drive/MyDrive/CsiLab-BrainTumor-Detection-3/valid/images/Te-me_0138_jpg.rf.a2dc2424003332776b2a6428ad7ff6c0.jpg: 640x640 1 Tumor, 55.7ms\n",
            "Speed: 0.5ms pre-process, 55.7ms inference, 1.5ms postprocess per image at shape (1, 3, 640, 640)\n",
            "Ultralytics YOLOv8.0.28 🚀 Python-3.10.12 torch-2.1.0+cu121 CUDA:0 (Tesla T4, 15102MiB)\n",
            "Model summary (fused): 268 layers, 68124531 parameters, 0 gradients, 257.4 GFLOPs\n",
            "\n",
            "image 1/1 /content/drive/MyDrive/CsiLab-BrainTumor-Detection-3/valid/images/Te-me_0138_jpg.rf.a2dc2424003332776b2a6428ad7ff6c0.jpg: 640x640 1 Tumor, 62.6ms\n",
            "Speed: 0.6ms pre-process, 62.6ms inference, 1.5ms postprocess per image at shape (1, 3, 640, 640)\n",
            "Ultralytics YOLOv8.0.28 🚀 Python-3.10.12 torch-2.1.0+cu121 CUDA:0 (Tesla T4, 15102MiB)\n"
          ]
        },
        {
          "output_type": "stream",
          "name": "stdout",
          "text": [
            "/content/drive/MyDrive/CsiLab-BrainTumor-Detection-3/valid/images/Te-me_0204_jpg.rf.31a5d8b58e1f241f5e3f70b74e3124e5.jpg\n"
          ]
        },
        {
          "output_type": "stream",
          "name": "stderr",
          "text": [
            "Model summary (fused): 168 layers, 11125971 parameters, 0 gradients, 28.4 GFLOPs\n",
            "\n",
            "image 1/1 /content/drive/MyDrive/CsiLab-BrainTumor-Detection-3/valid/images/Te-me_0204_jpg.rf.31a5d8b58e1f241f5e3f70b74e3124e5.jpg: 640x640 1 Tumor, 18.9ms\n",
            "Speed: 0.5ms pre-process, 18.9ms inference, 1.7ms postprocess per image at shape (1, 3, 640, 640)\n",
            "Ultralytics YOLOv8.0.28 🚀 Python-3.10.12 torch-2.1.0+cu121 CUDA:0 (Tesla T4, 15102MiB)\n"
          ]
        },
        {
          "output_type": "stream",
          "name": "stdout",
          "text": [
            "[    0.35742     0.43555     0.21484     0.23828]\n"
          ]
        },
        {
          "output_type": "stream",
          "name": "stderr",
          "text": [
            "Model summary (fused): 218 layers, 25840339 parameters, 0 gradients, 78.7 GFLOPs\n",
            "\n",
            "image 1/1 /content/drive/MyDrive/CsiLab-BrainTumor-Detection-3/valid/images/Te-me_0204_jpg.rf.31a5d8b58e1f241f5e3f70b74e3124e5.jpg: 640x640 1 Tumor, 23.9ms\n",
            "Speed: 0.5ms pre-process, 23.9ms inference, 1.8ms postprocess per image at shape (1, 3, 640, 640)\n",
            "Ultralytics YOLOv8.0.28 🚀 Python-3.10.12 torch-2.1.0+cu121 CUDA:0 (Tesla T4, 15102MiB)\n",
            "Model summary (fused): 168 layers, 3005843 parameters, 0 gradients, 8.1 GFLOPs\n",
            "\n",
            "image 1/1 /content/drive/MyDrive/CsiLab-BrainTumor-Detection-3/valid/images/Te-me_0204_jpg.rf.31a5d8b58e1f241f5e3f70b74e3124e5.jpg: 640x640 1 Tumor, 19.0ms\n",
            "Speed: 0.6ms pre-process, 19.0ms inference, 1.8ms postprocess per image at shape (1, 3, 640, 640)\n",
            "Ultralytics YOLOv8.0.28 🚀 Python-3.10.12 torch-2.1.0+cu121 CUDA:0 (Tesla T4, 15102MiB)\n",
            "Model summary (fused): 268 layers, 43607379 parameters, 0 gradients, 164.8 GFLOPs\n",
            "\n",
            "image 1/1 /content/drive/MyDrive/CsiLab-BrainTumor-Detection-3/valid/images/Te-me_0204_jpg.rf.31a5d8b58e1f241f5e3f70b74e3124e5.jpg: 640x640 1 Tumor, 71.2ms\n",
            "Speed: 0.5ms pre-process, 71.2ms inference, 9.0ms postprocess per image at shape (1, 3, 640, 640)\n",
            "Ultralytics YOLOv8.0.28 🚀 Python-3.10.12 torch-2.1.0+cu121 CUDA:0 (Tesla T4, 15102MiB)\n",
            "Model summary (fused): 268 layers, 68124531 parameters, 0 gradients, 257.4 GFLOPs\n",
            "\n",
            "image 1/1 /content/drive/MyDrive/CsiLab-BrainTumor-Detection-3/valid/images/Te-me_0204_jpg.rf.31a5d8b58e1f241f5e3f70b74e3124e5.jpg: 640x640 1 Tumor, 77.1ms\n",
            "Speed: 0.5ms pre-process, 77.1ms inference, 1.5ms postprocess per image at shape (1, 3, 640, 640)\n",
            "Ultralytics YOLOv8.0.28 🚀 Python-3.10.12 torch-2.1.0+cu121 CUDA:0 (Tesla T4, 15102MiB)\n"
          ]
        },
        {
          "output_type": "stream",
          "name": "stdout",
          "text": [
            "/content/drive/MyDrive/CsiLab-BrainTumor-Detection-3/valid/images/57_jpg.rf.bda66116e41502f573e14d41cadb3b1e.jpg\n"
          ]
        },
        {
          "output_type": "stream",
          "name": "stderr",
          "text": [
            "Model summary (fused): 168 layers, 11125971 parameters, 0 gradients, 28.4 GFLOPs\n",
            "\n",
            "image 1/1 /content/drive/MyDrive/CsiLab-BrainTumor-Detection-3/valid/images/57_jpg.rf.bda66116e41502f573e14d41cadb3b1e.jpg: 640x640 1 Tumor, 15.8ms\n",
            "Speed: 0.5ms pre-process, 15.8ms inference, 1.4ms postprocess per image at shape (1, 3, 640, 640)\n"
          ]
        },
        {
          "output_type": "stream",
          "name": "stdout",
          "text": [
            "[    0.70312     0.62946    0.084821    0.080357]\n"
          ]
        },
        {
          "output_type": "stream",
          "name": "stderr",
          "text": [
            "Ultralytics YOLOv8.0.28 🚀 Python-3.10.12 torch-2.1.0+cu121 CUDA:0 (Tesla T4, 15102MiB)\n",
            "Model summary (fused): 218 layers, 25840339 parameters, 0 gradients, 78.7 GFLOPs\n",
            "\n",
            "image 1/1 /content/drive/MyDrive/CsiLab-BrainTumor-Detection-3/valid/images/57_jpg.rf.bda66116e41502f573e14d41cadb3b1e.jpg: 640x640 1 Tumor, 20.3ms\n",
            "Speed: 0.7ms pre-process, 20.3ms inference, 1.6ms postprocess per image at shape (1, 3, 640, 640)\n",
            "Ultralytics YOLOv8.0.28 🚀 Python-3.10.12 torch-2.1.0+cu121 CUDA:0 (Tesla T4, 15102MiB)\n",
            "Model summary (fused): 168 layers, 3005843 parameters, 0 gradients, 8.1 GFLOPs\n",
            "\n",
            "image 1/1 /content/drive/MyDrive/CsiLab-BrainTumor-Detection-3/valid/images/57_jpg.rf.bda66116e41502f573e14d41cadb3b1e.jpg: 640x640 1 Tumor, 22.5ms\n",
            "Speed: 0.5ms pre-process, 22.5ms inference, 1.9ms postprocess per image at shape (1, 3, 640, 640)\n",
            "Ultralytics YOLOv8.0.28 🚀 Python-3.10.12 torch-2.1.0+cu121 CUDA:0 (Tesla T4, 15102MiB)\n",
            "Model summary (fused): 268 layers, 43607379 parameters, 0 gradients, 164.8 GFLOPs\n",
            "\n",
            "image 1/1 /content/drive/MyDrive/CsiLab-BrainTumor-Detection-3/valid/images/57_jpg.rf.bda66116e41502f573e14d41cadb3b1e.jpg: 640x640 1 Tumor, 57.9ms\n",
            "Speed: 0.5ms pre-process, 57.9ms inference, 1.6ms postprocess per image at shape (1, 3, 640, 640)\n",
            "Ultralytics YOLOv8.0.28 🚀 Python-3.10.12 torch-2.1.0+cu121 CUDA:0 (Tesla T4, 15102MiB)\n",
            "Model summary (fused): 268 layers, 68124531 parameters, 0 gradients, 257.4 GFLOPs\n",
            "\n",
            "image 1/1 /content/drive/MyDrive/CsiLab-BrainTumor-Detection-3/valid/images/57_jpg.rf.bda66116e41502f573e14d41cadb3b1e.jpg: 640x640 1 Tumor, 65.7ms\n",
            "Speed: 0.5ms pre-process, 65.7ms inference, 1.5ms postprocess per image at shape (1, 3, 640, 640)\n",
            "Ultralytics YOLOv8.0.28 🚀 Python-3.10.12 torch-2.1.0+cu121 CUDA:0 (Tesla T4, 15102MiB)\n"
          ]
        },
        {
          "output_type": "stream",
          "name": "stdout",
          "text": [
            "/content/drive/MyDrive/CsiLab-BrainTumor-Detection-3/valid/images/Te-me_0302_jpg.rf.53080bce6902562316727ff161d7feaf.jpg\n"
          ]
        },
        {
          "output_type": "stream",
          "name": "stderr",
          "text": [
            "Model summary (fused): 168 layers, 11125971 parameters, 0 gradients, 28.4 GFLOPs\n",
            "\n",
            "image 1/1 /content/drive/MyDrive/CsiLab-BrainTumor-Detection-3/valid/images/Te-me_0302_jpg.rf.53080bce6902562316727ff161d7feaf.jpg: 640x640 1 Tumor, 17.4ms\n",
            "Speed: 0.5ms pre-process, 17.4ms inference, 1.4ms postprocess per image at shape (1, 3, 640, 640)\n",
            "Ultralytics YOLOv8.0.28 🚀 Python-3.10.12 torch-2.1.0+cu121 CUDA:0 (Tesla T4, 15102MiB)\n"
          ]
        },
        {
          "output_type": "stream",
          "name": "stdout",
          "text": [
            "[    0.56836     0.66309     0.15234      0.1543]\n"
          ]
        },
        {
          "output_type": "stream",
          "name": "stderr",
          "text": [
            "Model summary (fused): 218 layers, 25840339 parameters, 0 gradients, 78.7 GFLOPs\n",
            "\n",
            "image 1/1 /content/drive/MyDrive/CsiLab-BrainTumor-Detection-3/valid/images/Te-me_0302_jpg.rf.53080bce6902562316727ff161d7feaf.jpg: 640x640 1 Tumor, 29.4ms\n",
            "Speed: 0.6ms pre-process, 29.4ms inference, 1.9ms postprocess per image at shape (1, 3, 640, 640)\n",
            "Ultralytics YOLOv8.0.28 🚀 Python-3.10.12 torch-2.1.0+cu121 CUDA:0 (Tesla T4, 15102MiB)\n",
            "Model summary (fused): 168 layers, 3005843 parameters, 0 gradients, 8.1 GFLOPs\n",
            "\n",
            "image 1/1 /content/drive/MyDrive/CsiLab-BrainTumor-Detection-3/valid/images/Te-me_0302_jpg.rf.53080bce6902562316727ff161d7feaf.jpg: 640x640 1 Tumor, 15.8ms\n",
            "Speed: 0.5ms pre-process, 15.8ms inference, 1.4ms postprocess per image at shape (1, 3, 640, 640)\n",
            "Ultralytics YOLOv8.0.28 🚀 Python-3.10.12 torch-2.1.0+cu121 CUDA:0 (Tesla T4, 15102MiB)\n",
            "Model summary (fused): 268 layers, 43607379 parameters, 0 gradients, 164.8 GFLOPs\n",
            "\n",
            "image 1/1 /content/drive/MyDrive/CsiLab-BrainTumor-Detection-3/valid/images/Te-me_0302_jpg.rf.53080bce6902562316727ff161d7feaf.jpg: 640x640 1 Tumor, 54.7ms\n",
            "Speed: 0.5ms pre-process, 54.7ms inference, 1.5ms postprocess per image at shape (1, 3, 640, 640)\n",
            "Ultralytics YOLOv8.0.28 🚀 Python-3.10.12 torch-2.1.0+cu121 CUDA:0 (Tesla T4, 15102MiB)\n",
            "Model summary (fused): 268 layers, 68124531 parameters, 0 gradients, 257.4 GFLOPs\n",
            "\n",
            "image 1/1 /content/drive/MyDrive/CsiLab-BrainTumor-Detection-3/valid/images/Te-me_0302_jpg.rf.53080bce6902562316727ff161d7feaf.jpg: 640x640 1 Tumor, 62.7ms\n",
            "Speed: 0.5ms pre-process, 62.7ms inference, 1.5ms postprocess per image at shape (1, 3, 640, 640)\n",
            "Ultralytics YOLOv8.0.28 🚀 Python-3.10.12 torch-2.1.0+cu121 CUDA:0 (Tesla T4, 15102MiB)\n"
          ]
        },
        {
          "output_type": "stream",
          "name": "stdout",
          "text": [
            "/content/drive/MyDrive/CsiLab-BrainTumor-Detection-3/valid/images/Te-me_0118_jpg.rf.1f6ffc768ce28898cbefb0e1998b476a.jpg\n"
          ]
        },
        {
          "output_type": "stream",
          "name": "stderr",
          "text": [
            "Model summary (fused): 168 layers, 11125971 parameters, 0 gradients, 28.4 GFLOPs\n",
            "\n",
            "image 1/1 /content/drive/MyDrive/CsiLab-BrainTumor-Detection-3/valid/images/Te-me_0118_jpg.rf.1f6ffc768ce28898cbefb0e1998b476a.jpg: 640x640 16.5ms\n",
            "Speed: 0.5ms pre-process, 16.5ms inference, 0.5ms postprocess per image at shape (1, 3, 640, 640)\n",
            "Ultralytics YOLOv8.0.28 🚀 Python-3.10.12 torch-2.1.0+cu121 CUDA:0 (Tesla T4, 15102MiB)\n"
          ]
        },
        {
          "output_type": "stream",
          "name": "stdout",
          "text": [
            "[0, 0, 0, 0]\n"
          ]
        },
        {
          "output_type": "stream",
          "name": "stderr",
          "text": [
            "Model summary (fused): 218 layers, 25840339 parameters, 0 gradients, 78.7 GFLOPs\n",
            "\n",
            "image 1/1 /content/drive/MyDrive/CsiLab-BrainTumor-Detection-3/valid/images/Te-me_0118_jpg.rf.1f6ffc768ce28898cbefb0e1998b476a.jpg: 640x640 1 Tumor, 29.0ms\n",
            "Speed: 0.5ms pre-process, 29.0ms inference, 2.0ms postprocess per image at shape (1, 3, 640, 640)\n",
            "Ultralytics YOLOv8.0.28 🚀 Python-3.10.12 torch-2.1.0+cu121 CUDA:0 (Tesla T4, 15102MiB)\n",
            "Model summary (fused): 168 layers, 3005843 parameters, 0 gradients, 8.1 GFLOPs\n",
            "\n",
            "image 1/1 /content/drive/MyDrive/CsiLab-BrainTumor-Detection-3/valid/images/Te-me_0118_jpg.rf.1f6ffc768ce28898cbefb0e1998b476a.jpg: 640x640 1 Tumor, 15.6ms\n",
            "Speed: 0.5ms pre-process, 15.6ms inference, 1.4ms postprocess per image at shape (1, 3, 640, 640)\n",
            "Ultralytics YOLOv8.0.28 🚀 Python-3.10.12 torch-2.1.0+cu121 CUDA:0 (Tesla T4, 15102MiB)\n",
            "Model summary (fused): 268 layers, 43607379 parameters, 0 gradients, 164.8 GFLOPs\n",
            "\n",
            "image 1/1 /content/drive/MyDrive/CsiLab-BrainTumor-Detection-3/valid/images/Te-me_0118_jpg.rf.1f6ffc768ce28898cbefb0e1998b476a.jpg: 640x640 1 Tumor, 56.8ms\n",
            "Speed: 0.6ms pre-process, 56.8ms inference, 2.0ms postprocess per image at shape (1, 3, 640, 640)\n",
            "Ultralytics YOLOv8.0.28 🚀 Python-3.10.12 torch-2.1.0+cu121 CUDA:0 (Tesla T4, 15102MiB)\n",
            "Model summary (fused): 268 layers, 68124531 parameters, 0 gradients, 257.4 GFLOPs\n",
            "\n",
            "image 1/1 /content/drive/MyDrive/CsiLab-BrainTumor-Detection-3/valid/images/Te-me_0118_jpg.rf.1f6ffc768ce28898cbefb0e1998b476a.jpg: 640x640 1 Tumor, 97.4ms\n",
            "Speed: 0.5ms pre-process, 97.4ms inference, 1.9ms postprocess per image at shape (1, 3, 640, 640)\n",
            "Ultralytics YOLOv8.0.28 🚀 Python-3.10.12 torch-2.1.0+cu121 CUDA:0 (Tesla T4, 15102MiB)\n"
          ]
        },
        {
          "output_type": "stream",
          "name": "stdout",
          "text": [
            "/content/drive/MyDrive/CsiLab-BrainTumor-Detection-3/valid/images/Te-me_0093_jpg.rf.fc12e70302c393894cd692531bfd0017.jpg\n"
          ]
        },
        {
          "output_type": "stream",
          "name": "stderr",
          "text": [
            "Model summary (fused): 168 layers, 11125971 parameters, 0 gradients, 28.4 GFLOPs\n",
            "\n",
            "image 1/1 /content/drive/MyDrive/CsiLab-BrainTumor-Detection-3/valid/images/Te-me_0093_jpg.rf.fc12e70302c393894cd692531bfd0017.jpg: 640x640 22.8ms\n",
            "Speed: 0.5ms pre-process, 22.8ms inference, 0.9ms postprocess per image at shape (1, 3, 640, 640)\n",
            "Ultralytics YOLOv8.0.28 🚀 Python-3.10.12 torch-2.1.0+cu121 CUDA:0 (Tesla T4, 15102MiB)\n"
          ]
        },
        {
          "output_type": "stream",
          "name": "stdout",
          "text": [
            "[0, 0, 0, 0]\n"
          ]
        },
        {
          "output_type": "stream",
          "name": "stderr",
          "text": [
            "Model summary (fused): 218 layers, 25840339 parameters, 0 gradients, 78.7 GFLOPs\n",
            "\n",
            "image 1/1 /content/drive/MyDrive/CsiLab-BrainTumor-Detection-3/valid/images/Te-me_0093_jpg.rf.fc12e70302c393894cd692531bfd0017.jpg: 640x640 1 Tumor, 22.4ms\n",
            "Speed: 0.5ms pre-process, 22.4ms inference, 1.4ms postprocess per image at shape (1, 3, 640, 640)\n",
            "Ultralytics YOLOv8.0.28 🚀 Python-3.10.12 torch-2.1.0+cu121 CUDA:0 (Tesla T4, 15102MiB)\n",
            "Model summary (fused): 168 layers, 3005843 parameters, 0 gradients, 8.1 GFLOPs\n",
            "\n",
            "image 1/1 /content/drive/MyDrive/CsiLab-BrainTumor-Detection-3/valid/images/Te-me_0093_jpg.rf.fc12e70302c393894cd692531bfd0017.jpg: 640x640 1 Tumor, 18.8ms\n",
            "Speed: 0.5ms pre-process, 18.8ms inference, 1.4ms postprocess per image at shape (1, 3, 640, 640)\n",
            "Ultralytics YOLOv8.0.28 🚀 Python-3.10.12 torch-2.1.0+cu121 CUDA:0 (Tesla T4, 15102MiB)\n",
            "Model summary (fused): 268 layers, 43607379 parameters, 0 gradients, 164.8 GFLOPs\n",
            "\n",
            "image 1/1 /content/drive/MyDrive/CsiLab-BrainTumor-Detection-3/valid/images/Te-me_0093_jpg.rf.fc12e70302c393894cd692531bfd0017.jpg: 640x640 1 Tumor, 62.9ms\n",
            "Speed: 0.5ms pre-process, 62.9ms inference, 1.5ms postprocess per image at shape (1, 3, 640, 640)\n",
            "Ultralytics YOLOv8.0.28 🚀 Python-3.10.12 torch-2.1.0+cu121 CUDA:0 (Tesla T4, 15102MiB)\n",
            "Model summary (fused): 268 layers, 68124531 parameters, 0 gradients, 257.4 GFLOPs\n",
            "\n",
            "image 1/1 /content/drive/MyDrive/CsiLab-BrainTumor-Detection-3/valid/images/Te-me_0093_jpg.rf.fc12e70302c393894cd692531bfd0017.jpg: 640x640 1 Tumor, 97.2ms\n",
            "Speed: 0.6ms pre-process, 97.2ms inference, 1.6ms postprocess per image at shape (1, 3, 640, 640)\n",
            "Ultralytics YOLOv8.0.28 🚀 Python-3.10.12 torch-2.1.0+cu121 CUDA:0 (Tesla T4, 15102MiB)\n"
          ]
        },
        {
          "output_type": "stream",
          "name": "stdout",
          "text": [
            "/content/drive/MyDrive/CsiLab-BrainTumor-Detection-3/valid/images/74_jpg.rf.a301db837a81bc50c0bae92524304242.jpg\n"
          ]
        },
        {
          "output_type": "stream",
          "name": "stderr",
          "text": [
            "Model summary (fused): 168 layers, 11125971 parameters, 0 gradients, 28.4 GFLOPs\n",
            "\n",
            "image 1/1 /content/drive/MyDrive/CsiLab-BrainTumor-Detection-3/valid/images/74_jpg.rf.a301db837a81bc50c0bae92524304242.jpg: 640x640 1 Tumor, 18.0ms\n",
            "Speed: 0.6ms pre-process, 18.0ms inference, 1.6ms postprocess per image at shape (1, 3, 640, 640)\n",
            "Ultralytics YOLOv8.0.28 🚀 Python-3.10.12 torch-2.1.0+cu121 CUDA:0 (Tesla T4, 15102MiB)\n"
          ]
        },
        {
          "output_type": "stream",
          "name": "stdout",
          "text": [
            "[    0.70759     0.58036     0.20089     0.16071]\n"
          ]
        },
        {
          "output_type": "stream",
          "name": "stderr",
          "text": [
            "Model summary (fused): 218 layers, 25840339 parameters, 0 gradients, 78.7 GFLOPs\n",
            "\n",
            "image 1/1 /content/drive/MyDrive/CsiLab-BrainTumor-Detection-3/valid/images/74_jpg.rf.a301db837a81bc50c0bae92524304242.jpg: 640x640 1 Tumor, 23.1ms\n",
            "Speed: 0.5ms pre-process, 23.1ms inference, 1.6ms postprocess per image at shape (1, 3, 640, 640)\n",
            "Ultralytics YOLOv8.0.28 🚀 Python-3.10.12 torch-2.1.0+cu121 CUDA:0 (Tesla T4, 15102MiB)\n",
            "Model summary (fused): 168 layers, 3005843 parameters, 0 gradients, 8.1 GFLOPs\n",
            "\n",
            "image 1/1 /content/drive/MyDrive/CsiLab-BrainTumor-Detection-3/valid/images/74_jpg.rf.a301db837a81bc50c0bae92524304242.jpg: 640x640 1 Tumor, 17.5ms\n",
            "Speed: 0.5ms pre-process, 17.5ms inference, 1.4ms postprocess per image at shape (1, 3, 640, 640)\n",
            "Ultralytics YOLOv8.0.28 🚀 Python-3.10.12 torch-2.1.0+cu121 CUDA:0 (Tesla T4, 15102MiB)\n",
            "Model summary (fused): 268 layers, 43607379 parameters, 0 gradients, 164.8 GFLOPs\n",
            "\n",
            "image 1/1 /content/drive/MyDrive/CsiLab-BrainTumor-Detection-3/valid/images/74_jpg.rf.a301db837a81bc50c0bae92524304242.jpg: 640x640 1 Tumor, 56.3ms\n",
            "Speed: 0.6ms pre-process, 56.3ms inference, 1.6ms postprocess per image at shape (1, 3, 640, 640)\n",
            "Ultralytics YOLOv8.0.28 🚀 Python-3.10.12 torch-2.1.0+cu121 CUDA:0 (Tesla T4, 15102MiB)\n",
            "Model summary (fused): 268 layers, 68124531 parameters, 0 gradients, 257.4 GFLOPs\n",
            "\n",
            "image 1/1 /content/drive/MyDrive/CsiLab-BrainTumor-Detection-3/valid/images/74_jpg.rf.a301db837a81bc50c0bae92524304242.jpg: 640x640 1 Tumor, 71.8ms\n",
            "Speed: 0.5ms pre-process, 71.8ms inference, 1.8ms postprocess per image at shape (1, 3, 640, 640)\n",
            "Ultralytics YOLOv8.0.28 🚀 Python-3.10.12 torch-2.1.0+cu121 CUDA:0 (Tesla T4, 15102MiB)\n"
          ]
        },
        {
          "output_type": "stream",
          "name": "stdout",
          "text": [
            "/content/drive/MyDrive/CsiLab-BrainTumor-Detection-3/valid/images/Te-me_0010_jpg.rf.0eb651842fb7e07e2e2b5840af463f8c.jpg\n"
          ]
        },
        {
          "output_type": "stream",
          "name": "stderr",
          "text": [
            "Model summary (fused): 168 layers, 11125971 parameters, 0 gradients, 28.4 GFLOPs\n",
            "\n",
            "image 1/1 /content/drive/MyDrive/CsiLab-BrainTumor-Detection-3/valid/images/Te-me_0010_jpg.rf.0eb651842fb7e07e2e2b5840af463f8c.jpg: 640x608 1 Tumor, 16.7ms\n",
            "Speed: 0.5ms pre-process, 16.7ms inference, 1.4ms postprocess per image at shape (1, 3, 640, 640)\n",
            "Ultralytics YOLOv8.0.28 🚀 Python-3.10.12 torch-2.1.0+cu121 CUDA:0 (Tesla T4, 15102MiB)\n"
          ]
        },
        {
          "output_type": "stream",
          "name": "stdout",
          "text": [
            "[    0.42308       0.801     0.20879        0.21]\n"
          ]
        },
        {
          "output_type": "stream",
          "name": "stderr",
          "text": [
            "Model summary (fused): 218 layers, 25840339 parameters, 0 gradients, 78.7 GFLOPs\n",
            "\n",
            "image 1/1 /content/drive/MyDrive/CsiLab-BrainTumor-Detection-3/valid/images/Te-me_0010_jpg.rf.0eb651842fb7e07e2e2b5840af463f8c.jpg: 640x608 1 Tumor, 21.1ms\n",
            "Speed: 0.5ms pre-process, 21.1ms inference, 1.4ms postprocess per image at shape (1, 3, 640, 640)\n",
            "Ultralytics YOLOv8.0.28 🚀 Python-3.10.12 torch-2.1.0+cu121 CUDA:0 (Tesla T4, 15102MiB)\n",
            "Model summary (fused): 168 layers, 3005843 parameters, 0 gradients, 8.1 GFLOPs\n",
            "\n",
            "image 1/1 /content/drive/MyDrive/CsiLab-BrainTumor-Detection-3/valid/images/Te-me_0010_jpg.rf.0eb651842fb7e07e2e2b5840af463f8c.jpg: 640x608 1 Tumor, 16.5ms\n",
            "Speed: 0.5ms pre-process, 16.5ms inference, 1.6ms postprocess per image at shape (1, 3, 640, 640)\n",
            "Ultralytics YOLOv8.0.28 🚀 Python-3.10.12 torch-2.1.0+cu121 CUDA:0 (Tesla T4, 15102MiB)\n",
            "Model summary (fused): 268 layers, 43607379 parameters, 0 gradients, 164.8 GFLOPs\n",
            "\n",
            "image 1/1 /content/drive/MyDrive/CsiLab-BrainTumor-Detection-3/valid/images/Te-me_0010_jpg.rf.0eb651842fb7e07e2e2b5840af463f8c.jpg: 640x608 1 Tumor, 58.5ms\n",
            "Speed: 0.5ms pre-process, 58.5ms inference, 2.2ms postprocess per image at shape (1, 3, 640, 640)\n",
            "Ultralytics YOLOv8.0.28 🚀 Python-3.10.12 torch-2.1.0+cu121 CUDA:0 (Tesla T4, 15102MiB)\n",
            "Model summary (fused): 268 layers, 68124531 parameters, 0 gradients, 257.4 GFLOPs\n",
            "\n",
            "image 1/1 /content/drive/MyDrive/CsiLab-BrainTumor-Detection-3/valid/images/Te-me_0010_jpg.rf.0eb651842fb7e07e2e2b5840af463f8c.jpg: 640x608 1 Tumor, 75.3ms\n",
            "Speed: 0.6ms pre-process, 75.3ms inference, 2.4ms postprocess per image at shape (1, 3, 640, 640)\n",
            "Ultralytics YOLOv8.0.28 🚀 Python-3.10.12 torch-2.1.0+cu121 CUDA:0 (Tesla T4, 15102MiB)\n"
          ]
        },
        {
          "output_type": "stream",
          "name": "stdout",
          "text": [
            "/content/drive/MyDrive/CsiLab-BrainTumor-Detection-3/valid/images/Te-me_0103_jpg.rf.217cf139d8b94c29b08ba8932b44524c.jpg\n"
          ]
        },
        {
          "output_type": "stream",
          "name": "stderr",
          "text": [
            "Model summary (fused): 168 layers, 11125971 parameters, 0 gradients, 28.4 GFLOPs\n",
            "\n",
            "image 1/1 /content/drive/MyDrive/CsiLab-BrainTumor-Detection-3/valid/images/Te-me_0103_jpg.rf.217cf139d8b94c29b08ba8932b44524c.jpg: 640x576 1 Tumor, 25.0ms\n",
            "Speed: 0.5ms pre-process, 25.0ms inference, 1.8ms postprocess per image at shape (1, 3, 640, 640)\n",
            "Ultralytics YOLOv8.0.28 🚀 Python-3.10.12 torch-2.1.0+cu121 CUDA:0 (Tesla T4, 15102MiB)\n"
          ]
        },
        {
          "output_type": "stream",
          "name": "stdout",
          "text": [
            "[    0.29618     0.36592     0.23567     0.21788]\n"
          ]
        },
        {
          "output_type": "stream",
          "name": "stderr",
          "text": [
            "Model summary (fused): 218 layers, 25840339 parameters, 0 gradients, 78.7 GFLOPs\n",
            "\n",
            "image 1/1 /content/drive/MyDrive/CsiLab-BrainTumor-Detection-3/valid/images/Te-me_0103_jpg.rf.217cf139d8b94c29b08ba8932b44524c.jpg: 640x576 1 Tumor, 24.9ms\n",
            "Speed: 0.5ms pre-process, 24.9ms inference, 1.9ms postprocess per image at shape (1, 3, 640, 640)\n",
            "Ultralytics YOLOv8.0.28 🚀 Python-3.10.12 torch-2.1.0+cu121 CUDA:0 (Tesla T4, 15102MiB)\n",
            "Model summary (fused): 168 layers, 3005843 parameters, 0 gradients, 8.1 GFLOPs\n",
            "\n",
            "image 1/1 /content/drive/MyDrive/CsiLab-BrainTumor-Detection-3/valid/images/Te-me_0103_jpg.rf.217cf139d8b94c29b08ba8932b44524c.jpg: 640x576 1 Tumor, 26.4ms\n",
            "Speed: 0.5ms pre-process, 26.4ms inference, 1.9ms postprocess per image at shape (1, 3, 640, 640)\n",
            "Ultralytics YOLOv8.0.28 🚀 Python-3.10.12 torch-2.1.0+cu121 CUDA:0 (Tesla T4, 15102MiB)\n",
            "Model summary (fused): 268 layers, 43607379 parameters, 0 gradients, 164.8 GFLOPs\n",
            "\n",
            "image 1/1 /content/drive/MyDrive/CsiLab-BrainTumor-Detection-3/valid/images/Te-me_0103_jpg.rf.217cf139d8b94c29b08ba8932b44524c.jpg: 640x576 1 Tumor, 76.1ms\n",
            "Speed: 0.6ms pre-process, 76.1ms inference, 2.1ms postprocess per image at shape (1, 3, 640, 640)\n",
            "Ultralytics YOLOv8.0.28 🚀 Python-3.10.12 torch-2.1.0+cu121 CUDA:0 (Tesla T4, 15102MiB)\n",
            "Model summary (fused): 268 layers, 68124531 parameters, 0 gradients, 257.4 GFLOPs\n",
            "\n",
            "image 1/1 /content/drive/MyDrive/CsiLab-BrainTumor-Detection-3/valid/images/Te-me_0103_jpg.rf.217cf139d8b94c29b08ba8932b44524c.jpg: 640x576 1 Tumor, 88.8ms\n",
            "Speed: 0.5ms pre-process, 88.8ms inference, 1.5ms postprocess per image at shape (1, 3, 640, 640)\n",
            "Ultralytics YOLOv8.0.28 🚀 Python-3.10.12 torch-2.1.0+cu121 CUDA:0 (Tesla T4, 15102MiB)\n"
          ]
        },
        {
          "output_type": "stream",
          "name": "stdout",
          "text": [
            "/content/drive/MyDrive/CsiLab-BrainTumor-Detection-3/valid/images/83_jpg.rf.53fab3ea9a8933c024ce9cf8d8bf9f5e.jpg\n"
          ]
        },
        {
          "output_type": "stream",
          "name": "stderr",
          "text": [
            "Model summary (fused): 168 layers, 11125971 parameters, 0 gradients, 28.4 GFLOPs\n",
            "\n",
            "image 1/1 /content/drive/MyDrive/CsiLab-BrainTumor-Detection-3/valid/images/83_jpg.rf.53fab3ea9a8933c024ce9cf8d8bf9f5e.jpg: 640x640 1 Tumor, 15.6ms\n",
            "Speed: 0.5ms pre-process, 15.6ms inference, 1.4ms postprocess per image at shape (1, 3, 640, 640)\n",
            "Ultralytics YOLOv8.0.28 🚀 Python-3.10.12 torch-2.1.0+cu121 CUDA:0 (Tesla T4, 15102MiB)\n"
          ]
        },
        {
          "output_type": "stream",
          "name": "stdout",
          "text": [
            "[    0.64509     0.33705     0.23661     0.36161]\n"
          ]
        },
        {
          "output_type": "stream",
          "name": "stderr",
          "text": [
            "Model summary (fused): 218 layers, 25840339 parameters, 0 gradients, 78.7 GFLOPs\n",
            "\n",
            "image 1/1 /content/drive/MyDrive/CsiLab-BrainTumor-Detection-3/valid/images/83_jpg.rf.53fab3ea9a8933c024ce9cf8d8bf9f5e.jpg: 640x640 1 Tumor, 20.9ms\n",
            "Speed: 0.5ms pre-process, 20.9ms inference, 1.7ms postprocess per image at shape (1, 3, 640, 640)\n",
            "Ultralytics YOLOv8.0.28 🚀 Python-3.10.12 torch-2.1.0+cu121 CUDA:0 (Tesla T4, 15102MiB)\n",
            "Model summary (fused): 168 layers, 3005843 parameters, 0 gradients, 8.1 GFLOPs\n",
            "\n",
            "image 1/1 /content/drive/MyDrive/CsiLab-BrainTumor-Detection-3/valid/images/83_jpg.rf.53fab3ea9a8933c024ce9cf8d8bf9f5e.jpg: 640x640 1 Tumor, 26.5ms\n",
            "Speed: 0.5ms pre-process, 26.5ms inference, 2.2ms postprocess per image at shape (1, 3, 640, 640)\n",
            "Ultralytics YOLOv8.0.28 🚀 Python-3.10.12 torch-2.1.0+cu121 CUDA:0 (Tesla T4, 15102MiB)\n",
            "Model summary (fused): 268 layers, 43607379 parameters, 0 gradients, 164.8 GFLOPs\n",
            "\n",
            "image 1/1 /content/drive/MyDrive/CsiLab-BrainTumor-Detection-3/valid/images/83_jpg.rf.53fab3ea9a8933c024ce9cf8d8bf9f5e.jpg: 640x640 1 Tumor, 62.9ms\n",
            "Speed: 0.5ms pre-process, 62.9ms inference, 1.4ms postprocess per image at shape (1, 3, 640, 640)\n",
            "Ultralytics YOLOv8.0.28 🚀 Python-3.10.12 torch-2.1.0+cu121 CUDA:0 (Tesla T4, 15102MiB)\n",
            "Model summary (fused): 268 layers, 68124531 parameters, 0 gradients, 257.4 GFLOPs\n",
            "\n",
            "image 1/1 /content/drive/MyDrive/CsiLab-BrainTumor-Detection-3/valid/images/83_jpg.rf.53fab3ea9a8933c024ce9cf8d8bf9f5e.jpg: 640x640 1 Tumor, 97.1ms\n",
            "Speed: 0.5ms pre-process, 97.1ms inference, 1.5ms postprocess per image at shape (1, 3, 640, 640)\n",
            "Ultralytics YOLOv8.0.28 🚀 Python-3.10.12 torch-2.1.0+cu121 CUDA:0 (Tesla T4, 15102MiB)\n"
          ]
        },
        {
          "output_type": "stream",
          "name": "stdout",
          "text": [
            "/content/drive/MyDrive/CsiLab-BrainTumor-Detection-3/valid/images/Te-me_0053_jpg.rf.611825c2d90e67f7cd87ccfa15c6f91f.jpg\n"
          ]
        },
        {
          "output_type": "stream",
          "name": "stderr",
          "text": [
            "Model summary (fused): 168 layers, 11125971 parameters, 0 gradients, 28.4 GFLOPs\n",
            "\n",
            "image 1/1 /content/drive/MyDrive/CsiLab-BrainTumor-Detection-3/valid/images/Te-me_0053_jpg.rf.611825c2d90e67f7cd87ccfa15c6f91f.jpg: 640x640 1 Tumor, 15.7ms\n",
            "Speed: 0.5ms pre-process, 15.7ms inference, 1.4ms postprocess per image at shape (1, 3, 640, 640)\n",
            "Ultralytics YOLOv8.0.28 🚀 Python-3.10.12 torch-2.1.0+cu121 CUDA:0 (Tesla T4, 15102MiB)\n"
          ]
        },
        {
          "output_type": "stream",
          "name": "stdout",
          "text": [
            "[    0.58032     0.26471     0.16063     0.13575]\n"
          ]
        },
        {
          "output_type": "stream",
          "name": "stderr",
          "text": [
            "Model summary (fused): 218 layers, 25840339 parameters, 0 gradients, 78.7 GFLOPs\n",
            "\n",
            "image 1/1 /content/drive/MyDrive/CsiLab-BrainTumor-Detection-3/valid/images/Te-me_0053_jpg.rf.611825c2d90e67f7cd87ccfa15c6f91f.jpg: 640x640 1 Tumor, 28.2ms\n",
            "Speed: 0.5ms pre-process, 28.2ms inference, 2.1ms postprocess per image at shape (1, 3, 640, 640)\n",
            "Ultralytics YOLOv8.0.28 🚀 Python-3.10.12 torch-2.1.0+cu121 CUDA:0 (Tesla T4, 15102MiB)\n",
            "Model summary (fused): 168 layers, 3005843 parameters, 0 gradients, 8.1 GFLOPs\n",
            "\n",
            "image 1/1 /content/drive/MyDrive/CsiLab-BrainTumor-Detection-3/valid/images/Te-me_0053_jpg.rf.611825c2d90e67f7cd87ccfa15c6f91f.jpg: 640x640 1 Tumor, 18.2ms\n",
            "Speed: 0.5ms pre-process, 18.2ms inference, 1.8ms postprocess per image at shape (1, 3, 640, 640)\n",
            "Ultralytics YOLOv8.0.28 🚀 Python-3.10.12 torch-2.1.0+cu121 CUDA:0 (Tesla T4, 15102MiB)\n",
            "Model summary (fused): 268 layers, 43607379 parameters, 0 gradients, 164.8 GFLOPs\n",
            "\n",
            "image 1/1 /content/drive/MyDrive/CsiLab-BrainTumor-Detection-3/valid/images/Te-me_0053_jpg.rf.611825c2d90e67f7cd87ccfa15c6f91f.jpg: 640x640 1 Tumor, 62.9ms\n",
            "Speed: 0.5ms pre-process, 62.9ms inference, 1.4ms postprocess per image at shape (1, 3, 640, 640)\n",
            "Ultralytics YOLOv8.0.28 🚀 Python-3.10.12 torch-2.1.0+cu121 CUDA:0 (Tesla T4, 15102MiB)\n",
            "Model summary (fused): 268 layers, 68124531 parameters, 0 gradients, 257.4 GFLOPs\n",
            "\n",
            "image 1/1 /content/drive/MyDrive/CsiLab-BrainTumor-Detection-3/valid/images/Te-me_0053_jpg.rf.611825c2d90e67f7cd87ccfa15c6f91f.jpg: 640x640 1 Tumor, 62.7ms\n",
            "Speed: 0.5ms pre-process, 62.7ms inference, 1.8ms postprocess per image at shape (1, 3, 640, 640)\n",
            "Ultralytics YOLOv8.0.28 🚀 Python-3.10.12 torch-2.1.0+cu121 CUDA:0 (Tesla T4, 15102MiB)\n"
          ]
        },
        {
          "output_type": "stream",
          "name": "stdout",
          "text": [
            "/content/drive/MyDrive/CsiLab-BrainTumor-Detection-3/valid/images/89_jpg.rf.0dbec90af45dbc81954d8b9ddcbb8e62.jpg\n"
          ]
        },
        {
          "output_type": "stream",
          "name": "stderr",
          "text": [
            "Model summary (fused): 168 layers, 11125971 parameters, 0 gradients, 28.4 GFLOPs\n",
            "\n",
            "image 1/1 /content/drive/MyDrive/CsiLab-BrainTumor-Detection-3/valid/images/89_jpg.rf.0dbec90af45dbc81954d8b9ddcbb8e62.jpg: 640x640 1 Tumor, 23.1ms\n",
            "Speed: 0.5ms pre-process, 23.1ms inference, 2.0ms postprocess per image at shape (1, 3, 640, 640)\n",
            "Ultralytics YOLOv8.0.28 🚀 Python-3.10.12 torch-2.1.0+cu121 CUDA:0 (Tesla T4, 15102MiB)\n"
          ]
        },
        {
          "output_type": "stream",
          "name": "stdout",
          "text": [
            "[    0.26116     0.41964     0.31696       0.375]\n"
          ]
        },
        {
          "output_type": "stream",
          "name": "stderr",
          "text": [
            "Model summary (fused): 218 layers, 25840339 parameters, 0 gradients, 78.7 GFLOPs\n",
            "\n",
            "image 1/1 /content/drive/MyDrive/CsiLab-BrainTumor-Detection-3/valid/images/89_jpg.rf.0dbec90af45dbc81954d8b9ddcbb8e62.jpg: 640x640 1 Tumor, 20.1ms\n",
            "Speed: 0.5ms pre-process, 20.1ms inference, 1.5ms postprocess per image at shape (1, 3, 640, 640)\n",
            "Ultralytics YOLOv8.0.28 🚀 Python-3.10.12 torch-2.1.0+cu121 CUDA:0 (Tesla T4, 15102MiB)\n",
            "Model summary (fused): 168 layers, 3005843 parameters, 0 gradients, 8.1 GFLOPs\n",
            "\n",
            "image 1/1 /content/drive/MyDrive/CsiLab-BrainTumor-Detection-3/valid/images/89_jpg.rf.0dbec90af45dbc81954d8b9ddcbb8e62.jpg: 640x640 1 Tumor, 15.3ms\n",
            "Speed: 0.5ms pre-process, 15.3ms inference, 1.5ms postprocess per image at shape (1, 3, 640, 640)\n",
            "Ultralytics YOLOv8.0.28 🚀 Python-3.10.12 torch-2.1.0+cu121 CUDA:0 (Tesla T4, 15102MiB)\n",
            "Model summary (fused): 268 layers, 43607379 parameters, 0 gradients, 164.8 GFLOPs\n",
            "\n",
            "image 1/1 /content/drive/MyDrive/CsiLab-BrainTumor-Detection-3/valid/images/89_jpg.rf.0dbec90af45dbc81954d8b9ddcbb8e62.jpg: 640x640 1 Tumor, 54.7ms\n",
            "Speed: 0.5ms pre-process, 54.7ms inference, 1.8ms postprocess per image at shape (1, 3, 640, 640)\n",
            "Ultralytics YOLOv8.0.28 🚀 Python-3.10.12 torch-2.1.0+cu121 CUDA:0 (Tesla T4, 15102MiB)\n",
            "Model summary (fused): 268 layers, 68124531 parameters, 0 gradients, 257.4 GFLOPs\n",
            "\n",
            "image 1/1 /content/drive/MyDrive/CsiLab-BrainTumor-Detection-3/valid/images/89_jpg.rf.0dbec90af45dbc81954d8b9ddcbb8e62.jpg: 640x640 1 Tumor, 70.9ms\n",
            "Speed: 0.5ms pre-process, 70.9ms inference, 5.7ms postprocess per image at shape (1, 3, 640, 640)\n",
            "Ultralytics YOLOv8.0.28 🚀 Python-3.10.12 torch-2.1.0+cu121 CUDA:0 (Tesla T4, 15102MiB)\n"
          ]
        },
        {
          "output_type": "stream",
          "name": "stdout",
          "text": [
            "/content/drive/MyDrive/CsiLab-BrainTumor-Detection-3/valid/images/85_jpg.rf.791d8c6867197465dc83b78ad0ef1684.jpg\n"
          ]
        },
        {
          "output_type": "stream",
          "name": "stderr",
          "text": [
            "Model summary (fused): 168 layers, 11125971 parameters, 0 gradients, 28.4 GFLOPs\n",
            "\n",
            "image 1/1 /content/drive/MyDrive/CsiLab-BrainTumor-Detection-3/valid/images/85_jpg.rf.791d8c6867197465dc83b78ad0ef1684.jpg: 640x640 18.1ms\n",
            "Speed: 0.5ms pre-process, 18.1ms inference, 0.6ms postprocess per image at shape (1, 3, 640, 640)\n",
            "Ultralytics YOLOv8.0.28 🚀 Python-3.10.12 torch-2.1.0+cu121 CUDA:0 (Tesla T4, 15102MiB)\n"
          ]
        },
        {
          "output_type": "stream",
          "name": "stdout",
          "text": [
            "[0, 0, 0, 0]\n"
          ]
        },
        {
          "output_type": "stream",
          "name": "stderr",
          "text": [
            "Model summary (fused): 218 layers, 25840339 parameters, 0 gradients, 78.7 GFLOPs\n",
            "\n",
            "image 1/1 /content/drive/MyDrive/CsiLab-BrainTumor-Detection-3/valid/images/85_jpg.rf.791d8c6867197465dc83b78ad0ef1684.jpg: 640x640 1 Tumor, 30.1ms\n",
            "Speed: 0.5ms pre-process, 30.1ms inference, 2.1ms postprocess per image at shape (1, 3, 640, 640)\n",
            "Ultralytics YOLOv8.0.28 🚀 Python-3.10.12 torch-2.1.0+cu121 CUDA:0 (Tesla T4, 15102MiB)\n",
            "Model summary (fused): 168 layers, 3005843 parameters, 0 gradients, 8.1 GFLOPs\n",
            "\n",
            "image 1/1 /content/drive/MyDrive/CsiLab-BrainTumor-Detection-3/valid/images/85_jpg.rf.791d8c6867197465dc83b78ad0ef1684.jpg: 640x640 1 Tumor, 16.6ms\n",
            "Speed: 0.5ms pre-process, 16.6ms inference, 1.5ms postprocess per image at shape (1, 3, 640, 640)\n",
            "Ultralytics YOLOv8.0.28 🚀 Python-3.10.12 torch-2.1.0+cu121 CUDA:0 (Tesla T4, 15102MiB)\n",
            "Model summary (fused): 268 layers, 43607379 parameters, 0 gradients, 164.8 GFLOPs\n",
            "\n",
            "image 1/1 /content/drive/MyDrive/CsiLab-BrainTumor-Detection-3/valid/images/85_jpg.rf.791d8c6867197465dc83b78ad0ef1684.jpg: 640x640 1 Tumor, 56.4ms\n",
            "Speed: 0.5ms pre-process, 56.4ms inference, 1.5ms postprocess per image at shape (1, 3, 640, 640)\n",
            "Ultralytics YOLOv8.0.28 🚀 Python-3.10.12 torch-2.1.0+cu121 CUDA:0 (Tesla T4, 15102MiB)\n",
            "Model summary (fused): 268 layers, 68124531 parameters, 0 gradients, 257.4 GFLOPs\n",
            "\n",
            "image 1/1 /content/drive/MyDrive/CsiLab-BrainTumor-Detection-3/valid/images/85_jpg.rf.791d8c6867197465dc83b78ad0ef1684.jpg: 640x640 1 Tumor, 63.7ms\n",
            "Speed: 0.5ms pre-process, 63.7ms inference, 1.4ms postprocess per image at shape (1, 3, 640, 640)\n",
            "Ultralytics YOLOv8.0.28 🚀 Python-3.10.12 torch-2.1.0+cu121 CUDA:0 (Tesla T4, 15102MiB)\n"
          ]
        },
        {
          "output_type": "stream",
          "name": "stdout",
          "text": [
            "/content/drive/MyDrive/CsiLab-BrainTumor-Detection-3/valid/images/Te-me_0113_jpg.rf.a306cdd58c02cb804215728022cedb50.jpg\n"
          ]
        },
        {
          "output_type": "stream",
          "name": "stderr",
          "text": [
            "Model summary (fused): 168 layers, 11125971 parameters, 0 gradients, 28.4 GFLOPs\n",
            "\n",
            "image 1/1 /content/drive/MyDrive/CsiLab-BrainTumor-Detection-3/valid/images/Te-me_0113_jpg.rf.a306cdd58c02cb804215728022cedb50.jpg: 640x640 1 Tumor, 15.8ms\n",
            "Speed: 0.5ms pre-process, 15.8ms inference, 1.4ms postprocess per image at shape (1, 3, 640, 640)\n",
            "Ultralytics YOLOv8.0.28 🚀 Python-3.10.12 torch-2.1.0+cu121 CUDA:0 (Tesla T4, 15102MiB)\n"
          ]
        },
        {
          "output_type": "stream",
          "name": "stdout",
          "text": [
            "[    0.52009     0.21759     0.19196     0.19444]\n"
          ]
        },
        {
          "output_type": "stream",
          "name": "stderr",
          "text": [
            "Model summary (fused): 218 layers, 25840339 parameters, 0 gradients, 78.7 GFLOPs\n",
            "\n",
            "image 1/1 /content/drive/MyDrive/CsiLab-BrainTumor-Detection-3/valid/images/Te-me_0113_jpg.rf.a306cdd58c02cb804215728022cedb50.jpg: 640x640 1 Tumor, 23.9ms\n",
            "Speed: 0.5ms pre-process, 23.9ms inference, 1.4ms postprocess per image at shape (1, 3, 640, 640)\n",
            "Ultralytics YOLOv8.0.28 🚀 Python-3.10.12 torch-2.1.0+cu121 CUDA:0 (Tesla T4, 15102MiB)\n",
            "Model summary (fused): 168 layers, 3005843 parameters, 0 gradients, 8.1 GFLOPs\n",
            "\n",
            "image 1/1 /content/drive/MyDrive/CsiLab-BrainTumor-Detection-3/valid/images/Te-me_0113_jpg.rf.a306cdd58c02cb804215728022cedb50.jpg: 640x640 1 Tumor, 16.0ms\n",
            "Speed: 0.5ms pre-process, 16.0ms inference, 1.4ms postprocess per image at shape (1, 3, 640, 640)\n",
            "Ultralytics YOLOv8.0.28 🚀 Python-3.10.12 torch-2.1.0+cu121 CUDA:0 (Tesla T4, 15102MiB)\n",
            "Model summary (fused): 268 layers, 43607379 parameters, 0 gradients, 164.8 GFLOPs\n",
            "\n",
            "image 1/1 /content/drive/MyDrive/CsiLab-BrainTumor-Detection-3/valid/images/Te-me_0113_jpg.rf.a306cdd58c02cb804215728022cedb50.jpg: 640x640 1 Tumor, 63.0ms\n",
            "Speed: 0.5ms pre-process, 63.0ms inference, 1.8ms postprocess per image at shape (1, 3, 640, 640)\n",
            "Ultralytics YOLOv8.0.28 🚀 Python-3.10.12 torch-2.1.0+cu121 CUDA:0 (Tesla T4, 15102MiB)\n",
            "Model summary (fused): 268 layers, 68124531 parameters, 0 gradients, 257.4 GFLOPs\n",
            "\n",
            "image 1/1 /content/drive/MyDrive/CsiLab-BrainTumor-Detection-3/valid/images/Te-me_0113_jpg.rf.a306cdd58c02cb804215728022cedb50.jpg: 640x640 1 Tumor, 87.4ms\n",
            "Speed: 0.6ms pre-process, 87.4ms inference, 1.8ms postprocess per image at shape (1, 3, 640, 640)\n",
            "Ultralytics YOLOv8.0.28 🚀 Python-3.10.12 torch-2.1.0+cu121 CUDA:0 (Tesla T4, 15102MiB)\n"
          ]
        },
        {
          "output_type": "stream",
          "name": "stdout",
          "text": [
            "/content/drive/MyDrive/CsiLab-BrainTumor-Detection-3/valid/images/81_jpg.rf.f343fdd43c004062bbec47a731f6562e.jpg\n"
          ]
        },
        {
          "output_type": "stream",
          "name": "stderr",
          "text": [
            "Model summary (fused): 168 layers, 11125971 parameters, 0 gradients, 28.4 GFLOPs\n",
            "\n",
            "image 1/1 /content/drive/MyDrive/CsiLab-BrainTumor-Detection-3/valid/images/81_jpg.rf.f343fdd43c004062bbec47a731f6562e.jpg: 640x640 1 Tumor, 19.2ms\n",
            "Speed: 0.6ms pre-process, 19.2ms inference, 1.8ms postprocess per image at shape (1, 3, 640, 640)\n",
            "Ultralytics YOLOv8.0.28 🚀 Python-3.10.12 torch-2.1.0+cu121 CUDA:0 (Tesla T4, 15102MiB)\n"
          ]
        },
        {
          "output_type": "stream",
          "name": "stdout",
          "text": [
            "[    0.75223     0.36161     0.18304     0.17857]\n"
          ]
        },
        {
          "output_type": "stream",
          "name": "stderr",
          "text": [
            "Model summary (fused): 218 layers, 25840339 parameters, 0 gradients, 78.7 GFLOPs\n",
            "\n",
            "image 1/1 /content/drive/MyDrive/CsiLab-BrainTumor-Detection-3/valid/images/81_jpg.rf.f343fdd43c004062bbec47a731f6562e.jpg: 640x640 1 Tumor, 29.1ms\n",
            "Speed: 0.6ms pre-process, 29.1ms inference, 2.2ms postprocess per image at shape (1, 3, 640, 640)\n",
            "Ultralytics YOLOv8.0.28 🚀 Python-3.10.12 torch-2.1.0+cu121 CUDA:0 (Tesla T4, 15102MiB)\n",
            "Model summary (fused): 168 layers, 3005843 parameters, 0 gradients, 8.1 GFLOPs\n",
            "\n",
            "image 1/1 /content/drive/MyDrive/CsiLab-BrainTumor-Detection-3/valid/images/81_jpg.rf.f343fdd43c004062bbec47a731f6562e.jpg: 640x640 1 Tumor, 15.4ms\n",
            "Speed: 0.5ms pre-process, 15.4ms inference, 1.4ms postprocess per image at shape (1, 3, 640, 640)\n",
            "Ultralytics YOLOv8.0.28 🚀 Python-3.10.12 torch-2.1.0+cu121 CUDA:0 (Tesla T4, 15102MiB)\n",
            "Model summary (fused): 268 layers, 43607379 parameters, 0 gradients, 164.8 GFLOPs\n",
            "\n",
            "image 1/1 /content/drive/MyDrive/CsiLab-BrainTumor-Detection-3/valid/images/81_jpg.rf.f343fdd43c004062bbec47a731f6562e.jpg: 640x640 1 Tumor, 56.9ms\n",
            "Speed: 0.5ms pre-process, 56.9ms inference, 1.4ms postprocess per image at shape (1, 3, 640, 640)\n",
            "Ultralytics YOLOv8.0.28 🚀 Python-3.10.12 torch-2.1.0+cu121 CUDA:0 (Tesla T4, 15102MiB)\n",
            "Model summary (fused): 268 layers, 68124531 parameters, 0 gradients, 257.4 GFLOPs\n",
            "\n",
            "image 1/1 /content/drive/MyDrive/CsiLab-BrainTumor-Detection-3/valid/images/81_jpg.rf.f343fdd43c004062bbec47a731f6562e.jpg: 640x640 1 Tumor, 88.5ms\n",
            "Speed: 0.6ms pre-process, 88.5ms inference, 1.8ms postprocess per image at shape (1, 3, 640, 640)\n",
            "Ultralytics YOLOv8.0.28 🚀 Python-3.10.12 torch-2.1.0+cu121 CUDA:0 (Tesla T4, 15102MiB)\n"
          ]
        },
        {
          "output_type": "stream",
          "name": "stdout",
          "text": [
            "/content/drive/MyDrive/CsiLab-BrainTumor-Detection-3/valid/images/30_jpg.rf.bc5f64b3bbd5e989d1aed8a9c14a9e41.jpg\n"
          ]
        },
        {
          "output_type": "stream",
          "name": "stderr",
          "text": [
            "Model summary (fused): 168 layers, 11125971 parameters, 0 gradients, 28.4 GFLOPs\n",
            "\n",
            "image 1/1 /content/drive/MyDrive/CsiLab-BrainTumor-Detection-3/valid/images/30_jpg.rf.bc5f64b3bbd5e989d1aed8a9c14a9e41.jpg: 640x640 23.6ms\n",
            "Speed: 0.5ms pre-process, 23.6ms inference, 0.8ms postprocess per image at shape (1, 3, 640, 640)\n"
          ]
        },
        {
          "output_type": "stream",
          "name": "stdout",
          "text": [
            "[0, 0, 0, 0]\n"
          ]
        },
        {
          "output_type": "stream",
          "name": "stderr",
          "text": [
            "Ultralytics YOLOv8.0.28 🚀 Python-3.10.12 torch-2.1.0+cu121 CUDA:0 (Tesla T4, 15102MiB)\n",
            "Model summary (fused): 218 layers, 25840339 parameters, 0 gradients, 78.7 GFLOPs\n",
            "\n",
            "image 1/1 /content/drive/MyDrive/CsiLab-BrainTumor-Detection-3/valid/images/30_jpg.rf.bc5f64b3bbd5e989d1aed8a9c14a9e41.jpg: 640x640 25.3ms\n",
            "Speed: 0.7ms pre-process, 25.3ms inference, 0.7ms postprocess per image at shape (1, 3, 640, 640)\n",
            "Ultralytics YOLOv8.0.28 🚀 Python-3.10.12 torch-2.1.0+cu121 CUDA:0 (Tesla T4, 15102MiB)\n",
            "Model summary (fused): 168 layers, 3005843 parameters, 0 gradients, 8.1 GFLOPs\n",
            "\n",
            "image 1/1 /content/drive/MyDrive/CsiLab-BrainTumor-Detection-3/valid/images/30_jpg.rf.bc5f64b3bbd5e989d1aed8a9c14a9e41.jpg: 640x640 1 Tumor, 20.8ms\n",
            "Speed: 0.9ms pre-process, 20.8ms inference, 1.9ms postprocess per image at shape (1, 3, 640, 640)\n",
            "Ultralytics YOLOv8.0.28 🚀 Python-3.10.12 torch-2.1.0+cu121 CUDA:0 (Tesla T4, 15102MiB)\n",
            "Model summary (fused): 268 layers, 43607379 parameters, 0 gradients, 164.8 GFLOPs\n",
            "\n",
            "image 1/1 /content/drive/MyDrive/CsiLab-BrainTumor-Detection-3/valid/images/30_jpg.rf.bc5f64b3bbd5e989d1aed8a9c14a9e41.jpg: 640x640 1 Tumor, 63.2ms\n",
            "Speed: 0.6ms pre-process, 63.2ms inference, 1.9ms postprocess per image at shape (1, 3, 640, 640)\n",
            "Ultralytics YOLOv8.0.28 🚀 Python-3.10.12 torch-2.1.0+cu121 CUDA:0 (Tesla T4, 15102MiB)\n",
            "Model summary (fused): 268 layers, 68124531 parameters, 0 gradients, 257.4 GFLOPs\n",
            "\n",
            "image 1/1 /content/drive/MyDrive/CsiLab-BrainTumor-Detection-3/valid/images/30_jpg.rf.bc5f64b3bbd5e989d1aed8a9c14a9e41.jpg: 640x640 1 Tumor, 64.2ms\n",
            "Speed: 0.5ms pre-process, 64.2ms inference, 1.5ms postprocess per image at shape (1, 3, 640, 640)\n",
            "Ultralytics YOLOv8.0.28 🚀 Python-3.10.12 torch-2.1.0+cu121 CUDA:0 (Tesla T4, 15102MiB)\n"
          ]
        },
        {
          "output_type": "stream",
          "name": "stdout",
          "text": [
            "/content/drive/MyDrive/CsiLab-BrainTumor-Detection-3/valid/images/Te-me_0071_jpg.rf.54dc8def9c83a98b207a040e9eb7c4ff.jpg\n"
          ]
        },
        {
          "output_type": "stream",
          "name": "stderr",
          "text": [
            "Model summary (fused): 168 layers, 11125971 parameters, 0 gradients, 28.4 GFLOPs\n",
            "\n",
            "image 1/1 /content/drive/MyDrive/CsiLab-BrainTumor-Detection-3/valid/images/Te-me_0071_jpg.rf.54dc8def9c83a98b207a040e9eb7c4ff.jpg: 640x576 1 Tumor, 16.7ms\n",
            "Speed: 0.5ms pre-process, 16.7ms inference, 1.4ms postprocess per image at shape (1, 3, 640, 640)\n",
            "Ultralytics YOLOv8.0.28 🚀 Python-3.10.12 torch-2.1.0+cu121 CUDA:0 (Tesla T4, 15102MiB)\n"
          ]
        },
        {
          "output_type": "stream",
          "name": "stdout",
          "text": [
            "[    0.25367     0.58481     0.29619     0.24304]\n"
          ]
        },
        {
          "output_type": "stream",
          "name": "stderr",
          "text": [
            "Model summary (fused): 218 layers, 25840339 parameters, 0 gradients, 78.7 GFLOPs\n",
            "\n",
            "image 1/1 /content/drive/MyDrive/CsiLab-BrainTumor-Detection-3/valid/images/Te-me_0071_jpg.rf.54dc8def9c83a98b207a040e9eb7c4ff.jpg: 640x576 1 Tumor, 23.9ms\n",
            "Speed: 0.5ms pre-process, 23.9ms inference, 1.4ms postprocess per image at shape (1, 3, 640, 640)\n",
            "Ultralytics YOLOv8.0.28 🚀 Python-3.10.12 torch-2.1.0+cu121 CUDA:0 (Tesla T4, 15102MiB)\n",
            "Model summary (fused): 168 layers, 3005843 parameters, 0 gradients, 8.1 GFLOPs\n",
            "\n",
            "image 1/1 /content/drive/MyDrive/CsiLab-BrainTumor-Detection-3/valid/images/Te-me_0071_jpg.rf.54dc8def9c83a98b207a040e9eb7c4ff.jpg: 640x576 1 Tumor, 25.1ms\n",
            "Speed: 0.6ms pre-process, 25.1ms inference, 2.0ms postprocess per image at shape (1, 3, 640, 640)\n",
            "Ultralytics YOLOv8.0.28 🚀 Python-3.10.12 torch-2.1.0+cu121 CUDA:0 (Tesla T4, 15102MiB)\n",
            "Model summary (fused): 268 layers, 43607379 parameters, 0 gradients, 164.8 GFLOPs\n",
            "\n",
            "image 1/1 /content/drive/MyDrive/CsiLab-BrainTumor-Detection-3/valid/images/Te-me_0071_jpg.rf.54dc8def9c83a98b207a040e9eb7c4ff.jpg: 640x576 1 Tumor, 61.8ms\n",
            "Speed: 0.5ms pre-process, 61.8ms inference, 1.4ms postprocess per image at shape (1, 3, 640, 640)\n",
            "Ultralytics YOLOv8.0.28 🚀 Python-3.10.12 torch-2.1.0+cu121 CUDA:0 (Tesla T4, 15102MiB)\n",
            "Model summary (fused): 268 layers, 68124531 parameters, 0 gradients, 257.4 GFLOPs\n",
            "\n",
            "image 1/1 /content/drive/MyDrive/CsiLab-BrainTumor-Detection-3/valid/images/Te-me_0071_jpg.rf.54dc8def9c83a98b207a040e9eb7c4ff.jpg: 640x576 1 Tumor, 87.7ms\n",
            "Speed: 0.5ms pre-process, 87.7ms inference, 1.8ms postprocess per image at shape (1, 3, 640, 640)\n",
            "Ultralytics YOLOv8.0.28 🚀 Python-3.10.12 torch-2.1.0+cu121 CUDA:0 (Tesla T4, 15102MiB)\n"
          ]
        },
        {
          "output_type": "stream",
          "name": "stdout",
          "text": [
            "/content/drive/MyDrive/CsiLab-BrainTumor-Detection-3/valid/images/49_jpg.rf.59b6d522ab6299def40243e66fdb09ac.jpg\n"
          ]
        },
        {
          "output_type": "stream",
          "name": "stderr",
          "text": [
            "Model summary (fused): 168 layers, 11125971 parameters, 0 gradients, 28.4 GFLOPs\n",
            "\n",
            "image 1/1 /content/drive/MyDrive/CsiLab-BrainTumor-Detection-3/valid/images/49_jpg.rf.59b6d522ab6299def40243e66fdb09ac.jpg: 640x640 1 Tumor, 15.9ms\n",
            "Speed: 0.5ms pre-process, 15.9ms inference, 1.4ms postprocess per image at shape (1, 3, 640, 640)\n",
            "Ultralytics YOLOv8.0.28 🚀 Python-3.10.12 torch-2.1.0+cu121 CUDA:0 (Tesla T4, 15102MiB)\n"
          ]
        },
        {
          "output_type": "stream",
          "name": "stdout",
          "text": [
            "[    0.28571     0.75223     0.25893     0.30804]\n"
          ]
        },
        {
          "output_type": "stream",
          "name": "stderr",
          "text": [
            "Model summary (fused): 218 layers, 25840339 parameters, 0 gradients, 78.7 GFLOPs\n",
            "\n",
            "image 1/1 /content/drive/MyDrive/CsiLab-BrainTumor-Detection-3/valid/images/49_jpg.rf.59b6d522ab6299def40243e66fdb09ac.jpg: 640x640 1 Tumor, 29.3ms\n",
            "Speed: 0.5ms pre-process, 29.3ms inference, 1.9ms postprocess per image at shape (1, 3, 640, 640)\n",
            "Ultralytics YOLOv8.0.28 🚀 Python-3.10.12 torch-2.1.0+cu121 CUDA:0 (Tesla T4, 15102MiB)\n",
            "Model summary (fused): 168 layers, 3005843 parameters, 0 gradients, 8.1 GFLOPs\n",
            "\n",
            "image 1/1 /content/drive/MyDrive/CsiLab-BrainTumor-Detection-3/valid/images/49_jpg.rf.59b6d522ab6299def40243e66fdb09ac.jpg: 640x640 1 Tumor, 16.3ms\n",
            "Speed: 0.5ms pre-process, 16.3ms inference, 1.4ms postprocess per image at shape (1, 3, 640, 640)\n",
            "Ultralytics YOLOv8.0.28 🚀 Python-3.10.12 torch-2.1.0+cu121 CUDA:0 (Tesla T4, 15102MiB)\n",
            "Model summary (fused): 268 layers, 43607379 parameters, 0 gradients, 164.8 GFLOPs\n",
            "\n",
            "image 1/1 /content/drive/MyDrive/CsiLab-BrainTumor-Detection-3/valid/images/49_jpg.rf.59b6d522ab6299def40243e66fdb09ac.jpg: 640x640 1 Tumor, 60.3ms\n",
            "Speed: 0.5ms pre-process, 60.3ms inference, 1.5ms postprocess per image at shape (1, 3, 640, 640)\n",
            "Ultralytics YOLOv8.0.28 🚀 Python-3.10.12 torch-2.1.0+cu121 CUDA:0 (Tesla T4, 15102MiB)\n",
            "Model summary (fused): 268 layers, 68124531 parameters, 0 gradients, 257.4 GFLOPs\n",
            "\n",
            "image 1/1 /content/drive/MyDrive/CsiLab-BrainTumor-Detection-3/valid/images/49_jpg.rf.59b6d522ab6299def40243e66fdb09ac.jpg: 640x640 1 Tumor, 62.2ms\n",
            "Speed: 0.5ms pre-process, 62.2ms inference, 1.5ms postprocess per image at shape (1, 3, 640, 640)\n",
            "Ultralytics YOLOv8.0.28 🚀 Python-3.10.12 torch-2.1.0+cu121 CUDA:0 (Tesla T4, 15102MiB)\n"
          ]
        },
        {
          "output_type": "stream",
          "name": "stdout",
          "text": [
            "/content/drive/MyDrive/CsiLab-BrainTumor-Detection-3/valid/images/23_jpg.rf.c5b16fc63993c1952d192920ed3cce8f.jpg\n"
          ]
        },
        {
          "output_type": "stream",
          "name": "stderr",
          "text": [
            "Model summary (fused): 168 layers, 11125971 parameters, 0 gradients, 28.4 GFLOPs\n",
            "\n",
            "image 1/1 /content/drive/MyDrive/CsiLab-BrainTumor-Detection-3/valid/images/23_jpg.rf.c5b16fc63993c1952d192920ed3cce8f.jpg: 640x640 1 Tumor, 16.2ms\n",
            "Speed: 0.6ms pre-process, 16.2ms inference, 1.5ms postprocess per image at shape (1, 3, 640, 640)\n",
            "Ultralytics YOLOv8.0.28 🚀 Python-3.10.12 torch-2.1.0+cu121 CUDA:0 (Tesla T4, 15102MiB)\n"
          ]
        },
        {
          "output_type": "stream",
          "name": "stdout",
          "text": [
            "[    0.68527     0.42411     0.14732     0.16964]\n"
          ]
        },
        {
          "output_type": "stream",
          "name": "stderr",
          "text": [
            "Model summary (fused): 218 layers, 25840339 parameters, 0 gradients, 78.7 GFLOPs\n",
            "\n",
            "image 1/1 /content/drive/MyDrive/CsiLab-BrainTumor-Detection-3/valid/images/23_jpg.rf.c5b16fc63993c1952d192920ed3cce8f.jpg: 640x640 1 Tumor, 58.5ms\n",
            "Speed: 0.5ms pre-process, 58.5ms inference, 1.8ms postprocess per image at shape (1, 3, 640, 640)\n",
            "Ultralytics YOLOv8.0.28 🚀 Python-3.10.12 torch-2.1.0+cu121 CUDA:0 (Tesla T4, 15102MiB)\n",
            "Model summary (fused): 168 layers, 3005843 parameters, 0 gradients, 8.1 GFLOPs\n",
            "\n",
            "image 1/1 /content/drive/MyDrive/CsiLab-BrainTumor-Detection-3/valid/images/23_jpg.rf.c5b16fc63993c1952d192920ed3cce8f.jpg: 640x640 1 Tumor, 20.9ms\n",
            "Speed: 0.6ms pre-process, 20.9ms inference, 2.0ms postprocess per image at shape (1, 3, 640, 640)\n",
            "Ultralytics YOLOv8.0.28 🚀 Python-3.10.12 torch-2.1.0+cu121 CUDA:0 (Tesla T4, 15102MiB)\n",
            "Model summary (fused): 268 layers, 43607379 parameters, 0 gradients, 164.8 GFLOPs\n",
            "\n",
            "image 1/1 /content/drive/MyDrive/CsiLab-BrainTumor-Detection-3/valid/images/23_jpg.rf.c5b16fc63993c1952d192920ed3cce8f.jpg: 640x640 1 Tumor, 63.0ms\n",
            "Speed: 0.5ms pre-process, 63.0ms inference, 2.0ms postprocess per image at shape (1, 3, 640, 640)\n",
            "Ultralytics YOLOv8.0.28 🚀 Python-3.10.12 torch-2.1.0+cu121 CUDA:0 (Tesla T4, 15102MiB)\n",
            "Model summary (fused): 268 layers, 68124531 parameters, 0 gradients, 257.4 GFLOPs\n",
            "\n",
            "image 1/1 /content/drive/MyDrive/CsiLab-BrainTumor-Detection-3/valid/images/23_jpg.rf.c5b16fc63993c1952d192920ed3cce8f.jpg: 640x640 1 Tumor, 70.6ms\n",
            "Speed: 0.5ms pre-process, 70.6ms inference, 1.5ms postprocess per image at shape (1, 3, 640, 640)\n"
          ]
        },
        {
          "output_type": "stream",
          "name": "stdout",
          "text": [
            "/content/drive/MyDrive/CsiLab-BrainTumor-Detection-3/valid/images/15_jpg.rf.55da90e6aeb58c8f1631fe1c2b2ee21c.jpg\n"
          ]
        },
        {
          "output_type": "stream",
          "name": "stderr",
          "text": [
            "Ultralytics YOLOv8.0.28 🚀 Python-3.10.12 torch-2.1.0+cu121 CUDA:0 (Tesla T4, 15102MiB)\n",
            "Model summary (fused): 168 layers, 11125971 parameters, 0 gradients, 28.4 GFLOPs\n",
            "\n",
            "image 1/1 /content/drive/MyDrive/CsiLab-BrainTumor-Detection-3/valid/images/15_jpg.rf.55da90e6aeb58c8f1631fe1c2b2ee21c.jpg: 640x640 1 Tumor, 15.8ms\n",
            "Speed: 0.5ms pre-process, 15.8ms inference, 1.4ms postprocess per image at shape (1, 3, 640, 640)\n",
            "Ultralytics YOLOv8.0.28 🚀 Python-3.10.12 torch-2.1.0+cu121 CUDA:0 (Tesla T4, 15102MiB)\n"
          ]
        },
        {
          "output_type": "stream",
          "name": "stdout",
          "text": [
            "[     0.4308     0.63616     0.58482     0.45982]\n"
          ]
        },
        {
          "output_type": "stream",
          "name": "stderr",
          "text": [
            "Model summary (fused): 218 layers, 25840339 parameters, 0 gradients, 78.7 GFLOPs\n",
            "\n",
            "image 1/1 /content/drive/MyDrive/CsiLab-BrainTumor-Detection-3/valid/images/15_jpg.rf.55da90e6aeb58c8f1631fe1c2b2ee21c.jpg: 640x640 1 Tumor, 23.9ms\n",
            "Speed: 0.5ms pre-process, 23.9ms inference, 1.4ms postprocess per image at shape (1, 3, 640, 640)\n",
            "Ultralytics YOLOv8.0.28 🚀 Python-3.10.12 torch-2.1.0+cu121 CUDA:0 (Tesla T4, 15102MiB)\n",
            "Model summary (fused): 168 layers, 3005843 parameters, 0 gradients, 8.1 GFLOPs\n",
            "\n",
            "image 1/1 /content/drive/MyDrive/CsiLab-BrainTumor-Detection-3/valid/images/15_jpg.rf.55da90e6aeb58c8f1631fe1c2b2ee21c.jpg: 640x640 1 Tumor, 16.0ms\n",
            "Speed: 0.5ms pre-process, 16.0ms inference, 1.5ms postprocess per image at shape (1, 3, 640, 640)\n",
            "Ultralytics YOLOv8.0.28 🚀 Python-3.10.12 torch-2.1.0+cu121 CUDA:0 (Tesla T4, 15102MiB)\n",
            "Model summary (fused): 268 layers, 43607379 parameters, 0 gradients, 164.8 GFLOPs\n",
            "\n",
            "image 1/1 /content/drive/MyDrive/CsiLab-BrainTumor-Detection-3/valid/images/15_jpg.rf.55da90e6aeb58c8f1631fe1c2b2ee21c.jpg: 640x640 1 Tumor, 62.9ms\n",
            "Speed: 0.5ms pre-process, 62.9ms inference, 1.5ms postprocess per image at shape (1, 3, 640, 640)\n",
            "Ultralytics YOLOv8.0.28 🚀 Python-3.10.12 torch-2.1.0+cu121 CUDA:0 (Tesla T4, 15102MiB)\n",
            "Model summary (fused): 268 layers, 68124531 parameters, 0 gradients, 257.4 GFLOPs\n",
            "\n",
            "image 1/1 /content/drive/MyDrive/CsiLab-BrainTumor-Detection-3/valid/images/15_jpg.rf.55da90e6aeb58c8f1631fe1c2b2ee21c.jpg: 640x640 1 Tumor, 63.4ms\n",
            "Speed: 0.5ms pre-process, 63.4ms inference, 1.7ms postprocess per image at shape (1, 3, 640, 640)\n",
            "Ultralytics YOLOv8.0.28 🚀 Python-3.10.12 torch-2.1.0+cu121 CUDA:0 (Tesla T4, 15102MiB)\n"
          ]
        },
        {
          "output_type": "stream",
          "name": "stdout",
          "text": [
            "/content/drive/MyDrive/CsiLab-BrainTumor-Detection-3/valid/images/Te-me_0092_jpg.rf.9b4a3b91782b2be9a75516010638e9a4.jpg\n"
          ]
        },
        {
          "output_type": "stream",
          "name": "stderr",
          "text": [
            "Model summary (fused): 168 layers, 11125971 parameters, 0 gradients, 28.4 GFLOPs\n",
            "\n",
            "image 1/1 /content/drive/MyDrive/CsiLab-BrainTumor-Detection-3/valid/images/Te-me_0092_jpg.rf.9b4a3b91782b2be9a75516010638e9a4.jpg: 640x512 1 Tumor, 16.6ms\n",
            "Speed: 0.5ms pre-process, 16.6ms inference, 1.4ms postprocess per image at shape (1, 3, 640, 640)\n",
            "Ultralytics YOLOv8.0.28 🚀 Python-3.10.12 torch-2.1.0+cu121 CUDA:0 (Tesla T4, 15102MiB)\n"
          ]
        },
        {
          "output_type": "stream",
          "name": "stdout",
          "text": [
            "[    0.72709     0.72756     0.21181     0.18269]\n"
          ]
        },
        {
          "output_type": "stream",
          "name": "stderr",
          "text": [
            "Model summary (fused): 218 layers, 25840339 parameters, 0 gradients, 78.7 GFLOPs\n",
            "\n",
            "image 1/1 /content/drive/MyDrive/CsiLab-BrainTumor-Detection-3/valid/images/Te-me_0092_jpg.rf.9b4a3b91782b2be9a75516010638e9a4.jpg: 640x512 1 Tumor, 26.0ms\n",
            "Speed: 0.4ms pre-process, 26.0ms inference, 1.6ms postprocess per image at shape (1, 3, 640, 640)\n",
            "Ultralytics YOLOv8.0.28 🚀 Python-3.10.12 torch-2.1.0+cu121 CUDA:0 (Tesla T4, 15102MiB)\n",
            "Model summary (fused): 168 layers, 3005843 parameters, 0 gradients, 8.1 GFLOPs\n",
            "\n",
            "image 1/1 /content/drive/MyDrive/CsiLab-BrainTumor-Detection-3/valid/images/Te-me_0092_jpg.rf.9b4a3b91782b2be9a75516010638e9a4.jpg: 640x512 1 Tumor, 16.6ms\n",
            "Speed: 0.4ms pre-process, 16.6ms inference, 1.4ms postprocess per image at shape (1, 3, 640, 640)\n",
            "Ultralytics YOLOv8.0.28 🚀 Python-3.10.12 torch-2.1.0+cu121 CUDA:0 (Tesla T4, 15102MiB)\n",
            "Model summary (fused): 268 layers, 43607379 parameters, 0 gradients, 164.8 GFLOPs\n",
            "\n",
            "image 1/1 /content/drive/MyDrive/CsiLab-BrainTumor-Detection-3/valid/images/Te-me_0092_jpg.rf.9b4a3b91782b2be9a75516010638e9a4.jpg: 640x512 1 Tumor, 42.0ms\n",
            "Speed: 0.5ms pre-process, 42.0ms inference, 1.4ms postprocess per image at shape (1, 3, 640, 640)\n",
            "Ultralytics YOLOv8.0.28 🚀 Python-3.10.12 torch-2.1.0+cu121 CUDA:0 (Tesla T4, 15102MiB)\n",
            "Model summary (fused): 268 layers, 68124531 parameters, 0 gradients, 257.4 GFLOPs\n",
            "\n",
            "image 1/1 /content/drive/MyDrive/CsiLab-BrainTumor-Detection-3/valid/images/Te-me_0092_jpg.rf.9b4a3b91782b2be9a75516010638e9a4.jpg: 640x512 1 Tumor, 52.0ms\n",
            "Speed: 0.5ms pre-process, 52.0ms inference, 1.4ms postprocess per image at shape (1, 3, 640, 640)\n",
            "Ultralytics YOLOv8.0.28 🚀 Python-3.10.12 torch-2.1.0+cu121 CUDA:0 (Tesla T4, 15102MiB)\n"
          ]
        },
        {
          "output_type": "stream",
          "name": "stdout",
          "text": [
            "/content/drive/MyDrive/CsiLab-BrainTumor-Detection-3/valid/images/7_jpg.rf.0c29d11f88e2b97ca6bb97b5a9d32c69.jpg\n"
          ]
        },
        {
          "output_type": "stream",
          "name": "stderr",
          "text": [
            "Model summary (fused): 168 layers, 11125971 parameters, 0 gradients, 28.4 GFLOPs\n",
            "\n",
            "image 1/1 /content/drive/MyDrive/CsiLab-BrainTumor-Detection-3/valid/images/7_jpg.rf.0c29d11f88e2b97ca6bb97b5a9d32c69.jpg: 640x640 1 Tumor, 18.8ms\n",
            "Speed: 0.5ms pre-process, 18.8ms inference, 1.6ms postprocess per image at shape (1, 3, 640, 640)\n",
            "Ultralytics YOLOv8.0.28 🚀 Python-3.10.12 torch-2.1.0+cu121 CUDA:0 (Tesla T4, 15102MiB)\n"
          ]
        },
        {
          "output_type": "stream",
          "name": "stdout",
          "text": [
            "[    0.71429     0.54464     0.20536     0.16071]\n"
          ]
        },
        {
          "output_type": "stream",
          "name": "stderr",
          "text": [
            "Model summary (fused): 218 layers, 25840339 parameters, 0 gradients, 78.7 GFLOPs\n",
            "\n",
            "image 1/1 /content/drive/MyDrive/CsiLab-BrainTumor-Detection-3/valid/images/7_jpg.rf.0c29d11f88e2b97ca6bb97b5a9d32c69.jpg: 640x640 1 Tumor, 20.8ms\n",
            "Speed: 0.5ms pre-process, 20.8ms inference, 1.5ms postprocess per image at shape (1, 3, 640, 640)\n",
            "Ultralytics YOLOv8.0.28 🚀 Python-3.10.12 torch-2.1.0+cu121 CUDA:0 (Tesla T4, 15102MiB)\n",
            "Model summary (fused): 168 layers, 3005843 parameters, 0 gradients, 8.1 GFLOPs\n",
            "\n",
            "image 1/1 /content/drive/MyDrive/CsiLab-BrainTumor-Detection-3/valid/images/7_jpg.rf.0c29d11f88e2b97ca6bb97b5a9d32c69.jpg: 640x640 1 Tumor, 16.3ms\n",
            "Speed: 0.5ms pre-process, 16.3ms inference, 1.4ms postprocess per image at shape (1, 3, 640, 640)\n",
            "Ultralytics YOLOv8.0.28 🚀 Python-3.10.12 torch-2.1.0+cu121 CUDA:0 (Tesla T4, 15102MiB)\n",
            "Model summary (fused): 268 layers, 43607379 parameters, 0 gradients, 164.8 GFLOPs\n",
            "\n",
            "image 1/1 /content/drive/MyDrive/CsiLab-BrainTumor-Detection-3/valid/images/7_jpg.rf.0c29d11f88e2b97ca6bb97b5a9d32c69.jpg: 640x640 1 Tumor, 54.7ms\n",
            "Speed: 0.5ms pre-process, 54.7ms inference, 2.2ms postprocess per image at shape (1, 3, 640, 640)\n",
            "Ultralytics YOLOv8.0.28 🚀 Python-3.10.12 torch-2.1.0+cu121 CUDA:0 (Tesla T4, 15102MiB)\n",
            "Model summary (fused): 268 layers, 68124531 parameters, 0 gradients, 257.4 GFLOPs\n",
            "\n",
            "image 1/1 /content/drive/MyDrive/CsiLab-BrainTumor-Detection-3/valid/images/7_jpg.rf.0c29d11f88e2b97ca6bb97b5a9d32c69.jpg: 640x640 1 Tumor, 71.5ms\n",
            "Speed: 0.5ms pre-process, 71.5ms inference, 1.9ms postprocess per image at shape (1, 3, 640, 640)\n",
            "Ultralytics YOLOv8.0.28 🚀 Python-3.10.12 torch-2.1.0+cu121 CUDA:0 (Tesla T4, 15102MiB)\n"
          ]
        },
        {
          "output_type": "stream",
          "name": "stdout",
          "text": [
            "/content/drive/MyDrive/CsiLab-BrainTumor-Detection-3/valid/images/Te-me_0057_jpg.rf.3a05c4fa761384d43a530863cad98fcb.jpg\n"
          ]
        },
        {
          "output_type": "stream",
          "name": "stderr",
          "text": [
            "Model summary (fused): 168 layers, 11125971 parameters, 0 gradients, 28.4 GFLOPs\n",
            "\n",
            "image 1/1 /content/drive/MyDrive/CsiLab-BrainTumor-Detection-3/valid/images/Te-me_0057_jpg.rf.3a05c4fa761384d43a530863cad98fcb.jpg: 640x576 1 Tumor, 20.2ms\n",
            "Speed: 0.5ms pre-process, 20.2ms inference, 1.8ms postprocess per image at shape (1, 3, 640, 640)\n"
          ]
        },
        {
          "output_type": "stream",
          "name": "stdout",
          "text": [
            "[    0.64224     0.21264      0.2931     0.22605]\n"
          ]
        },
        {
          "output_type": "stream",
          "name": "stderr",
          "text": [
            "Ultralytics YOLOv8.0.28 🚀 Python-3.10.12 torch-2.1.0+cu121 CUDA:0 (Tesla T4, 15102MiB)\n",
            "Model summary (fused): 218 layers, 25840339 parameters, 0 gradients, 78.7 GFLOPs\n",
            "\n",
            "image 1/1 /content/drive/MyDrive/CsiLab-BrainTumor-Detection-3/valid/images/Te-me_0057_jpg.rf.3a05c4fa761384d43a530863cad98fcb.jpg: 640x576 1 Tumor, 33.9ms\n",
            "Speed: 0.6ms pre-process, 33.9ms inference, 2.3ms postprocess per image at shape (1, 3, 640, 640)\n",
            "Ultralytics YOLOv8.0.28 🚀 Python-3.10.12 torch-2.1.0+cu121 CUDA:0 (Tesla T4, 15102MiB)\n",
            "Model summary (fused): 168 layers, 3005843 parameters, 0 gradients, 8.1 GFLOPs\n",
            "\n",
            "image 1/1 /content/drive/MyDrive/CsiLab-BrainTumor-Detection-3/valid/images/Te-me_0057_jpg.rf.3a05c4fa761384d43a530863cad98fcb.jpg: 640x576 1 Tumor, 27.7ms\n",
            "Speed: 0.6ms pre-process, 27.7ms inference, 4.8ms postprocess per image at shape (1, 3, 640, 640)\n",
            "Ultralytics YOLOv8.0.28 🚀 Python-3.10.12 torch-2.1.0+cu121 CUDA:0 (Tesla T4, 15102MiB)\n",
            "Model summary (fused): 268 layers, 43607379 parameters, 0 gradients, 164.8 GFLOPs\n",
            "\n",
            "image 1/1 /content/drive/MyDrive/CsiLab-BrainTumor-Detection-3/valid/images/Te-me_0057_jpg.rf.3a05c4fa761384d43a530863cad98fcb.jpg: 640x576 1 Tumor, 63.1ms\n",
            "Speed: 0.6ms pre-process, 63.1ms inference, 2.2ms postprocess per image at shape (1, 3, 640, 640)\n",
            "Ultralytics YOLOv8.0.28 🚀 Python-3.10.12 torch-2.1.0+cu121 CUDA:0 (Tesla T4, 15102MiB)\n",
            "Model summary (fused): 268 layers, 68124531 parameters, 0 gradients, 257.4 GFLOPs\n",
            "\n",
            "image 1/1 /content/drive/MyDrive/CsiLab-BrainTumor-Detection-3/valid/images/Te-me_0057_jpg.rf.3a05c4fa761384d43a530863cad98fcb.jpg: 640x576 1 Tumor, 64.0ms\n",
            "Speed: 0.5ms pre-process, 64.0ms inference, 1.4ms postprocess per image at shape (1, 3, 640, 640)\n",
            "Ultralytics YOLOv8.0.28 🚀 Python-3.10.12 torch-2.1.0+cu121 CUDA:0 (Tesla T4, 15102MiB)\n"
          ]
        },
        {
          "output_type": "stream",
          "name": "stdout",
          "text": [
            "/content/drive/MyDrive/CsiLab-BrainTumor-Detection-3/valid/images/Te-me_0046_jpg.rf.30e12a20e2fd5646f659bb44f1122b73.jpg\n"
          ]
        },
        {
          "output_type": "stream",
          "name": "stderr",
          "text": [
            "Model summary (fused): 168 layers, 11125971 parameters, 0 gradients, 28.4 GFLOPs\n",
            "\n",
            "image 1/1 /content/drive/MyDrive/CsiLab-BrainTumor-Detection-3/valid/images/Te-me_0046_jpg.rf.30e12a20e2fd5646f659bb44f1122b73.jpg: 640x608 1 Tumor, 17.8ms\n",
            "Speed: 0.5ms pre-process, 17.8ms inference, 1.4ms postprocess per image at shape (1, 3, 640, 640)\n",
            "Ultralytics YOLOv8.0.28 🚀 Python-3.10.12 torch-2.1.0+cu121 CUDA:0 (Tesla T4, 15102MiB)\n"
          ]
        },
        {
          "output_type": "stream",
          "name": "stdout",
          "text": [
            "[    0.48103     0.39114     0.16531     0.12911]\n"
          ]
        },
        {
          "output_type": "stream",
          "name": "stderr",
          "text": [
            "Model summary (fused): 218 layers, 25840339 parameters, 0 gradients, 78.7 GFLOPs\n",
            "\n",
            "image 1/1 /content/drive/MyDrive/CsiLab-BrainTumor-Detection-3/valid/images/Te-me_0046_jpg.rf.30e12a20e2fd5646f659bb44f1122b73.jpg: 640x608 1 Tumor, 20.7ms\n",
            "Speed: 0.5ms pre-process, 20.7ms inference, 1.4ms postprocess per image at shape (1, 3, 640, 640)\n",
            "Ultralytics YOLOv8.0.28 🚀 Python-3.10.12 torch-2.1.0+cu121 CUDA:0 (Tesla T4, 15102MiB)\n",
            "Model summary (fused): 168 layers, 3005843 parameters, 0 gradients, 8.1 GFLOPs\n",
            "\n",
            "image 1/1 /content/drive/MyDrive/CsiLab-BrainTumor-Detection-3/valid/images/Te-me_0046_jpg.rf.30e12a20e2fd5646f659bb44f1122b73.jpg: 640x608 1 Tumor, 16.2ms\n",
            "Speed: 0.5ms pre-process, 16.2ms inference, 1.4ms postprocess per image at shape (1, 3, 640, 640)\n",
            "Ultralytics YOLOv8.0.28 🚀 Python-3.10.12 torch-2.1.0+cu121 CUDA:0 (Tesla T4, 15102MiB)\n",
            "Model summary (fused): 268 layers, 43607379 parameters, 0 gradients, 164.8 GFLOPs\n",
            "\n",
            "image 1/1 /content/drive/MyDrive/CsiLab-BrainTumor-Detection-3/valid/images/Te-me_0046_jpg.rf.30e12a20e2fd5646f659bb44f1122b73.jpg: 640x608 53.7ms\n",
            "Speed: 0.5ms pre-process, 53.7ms inference, 0.6ms postprocess per image at shape (1, 3, 640, 640)\n",
            "Ultralytics YOLOv8.0.28 🚀 Python-3.10.12 torch-2.1.0+cu121 CUDA:0 (Tesla T4, 15102MiB)\n",
            "Model summary (fused): 268 layers, 68124531 parameters, 0 gradients, 257.4 GFLOPs\n",
            "\n",
            "image 1/1 /content/drive/MyDrive/CsiLab-BrainTumor-Detection-3/valid/images/Te-me_0046_jpg.rf.30e12a20e2fd5646f659bb44f1122b73.jpg: 640x608 1 Tumor, 61.5ms\n",
            "Speed: 0.5ms pre-process, 61.5ms inference, 1.4ms postprocess per image at shape (1, 3, 640, 640)\n",
            "Ultralytics YOLOv8.0.28 🚀 Python-3.10.12 torch-2.1.0+cu121 CUDA:0 (Tesla T4, 15102MiB)\n"
          ]
        },
        {
          "output_type": "stream",
          "name": "stdout",
          "text": [
            "/content/drive/MyDrive/CsiLab-BrainTumor-Detection-3/valid/images/Te-me_0166_jpg.rf.a33fa56673d670e662c0e7a8bd52a7cf.jpg\n"
          ]
        },
        {
          "output_type": "stream",
          "name": "stderr",
          "text": [
            "Model summary (fused): 168 layers, 11125971 parameters, 0 gradients, 28.4 GFLOPs\n",
            "\n",
            "image 1/1 /content/drive/MyDrive/CsiLab-BrainTumor-Detection-3/valid/images/Te-me_0166_jpg.rf.a33fa56673d670e662c0e7a8bd52a7cf.jpg: 640x640 1 Tumor, 15.8ms\n",
            "Speed: 0.5ms pre-process, 15.8ms inference, 1.4ms postprocess per image at shape (1, 3, 640, 640)\n",
            "Ultralytics YOLOv8.0.28 🚀 Python-3.10.12 torch-2.1.0+cu121 CUDA:0 (Tesla T4, 15102MiB)\n"
          ]
        },
        {
          "output_type": "stream",
          "name": "stdout",
          "text": [
            "[    0.39941     0.59863     0.13477     0.13477]\n"
          ]
        },
        {
          "output_type": "stream",
          "name": "stderr",
          "text": [
            "Model summary (fused): 218 layers, 25840339 parameters, 0 gradients, 78.7 GFLOPs\n",
            "\n",
            "image 1/1 /content/drive/MyDrive/CsiLab-BrainTumor-Detection-3/valid/images/Te-me_0166_jpg.rf.a33fa56673d670e662c0e7a8bd52a7cf.jpg: 640x640 1 Tumor, 20.0ms\n",
            "Speed: 0.5ms pre-process, 20.0ms inference, 1.4ms postprocess per image at shape (1, 3, 640, 640)\n",
            "Ultralytics YOLOv8.0.28 🚀 Python-3.10.12 torch-2.1.0+cu121 CUDA:0 (Tesla T4, 15102MiB)\n",
            "Model summary (fused): 168 layers, 3005843 parameters, 0 gradients, 8.1 GFLOPs\n",
            "\n",
            "image 1/1 /content/drive/MyDrive/CsiLab-BrainTumor-Detection-3/valid/images/Te-me_0166_jpg.rf.a33fa56673d670e662c0e7a8bd52a7cf.jpg: 640x640 1 Tumor, 16.4ms\n",
            "Speed: 0.5ms pre-process, 16.4ms inference, 1.4ms postprocess per image at shape (1, 3, 640, 640)\n",
            "Ultralytics YOLOv8.0.28 🚀 Python-3.10.12 torch-2.1.0+cu121 CUDA:0 (Tesla T4, 15102MiB)\n",
            "Model summary (fused): 268 layers, 43607379 parameters, 0 gradients, 164.8 GFLOPs\n",
            "\n",
            "image 1/1 /content/drive/MyDrive/CsiLab-BrainTumor-Detection-3/valid/images/Te-me_0166_jpg.rf.a33fa56673d670e662c0e7a8bd52a7cf.jpg: 640x640 1 Tumor, 54.9ms\n",
            "Speed: 0.5ms pre-process, 54.9ms inference, 1.7ms postprocess per image at shape (1, 3, 640, 640)\n",
            "Ultralytics YOLOv8.0.28 🚀 Python-3.10.12 torch-2.1.0+cu121 CUDA:0 (Tesla T4, 15102MiB)\n",
            "Model summary (fused): 268 layers, 68124531 parameters, 0 gradients, 257.4 GFLOPs\n",
            "\n",
            "image 1/1 /content/drive/MyDrive/CsiLab-BrainTumor-Detection-3/valid/images/Te-me_0166_jpg.rf.a33fa56673d670e662c0e7a8bd52a7cf.jpg: 640x640 1 Tumor, 97.0ms\n",
            "Speed: 0.5ms pre-process, 97.0ms inference, 1.5ms postprocess per image at shape (1, 3, 640, 640)\n",
            "Ultralytics YOLOv8.0.28 🚀 Python-3.10.12 torch-2.1.0+cu121 CUDA:0 (Tesla T4, 15102MiB)\n"
          ]
        },
        {
          "output_type": "stream",
          "name": "stdout",
          "text": [
            "/content/drive/MyDrive/CsiLab-BrainTumor-Detection-3/valid/images/Te-me_0162_jpg.rf.aac4a9a6215279555df66d07ee54c975.jpg\n"
          ]
        },
        {
          "output_type": "stream",
          "name": "stderr",
          "text": [
            "Model summary (fused): 168 layers, 11125971 parameters, 0 gradients, 28.4 GFLOPs\n",
            "\n",
            "image 1/1 /content/drive/MyDrive/CsiLab-BrainTumor-Detection-3/valid/images/Te-me_0162_jpg.rf.aac4a9a6215279555df66d07ee54c975.jpg: 640x640 16.7ms\n",
            "Speed: 0.5ms pre-process, 16.7ms inference, 0.5ms postprocess per image at shape (1, 3, 640, 640)\n",
            "Ultralytics YOLOv8.0.28 🚀 Python-3.10.12 torch-2.1.0+cu121 CUDA:0 (Tesla T4, 15102MiB)\n"
          ]
        },
        {
          "output_type": "stream",
          "name": "stdout",
          "text": [
            "[0, 0, 0, 0]\n"
          ]
        },
        {
          "output_type": "stream",
          "name": "stderr",
          "text": [
            "Model summary (fused): 218 layers, 25840339 parameters, 0 gradients, 78.7 GFLOPs\n",
            "\n",
            "image 1/1 /content/drive/MyDrive/CsiLab-BrainTumor-Detection-3/valid/images/Te-me_0162_jpg.rf.aac4a9a6215279555df66d07ee54c975.jpg: 640x640 1 Tumor, 23.8ms\n",
            "Speed: 0.6ms pre-process, 23.8ms inference, 1.7ms postprocess per image at shape (1, 3, 640, 640)\n",
            "Ultralytics YOLOv8.0.28 🚀 Python-3.10.12 torch-2.1.0+cu121 CUDA:0 (Tesla T4, 15102MiB)\n",
            "Model summary (fused): 168 layers, 3005843 parameters, 0 gradients, 8.1 GFLOPs\n",
            "\n",
            "image 1/1 /content/drive/MyDrive/CsiLab-BrainTumor-Detection-3/valid/images/Te-me_0162_jpg.rf.aac4a9a6215279555df66d07ee54c975.jpg: 640x640 1 Tumor, 24.1ms\n",
            "Speed: 5.5ms pre-process, 24.1ms inference, 1.7ms postprocess per image at shape (1, 3, 640, 640)\n",
            "Ultralytics YOLOv8.0.28 🚀 Python-3.10.12 torch-2.1.0+cu121 CUDA:0 (Tesla T4, 15102MiB)\n",
            "Model summary (fused): 268 layers, 43607379 parameters, 0 gradients, 164.8 GFLOPs\n",
            "\n",
            "image 1/1 /content/drive/MyDrive/CsiLab-BrainTumor-Detection-3/valid/images/Te-me_0162_jpg.rf.aac4a9a6215279555df66d07ee54c975.jpg: 640x640 1 Tumor, 89.3ms\n",
            "Speed: 0.6ms pre-process, 89.3ms inference, 1.8ms postprocess per image at shape (1, 3, 640, 640)\n",
            "Ultralytics YOLOv8.0.28 🚀 Python-3.10.12 torch-2.1.0+cu121 CUDA:0 (Tesla T4, 15102MiB)\n",
            "Model summary (fused): 268 layers, 68124531 parameters, 0 gradients, 257.4 GFLOPs\n",
            "\n",
            "image 1/1 /content/drive/MyDrive/CsiLab-BrainTumor-Detection-3/valid/images/Te-me_0162_jpg.rf.aac4a9a6215279555df66d07ee54c975.jpg: 640x640 1 Tumor, 66.9ms\n",
            "Speed: 0.5ms pre-process, 66.9ms inference, 1.8ms postprocess per image at shape (1, 3, 640, 640)\n",
            "Ultralytics YOLOv8.0.28 🚀 Python-3.10.12 torch-2.1.0+cu121 CUDA:0 (Tesla T4, 15102MiB)\n"
          ]
        },
        {
          "output_type": "stream",
          "name": "stdout",
          "text": [
            "/content/drive/MyDrive/CsiLab-BrainTumor-Detection-3/valid/images/Te-me_0137_jpg.rf.4f942d9e9ec8038441115729e3e5cf13.jpg\n"
          ]
        },
        {
          "output_type": "stream",
          "name": "stderr",
          "text": [
            "Model summary (fused): 168 layers, 11125971 parameters, 0 gradients, 28.4 GFLOPs\n",
            "\n",
            "image 1/1 /content/drive/MyDrive/CsiLab-BrainTumor-Detection-3/valid/images/Te-me_0137_jpg.rf.4f942d9e9ec8038441115729e3e5cf13.jpg: 640x640 1 Tumor, 27.4ms\n",
            "Speed: 0.6ms pre-process, 27.4ms inference, 1.6ms postprocess per image at shape (1, 3, 640, 640)\n",
            "Ultralytics YOLOv8.0.28 🚀 Python-3.10.12 torch-2.1.0+cu121 CUDA:0 (Tesla T4, 15102MiB)\n"
          ]
        },
        {
          "output_type": "stream",
          "name": "stdout",
          "text": [
            "[    0.42969      0.7334     0.17578     0.13086]\n"
          ]
        },
        {
          "output_type": "stream",
          "name": "stderr",
          "text": [
            "Model summary (fused): 218 layers, 25840339 parameters, 0 gradients, 78.7 GFLOPs\n",
            "\n",
            "image 1/1 /content/drive/MyDrive/CsiLab-BrainTumor-Detection-3/valid/images/Te-me_0137_jpg.rf.4f942d9e9ec8038441115729e3e5cf13.jpg: 640x640 1 Tumor, 20.1ms\n",
            "Speed: 0.7ms pre-process, 20.1ms inference, 1.5ms postprocess per image at shape (1, 3, 640, 640)\n",
            "Ultralytics YOLOv8.0.28 🚀 Python-3.10.12 torch-2.1.0+cu121 CUDA:0 (Tesla T4, 15102MiB)\n",
            "Model summary (fused): 168 layers, 3005843 parameters, 0 gradients, 8.1 GFLOPs\n",
            "\n",
            "image 1/1 /content/drive/MyDrive/CsiLab-BrainTumor-Detection-3/valid/images/Te-me_0137_jpg.rf.4f942d9e9ec8038441115729e3e5cf13.jpg: 640x640 1 Tumor, 25.5ms\n",
            "Speed: 0.6ms pre-process, 25.5ms inference, 2.2ms postprocess per image at shape (1, 3, 640, 640)\n",
            "Ultralytics YOLOv8.0.28 🚀 Python-3.10.12 torch-2.1.0+cu121 CUDA:0 (Tesla T4, 15102MiB)\n",
            "Model summary (fused): 268 layers, 43607379 parameters, 0 gradients, 164.8 GFLOPs\n",
            "\n",
            "image 1/1 /content/drive/MyDrive/CsiLab-BrainTumor-Detection-3/valid/images/Te-me_0137_jpg.rf.4f942d9e9ec8038441115729e3e5cf13.jpg: 640x640 1 Tumor, 62.9ms\n",
            "Speed: 0.5ms pre-process, 62.9ms inference, 1.5ms postprocess per image at shape (1, 3, 640, 640)\n",
            "Ultralytics YOLOv8.0.28 🚀 Python-3.10.12 torch-2.1.0+cu121 CUDA:0 (Tesla T4, 15102MiB)\n",
            "Model summary (fused): 268 layers, 68124531 parameters, 0 gradients, 257.4 GFLOPs\n",
            "\n",
            "image 1/1 /content/drive/MyDrive/CsiLab-BrainTumor-Detection-3/valid/images/Te-me_0137_jpg.rf.4f942d9e9ec8038441115729e3e5cf13.jpg: 640x640 1 Tumor, 74.6ms\n",
            "Speed: 0.5ms pre-process, 74.6ms inference, 1.8ms postprocess per image at shape (1, 3, 640, 640)\n",
            "Ultralytics YOLOv8.0.28 🚀 Python-3.10.12 torch-2.1.0+cu121 CUDA:0 (Tesla T4, 15102MiB)\n"
          ]
        },
        {
          "output_type": "stream",
          "name": "stdout",
          "text": [
            "/content/drive/MyDrive/CsiLab-BrainTumor-Detection-3/valid/images/Te-me_0155_jpg.rf.558e249e415b6dba9d73785f924aa584.jpg\n"
          ]
        },
        {
          "output_type": "stream",
          "name": "stderr",
          "text": [
            "Model summary (fused): 168 layers, 11125971 parameters, 0 gradients, 28.4 GFLOPs\n",
            "\n",
            "image 1/1 /content/drive/MyDrive/CsiLab-BrainTumor-Detection-3/valid/images/Te-me_0155_jpg.rf.558e249e415b6dba9d73785f924aa584.jpg: 640x640 1 Tumor, 16.4ms\n",
            "Speed: 0.5ms pre-process, 16.4ms inference, 1.4ms postprocess per image at shape (1, 3, 640, 640)\n",
            "Ultralytics YOLOv8.0.28 🚀 Python-3.10.12 torch-2.1.0+cu121 CUDA:0 (Tesla T4, 15102MiB)\n"
          ]
        },
        {
          "output_type": "stream",
          "name": "stdout",
          "text": [
            "[    0.45703     0.33496     0.16797     0.19336]\n"
          ]
        },
        {
          "output_type": "stream",
          "name": "stderr",
          "text": [
            "Model summary (fused): 218 layers, 25840339 parameters, 0 gradients, 78.7 GFLOPs\n",
            "\n",
            "image 1/1 /content/drive/MyDrive/CsiLab-BrainTumor-Detection-3/valid/images/Te-me_0155_jpg.rf.558e249e415b6dba9d73785f924aa584.jpg: 640x640 1 Tumor, 29.2ms\n",
            "Speed: 0.6ms pre-process, 29.2ms inference, 2.0ms postprocess per image at shape (1, 3, 640, 640)\n",
            "Ultralytics YOLOv8.0.28 🚀 Python-3.10.12 torch-2.1.0+cu121 CUDA:0 (Tesla T4, 15102MiB)\n",
            "Model summary (fused): 168 layers, 3005843 parameters, 0 gradients, 8.1 GFLOPs\n",
            "\n",
            "image 1/1 /content/drive/MyDrive/CsiLab-BrainTumor-Detection-3/valid/images/Te-me_0155_jpg.rf.558e249e415b6dba9d73785f924aa584.jpg: 640x640 1 Tumor, 15.6ms\n",
            "Speed: 0.5ms pre-process, 15.6ms inference, 1.4ms postprocess per image at shape (1, 3, 640, 640)\n",
            "Ultralytics YOLOv8.0.28 🚀 Python-3.10.12 torch-2.1.0+cu121 CUDA:0 (Tesla T4, 15102MiB)\n",
            "Model summary (fused): 268 layers, 43607379 parameters, 0 gradients, 164.8 GFLOPs\n",
            "\n",
            "image 1/1 /content/drive/MyDrive/CsiLab-BrainTumor-Detection-3/valid/images/Te-me_0155_jpg.rf.558e249e415b6dba9d73785f924aa584.jpg: 640x640 1 Tumor, 60.3ms\n",
            "Speed: 0.5ms pre-process, 60.3ms inference, 1.4ms postprocess per image at shape (1, 3, 640, 640)\n",
            "Ultralytics YOLOv8.0.28 🚀 Python-3.10.12 torch-2.1.0+cu121 CUDA:0 (Tesla T4, 15102MiB)\n",
            "Model summary (fused): 268 layers, 68124531 parameters, 0 gradients, 257.4 GFLOPs\n",
            "\n",
            "image 1/1 /content/drive/MyDrive/CsiLab-BrainTumor-Detection-3/valid/images/Te-me_0155_jpg.rf.558e249e415b6dba9d73785f924aa584.jpg: 640x640 1 Tumor, 73.6ms\n",
            "Speed: 0.5ms pre-process, 73.6ms inference, 1.4ms postprocess per image at shape (1, 3, 640, 640)\n",
            "Ultralytics YOLOv8.0.28 🚀 Python-3.10.12 torch-2.1.0+cu121 CUDA:0 (Tesla T4, 15102MiB)\n"
          ]
        },
        {
          "output_type": "stream",
          "name": "stdout",
          "text": [
            "/content/drive/MyDrive/CsiLab-BrainTumor-Detection-3/valid/images/Te-me_0128_jpg.rf.ae7e1c6a380c00bbe4e1bef620e28556.jpg\n"
          ]
        },
        {
          "output_type": "stream",
          "name": "stderr",
          "text": [
            "Model summary (fused): 168 layers, 11125971 parameters, 0 gradients, 28.4 GFLOPs\n",
            "\n",
            "image 1/1 /content/drive/MyDrive/CsiLab-BrainTumor-Detection-3/valid/images/Te-me_0128_jpg.rf.ae7e1c6a380c00bbe4e1bef620e28556.jpg: 640x640 1 Tumor, 15.8ms\n",
            "Speed: 0.5ms pre-process, 15.8ms inference, 1.5ms postprocess per image at shape (1, 3, 640, 640)\n",
            "Ultralytics YOLOv8.0.28 🚀 Python-3.10.12 torch-2.1.0+cu121 CUDA:0 (Tesla T4, 15102MiB)\n"
          ]
        },
        {
          "output_type": "stream",
          "name": "stdout",
          "text": [
            "[    0.36621     0.65918     0.12305     0.11523]\n"
          ]
        },
        {
          "output_type": "stream",
          "name": "stderr",
          "text": [
            "Model summary (fused): 218 layers, 25840339 parameters, 0 gradients, 78.7 GFLOPs\n",
            "\n",
            "image 1/1 /content/drive/MyDrive/CsiLab-BrainTumor-Detection-3/valid/images/Te-me_0128_jpg.rf.ae7e1c6a380c00bbe4e1bef620e28556.jpg: 640x640 1 Tumor, 29.1ms\n",
            "Speed: 0.5ms pre-process, 29.1ms inference, 2.2ms postprocess per image at shape (1, 3, 640, 640)\n",
            "Ultralytics YOLOv8.0.28 🚀 Python-3.10.12 torch-2.1.0+cu121 CUDA:0 (Tesla T4, 15102MiB)\n",
            "Model summary (fused): 168 layers, 3005843 parameters, 0 gradients, 8.1 GFLOPs\n",
            "\n",
            "image 1/1 /content/drive/MyDrive/CsiLab-BrainTumor-Detection-3/valid/images/Te-me_0128_jpg.rf.ae7e1c6a380c00bbe4e1bef620e28556.jpg: 640x640 1 Tumor, 15.5ms\n",
            "Speed: 0.5ms pre-process, 15.5ms inference, 1.4ms postprocess per image at shape (1, 3, 640, 640)\n",
            "Ultralytics YOLOv8.0.28 🚀 Python-3.10.12 torch-2.1.0+cu121 CUDA:0 (Tesla T4, 15102MiB)\n",
            "Model summary (fused): 268 layers, 43607379 parameters, 0 gradients, 164.8 GFLOPs\n",
            "\n",
            "image 1/1 /content/drive/MyDrive/CsiLab-BrainTumor-Detection-3/valid/images/Te-me_0128_jpg.rf.ae7e1c6a380c00bbe4e1bef620e28556.jpg: 640x640 1 Tumor, 56.7ms\n",
            "Speed: 0.5ms pre-process, 56.7ms inference, 1.5ms postprocess per image at shape (1, 3, 640, 640)\n",
            "Ultralytics YOLOv8.0.28 🚀 Python-3.10.12 torch-2.1.0+cu121 CUDA:0 (Tesla T4, 15102MiB)\n",
            "Model summary (fused): 268 layers, 68124531 parameters, 0 gradients, 257.4 GFLOPs\n",
            "\n",
            "image 1/1 /content/drive/MyDrive/CsiLab-BrainTumor-Detection-3/valid/images/Te-me_0128_jpg.rf.ae7e1c6a380c00bbe4e1bef620e28556.jpg: 640x640 1 Tumor, 61.7ms\n",
            "Speed: 0.6ms pre-process, 61.7ms inference, 1.9ms postprocess per image at shape (1, 3, 640, 640)\n",
            "Ultralytics YOLOv8.0.28 🚀 Python-3.10.12 torch-2.1.0+cu121 CUDA:0 (Tesla T4, 15102MiB)\n"
          ]
        },
        {
          "output_type": "stream",
          "name": "stdout",
          "text": [
            "/content/drive/MyDrive/CsiLab-BrainTumor-Detection-3/valid/images/72_jpg.rf.bab0e40c6ab439f9ea28e4850e6327e8.jpg\n"
          ]
        },
        {
          "output_type": "stream",
          "name": "stderr",
          "text": [
            "Model summary (fused): 168 layers, 11125971 parameters, 0 gradients, 28.4 GFLOPs\n",
            "\n",
            "image 1/1 /content/drive/MyDrive/CsiLab-BrainTumor-Detection-3/valid/images/72_jpg.rf.bab0e40c6ab439f9ea28e4850e6327e8.jpg: 640x640 1 Tumor, 59.8ms\n",
            "Speed: 0.6ms pre-process, 59.8ms inference, 1.9ms postprocess per image at shape (1, 3, 640, 640)\n"
          ]
        },
        {
          "output_type": "stream",
          "name": "stdout",
          "text": [
            "[    0.73214     0.45312     0.15179     0.12946]\n"
          ]
        },
        {
          "output_type": "stream",
          "name": "stderr",
          "text": [
            "Ultralytics YOLOv8.0.28 🚀 Python-3.10.12 torch-2.1.0+cu121 CUDA:0 (Tesla T4, 15102MiB)\n",
            "Model summary (fused): 218 layers, 25840339 parameters, 0 gradients, 78.7 GFLOPs\n",
            "\n",
            "image 1/1 /content/drive/MyDrive/CsiLab-BrainTumor-Detection-3/valid/images/72_jpg.rf.bab0e40c6ab439f9ea28e4850e6327e8.jpg: 640x640 1 Tumor, 23.5ms\n",
            "Speed: 0.5ms pre-process, 23.5ms inference, 1.7ms postprocess per image at shape (1, 3, 640, 640)\n",
            "Ultralytics YOLOv8.0.28 🚀 Python-3.10.12 torch-2.1.0+cu121 CUDA:0 (Tesla T4, 15102MiB)\n",
            "Model summary (fused): 168 layers, 3005843 parameters, 0 gradients, 8.1 GFLOPs\n",
            "\n",
            "image 1/1 /content/drive/MyDrive/CsiLab-BrainTumor-Detection-3/valid/images/72_jpg.rf.bab0e40c6ab439f9ea28e4850e6327e8.jpg: 640x640 1 Tumor, 21.2ms\n",
            "Speed: 0.5ms pre-process, 21.2ms inference, 1.9ms postprocess per image at shape (1, 3, 640, 640)\n",
            "Ultralytics YOLOv8.0.28 🚀 Python-3.10.12 torch-2.1.0+cu121 CUDA:0 (Tesla T4, 15102MiB)\n",
            "Model summary (fused): 268 layers, 43607379 parameters, 0 gradients, 164.8 GFLOPs\n",
            "\n",
            "image 1/1 /content/drive/MyDrive/CsiLab-BrainTumor-Detection-3/valid/images/72_jpg.rf.bab0e40c6ab439f9ea28e4850e6327e8.jpg: 640x640 1 Tumor, 62.9ms\n",
            "Speed: 0.5ms pre-process, 62.9ms inference, 1.4ms postprocess per image at shape (1, 3, 640, 640)\n",
            "Ultralytics YOLOv8.0.28 🚀 Python-3.10.12 torch-2.1.0+cu121 CUDA:0 (Tesla T4, 15102MiB)\n",
            "Model summary (fused): 268 layers, 68124531 parameters, 0 gradients, 257.4 GFLOPs\n",
            "\n",
            "image 1/1 /content/drive/MyDrive/CsiLab-BrainTumor-Detection-3/valid/images/72_jpg.rf.bab0e40c6ab439f9ea28e4850e6327e8.jpg: 640x640 1 Tumor, 69.0ms\n",
            "Speed: 0.6ms pre-process, 69.0ms inference, 2.1ms postprocess per image at shape (1, 3, 640, 640)\n"
          ]
        },
        {
          "output_type": "stream",
          "name": "stdout",
          "text": [
            "/content/drive/MyDrive/CsiLab-BrainTumor-Detection-3/valid/images/55_jpg.rf.1d42ae18e1e7fd4163a3b52452519269.jpg\n"
          ]
        },
        {
          "output_type": "stream",
          "name": "stderr",
          "text": [
            "Ultralytics YOLOv8.0.28 🚀 Python-3.10.12 torch-2.1.0+cu121 CUDA:0 (Tesla T4, 15102MiB)\n",
            "Model summary (fused): 168 layers, 11125971 parameters, 0 gradients, 28.4 GFLOPs\n",
            "\n",
            "image 1/1 /content/drive/MyDrive/CsiLab-BrainTumor-Detection-3/valid/images/55_jpg.rf.1d42ae18e1e7fd4163a3b52452519269.jpg: 640x640 1 Tumor, 15.6ms\n",
            "Speed: 0.5ms pre-process, 15.6ms inference, 1.4ms postprocess per image at shape (1, 3, 640, 640)\n",
            "Ultralytics YOLOv8.0.28 🚀 Python-3.10.12 torch-2.1.0+cu121 CUDA:0 (Tesla T4, 15102MiB)\n"
          ]
        },
        {
          "output_type": "stream",
          "name": "stdout",
          "text": [
            "[    0.60938     0.30134     0.17411     0.16518]\n"
          ]
        },
        {
          "output_type": "stream",
          "name": "stderr",
          "text": [
            "Model summary (fused): 218 layers, 25840339 parameters, 0 gradients, 78.7 GFLOPs\n",
            "\n",
            "image 1/1 /content/drive/MyDrive/CsiLab-BrainTumor-Detection-3/valid/images/55_jpg.rf.1d42ae18e1e7fd4163a3b52452519269.jpg: 640x640 1 Tumor, 20.2ms\n",
            "Speed: 0.5ms pre-process, 20.2ms inference, 1.4ms postprocess per image at shape (1, 3, 640, 640)\n",
            "Ultralytics YOLOv8.0.28 🚀 Python-3.10.12 torch-2.1.0+cu121 CUDA:0 (Tesla T4, 15102MiB)\n",
            "Model summary (fused): 168 layers, 3005843 parameters, 0 gradients, 8.1 GFLOPs\n",
            "\n",
            "image 1/1 /content/drive/MyDrive/CsiLab-BrainTumor-Detection-3/valid/images/55_jpg.rf.1d42ae18e1e7fd4163a3b52452519269.jpg: 640x640 1 Tumor, 16.7ms\n",
            "Speed: 0.5ms pre-process, 16.7ms inference, 1.4ms postprocess per image at shape (1, 3, 640, 640)\n",
            "Ultralytics YOLOv8.0.28 🚀 Python-3.10.12 torch-2.1.0+cu121 CUDA:0 (Tesla T4, 15102MiB)\n",
            "Model summary (fused): 268 layers, 43607379 parameters, 0 gradients, 164.8 GFLOPs\n",
            "\n",
            "image 1/1 /content/drive/MyDrive/CsiLab-BrainTumor-Detection-3/valid/images/55_jpg.rf.1d42ae18e1e7fd4163a3b52452519269.jpg: 640x640 1 Tumor, 55.7ms\n",
            "Speed: 0.6ms pre-process, 55.7ms inference, 1.5ms postprocess per image at shape (1, 3, 640, 640)\n",
            "Ultralytics YOLOv8.0.28 🚀 Python-3.10.12 torch-2.1.0+cu121 CUDA:0 (Tesla T4, 15102MiB)\n",
            "Model summary (fused): 268 layers, 68124531 parameters, 0 gradients, 257.4 GFLOPs\n",
            "\n",
            "image 1/1 /content/drive/MyDrive/CsiLab-BrainTumor-Detection-3/valid/images/55_jpg.rf.1d42ae18e1e7fd4163a3b52452519269.jpg: 640x640 1 Tumor, 62.6ms\n",
            "Speed: 0.6ms pre-process, 62.6ms inference, 1.7ms postprocess per image at shape (1, 3, 640, 640)\n",
            "Ultralytics YOLOv8.0.28 🚀 Python-3.10.12 torch-2.1.0+cu121 CUDA:0 (Tesla T4, 15102MiB)\n"
          ]
        },
        {
          "output_type": "stream",
          "name": "stdout",
          "text": [
            "/content/drive/MyDrive/CsiLab-BrainTumor-Detection-3/valid/images/22_jpg.rf.de2f0c0005be3914eb74e2cc98f4c5df.jpg\n"
          ]
        },
        {
          "output_type": "stream",
          "name": "stderr",
          "text": [
            "Model summary (fused): 168 layers, 11125971 parameters, 0 gradients, 28.4 GFLOPs\n",
            "\n",
            "image 1/1 /content/drive/MyDrive/CsiLab-BrainTumor-Detection-3/valid/images/22_jpg.rf.de2f0c0005be3914eb74e2cc98f4c5df.jpg: 640x640 1 Tumor, 15.6ms\n",
            "Speed: 0.5ms pre-process, 15.6ms inference, 1.4ms postprocess per image at shape (1, 3, 640, 640)\n",
            "Ultralytics YOLOv8.0.28 🚀 Python-3.10.12 torch-2.1.0+cu121 CUDA:0 (Tesla T4, 15102MiB)\n"
          ]
        },
        {
          "output_type": "stream",
          "name": "stdout",
          "text": [
            "[    0.35268     0.29464      0.3125     0.36607]\n"
          ]
        },
        {
          "output_type": "stream",
          "name": "stderr",
          "text": [
            "Model summary (fused): 218 layers, 25840339 parameters, 0 gradients, 78.7 GFLOPs\n",
            "\n",
            "image 1/1 /content/drive/MyDrive/CsiLab-BrainTumor-Detection-3/valid/images/22_jpg.rf.de2f0c0005be3914eb74e2cc98f4c5df.jpg: 640x640 1 Tumor, 21.3ms\n",
            "Speed: 0.5ms pre-process, 21.3ms inference, 1.4ms postprocess per image at shape (1, 3, 640, 640)\n",
            "Ultralytics YOLOv8.0.28 🚀 Python-3.10.12 torch-2.1.0+cu121 CUDA:0 (Tesla T4, 15102MiB)\n",
            "Model summary (fused): 168 layers, 3005843 parameters, 0 gradients, 8.1 GFLOPs\n",
            "\n",
            "image 1/1 /content/drive/MyDrive/CsiLab-BrainTumor-Detection-3/valid/images/22_jpg.rf.de2f0c0005be3914eb74e2cc98f4c5df.jpg: 640x640 1 Tumor, 16.5ms\n",
            "Speed: 0.5ms pre-process, 16.5ms inference, 1.4ms postprocess per image at shape (1, 3, 640, 640)\n",
            "Ultralytics YOLOv8.0.28 🚀 Python-3.10.12 torch-2.1.0+cu121 CUDA:0 (Tesla T4, 15102MiB)\n",
            "Model summary (fused): 268 layers, 43607379 parameters, 0 gradients, 164.8 GFLOPs\n",
            "\n",
            "image 1/1 /content/drive/MyDrive/CsiLab-BrainTumor-Detection-3/valid/images/22_jpg.rf.de2f0c0005be3914eb74e2cc98f4c5df.jpg: 640x640 1 Tumor, 52.8ms\n",
            "Speed: 0.5ms pre-process, 52.8ms inference, 1.5ms postprocess per image at shape (1, 3, 640, 640)\n",
            "Ultralytics YOLOv8.0.28 🚀 Python-3.10.12 torch-2.1.0+cu121 CUDA:0 (Tesla T4, 15102MiB)\n",
            "Model summary (fused): 268 layers, 68124531 parameters, 0 gradients, 257.4 GFLOPs\n",
            "\n",
            "image 1/1 /content/drive/MyDrive/CsiLab-BrainTumor-Detection-3/valid/images/22_jpg.rf.de2f0c0005be3914eb74e2cc98f4c5df.jpg: 640x640 1 Tumor, 61.2ms\n",
            "Speed: 0.6ms pre-process, 61.2ms inference, 1.9ms postprocess per image at shape (1, 3, 640, 640)\n",
            "Ultralytics YOLOv8.0.28 🚀 Python-3.10.12 torch-2.1.0+cu121 CUDA:0 (Tesla T4, 15102MiB)\n"
          ]
        },
        {
          "output_type": "stream",
          "name": "stdout",
          "text": [
            "/content/drive/MyDrive/CsiLab-BrainTumor-Detection-3/valid/images/63_jpg.rf.296da48a47ad3a972e637818d6440aa4.jpg\n"
          ]
        },
        {
          "output_type": "stream",
          "name": "stderr",
          "text": [
            "Model summary (fused): 168 layers, 11125971 parameters, 0 gradients, 28.4 GFLOPs\n",
            "\n",
            "image 1/1 /content/drive/MyDrive/CsiLab-BrainTumor-Detection-3/valid/images/63_jpg.rf.296da48a47ad3a972e637818d6440aa4.jpg: 640x640 15.8ms\n",
            "Speed: 0.5ms pre-process, 15.8ms inference, 0.6ms postprocess per image at shape (1, 3, 640, 640)\n",
            "Ultralytics YOLOv8.0.28 🚀 Python-3.10.12 torch-2.1.0+cu121 CUDA:0 (Tesla T4, 15102MiB)\n"
          ]
        },
        {
          "output_type": "stream",
          "name": "stdout",
          "text": [
            "[0, 0, 0, 0]\n"
          ]
        },
        {
          "output_type": "stream",
          "name": "stderr",
          "text": [
            "Model summary (fused): 218 layers, 25840339 parameters, 0 gradients, 78.7 GFLOPs\n",
            "\n",
            "image 1/1 /content/drive/MyDrive/CsiLab-BrainTumor-Detection-3/valid/images/63_jpg.rf.296da48a47ad3a972e637818d6440aa4.jpg: 640x640 1 Tumor, 28.3ms\n",
            "Speed: 0.5ms pre-process, 28.3ms inference, 1.4ms postprocess per image at shape (1, 3, 640, 640)\n",
            "Ultralytics YOLOv8.0.28 🚀 Python-3.10.12 torch-2.1.0+cu121 CUDA:0 (Tesla T4, 15102MiB)\n",
            "Model summary (fused): 168 layers, 3005843 parameters, 0 gradients, 8.1 GFLOPs\n",
            "\n",
            "image 1/1 /content/drive/MyDrive/CsiLab-BrainTumor-Detection-3/valid/images/63_jpg.rf.296da48a47ad3a972e637818d6440aa4.jpg: 640x640 1 Tumor, 24.1ms\n",
            "Speed: 0.5ms pre-process, 24.1ms inference, 1.9ms postprocess per image at shape (1, 3, 640, 640)\n",
            "Ultralytics YOLOv8.0.28 🚀 Python-3.10.12 torch-2.1.0+cu121 CUDA:0 (Tesla T4, 15102MiB)\n",
            "Model summary (fused): 268 layers, 43607379 parameters, 0 gradients, 164.8 GFLOPs\n",
            "\n",
            "image 1/1 /content/drive/MyDrive/CsiLab-BrainTumor-Detection-3/valid/images/63_jpg.rf.296da48a47ad3a972e637818d6440aa4.jpg: 640x640 1 Tumor, 62.9ms\n",
            "Speed: 0.5ms pre-process, 62.9ms inference, 1.8ms postprocess per image at shape (1, 3, 640, 640)\n",
            "Ultralytics YOLOv8.0.28 🚀 Python-3.10.12 torch-2.1.0+cu121 CUDA:0 (Tesla T4, 15102MiB)\n",
            "Model summary (fused): 268 layers, 68124531 parameters, 0 gradients, 257.4 GFLOPs\n",
            "\n",
            "image 1/1 /content/drive/MyDrive/CsiLab-BrainTumor-Detection-3/valid/images/63_jpg.rf.296da48a47ad3a972e637818d6440aa4.jpg: 640x640 1 Tumor, 96.9ms\n",
            "Speed: 0.5ms pre-process, 96.9ms inference, 2.1ms postprocess per image at shape (1, 3, 640, 640)\n",
            "Ultralytics YOLOv8.0.28 🚀 Python-3.10.12 torch-2.1.0+cu121 CUDA:0 (Tesla T4, 15102MiB)\n"
          ]
        },
        {
          "output_type": "stream",
          "name": "stdout",
          "text": [
            "/content/drive/MyDrive/CsiLab-BrainTumor-Detection-3/valid/images/50_jpg.rf.30b6c852b5e72f1745961838d55e759e.jpg\n"
          ]
        },
        {
          "output_type": "stream",
          "name": "stderr",
          "text": [
            "Model summary (fused): 168 layers, 11125971 parameters, 0 gradients, 28.4 GFLOPs\n",
            "\n",
            "image 1/1 /content/drive/MyDrive/CsiLab-BrainTumor-Detection-3/valid/images/50_jpg.rf.30b6c852b5e72f1745961838d55e759e.jpg: 640x640 1 Tumor, 15.8ms\n",
            "Speed: 0.5ms pre-process, 15.8ms inference, 1.4ms postprocess per image at shape (1, 3, 640, 640)\n",
            "Ultralytics YOLOv8.0.28 🚀 Python-3.10.12 torch-2.1.0+cu121 CUDA:0 (Tesla T4, 15102MiB)\n"
          ]
        },
        {
          "output_type": "stream",
          "name": "stdout",
          "text": [
            "[    0.42411     0.79018     0.33036     0.23214]\n"
          ]
        },
        {
          "output_type": "stream",
          "name": "stderr",
          "text": [
            "Model summary (fused): 218 layers, 25840339 parameters, 0 gradients, 78.7 GFLOPs\n",
            "\n",
            "image 1/1 /content/drive/MyDrive/CsiLab-BrainTumor-Detection-3/valid/images/50_jpg.rf.30b6c852b5e72f1745961838d55e759e.jpg: 640x640 1 Tumor, 21.0ms\n",
            "Speed: 0.5ms pre-process, 21.0ms inference, 1.4ms postprocess per image at shape (1, 3, 640, 640)\n",
            "Ultralytics YOLOv8.0.28 🚀 Python-3.10.12 torch-2.1.0+cu121 CUDA:0 (Tesla T4, 15102MiB)\n",
            "Model summary (fused): 168 layers, 3005843 parameters, 0 gradients, 8.1 GFLOPs\n",
            "\n",
            "image 1/1 /content/drive/MyDrive/CsiLab-BrainTumor-Detection-3/valid/images/50_jpg.rf.30b6c852b5e72f1745961838d55e759e.jpg: 640x640 1 Tumor, 17.1ms\n",
            "Speed: 0.5ms pre-process, 17.1ms inference, 1.4ms postprocess per image at shape (1, 3, 640, 640)\n",
            "Ultralytics YOLOv8.0.28 🚀 Python-3.10.12 torch-2.1.0+cu121 CUDA:0 (Tesla T4, 15102MiB)\n",
            "Model summary (fused): 268 layers, 43607379 parameters, 0 gradients, 164.8 GFLOPs\n",
            "\n",
            "image 1/1 /content/drive/MyDrive/CsiLab-BrainTumor-Detection-3/valid/images/50_jpg.rf.30b6c852b5e72f1745961838d55e759e.jpg: 640x640 1 Tumor, 59.1ms\n",
            "Speed: 0.5ms pre-process, 59.1ms inference, 1.4ms postprocess per image at shape (1, 3, 640, 640)\n",
            "Ultralytics YOLOv8.0.28 🚀 Python-3.10.12 torch-2.1.0+cu121 CUDA:0 (Tesla T4, 15102MiB)\n",
            "Model summary (fused): 268 layers, 68124531 parameters, 0 gradients, 257.4 GFLOPs\n",
            "\n",
            "image 1/1 /content/drive/MyDrive/CsiLab-BrainTumor-Detection-3/valid/images/50_jpg.rf.30b6c852b5e72f1745961838d55e759e.jpg: 640x640 1 Tumor, 64.8ms\n",
            "Speed: 0.5ms pre-process, 64.8ms inference, 1.7ms postprocess per image at shape (1, 3, 640, 640)\n",
            "Ultralytics YOLOv8.0.28 🚀 Python-3.10.12 torch-2.1.0+cu121 CUDA:0 (Tesla T4, 15102MiB)\n"
          ]
        },
        {
          "output_type": "stream",
          "name": "stdout",
          "text": [
            "/content/drive/MyDrive/CsiLab-BrainTumor-Detection-3/valid/images/Te-me_0110_jpg.rf.659d5834eced13eb29d6fa15ca22dd61.jpg\n"
          ]
        },
        {
          "output_type": "stream",
          "name": "stderr",
          "text": [
            "Model summary (fused): 168 layers, 11125971 parameters, 0 gradients, 28.4 GFLOPs\n",
            "\n",
            "image 1/1 /content/drive/MyDrive/CsiLab-BrainTumor-Detection-3/valid/images/Te-me_0110_jpg.rf.659d5834eced13eb29d6fa15ca22dd61.jpg: 640x576 1 Tumor, 18.3ms\n",
            "Speed: 0.4ms pre-process, 18.3ms inference, 1.5ms postprocess per image at shape (1, 3, 640, 640)\n",
            "Ultralytics YOLOv8.0.28 🚀 Python-3.10.12 torch-2.1.0+cu121 CUDA:0 (Tesla T4, 15102MiB)\n"
          ]
        },
        {
          "output_type": "stream",
          "name": "stdout",
          "text": [
            "[    0.62857     0.17292     0.19048     0.10417]\n"
          ]
        },
        {
          "output_type": "stream",
          "name": "stderr",
          "text": [
            "Model summary (fused): 218 layers, 25840339 parameters, 0 gradients, 78.7 GFLOPs\n",
            "\n",
            "image 1/1 /content/drive/MyDrive/CsiLab-BrainTumor-Detection-3/valid/images/Te-me_0110_jpg.rf.659d5834eced13eb29d6fa15ca22dd61.jpg: 640x576 1 Tumor, 22.2ms\n",
            "Speed: 0.5ms pre-process, 22.2ms inference, 1.4ms postprocess per image at shape (1, 3, 640, 640)\n",
            "Ultralytics YOLOv8.0.28 🚀 Python-3.10.12 torch-2.1.0+cu121 CUDA:0 (Tesla T4, 15102MiB)\n",
            "Model summary (fused): 168 layers, 3005843 parameters, 0 gradients, 8.1 GFLOPs\n",
            "\n",
            "image 1/1 /content/drive/MyDrive/CsiLab-BrainTumor-Detection-3/valid/images/Te-me_0110_jpg.rf.659d5834eced13eb29d6fa15ca22dd61.jpg: 640x576 1 Tumor, 18.3ms\n",
            "Speed: 0.5ms pre-process, 18.3ms inference, 1.4ms postprocess per image at shape (1, 3, 640, 640)\n",
            "Ultralytics YOLOv8.0.28 🚀 Python-3.10.12 torch-2.1.0+cu121 CUDA:0 (Tesla T4, 15102MiB)\n",
            "Model summary (fused): 268 layers, 43607379 parameters, 0 gradients, 164.8 GFLOPs\n",
            "\n",
            "image 1/1 /content/drive/MyDrive/CsiLab-BrainTumor-Detection-3/valid/images/Te-me_0110_jpg.rf.659d5834eced13eb29d6fa15ca22dd61.jpg: 640x576 1 Tumor, 53.9ms\n",
            "Speed: 0.5ms pre-process, 53.9ms inference, 1.4ms postprocess per image at shape (1, 3, 640, 640)\n",
            "Ultralytics YOLOv8.0.28 🚀 Python-3.10.12 torch-2.1.0+cu121 CUDA:0 (Tesla T4, 15102MiB)\n",
            "Model summary (fused): 268 layers, 68124531 parameters, 0 gradients, 257.4 GFLOPs\n",
            "\n",
            "image 1/1 /content/drive/MyDrive/CsiLab-BrainTumor-Detection-3/valid/images/Te-me_0110_jpg.rf.659d5834eced13eb29d6fa15ca22dd61.jpg: 640x576 1 Tumor, 59.7ms\n",
            "Speed: 0.5ms pre-process, 59.7ms inference, 1.4ms postprocess per image at shape (1, 3, 640, 640)\n",
            "Ultralytics YOLOv8.0.28 🚀 Python-3.10.12 torch-2.1.0+cu121 CUDA:0 (Tesla T4, 15102MiB)\n"
          ]
        },
        {
          "output_type": "stream",
          "name": "stdout",
          "text": [
            "/content/drive/MyDrive/CsiLab-BrainTumor-Detection-3/valid/images/Te-me_0132_jpg.rf.cb80af0786296878c12a16735c740bd7.jpg\n"
          ]
        },
        {
          "output_type": "stream",
          "name": "stderr",
          "text": [
            "Model summary (fused): 168 layers, 11125971 parameters, 0 gradients, 28.4 GFLOPs\n",
            "\n",
            "image 1/1 /content/drive/MyDrive/CsiLab-BrainTumor-Detection-3/valid/images/Te-me_0132_jpg.rf.cb80af0786296878c12a16735c740bd7.jpg: 640x640 1 Tumor, 15.8ms\n",
            "Speed: 0.5ms pre-process, 15.8ms inference, 1.4ms postprocess per image at shape (1, 3, 640, 640)\n",
            "Ultralytics YOLOv8.0.28 🚀 Python-3.10.12 torch-2.1.0+cu121 CUDA:0 (Tesla T4, 15102MiB)\n"
          ]
        },
        {
          "output_type": "stream",
          "name": "stdout",
          "text": [
            "[    0.45117     0.47559     0.17578      0.1543]\n"
          ]
        },
        {
          "output_type": "stream",
          "name": "stderr",
          "text": [
            "Model summary (fused): 218 layers, 25840339 parameters, 0 gradients, 78.7 GFLOPs\n",
            "\n",
            "image 1/1 /content/drive/MyDrive/CsiLab-BrainTumor-Detection-3/valid/images/Te-me_0132_jpg.rf.cb80af0786296878c12a16735c740bd7.jpg: 640x640 1 Tumor, 20.6ms\n",
            "Speed: 0.7ms pre-process, 20.6ms inference, 1.4ms postprocess per image at shape (1, 3, 640, 640)\n",
            "Ultralytics YOLOv8.0.28 🚀 Python-3.10.12 torch-2.1.0+cu121 CUDA:0 (Tesla T4, 15102MiB)\n",
            "Model summary (fused): 168 layers, 3005843 parameters, 0 gradients, 8.1 GFLOPs\n",
            "\n",
            "image 1/1 /content/drive/MyDrive/CsiLab-BrainTumor-Detection-3/valid/images/Te-me_0132_jpg.rf.cb80af0786296878c12a16735c740bd7.jpg: 640x640 1 Tumor, 16.0ms\n",
            "Speed: 0.5ms pre-process, 16.0ms inference, 1.4ms postprocess per image at shape (1, 3, 640, 640)\n",
            "Ultralytics YOLOv8.0.28 🚀 Python-3.10.12 torch-2.1.0+cu121 CUDA:0 (Tesla T4, 15102MiB)\n",
            "Model summary (fused): 268 layers, 43607379 parameters, 0 gradients, 164.8 GFLOPs\n",
            "\n",
            "image 1/1 /content/drive/MyDrive/CsiLab-BrainTumor-Detection-3/valid/images/Te-me_0132_jpg.rf.cb80af0786296878c12a16735c740bd7.jpg: 640x640 1 Tumor, 62.9ms\n",
            "Speed: 0.5ms pre-process, 62.9ms inference, 1.5ms postprocess per image at shape (1, 3, 640, 640)\n",
            "Ultralytics YOLOv8.0.28 🚀 Python-3.10.12 torch-2.1.0+cu121 CUDA:0 (Tesla T4, 15102MiB)\n",
            "Model summary (fused): 268 layers, 68124531 parameters, 0 gradients, 257.4 GFLOPs\n",
            "\n",
            "image 1/1 /content/drive/MyDrive/CsiLab-BrainTumor-Detection-3/valid/images/Te-me_0132_jpg.rf.cb80af0786296878c12a16735c740bd7.jpg: 640x640 1 Tumor, 71.4ms\n",
            "Speed: 0.6ms pre-process, 71.4ms inference, 1.9ms postprocess per image at shape (1, 3, 640, 640)\n",
            "Ultralytics YOLOv8.0.28 🚀 Python-3.10.12 torch-2.1.0+cu121 CUDA:0 (Tesla T4, 15102MiB)\n"
          ]
        },
        {
          "output_type": "stream",
          "name": "stdout",
          "text": [
            "/content/drive/MyDrive/CsiLab-BrainTumor-Detection-3/valid/images/Te-me_0075_jpg.rf.fee1345db7c745e9b3e5dcf207c6a430.jpg\n"
          ]
        },
        {
          "output_type": "stream",
          "name": "stderr",
          "text": [
            "Model summary (fused): 168 layers, 11125971 parameters, 0 gradients, 28.4 GFLOPs\n",
            "\n",
            "image 1/1 /content/drive/MyDrive/CsiLab-BrainTumor-Detection-3/valid/images/Te-me_0075_jpg.rf.fee1345db7c745e9b3e5dcf207c6a430.jpg: 640x640 1 Tumor, 26.0ms\n",
            "Speed: 0.6ms pre-process, 26.0ms inference, 1.8ms postprocess per image at shape (1, 3, 640, 640)\n"
          ]
        },
        {
          "output_type": "stream",
          "name": "stdout",
          "text": [
            "[    0.45816     0.26008      0.2636     0.22177]\n"
          ]
        },
        {
          "output_type": "stream",
          "name": "stderr",
          "text": [
            "Ultralytics YOLOv8.0.28 🚀 Python-3.10.12 torch-2.1.0+cu121 CUDA:0 (Tesla T4, 15102MiB)\n",
            "Model summary (fused): 218 layers, 25840339 parameters, 0 gradients, 78.7 GFLOPs\n",
            "\n",
            "image 1/1 /content/drive/MyDrive/CsiLab-BrainTumor-Detection-3/valid/images/Te-me_0075_jpg.rf.fee1345db7c745e9b3e5dcf207c6a430.jpg: 640x640 1 Tumor, 25.2ms\n",
            "Speed: 0.5ms pre-process, 25.2ms inference, 1.8ms postprocess per image at shape (1, 3, 640, 640)\n",
            "Ultralytics YOLOv8.0.28 🚀 Python-3.10.12 torch-2.1.0+cu121 CUDA:0 (Tesla T4, 15102MiB)\n",
            "Model summary (fused): 168 layers, 3005843 parameters, 0 gradients, 8.1 GFLOPs\n",
            "\n",
            "image 1/1 /content/drive/MyDrive/CsiLab-BrainTumor-Detection-3/valid/images/Te-me_0075_jpg.rf.fee1345db7c745e9b3e5dcf207c6a430.jpg: 640x640 1 Tumor, 21.3ms\n",
            "Speed: 0.5ms pre-process, 21.3ms inference, 2.1ms postprocess per image at shape (1, 3, 640, 640)\n",
            "Ultralytics YOLOv8.0.28 🚀 Python-3.10.12 torch-2.1.0+cu121 CUDA:0 (Tesla T4, 15102MiB)\n",
            "Model summary (fused): 268 layers, 43607379 parameters, 0 gradients, 164.8 GFLOPs\n",
            "\n",
            "image 1/1 /content/drive/MyDrive/CsiLab-BrainTumor-Detection-3/valid/images/Te-me_0075_jpg.rf.fee1345db7c745e9b3e5dcf207c6a430.jpg: 640x640 1 Tumor, 62.9ms\n",
            "Speed: 0.5ms pre-process, 62.9ms inference, 1.5ms postprocess per image at shape (1, 3, 640, 640)\n",
            "Ultralytics YOLOv8.0.28 🚀 Python-3.10.12 torch-2.1.0+cu121 CUDA:0 (Tesla T4, 15102MiB)\n",
            "Model summary (fused): 268 layers, 68124531 parameters, 0 gradients, 257.4 GFLOPs\n",
            "\n",
            "image 1/1 /content/drive/MyDrive/CsiLab-BrainTumor-Detection-3/valid/images/Te-me_0075_jpg.rf.fee1345db7c745e9b3e5dcf207c6a430.jpg: 640x640 1 Tumor, 64.5ms\n",
            "Speed: 0.5ms pre-process, 64.5ms inference, 1.7ms postprocess per image at shape (1, 3, 640, 640)\n",
            "Ultralytics YOLOv8.0.28 🚀 Python-3.10.12 torch-2.1.0+cu121 CUDA:0 (Tesla T4, 15102MiB)\n"
          ]
        },
        {
          "output_type": "stream",
          "name": "stdout",
          "text": [
            "/content/drive/MyDrive/CsiLab-BrainTumor-Detection-3/valid/images/Te-me_0101_jpg.rf.0d0c7eb52f31a0be6d1a6b7fde7ec3a0.jpg\n"
          ]
        },
        {
          "output_type": "stream",
          "name": "stderr",
          "text": [
            "Model summary (fused): 168 layers, 11125971 parameters, 0 gradients, 28.4 GFLOPs\n",
            "\n",
            "image 1/1 /content/drive/MyDrive/CsiLab-BrainTumor-Detection-3/valid/images/Te-me_0101_jpg.rf.0d0c7eb52f31a0be6d1a6b7fde7ec3a0.jpg: 640x608 1 Tumor, 19.0ms\n",
            "Speed: 0.6ms pre-process, 19.0ms inference, 1.4ms postprocess per image at shape (1, 3, 640, 640)\n",
            "Ultralytics YOLOv8.0.28 🚀 Python-3.10.12 torch-2.1.0+cu121 CUDA:0 (Tesla T4, 15102MiB)\n"
          ]
        },
        {
          "output_type": "stream",
          "name": "stdout",
          "text": [
            "[    0.30233     0.42308     0.27907     0.29915]\n"
          ]
        },
        {
          "output_type": "stream",
          "name": "stderr",
          "text": [
            "Model summary (fused): 218 layers, 25840339 parameters, 0 gradients, 78.7 GFLOPs\n",
            "\n",
            "image 1/1 /content/drive/MyDrive/CsiLab-BrainTumor-Detection-3/valid/images/Te-me_0101_jpg.rf.0d0c7eb52f31a0be6d1a6b7fde7ec3a0.jpg: 640x608 1 Tumor, 22.2ms\n",
            "Speed: 0.5ms pre-process, 22.2ms inference, 1.4ms postprocess per image at shape (1, 3, 640, 640)\n",
            "Ultralytics YOLOv8.0.28 🚀 Python-3.10.12 torch-2.1.0+cu121 CUDA:0 (Tesla T4, 15102MiB)\n",
            "Model summary (fused): 168 layers, 3005843 parameters, 0 gradients, 8.1 GFLOPs\n",
            "\n",
            "image 1/1 /content/drive/MyDrive/CsiLab-BrainTumor-Detection-3/valid/images/Te-me_0101_jpg.rf.0d0c7eb52f31a0be6d1a6b7fde7ec3a0.jpg: 640x608 1 Tumor, 18.9ms\n",
            "Speed: 0.5ms pre-process, 18.9ms inference, 1.4ms postprocess per image at shape (1, 3, 640, 640)\n",
            "Ultralytics YOLOv8.0.28 🚀 Python-3.10.12 torch-2.1.0+cu121 CUDA:0 (Tesla T4, 15102MiB)\n",
            "Model summary (fused): 268 layers, 43607379 parameters, 0 gradients, 164.8 GFLOPs\n",
            "\n",
            "image 1/1 /content/drive/MyDrive/CsiLab-BrainTumor-Detection-3/valid/images/Te-me_0101_jpg.rf.0d0c7eb52f31a0be6d1a6b7fde7ec3a0.jpg: 640x608 1 Tumor, 53.9ms\n",
            "Speed: 0.6ms pre-process, 53.9ms inference, 1.6ms postprocess per image at shape (1, 3, 640, 640)\n",
            "Ultralytics YOLOv8.0.28 🚀 Python-3.10.12 torch-2.1.0+cu121 CUDA:0 (Tesla T4, 15102MiB)\n",
            "Model summary (fused): 268 layers, 68124531 parameters, 0 gradients, 257.4 GFLOPs\n",
            "\n",
            "image 1/1 /content/drive/MyDrive/CsiLab-BrainTumor-Detection-3/valid/images/Te-me_0101_jpg.rf.0d0c7eb52f31a0be6d1a6b7fde7ec3a0.jpg: 640x608 1 Tumor, 61.7ms\n",
            "Speed: 0.5ms pre-process, 61.7ms inference, 1.6ms postprocess per image at shape (1, 3, 640, 640)\n",
            "Ultralytics YOLOv8.0.28 🚀 Python-3.10.12 torch-2.1.0+cu121 CUDA:0 (Tesla T4, 15102MiB)\n"
          ]
        },
        {
          "output_type": "stream",
          "name": "stdout",
          "text": [
            "/content/drive/MyDrive/CsiLab-BrainTumor-Detection-3/valid/images/11_jpg.rf.4d70c1818d701abab1df238fd2f54760.jpg\n"
          ]
        },
        {
          "output_type": "stream",
          "name": "stderr",
          "text": [
            "Model summary (fused): 168 layers, 11125971 parameters, 0 gradients, 28.4 GFLOPs\n",
            "\n",
            "image 1/1 /content/drive/MyDrive/CsiLab-BrainTumor-Detection-3/valid/images/11_jpg.rf.4d70c1818d701abab1df238fd2f54760.jpg: 640x640 1 Tumor, 16.9ms\n",
            "Speed: 0.5ms pre-process, 16.9ms inference, 1.4ms postprocess per image at shape (1, 3, 640, 640)\n",
            "Ultralytics YOLOv8.0.28 🚀 Python-3.10.12 torch-2.1.0+cu121 CUDA:0 (Tesla T4, 15102MiB)\n"
          ]
        },
        {
          "output_type": "stream",
          "name": "stdout",
          "text": [
            "[    0.64732     0.40179     0.22321     0.19643]\n"
          ]
        },
        {
          "output_type": "stream",
          "name": "stderr",
          "text": [
            "Model summary (fused): 218 layers, 25840339 parameters, 0 gradients, 78.7 GFLOPs\n",
            "\n",
            "image 1/1 /content/drive/MyDrive/CsiLab-BrainTumor-Detection-3/valid/images/11_jpg.rf.4d70c1818d701abab1df238fd2f54760.jpg: 640x640 1 Tumor, 30.7ms\n",
            "Speed: 0.5ms pre-process, 30.7ms inference, 1.5ms postprocess per image at shape (1, 3, 640, 640)\n",
            "Ultralytics YOLOv8.0.28 🚀 Python-3.10.12 torch-2.1.0+cu121 CUDA:0 (Tesla T4, 15102MiB)\n",
            "Model summary (fused): 168 layers, 3005843 parameters, 0 gradients, 8.1 GFLOPs\n",
            "\n",
            "image 1/1 /content/drive/MyDrive/CsiLab-BrainTumor-Detection-3/valid/images/11_jpg.rf.4d70c1818d701abab1df238fd2f54760.jpg: 640x640 1 Tumor, 15.8ms\n",
            "Speed: 0.5ms pre-process, 15.8ms inference, 1.4ms postprocess per image at shape (1, 3, 640, 640)\n",
            "Ultralytics YOLOv8.0.28 🚀 Python-3.10.12 torch-2.1.0+cu121 CUDA:0 (Tesla T4, 15102MiB)\n",
            "Model summary (fused): 268 layers, 43607379 parameters, 0 gradients, 164.8 GFLOPs\n",
            "\n",
            "image 1/1 /content/drive/MyDrive/CsiLab-BrainTumor-Detection-3/valid/images/11_jpg.rf.4d70c1818d701abab1df238fd2f54760.jpg: 640x640 1 Tumor, 62.5ms\n",
            "Speed: 0.5ms pre-process, 62.5ms inference, 1.5ms postprocess per image at shape (1, 3, 640, 640)\n",
            "Ultralytics YOLOv8.0.28 🚀 Python-3.10.12 torch-2.1.0+cu121 CUDA:0 (Tesla T4, 15102MiB)\n",
            "Model summary (fused): 268 layers, 68124531 parameters, 0 gradients, 257.4 GFLOPs\n",
            "\n",
            "image 1/1 /content/drive/MyDrive/CsiLab-BrainTumor-Detection-3/valid/images/11_jpg.rf.4d70c1818d701abab1df238fd2f54760.jpg: 640x640 1 Tumor, 63.6ms\n",
            "Speed: 0.5ms pre-process, 63.6ms inference, 1.8ms postprocess per image at shape (1, 3, 640, 640)\n",
            "Ultralytics YOLOv8.0.28 🚀 Python-3.10.12 torch-2.1.0+cu121 CUDA:0 (Tesla T4, 15102MiB)\n"
          ]
        },
        {
          "output_type": "stream",
          "name": "stdout",
          "text": [
            "/content/drive/MyDrive/CsiLab-BrainTumor-Detection-3/valid/images/48_jpg.rf.714c548080007580b6e5e10cf4cf7e88.jpg\n"
          ]
        },
        {
          "output_type": "stream",
          "name": "stderr",
          "text": [
            "Model summary (fused): 168 layers, 11125971 parameters, 0 gradients, 28.4 GFLOPs\n",
            "\n",
            "image 1/1 /content/drive/MyDrive/CsiLab-BrainTumor-Detection-3/valid/images/48_jpg.rf.714c548080007580b6e5e10cf4cf7e88.jpg: 640x640 1 Tumor, 16.6ms\n",
            "Speed: 0.5ms pre-process, 16.6ms inference, 1.4ms postprocess per image at shape (1, 3, 640, 640)\n",
            "Ultralytics YOLOv8.0.28 🚀 Python-3.10.12 torch-2.1.0+cu121 CUDA:0 (Tesla T4, 15102MiB)\n"
          ]
        },
        {
          "output_type": "stream",
          "name": "stdout",
          "text": [
            "[    0.67411     0.18973        0.25     0.23661]\n"
          ]
        },
        {
          "output_type": "stream",
          "name": "stderr",
          "text": [
            "Model summary (fused): 218 layers, 25840339 parameters, 0 gradients, 78.7 GFLOPs\n",
            "\n",
            "image 1/1 /content/drive/MyDrive/CsiLab-BrainTumor-Detection-3/valid/images/48_jpg.rf.714c548080007580b6e5e10cf4cf7e88.jpg: 640x640 1 Tumor, 32.4ms\n",
            "Speed: 0.5ms pre-process, 32.4ms inference, 2.1ms postprocess per image at shape (1, 3, 640, 640)\n",
            "Ultralytics YOLOv8.0.28 🚀 Python-3.10.12 torch-2.1.0+cu121 CUDA:0 (Tesla T4, 15102MiB)\n",
            "Model summary (fused): 168 layers, 3005843 parameters, 0 gradients, 8.1 GFLOPs\n",
            "\n",
            "image 1/1 /content/drive/MyDrive/CsiLab-BrainTumor-Detection-3/valid/images/48_jpg.rf.714c548080007580b6e5e10cf4cf7e88.jpg: 640x640 1 Tumor, 32.1ms\n",
            "Speed: 0.6ms pre-process, 32.1ms inference, 2.4ms postprocess per image at shape (1, 3, 640, 640)\n",
            "Ultralytics YOLOv8.0.28 🚀 Python-3.10.12 torch-2.1.0+cu121 CUDA:0 (Tesla T4, 15102MiB)\n",
            "Model summary (fused): 268 layers, 43607379 parameters, 0 gradients, 164.8 GFLOPs\n",
            "\n",
            "image 1/1 /content/drive/MyDrive/CsiLab-BrainTumor-Detection-3/valid/images/48_jpg.rf.714c548080007580b6e5e10cf4cf7e88.jpg: 640x640 1 Tumor, 68.3ms\n",
            "Speed: 0.5ms pre-process, 68.3ms inference, 1.8ms postprocess per image at shape (1, 3, 640, 640)\n",
            "Ultralytics YOLOv8.0.28 🚀 Python-3.10.12 torch-2.1.0+cu121 CUDA:0 (Tesla T4, 15102MiB)\n",
            "Model summary (fused): 268 layers, 68124531 parameters, 0 gradients, 257.4 GFLOPs\n",
            "\n",
            "image 1/1 /content/drive/MyDrive/CsiLab-BrainTumor-Detection-3/valid/images/48_jpg.rf.714c548080007580b6e5e10cf4cf7e88.jpg: 640x640 1 Tumor, 89.1ms\n",
            "Speed: 0.5ms pre-process, 89.1ms inference, 2.1ms postprocess per image at shape (1, 3, 640, 640)\n",
            "Ultralytics YOLOv8.0.28 🚀 Python-3.10.12 torch-2.1.0+cu121 CUDA:0 (Tesla T4, 15102MiB)\n"
          ]
        },
        {
          "output_type": "stream",
          "name": "stdout",
          "text": [
            "/content/drive/MyDrive/CsiLab-BrainTumor-Detection-3/valid/images/Te-me_0094_jpg.rf.87e9e9912d8c2faec278945ab6cd7591.jpg\n"
          ]
        },
        {
          "output_type": "stream",
          "name": "stderr",
          "text": [
            "Model summary (fused): 168 layers, 11125971 parameters, 0 gradients, 28.4 GFLOPs\n",
            "\n",
            "image 1/1 /content/drive/MyDrive/CsiLab-BrainTumor-Detection-3/valid/images/Te-me_0094_jpg.rf.87e9e9912d8c2faec278945ab6cd7591.jpg: 640x640 1 Tumor, 16.1ms\n",
            "Speed: 0.5ms pre-process, 16.1ms inference, 1.5ms postprocess per image at shape (1, 3, 640, 640)\n",
            "Ultralytics YOLOv8.0.28 🚀 Python-3.10.12 torch-2.1.0+cu121 CUDA:0 (Tesla T4, 15102MiB)\n"
          ]
        },
        {
          "output_type": "stream",
          "name": "stdout",
          "text": [
            "[    0.61111     0.46667     0.16444     0.16889]\n"
          ]
        },
        {
          "output_type": "stream",
          "name": "stderr",
          "text": [
            "Model summary (fused): 218 layers, 25840339 parameters, 0 gradients, 78.7 GFLOPs\n",
            "\n",
            "image 1/1 /content/drive/MyDrive/CsiLab-BrainTumor-Detection-3/valid/images/Te-me_0094_jpg.rf.87e9e9912d8c2faec278945ab6cd7591.jpg: 640x640 1 Tumor, 21.0ms\n",
            "Speed: 0.6ms pre-process, 21.0ms inference, 1.4ms postprocess per image at shape (1, 3, 640, 640)\n",
            "Ultralytics YOLOv8.0.28 🚀 Python-3.10.12 torch-2.1.0+cu121 CUDA:0 (Tesla T4, 15102MiB)\n",
            "Model summary (fused): 168 layers, 3005843 parameters, 0 gradients, 8.1 GFLOPs\n",
            "\n",
            "image 1/1 /content/drive/MyDrive/CsiLab-BrainTumor-Detection-3/valid/images/Te-me_0094_jpg.rf.87e9e9912d8c2faec278945ab6cd7591.jpg: 640x640 1 Tumor, 16.1ms\n",
            "Speed: 0.5ms pre-process, 16.1ms inference, 1.4ms postprocess per image at shape (1, 3, 640, 640)\n",
            "Ultralytics YOLOv8.0.28 🚀 Python-3.10.12 torch-2.1.0+cu121 CUDA:0 (Tesla T4, 15102MiB)\n",
            "Model summary (fused): 268 layers, 43607379 parameters, 0 gradients, 164.8 GFLOPs\n",
            "\n",
            "image 1/1 /content/drive/MyDrive/CsiLab-BrainTumor-Detection-3/valid/images/Te-me_0094_jpg.rf.87e9e9912d8c2faec278945ab6cd7591.jpg: 640x640 1 Tumor, 59.0ms\n",
            "Speed: 0.5ms pre-process, 59.0ms inference, 1.5ms postprocess per image at shape (1, 3, 640, 640)\n",
            "Ultralytics YOLOv8.0.28 🚀 Python-3.10.12 torch-2.1.0+cu121 CUDA:0 (Tesla T4, 15102MiB)\n",
            "Model summary (fused): 268 layers, 68124531 parameters, 0 gradients, 257.4 GFLOPs\n",
            "\n",
            "image 1/1 /content/drive/MyDrive/CsiLab-BrainTumor-Detection-3/valid/images/Te-me_0094_jpg.rf.87e9e9912d8c2faec278945ab6cd7591.jpg: 640x640 1 Tumor, 97.1ms\n",
            "Speed: 0.5ms pre-process, 97.1ms inference, 1.5ms postprocess per image at shape (1, 3, 640, 640)\n",
            "Ultralytics YOLOv8.0.28 🚀 Python-3.10.12 torch-2.1.0+cu121 CUDA:0 (Tesla T4, 15102MiB)\n"
          ]
        },
        {
          "output_type": "stream",
          "name": "stdout",
          "text": [
            "/content/drive/MyDrive/CsiLab-BrainTumor-Detection-3/valid/images/99_jpg.rf.b135af9696b09c8937c7527520e56acf.jpg\n"
          ]
        },
        {
          "output_type": "stream",
          "name": "stderr",
          "text": [
            "Model summary (fused): 168 layers, 11125971 parameters, 0 gradients, 28.4 GFLOPs\n",
            "\n",
            "image 1/1 /content/drive/MyDrive/CsiLab-BrainTumor-Detection-3/valid/images/99_jpg.rf.b135af9696b09c8937c7527520e56acf.jpg: 640x640 15.8ms\n",
            "Speed: 0.5ms pre-process, 15.8ms inference, 0.5ms postprocess per image at shape (1, 3, 640, 640)\n"
          ]
        },
        {
          "output_type": "stream",
          "name": "stdout",
          "text": [
            "[0, 0, 0, 0]\n"
          ]
        },
        {
          "output_type": "stream",
          "name": "stderr",
          "text": [
            "Ultralytics YOLOv8.0.28 🚀 Python-3.10.12 torch-2.1.0+cu121 CUDA:0 (Tesla T4, 15102MiB)\n",
            "Model summary (fused): 218 layers, 25840339 parameters, 0 gradients, 78.7 GFLOPs\n",
            "\n",
            "image 1/1 /content/drive/MyDrive/CsiLab-BrainTumor-Detection-3/valid/images/99_jpg.rf.b135af9696b09c8937c7527520e56acf.jpg: 640x640 1 Tumor, 22.2ms\n",
            "Speed: 0.5ms pre-process, 22.2ms inference, 1.4ms postprocess per image at shape (1, 3, 640, 640)\n",
            "Ultralytics YOLOv8.0.28 🚀 Python-3.10.12 torch-2.1.0+cu121 CUDA:0 (Tesla T4, 15102MiB)\n",
            "Model summary (fused): 168 layers, 3005843 parameters, 0 gradients, 8.1 GFLOPs\n",
            "\n",
            "image 1/1 /content/drive/MyDrive/CsiLab-BrainTumor-Detection-3/valid/images/99_jpg.rf.b135af9696b09c8937c7527520e56acf.jpg: 640x640 1 Tumor, 18.6ms\n",
            "Speed: 0.5ms pre-process, 18.6ms inference, 1.4ms postprocess per image at shape (1, 3, 640, 640)\n",
            "Ultralytics YOLOv8.0.28 🚀 Python-3.10.12 torch-2.1.0+cu121 CUDA:0 (Tesla T4, 15102MiB)\n",
            "Model summary (fused): 268 layers, 43607379 parameters, 0 gradients, 164.8 GFLOPs\n",
            "\n",
            "image 1/1 /content/drive/MyDrive/CsiLab-BrainTumor-Detection-3/valid/images/99_jpg.rf.b135af9696b09c8937c7527520e56acf.jpg: 640x640 1 Tumor, 60.4ms\n",
            "Speed: 0.6ms pre-process, 60.4ms inference, 1.5ms postprocess per image at shape (1, 3, 640, 640)\n",
            "Ultralytics YOLOv8.0.28 🚀 Python-3.10.12 torch-2.1.0+cu121 CUDA:0 (Tesla T4, 15102MiB)\n",
            "Model summary (fused): 268 layers, 68124531 parameters, 0 gradients, 257.4 GFLOPs\n",
            "\n",
            "image 1/1 /content/drive/MyDrive/CsiLab-BrainTumor-Detection-3/valid/images/99_jpg.rf.b135af9696b09c8937c7527520e56acf.jpg: 640x640 1 Tumor, 66.6ms\n",
            "Speed: 0.6ms pre-process, 66.6ms inference, 1.5ms postprocess per image at shape (1, 3, 640, 640)\n",
            "Ultralytics YOLOv8.0.28 🚀 Python-3.10.12 torch-2.1.0+cu121 CUDA:0 (Tesla T4, 15102MiB)\n"
          ]
        },
        {
          "output_type": "stream",
          "name": "stdout",
          "text": [
            "/content/drive/MyDrive/CsiLab-BrainTumor-Detection-3/valid/images/Te-me_0102_jpg.rf.48b6e7f4a32bf14b424167029f960645.jpg\n"
          ]
        },
        {
          "output_type": "stream",
          "name": "stderr",
          "text": [
            "Model summary (fused): 168 layers, 11125971 parameters, 0 gradients, 28.4 GFLOPs\n",
            "\n",
            "image 1/1 /content/drive/MyDrive/CsiLab-BrainTumor-Detection-3/valid/images/Te-me_0102_jpg.rf.48b6e7f4a32bf14b424167029f960645.jpg: 640x640 1 Tumor, 16.3ms\n",
            "Speed: 0.5ms pre-process, 16.3ms inference, 1.4ms postprocess per image at shape (1, 3, 640, 640)\n",
            "Ultralytics YOLOv8.0.28 🚀 Python-3.10.12 torch-2.1.0+cu121 CUDA:0 (Tesla T4, 15102MiB)\n"
          ]
        },
        {
          "output_type": "stream",
          "name": "stdout",
          "text": [
            "[       0.54        0.56        0.12        0.16]\n"
          ]
        },
        {
          "output_type": "stream",
          "name": "stderr",
          "text": [
            "Model summary (fused): 218 layers, 25840339 parameters, 0 gradients, 78.7 GFLOPs\n",
            "\n",
            "image 1/1 /content/drive/MyDrive/CsiLab-BrainTumor-Detection-3/valid/images/Te-me_0102_jpg.rf.48b6e7f4a32bf14b424167029f960645.jpg: 640x640 1 Tumor, 20.0ms\n",
            "Speed: 0.5ms pre-process, 20.0ms inference, 1.4ms postprocess per image at shape (1, 3, 640, 640)\n",
            "Ultralytics YOLOv8.0.28 🚀 Python-3.10.12 torch-2.1.0+cu121 CUDA:0 (Tesla T4, 15102MiB)\n",
            "Model summary (fused): 168 layers, 3005843 parameters, 0 gradients, 8.1 GFLOPs\n",
            "\n",
            "image 1/1 /content/drive/MyDrive/CsiLab-BrainTumor-Detection-3/valid/images/Te-me_0102_jpg.rf.48b6e7f4a32bf14b424167029f960645.jpg: 640x640 1 Tumor, 15.9ms\n",
            "Speed: 0.5ms pre-process, 15.9ms inference, 1.3ms postprocess per image at shape (1, 3, 640, 640)\n",
            "Ultralytics YOLOv8.0.28 🚀 Python-3.10.12 torch-2.1.0+cu121 CUDA:0 (Tesla T4, 15102MiB)\n",
            "Model summary (fused): 268 layers, 43607379 parameters, 0 gradients, 164.8 GFLOPs\n",
            "\n",
            "image 1/1 /content/drive/MyDrive/CsiLab-BrainTumor-Detection-3/valid/images/Te-me_0102_jpg.rf.48b6e7f4a32bf14b424167029f960645.jpg: 640x640 1 Tumor, 52.8ms\n",
            "Speed: 0.5ms pre-process, 52.8ms inference, 1.5ms postprocess per image at shape (1, 3, 640, 640)\n",
            "Ultralytics YOLOv8.0.28 🚀 Python-3.10.12 torch-2.1.0+cu121 CUDA:0 (Tesla T4, 15102MiB)\n",
            "Model summary (fused): 268 layers, 68124531 parameters, 0 gradients, 257.4 GFLOPs\n",
            "\n",
            "image 1/1 /content/drive/MyDrive/CsiLab-BrainTumor-Detection-3/valid/images/Te-me_0102_jpg.rf.48b6e7f4a32bf14b424167029f960645.jpg: 640x640 1 Tumor, 62.5ms\n",
            "Speed: 0.5ms pre-process, 62.5ms inference, 1.8ms postprocess per image at shape (1, 3, 640, 640)\n",
            "Ultralytics YOLOv8.0.28 🚀 Python-3.10.12 torch-2.1.0+cu121 CUDA:0 (Tesla T4, 15102MiB)\n"
          ]
        },
        {
          "output_type": "stream",
          "name": "stdout",
          "text": [
            "/content/drive/MyDrive/CsiLab-BrainTumor-Detection-3/valid/images/Te-me_0182_jpg.rf.44b47c5fc8995871665d780a0eb601a1.jpg\n"
          ]
        },
        {
          "output_type": "stream",
          "name": "stderr",
          "text": [
            "Model summary (fused): 168 layers, 11125971 parameters, 0 gradients, 28.4 GFLOPs\n",
            "\n",
            "image 1/1 /content/drive/MyDrive/CsiLab-BrainTumor-Detection-3/valid/images/Te-me_0182_jpg.rf.44b47c5fc8995871665d780a0eb601a1.jpg: 640x640 17.8ms\n",
            "Speed: 0.5ms pre-process, 17.8ms inference, 0.7ms postprocess per image at shape (1, 3, 640, 640)\n",
            "Ultralytics YOLOv8.0.28 🚀 Python-3.10.12 torch-2.1.0+cu121 CUDA:0 (Tesla T4, 15102MiB)\n"
          ]
        },
        {
          "output_type": "stream",
          "name": "stdout",
          "text": [
            "[0, 0, 0, 0]\n"
          ]
        },
        {
          "output_type": "stream",
          "name": "stderr",
          "text": [
            "Model summary (fused): 218 layers, 25840339 parameters, 0 gradients, 78.7 GFLOPs\n",
            "\n",
            "image 1/1 /content/drive/MyDrive/CsiLab-BrainTumor-Detection-3/valid/images/Te-me_0182_jpg.rf.44b47c5fc8995871665d780a0eb601a1.jpg: 640x640 1 Tumor, 26.8ms\n",
            "Speed: 0.5ms pre-process, 26.8ms inference, 2.2ms postprocess per image at shape (1, 3, 640, 640)\n",
            "Ultralytics YOLOv8.0.28 🚀 Python-3.10.12 torch-2.1.0+cu121 CUDA:0 (Tesla T4, 15102MiB)\n",
            "Model summary (fused): 168 layers, 3005843 parameters, 0 gradients, 8.1 GFLOPs\n",
            "\n",
            "image 1/1 /content/drive/MyDrive/CsiLab-BrainTumor-Detection-3/valid/images/Te-me_0182_jpg.rf.44b47c5fc8995871665d780a0eb601a1.jpg: 640x640 1 Tumor, 21.0ms\n",
            "Speed: 0.5ms pre-process, 21.0ms inference, 1.8ms postprocess per image at shape (1, 3, 640, 640)\n",
            "Ultralytics YOLOv8.0.28 🚀 Python-3.10.12 torch-2.1.0+cu121 CUDA:0 (Tesla T4, 15102MiB)\n",
            "Model summary (fused): 268 layers, 43607379 parameters, 0 gradients, 164.8 GFLOPs\n",
            "\n",
            "image 1/1 /content/drive/MyDrive/CsiLab-BrainTumor-Detection-3/valid/images/Te-me_0182_jpg.rf.44b47c5fc8995871665d780a0eb601a1.jpg: 640x640 1 Tumor, 63.4ms\n",
            "Speed: 0.6ms pre-process, 63.4ms inference, 1.7ms postprocess per image at shape (1, 3, 640, 640)\n",
            "Ultralytics YOLOv8.0.28 🚀 Python-3.10.12 torch-2.1.0+cu121 CUDA:0 (Tesla T4, 15102MiB)\n",
            "Model summary (fused): 268 layers, 68124531 parameters, 0 gradients, 257.4 GFLOPs\n",
            "\n",
            "image 1/1 /content/drive/MyDrive/CsiLab-BrainTumor-Detection-3/valid/images/Te-me_0182_jpg.rf.44b47c5fc8995871665d780a0eb601a1.jpg: 640x640 1 Tumor, 65.8ms\n",
            "Speed: 0.5ms pre-process, 65.8ms inference, 1.5ms postprocess per image at shape (1, 3, 640, 640)\n",
            "Ultralytics YOLOv8.0.28 🚀 Python-3.10.12 torch-2.1.0+cu121 CUDA:0 (Tesla T4, 15102MiB)\n"
          ]
        },
        {
          "output_type": "stream",
          "name": "stdout",
          "text": [
            "/content/drive/MyDrive/CsiLab-BrainTumor-Detection-3/valid/images/1_jpg.rf.4aa6665f5fb204ef7135ac63df27e348.jpg\n"
          ]
        },
        {
          "output_type": "stream",
          "name": "stderr",
          "text": [
            "Model summary (fused): 168 layers, 11125971 parameters, 0 gradients, 28.4 GFLOPs\n",
            "\n",
            "image 1/1 /content/drive/MyDrive/CsiLab-BrainTumor-Detection-3/valid/images/1_jpg.rf.4aa6665f5fb204ef7135ac63df27e348.jpg: 640x640 1 Tumor, 15.9ms\n",
            "Speed: 0.5ms pre-process, 15.9ms inference, 1.4ms postprocess per image at shape (1, 3, 640, 640)\n",
            "Ultralytics YOLOv8.0.28 🚀 Python-3.10.12 torch-2.1.0+cu121 CUDA:0 (Tesla T4, 15102MiB)\n"
          ]
        },
        {
          "output_type": "stream",
          "name": "stdout",
          "text": [
            "[    0.31473     0.26339     0.28125     0.27679]\n"
          ]
        },
        {
          "output_type": "stream",
          "name": "stderr",
          "text": [
            "Model summary (fused): 218 layers, 25840339 parameters, 0 gradients, 78.7 GFLOPs\n",
            "\n",
            "image 1/1 /content/drive/MyDrive/CsiLab-BrainTumor-Detection-3/valid/images/1_jpg.rf.4aa6665f5fb204ef7135ac63df27e348.jpg: 640x640 1 Tumor, 23.0ms\n",
            "Speed: 0.5ms pre-process, 23.0ms inference, 1.4ms postprocess per image at shape (1, 3, 640, 640)\n",
            "Ultralytics YOLOv8.0.28 🚀 Python-3.10.12 torch-2.1.0+cu121 CUDA:0 (Tesla T4, 15102MiB)\n",
            "Model summary (fused): 168 layers, 3005843 parameters, 0 gradients, 8.1 GFLOPs\n",
            "\n",
            "image 1/1 /content/drive/MyDrive/CsiLab-BrainTumor-Detection-3/valid/images/1_jpg.rf.4aa6665f5fb204ef7135ac63df27e348.jpg: 640x640 1 Tumor, 16.8ms\n",
            "Speed: 0.5ms pre-process, 16.8ms inference, 1.4ms postprocess per image at shape (1, 3, 640, 640)\n",
            "Ultralytics YOLOv8.0.28 🚀 Python-3.10.12 torch-2.1.0+cu121 CUDA:0 (Tesla T4, 15102MiB)\n",
            "Model summary (fused): 268 layers, 43607379 parameters, 0 gradients, 164.8 GFLOPs\n",
            "\n",
            "image 1/1 /content/drive/MyDrive/CsiLab-BrainTumor-Detection-3/valid/images/1_jpg.rf.4aa6665f5fb204ef7135ac63df27e348.jpg: 640x640 1 Tumor, 63.1ms\n",
            "Speed: 0.5ms pre-process, 63.1ms inference, 1.6ms postprocess per image at shape (1, 3, 640, 640)\n",
            "Ultralytics YOLOv8.0.28 🚀 Python-3.10.12 torch-2.1.0+cu121 CUDA:0 (Tesla T4, 15102MiB)\n",
            "Model summary (fused): 268 layers, 68124531 parameters, 0 gradients, 257.4 GFLOPs\n",
            "\n",
            "image 1/1 /content/drive/MyDrive/CsiLab-BrainTumor-Detection-3/valid/images/1_jpg.rf.4aa6665f5fb204ef7135ac63df27e348.jpg: 640x640 1 Tumor, 74.6ms\n",
            "Speed: 0.5ms pre-process, 74.6ms inference, 2.5ms postprocess per image at shape (1, 3, 640, 640)\n",
            "Ultralytics YOLOv8.0.28 🚀 Python-3.10.12 torch-2.1.0+cu121 CUDA:0 (Tesla T4, 15102MiB)\n"
          ]
        },
        {
          "output_type": "stream",
          "name": "stdout",
          "text": [
            "/content/drive/MyDrive/CsiLab-BrainTumor-Detection-3/valid/images/Te-me_0144_jpg.rf.fda5a4dea539b5318243c348ccdaef5f.jpg\n"
          ]
        },
        {
          "output_type": "stream",
          "name": "stderr",
          "text": [
            "Model summary (fused): 168 layers, 11125971 parameters, 0 gradients, 28.4 GFLOPs\n",
            "\n",
            "image 1/1 /content/drive/MyDrive/CsiLab-BrainTumor-Detection-3/valid/images/Te-me_0144_jpg.rf.fda5a4dea539b5318243c348ccdaef5f.jpg: 640x640 1 Tumor, 16.0ms\n",
            "Speed: 0.5ms pre-process, 16.0ms inference, 1.4ms postprocess per image at shape (1, 3, 640, 640)\n",
            "Ultralytics YOLOv8.0.28 🚀 Python-3.10.12 torch-2.1.0+cu121 CUDA:0 (Tesla T4, 15102MiB)\n"
          ]
        },
        {
          "output_type": "stream",
          "name": "stdout",
          "text": [
            "[    0.52148     0.56836     0.12109     0.14062]\n"
          ]
        },
        {
          "output_type": "stream",
          "name": "stderr",
          "text": [
            "Model summary (fused): 218 layers, 25840339 parameters, 0 gradients, 78.7 GFLOPs\n",
            "\n",
            "image 1/1 /content/drive/MyDrive/CsiLab-BrainTumor-Detection-3/valid/images/Te-me_0144_jpg.rf.fda5a4dea539b5318243c348ccdaef5f.jpg: 640x640 1 Tumor, 20.5ms\n",
            "Speed: 0.5ms pre-process, 20.5ms inference, 1.4ms postprocess per image at shape (1, 3, 640, 640)\n",
            "Ultralytics YOLOv8.0.28 🚀 Python-3.10.12 torch-2.1.0+cu121 CUDA:0 (Tesla T4, 15102MiB)\n",
            "Model summary (fused): 168 layers, 3005843 parameters, 0 gradients, 8.1 GFLOPs\n",
            "\n",
            "image 1/1 /content/drive/MyDrive/CsiLab-BrainTumor-Detection-3/valid/images/Te-me_0144_jpg.rf.fda5a4dea539b5318243c348ccdaef5f.jpg: 640x640 1 Tumor, 18.9ms\n",
            "Speed: 0.5ms pre-process, 18.9ms inference, 1.5ms postprocess per image at shape (1, 3, 640, 640)\n",
            "Ultralytics YOLOv8.0.28 🚀 Python-3.10.12 torch-2.1.0+cu121 CUDA:0 (Tesla T4, 15102MiB)\n",
            "Model summary (fused): 268 layers, 43607379 parameters, 0 gradients, 164.8 GFLOPs\n",
            "\n",
            "image 1/1 /content/drive/MyDrive/CsiLab-BrainTumor-Detection-3/valid/images/Te-me_0144_jpg.rf.fda5a4dea539b5318243c348ccdaef5f.jpg: 640x640 1 Tumor, 58.0ms\n",
            "Speed: 0.6ms pre-process, 58.0ms inference, 1.8ms postprocess per image at shape (1, 3, 640, 640)\n",
            "Ultralytics YOLOv8.0.28 🚀 Python-3.10.12 torch-2.1.0+cu121 CUDA:0 (Tesla T4, 15102MiB)\n",
            "Model summary (fused): 268 layers, 68124531 parameters, 0 gradients, 257.4 GFLOPs\n",
            "\n",
            "image 1/1 /content/drive/MyDrive/CsiLab-BrainTumor-Detection-3/valid/images/Te-me_0144_jpg.rf.fda5a4dea539b5318243c348ccdaef5f.jpg: 640x640 1 Tumor, 84.3ms\n",
            "Speed: 0.5ms pre-process, 84.3ms inference, 2.0ms postprocess per image at shape (1, 3, 640, 640)\n"
          ]
        }
      ]
    },
    {
      "cell_type": "code",
      "source": [
        "from statistics import mean\n",
        "\n",
        "print('Media de iou com yolov8s: ',mean(yolo_s))\n",
        "print('Media de iou com yolov8m: ',mean(yolo_m))\n",
        "print('Media de iou com yolov8n: ',mean(yolo_n))\n",
        "print('Media de iou com yolov8l: ',mean(yolo_l))\n",
        "print('Media de iou com yolov8x: ',mean(yolo_x))"
      ],
      "metadata": {
        "id": "ypHlt0OL-ku6",
        "outputId": "ebaf2d37-9ce4-4f11-9709-8da4cca50736",
        "colab": {
          "base_uri": "https://localhost:8080/"
        }
      },
      "execution_count": null,
      "outputs": [
        {
          "output_type": "stream",
          "name": "stdout",
          "text": [
            "Media de iou com yolov8s:  0.6782114523583231\n",
            "Media de iou com yolov8m:  0.7743599869950156\n",
            "Media de iou com yolov8n:  0.7907445274511441\n",
            "Media de iou com yolov8l:  0.7747715247510605\n",
            "Media de iou com yolov8x:  0.7811062242386428\n"
          ]
        }
      ]
    },
    {
      "cell_type": "code",
      "source": [
        "import supervision as sv\n",
        "from ultralytics import YOLO\n",
        "import numpy as np\n",
        "\n",
        "\n",
        "path_project = \"/content/drive/MyDrive/CsiLab-BrainTumor-Detection-3/train\"\n",
        "path_model = '/content/drive/MyDrive/5Modelos_Yolov8_DatasetTumor/train2yolov8m'\n",
        "dataset = sv.DetectionDataset.from_yolo(\n",
        "      images_directory_path=f\"{path_project}/images\",\n",
        "      annotations_directory_path=f\"{path_project}/labels\",\n",
        "      data_yaml_path=f\"/content/drive/MyDrive/CsiLab-BrainTumor-Detection-3/data.yaml\",\n",
        "      force_masks=False)\n",
        "\n",
        "\n",
        "model = YOLO(f\"{path_model}/weights/best.pt\")\n",
        "metric = model.val(data ='/content/drive/MyDrive/CsiLab-BrainTumor-Detection-3-allinone/data.yaml', save_json = True, max_det = 1)\n"
      ],
      "metadata": {
        "id": "TsRHspzCye7t",
        "outputId": "a3625966-b743-4726-c30a-d8d238e0c5d8",
        "colab": {
          "base_uri": "https://localhost:8080/"
        }
      },
      "execution_count": 79,
      "outputs": [
        {
          "output_type": "stream",
          "name": "stderr",
          "text": [
            "Ultralytics YOLOv8.0.28 🚀 Python-3.10.12 torch-2.1.0+cu121 CUDA:0 (Tesla T4, 15102MiB)\n",
            "Model summary (fused): 218 layers, 25840339 parameters, 0 gradients, 78.7 GFLOPs\n",
            "\u001b[34m\u001b[1mval: \u001b[0mScanning /content/drive/MyDrive/CsiLab-BrainTumor-Detection-3-allinone/data/labels.cache... 287 images, 0 backgrounds, 0 corrupt: 100%|██████████| 287/287 [00:00<?, ?it/s]\n",
            "                 Class     Images  Instances      Box(P          R      mAP50  mAP50-95): 100%|██████████| 18/18 [00:10<00:00,  1.69it/s]\n",
            "                   all        287        287      0.993       0.99      0.994      0.737\n",
            "Speed: 1.1ms pre-process, 20.9ms inference, 0.0ms loss, 2.5ms post-process per image\n",
            "Saving runs/detect/val5/predictions.json...\n"
          ]
        }
      ]
    },
    {
      "cell_type": "code",
      "source": [],
      "metadata": {
        "id": "z5cpRHEzBwuv"
      },
      "execution_count": null,
      "outputs": []
    },
    {
      "cell_type": "markdown",
      "source": [],
      "metadata": {
        "id": "twgk4WCM24E3"
      }
    },
    {
      "cell_type": "code",
      "source": [
        "import pandas as pd\n",
        "from sklearn.metrics import confusion_matrix, ConfusionMatrixDisplay\n",
        "import os\n",
        "\n",
        "\n",
        "def generate_confusion_matrix(df):\n",
        "    y_true = df['y_true'].values\n",
        "    y_pred = df['y_pred'].values\n",
        "    return confusion_matrix(y_true, y_pred)\n",
        "\n",
        "predictions = pd.read_json('runs/detect/val5/predictions.json')\n",
        "\n",
        "source = '/content/drive/MyDrive/CsiLab-BrainTumor-Detection-3-allinone/data/labels'\n",
        "\n",
        "y_true_list = []\n",
        "y_pred_list = predictions['category_id'].to_list()\n",
        "\n",
        "for filename in os.listdir(source):\n",
        "    labels = np.loadtxt(os.path.join(f\"{source}\", filename))\n",
        "    y_true_list.append(int(labels[0]))\n",
        "\n",
        "dif = len(y_true_list) -len(y_pred_list)\n",
        "\n",
        "\n",
        "for i in range(dif):\n",
        "    y_pred_list.append(1)\n",
        "\n",
        "\n",
        "df = pd.DataFrame({\"y_true\":y_true_list,\"y_pred\":y_pred_list})\n",
        "\n",
        "print(df)\n",
        "print(generate_confusion_matrix(df))\n",
        "disp = ConfusionMatrixDisplay(generate_confusion_matrix(df), display_labels=['Tumor','Null'])\n",
        "disp.plot()\n",
        "disp.figure_.savefig(f\"{path_model}/brute_confusion_matrix.png\")\n"
      ],
      "metadata": {
        "id": "82lRRUt62rtX",
        "outputId": "bbcbe9e8-f497-4466-f211-92a088eb8384",
        "colab": {
          "base_uri": "https://localhost:8080/",
          "height": 736
        }
      },
      "execution_count": 81,
      "outputs": [
        {
          "output_type": "stream",
          "name": "stdout",
          "text": [
            "     y_true  y_pred\n",
            "0         0       0\n",
            "1         0       0\n",
            "2         0       0\n",
            "3         0       0\n",
            "4         0       0\n",
            "..      ...     ...\n",
            "282       0       0\n",
            "283       0       0\n",
            "284       0       0\n",
            "285       0       0\n",
            "286       0       1\n",
            "\n",
            "[287 rows x 2 columns]\n",
            "[[286   1]\n",
            " [  0   0]]\n"
          ]
        },
        {
          "output_type": "display_data",
          "data": {
            "text/plain": [
              "<Figure size 640x480 with 2 Axes>"
            ],
            "image/png": "[encoded data removed]"
          },
          "metadata": {}
        }
      ]
    }
  ],
  "metadata": {
    "language_info": {
      "name": "python"
    },
    "colab": {
      "provenance": [],
      "gpuType": "T4"
    },
    "kernelspec": {
      "name": "python3",
      "display_name": "Python 3"
    },
    "accelerator": "GPU"
  },
  "nbformat": 4,
  "nbformat_minor": 0
}